{
 "cells": [
  {
   "cell_type": "code",
   "execution_count": 1,
   "metadata": {},
   "outputs": [],
   "source": [
    "import sys, os, inspect\n",
    "sys.path.append(\"/home/vbhargava/fb_v9.0_merged/msaction_backend/common/BU3.0_core/util/Py_utils/ETL\")"
   ]
  },
  {
   "cell_type": "code",
   "execution_count": 2,
   "metadata": {},
   "outputs": [],
   "source": [
    "from tv.etl import TVETL, DBMetadataSync, Extrator, Transformer, Load\n",
    "from tv.states import StateService\n",
    "from tv.stats.stats import StatUtil\n",
    "import time, logging\n",
    "numeric_level = getattr(logging, 'DEBUG', None)\n",
    "stdout_handler = logging.StreamHandler(sys.stdout)\n",
    "logging.basicConfig(level=numeric_level,\n",
    "                        format='%(asctime)s %(levelname)s %(name)s: %(message)s',\n",
    "                        handlers=[stdout_handler])"
   ]
  },
  {
   "cell_type": "code",
   "execution_count": 3,
   "metadata": {},
   "outputs": [],
   "source": [
    "run_on = int(time.time())\n",
    "year = 2019\n",
    "week = 46\n",
    "start_date = \"2019/11/24\"\n",
    "end_date = \"2019/11/26\""
   ]
  },
  {
   "cell_type": "code",
   "execution_count": 4,
   "metadata": {},
   "outputs": [],
   "source": [
    "#StatUtil.save_creative_lmt_stat(year, week, run_on, dry_run=False, mock_run=False)"
   ]
  },
  {
   "cell_type": "code",
   "execution_count": 5,
   "metadata": {},
   "outputs": [],
   "source": [
    "#res = StatUtil.get_creative_lmt_stat(mock_run=False)"
   ]
  },
  {
   "cell_type": "code",
   "execution_count": 6,
   "metadata": {},
   "outputs": [],
   "source": [
    "#res"
   ]
  },
  {
   "cell_type": "code",
   "execution_count": 7,
   "metadata": {},
   "outputs": [
    {
     "name": "stdout",
     "output_type": "stream",
     "text": [
      "2019-11-27 08:55:35,807 DEBUG root: Hive query staging loc:tmp_hive_query_9482_140608946239296.hiveql\n",
      "2019-11-27 08:55:35,807 DEBUG root: ** Call: qds.py --vv --url=https://api.qubole.com/api --token 'e1b02a0b8d5443c1aafba175312842f6bd833247361048438f37df2cedd51943' hivecmd submit --script_location tmp_hive_query_9482_140608946239296.hiveql --cluster=Nightly-Dnow\n",
      "2019-11-27 08:55:36,902 INFO root: Job ID: 331985822\n"
     ]
    }
   ],
   "source": [
    "StatUtil.save_mta_impressions_stat(start_date, end_date, run_on, dry_run=False, mock_run=False)"
   ]
  },
  {
   "cell_type": "code",
   "execution_count": 8,
   "metadata": {},
   "outputs": [
    {
     "name": "stdout",
     "output_type": "stream",
     "text": [
      "2019-11-27 08:57:45,110 DEBUG root: Hive query staging loc:tmp_hive_query_9482_140608946239296.hiveql\n",
      "2019-11-27 08:57:45,111 DEBUG root: ** Call: qds.py --vv --url=https://api.qubole.com/api --token 'e1b02a0b8d5443c1aafba175312842f6bd833247361048438f37df2cedd51943' hivecmd submit --script_location tmp_hive_query_9482_140608946239296.hiveql --cluster=Nightly-Dnow\n",
      "2019-11-27 08:57:46,241 INFO root: Job ID: 331986102\n"
     ]
    }
   ],
   "source": [
    "res = StatUtil.get_mta_impressions_stat(mock_run=False)"
   ]
  },
  {
   "cell_type": "code",
   "execution_count": 9,
   "metadata": {},
   "outputs": [
    {
     "data": {
      "text/plain": [
       "'2019/11/26'"
      ]
     },
     "execution_count": 9,
     "metadata": {},
     "output_type": "execute_result"
    }
   ],
   "source": [
    "res"
   ]
  },
  {
   "cell_type": "code",
   "execution_count": null,
   "metadata": {},
   "outputs": [],
   "source": []
  }
 ],
 "metadata": {
  "kernelspec": {
   "display_name": "Python 3",
   "language": "python",
   "name": "python3"
  },
  "language_info": {
   "codemirror_mode": {
    "name": "ipython",
    "version": 3
   },
   "file_extension": ".py",
   "mimetype": "text/x-python",
   "name": "python",
   "nbconvert_exporter": "python",
   "pygments_lexer": "ipython3",
   "version": "3.7.1"
  }
 },
 "nbformat": 4,
 "nbformat_minor": 2
}
