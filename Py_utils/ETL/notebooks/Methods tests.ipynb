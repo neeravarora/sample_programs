{
 "cells": [
  {
   "cell_type": "code",
   "execution_count": 1,
   "metadata": {},
   "outputs": [],
   "source": [
    "import sys, os, inspect\n",
    "sys.path.append(\"/home/msptvmta/tv_etl/msaction_backend/common/BU3.0_core/util/Py_utils/ETL\")"
   ]
  },
  {
   "cell_type": "code",
   "execution_count": 10,
   "metadata": {},
   "outputs": [],
   "source": [
    "from tv.util import date_utils\n",
    "from tv.etl import Extrator\n",
    "from tv.extract_script import Extract_HQL_Const\n",
    "from tv.util.qubole_hive_client import QuboleHiveClient\n",
    "from tv.util.s3_utils import S3\n",
    "from tv import path_resolver\n",
    "from tv.ds_metadata import S3Location"
   ]
  },
  {
   "cell_type": "code",
   "execution_count": 3,
   "metadata": {},
   "outputs": [
    {
     "data": {
      "text/plain": [
       "'2019-11-03'"
      ]
     },
     "execution_count": 3,
     "metadata": {},
     "output_type": "execute_result"
    }
   ],
   "source": [
    "#date_utils.get_date_range_for_week(no_of_weeks, self.kantar_year)['week_end_date_str']\n",
    "date_utils.get_date_range_for_week(44, 2019)['week_end_date_str']"
   ]
  },
  {
   "cell_type": "code",
   "execution_count": 4,
   "metadata": {},
   "outputs": [
    {
     "data": {
      "text/plain": [
       "{'week': 0, 'year': 2017}"
      ]
     },
     "execution_count": 4,
     "metadata": {},
     "output_type": "execute_result"
    }
   ],
   "source": [
    "date_utils.get_kantar_week_with_year('2017-01-02', fmt = '%Y-%m-%d')"
   ]
  },
  {
   "cell_type": "code",
   "execution_count": 5,
   "metadata": {},
   "outputs": [],
   "source": [
    "e = Extrator()\n"
   ]
  },
  {
   "cell_type": "code",
   "execution_count": 6,
   "metadata": {},
   "outputs": [
    {
     "ename": "SyntaxError",
     "evalue": "invalid syntax (<ipython-input-6-d957b21dcbe0>, line 1)",
     "output_type": "error",
     "traceback": [
      "\u001b[0;36m  File \u001b[0;32m\"<ipython-input-6-d957b21dcbe0>\"\u001b[0;36m, line \u001b[0;32m1\u001b[0m\n\u001b[0;31m    e.\u001b[0m\n\u001b[0m      ^\u001b[0m\n\u001b[0;31mSyntaxError\u001b[0m\u001b[0;31m:\u001b[0m invalid syntax\n"
     ]
    }
   ],
   "source": [
    "e.\n",
    "\n",
    "# e.__extract_sorted_list_from_hive(\n",
    "#                             Extract_HQL_Const.kantar_weeks_exists_in_range, 'weeks', \n",
    "#                             db = e.db, \n",
    "#                             table=TableName.kantar_log,\n",
    "#                             start_year='2019',\n",
    "#                             end_year='2019',\n",
    "#                             start_week='18',\n",
    "#                             end_week='20')"
   ]
  },
  {
   "cell_type": "code",
   "execution_count": 11,
   "metadata": {},
   "outputs": [],
   "source": [
    "def __extract_col_dict_from_hive(query, extracted_keys: list, **kwargs):\n",
    "    \n",
    "    df = QuboleHiveClient.hive_query(query=query.format(**kwargs))\n",
    "    if df is not None:\n",
    "        result = {}\n",
    "        for col in extracted_keys:\n",
    "            data = df[col]\n",
    "            if data is not None and len(data) > 0:\n",
    "                data_list = list(data)\n",
    "                result[col] = data_list\n",
    "            else:\n",
    "                result[col] = None\n",
    "        return result        \n",
    "    return None"
   ]
  },
  {
   "cell_type": "code",
   "execution_count": 12,
   "metadata": {},
   "outputs": [],
   "source": [
    "data = __extract_col_dict_from_hive(Extract_HQL_Const.kantar_weeks_exists_in_range,  ['weeks'], \n",
    "                              db ='tv_mta_staging_prod',\n",
    "                             table= 'ext_raw_kantar_log',\n",
    "                             start_year='2019',\n",
    "                             end_year='2019',\n",
    "                             start_week='39',\n",
    "                             end_week='47')"
   ]
  },
  {
   "cell_type": "code",
   "execution_count": 8,
   "metadata": {},
   "outputs": [],
   "source": [
    "Extract_HQL_Const??"
   ]
  },
  {
   "cell_type": "code",
   "execution_count": 14,
   "metadata": {},
   "outputs": [],
   "source": [
    "d =data\n"
   ]
  },
  {
   "cell_type": "code",
   "execution_count": 15,
   "metadata": {},
   "outputs": [],
   "source": [
    "def __extract_list_from_hive(query, extracted_key, d, **kwargs):\n",
    "        data = __extract_col_dict_from_hive(query, [extracted_key], **kwargs)\n",
    "        if data is not None:\n",
    "            return data[extracted_key]\n",
    "        return None"
   ]
  },
  {
   "cell_type": "code",
   "execution_count": 16,
   "metadata": {},
   "outputs": [],
   "source": [
    "c = __extract_list_from_hive(\"\",'weeks',data)"
   ]
  },
  {
   "cell_type": "code",
   "execution_count": 17,
   "metadata": {},
   "outputs": [
    {
     "data": {
      "text/plain": [
       "[40, 46, 42, 41, 44, 45, 43, 47, 39]"
      ]
     },
     "execution_count": 17,
     "metadata": {},
     "output_type": "execute_result"
    }
   ],
   "source": [
    "c"
   ]
  },
  {
   "cell_type": "code",
   "execution_count": 21,
   "metadata": {},
   "outputs": [],
   "source": [
    "def __extract_sorted_list_from_hive( query, extracted_key, c, **kwargs):\n",
    "        data = c #__extract_list_from_hive(query, extracted_key, **kwargs)\n",
    "        if data is not None: \n",
    "            data.sort()\n",
    "            return data\n",
    "        return None"
   ]
  },
  {
   "cell_type": "code",
   "execution_count": 22,
   "metadata": {},
   "outputs": [],
   "source": [
    "b = __extract_sorted_list_from_hive(\"\",\"\",c)"
   ]
  },
  {
   "cell_type": "code",
   "execution_count": 23,
   "metadata": {},
   "outputs": [
    {
     "data": {
      "text/plain": [
       "[39, 40, 41, 42, 43, 44, 45, 46, 47]"
      ]
     },
     "execution_count": 23,
     "metadata": {},
     "output_type": "execute_result"
    }
   ],
   "source": [
    "b"
   ]
  },
  {
   "cell_type": "code",
   "execution_count": null,
   "metadata": {},
   "outputs": [],
   "source": []
  }
 ],
 "metadata": {
  "kernelspec": {
   "display_name": "Python 3",
   "language": "python",
   "name": "python3"
  },
  "language_info": {
   "codemirror_mode": {
    "name": "ipython",
    "version": 3
   },
   "file_extension": ".py",
   "mimetype": "text/x-python",
   "name": "python",
   "nbconvert_exporter": "python",
   "pygments_lexer": "ipython3",
   "version": "3.7.1"
  }
 },
 "nbformat": 4,
 "nbformat_minor": 2
}
