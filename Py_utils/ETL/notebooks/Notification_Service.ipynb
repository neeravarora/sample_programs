{
 "cells": [
  {
   "cell_type": "code",
   "execution_count": 1,
   "metadata": {},
   "outputs": [],
   "source": [
    "import sys, os, inspect\n",
    "sys.path.append(\"/home/vbhargava/fb_v9.0_merged/msaction_backend/common/BU3.0_core/util/Py_utils/ETL\")"
   ]
  },
  {
   "cell_type": "code",
   "execution_count": 2,
   "metadata": {},
   "outputs": [],
   "source": [
    "from tv.util.notification_service import NotificationService\n",
    "from tv import path_resolver\n",
    "import time, logging\n",
    "from datetime import datetime\n",
    "\n",
    "numeric_level = getattr(logging, 'DEBUG', None)\n",
    "stdout_handler = logging.StreamHandler(sys.stdout)\n",
    "logging.basicConfig(level=numeric_level,\n",
    "                        format='%(asctime)s %(levelname)s %(name)s: %(message)s',\n",
    "                        handlers=[stdout_handler])"
   ]
  },
  {
   "cell_type": "code",
   "execution_count": 3,
   "metadata": {},
   "outputs": [],
   "source": [
    "from jinja2 import Environment, FileSystemLoader\n",
    "import os\n",
    "\n",
    "def get_html_template(template_file_name = 'successful_mail.html', **kwargs):\n",
    "\n",
    "    path = os.path.join(\"templates\", \"html\") \n",
    "    templates_dir = path_resolver.resolve(path)\n",
    "    env = Environment( loader = FileSystemLoader(templates_dir) )\n",
    "    template = env.get_template(template_file_name)\n",
    "    return template.render(**kwargs)\n",
    "\n",
    "\n"
   ]
  },
  {
   "cell_type": "code",
   "execution_count": 4,
   "metadata": {},
   "outputs": [],
   "source": [
    "#\n",
    "# tem = get_html_template()\n",
    "# tem??\n"
   ]
  },
  {
   "cell_type": "code",
   "execution_count": 5,
   "metadata": {},
   "outputs": [],
   "source": [
    "dataDict = {'start_date': '2019-12-14', \n",
    "             'end_date': '2019-12-18', \n",
    "             'tivo': {'start_date': '2019-12-14', \n",
    "                      'end_date': '2019-12-18', \n",
    "                      'description': 'Tivo data is available for given date range.'\n",
    "                     }, \n",
    "             'kantar': {'start_week': '49', \n",
    "                        'end_week': '49', \n",
    "                        'start_date': '2019-12-14', \n",
    "                        'end_date': '2019-12-15', \n",
    "                        'description': 'Kantar data is available for given date range.'\n",
    "                       }, \n",
    "             'experian': {'start_date': '2019-12-14', \n",
    "                          'end_date': '2019-12-15', \n",
    "                          'description': 'Experian data is available for day 2019-12-08                         Hence, ETL can be proccessed till  2019-12-15.                         '\n",
    "                         }, \n",
    "             'errored_msgs': [], \n",
    "             'is_errored': False, \n",
    "             'trigger_on': 1577876565, \n",
    "             'recursive_trigger': {'recursive_trigger_num': 1, \n",
    "                                   'recur_started_on': 1577876565\n",
    "                                  }, \n",
    "             'tv_start_date': '2019-12-14', \n",
    "             'tv_end_date': '2019-12-15', \n",
    "             'status': 'SUCCESSFUL', \n",
    "             'staging_path': '/home/vbhargava/fb_v9.0_merged/tmp/tv_etl_staging/test6//tv-etl/tv-etl_1577876565/',\n",
    "             'creative_lmt':{'msg' : 'No Update'}\n",
    "            }"
   ]
  },
  {
   "cell_type": "code",
   "execution_count": 6,
   "metadata": {},
   "outputs": [
    {
     "data": {
      "text/plain": [
       "'/home/vbhargava/fb_v9.0_merged/tmp/tv_etl_staging/test6//tv-etl/tv-etl_1577876565/'"
      ]
     },
     "execution_count": 6,
     "metadata": {},
     "output_type": "execute_result"
    }
   ],
   "source": [
    "#data_dict\n",
    "tivo = dataDict.get('tivo')\n",
    "tivo_start_date = tivo.get('start_date')\n",
    "tivo_end_date = tivo.get('end_date')\n",
    "tivo_desc = tivo.get('description')\n",
    "\n",
    "experian = dataDict.get('experian')\n",
    "experian_start_date = experian.get('start_date')\n",
    "experian_end_date = experian.get('end_date')\n",
    "experian_desc = experian.get('description')\n",
    "\n",
    "kantar = dataDict.get('kantar')\n",
    "kantar_start_date = kantar.get('start_date')\n",
    "kantar_end_date = kantar.get('end_date')\n",
    "kantar_desc = kantar.get('description')\n",
    "kantar_start_week = kantar.get('start_week')\n",
    "kantar_end_week = kantar.get('end_week')\n",
    "\n",
    "start_timestamp = dataDict.get('trigger_on')\n",
    "trigger_start_date = (datetime.fromtimestamp(start_timestamp)).strftime(format='%Y-%m-%d')\n",
    "#trigger_end_date = datetime.fromtimestamp(dataDict.get('finish_on'))\n",
    "\n",
    "start_date=dataDict.get('start_date')\n",
    "end_date = dataDict.get('end_date')\n",
    "\n",
    "recursive_trigger = dataDict.get('recursive_trigger')\n",
    "recursive_trigger_num = recursive_trigger.get('recursive_trigger_num')\n",
    "recursive_timestamp = recursive_trigger.get('recur_started_on')\n",
    "recursive_start_date = (datetime.fromtimestamp(recursive_timestamp)).strftime(format='%Y-%m-%d')\n",
    "\n",
    "final_start_date = dataDict.get('tv_start_date')\n",
    "final_end_date = dataDict.get('tv_end_date')\n",
    "\n",
    "creative_lmt = dataDict.get(\"creative_lmt\")\n",
    "creative_lmt_msg = creative_lmt.get('msg')\n",
    "status = dataDict.get('status')\n",
    "staging_path = dataDict.get('staging_path')\n",
    "\n",
    "str(staging_path)"
   ]
  },
  {
   "cell_type": "code",
   "execution_count": 7,
   "metadata": {},
   "outputs": [
    {
     "data": {
      "text/plain": [
       "'2020-01-01 11:02:45'"
      ]
     },
     "execution_count": 7,
     "metadata": {},
     "output_type": "execute_result"
    }
   ],
   "source": [
    "str(datetime.fromtimestamp(start_timestamp))\n",
    "           "
   ]
  },
  {
   "cell_type": "code",
   "execution_count": 8,
   "metadata": {},
   "outputs": [],
   "source": [
    "a = get_html_template(START_DATE=start_date,END_DATE=end_date,RECURSIVE_TRIGGER_NUM=recursive_trigger_num, FINAL_START_DATE=final_start_date, FINAL_END_DATE=final_end_date,TIVO_START_DATE=tivo_start_date, TIVO_END_DATE=tivo_end_date, TIVO_DESC=tivo_desc, EXPERIAN_START_DATE=experian_start_date,EXPERIAN_END_DATE=experian_end_date, EXPERIAN_DESC=experian_desc, KANTAR_START_DATE=kantar_start_date, KANTAR_END_DATE=kantar_end_date, KANTAR_DESC=kantar_desc, START_TIMESTAMP=start_timestamp, RECURSIVE_TIMESTAMP=recursive_timestamp, RECURSIVE_START_DATE=recursive_start_date, KANTAR_START_WEEK=kantar_start_week, KANTAR_END_WEEK=kantar_end_week, CREATIVE_LMT=creative_lmt_msg, TRIGGER_START_DATE=trigger_start_date, STAGING_PATH = staging_path)\n",
    " "
   ]
  },
  {
   "cell_type": "code",
   "execution_count": 9,
   "metadata": {},
   "outputs": [
    {
     "data": {
      "text/plain": [
       "'<html>\\n                <head>\\n                </head>\\n                <body>\\n                <h1 style=\"font-size: 30px;color: white;background-color:MediumSeaGreen;text-align: center;border:40px solid MediumSeaGreen;\">TV MTA ETL has run on 2020-01-01 <i>(timestamp: 1577876565)</i> to generate MTA TV Impressions in between 2019-12-14 and 2019-12-18</h1>\\n                <br>\\n                <br>\\n                <p1><B>Recursive Trigger #1:</B> started on 2020-01-01 <i>(timestamp: 1577876565)</i>.</p1>\\n                <br><br>\\n                <table style=\"border-collapse: collapse;width: 100%;border: 1px solid back;\">\\n                    <tr>\\n                    <th style=\"padding: 8px;text-align: left;border: 1px solid #ddd;background-color:gray;\">TYPE</th>\\n                    <th style=\"padding: 8px;text-align: left;border: 1px solid #ddd;background-color:gray;\">START_DATE</th>\\n                    <th style=\"padding: 8px;text-align: left;border: 1px solid #ddd;background-color:gray;\">END_DATE</th>\\n                    <th style=\"padding: 8px;text-align: left;border: 1px solid #ddd;background-color:gray;\">DESC</th>\\n                    </tr>\\n                    <tr>\\n                    <td style=\"padding: 8px;text-align: left;border: 1px solid #ddd;\">TIVO</td>\\n                    <td style=\"padding: 8px;text-align: left;border: 1px solid #ddd;\">2019-12-14</td>\\n                    <td style=\"padding: 8px;text-align: left;border: 1px solid #ddd;\">2019-12-18</td>\\n                    <td style=\"padding: 8px;text-align: left;border: 1px solid #ddd;\">Tivo data is available for given date range.</td>\\n                    </tr>\\n                    <tr>\\n                    <td style=\"padding: 8px;text-align: left;border: 1px solid #ddd;\">EXPERIAN</td>\\n                    <td style=\"padding: 8px;text-align: left;border: 1px solid #ddd;\">2019-12-14</td>\\n                    <td style=\"padding: 8px;text-align: left;border: 1px solid #ddd;\">2019-12-15</td>\\n                    <td style=\"padding: 8px;text-align: left;border: 1px solid #ddd;\">Experian data is available for day 2019-12-08                         Hence, ETL can be proccessed till  2019-12-15.                         </td>\\n                    </tr>\\n                    <tr>\\n                    <td style=\"padding: 8px;text-align: left;border: 1px solid #ddd;\">KANTAR</td>\\n                    <td style=\"padding: 8px;text-align: left;border: 1px solid #ddd;\">2019-12-14<br>(Kantar week: 49)</td>\\n                    <td style=\"padding: 8px;text-align: left;border: 1px solid #ddd;\">2019-12-15<br>(Kantar week: 49)</td>\\n                    <td style=\"padding: 8px;text-align: left;border: 1px solid #ddd;\">Kantar data is available for given date range.</td>\\n                    </tr>\\n                </table>\\n                <br>\\n                <p2>Finally, this recursive trigger has taken care of impression data processing from 2019-12-14 to 2019-12-15 as per their data availability in above input data sources.</p2>\\n                <br>\\n\\t\\t\\t\\t<br>\\n                <p3><B>Creative LMT update status</B> :No Update</p3>\\n                \\n                <br>\\n\\t\\t\\t\\t<br>\\n                \\n                <p2>Further details and logs are available at: <i>/home/vbhargava/fb_v9.0_merged/tmp/tv_etl_staging/test6//tv-etl/tv-etl_1577876565/</i></p2>\\n                <br>\\n                <br>\\n\\t\\t\\t\\t\\n                \\n                </body>\\n                </html>'"
      ]
     },
     "execution_count": 9,
     "metadata": {},
     "output_type": "execute_result"
    }
   ],
   "source": [
    "a"
   ]
  },
  {
   "cell_type": "code",
   "execution_count": 10,
   "metadata": {},
   "outputs": [
    {
     "name": "stdout",
     "output_type": "stream",
     "text": [
      "2020-01-03 21:50:23,745 INFO tv.util.notification_service: Notifying.....\n",
      "\n",
      "2020-01-03 21:50:23,746 INFO tv.util.notification_service: Sending ETL Successful Mail.....\n",
      "2020-01-03 21:50:23,747 INFO tv.util.notification_service: Data Model Dict: {'start_date': '2019-12-14', 'end_date': '2019-12-18', 'tivo': {'start_date': '2019-12-14', 'end_date': '2019-12-18', 'description': 'Tivo data is available for given date range.'}, 'kantar': {'start_week': '49', 'end_week': '49', 'start_date': '2019-12-14', 'end_date': '2019-12-15', 'description': 'Kantar data is available for given date range.'}, 'experian': {'start_date': '2019-12-14', 'end_date': '2019-12-15', 'description': 'Experian data is available for day 2019-12-08                         Hence, ETL can be proccessed till  2019-12-15.                         '}, 'errored_msgs': [], 'is_errored': False, 'trigger_on': 1577876565, 'recursive_trigger': {'recursive_trigger_num': 1, 'recur_started_on': 1577876565}, 'tv_start_date': '2019-12-14', 'tv_end_date': '2019-12-15', 'status': 'SUCCESSFUL', 'staging_path': '/home/vbhargava/fb_v9.0_merged/tmp/tv_etl_staging/test6//tv-etl/tv-etl_1577876565/', 'creative_lmt': {'msg': 'No Update'}}\n",
      "2020-01-03 21:50:23,754 INFO tv.util.notification_service: Sending Mail.....\n",
      "2020-01-03 21:50:23,755 DEBUG tv.configs: User Home Dir: /home/vbhargava\n",
      "2020-01-03 21:50:23,756 DEBUG tv.configs: config_loc: /home/vbhargava/.tv_etl/config.properties\n",
      "2020-01-03 21:50:23,757 WARNING tv.configs: \n",
      " Config:- Configuration picked from section:[DEV_test6] of             \n",
      "        config: /home/vbhargava/.tv_etl/config.properties\n",
      "\n"
     ]
    }
   ],
   "source": [
    "NotificationService.notify(dataDict, False, False)"
   ]
  },
  {
   "cell_type": "code",
   "execution_count": null,
   "metadata": {},
   "outputs": [],
   "source": []
  },
  {
   "cell_type": "code",
   "execution_count": null,
   "metadata": {},
   "outputs": [],
   "source": []
  },
  {
   "cell_type": "code",
   "execution_count": null,
   "metadata": {},
   "outputs": [],
   "source": []
  }
 ],
 "metadata": {
  "kernelspec": {
   "display_name": "Python 3",
   "language": "python",
   "name": "python3"
  },
  "language_info": {
   "codemirror_mode": {
    "name": "ipython",
    "version": 3
   },
   "file_extension": ".py",
   "mimetype": "text/x-python",
   "name": "python",
   "nbconvert_exporter": "python",
   "pygments_lexer": "ipython3",
   "version": "3.7.1"
  }
 },
 "nbformat": 4,
 "nbformat_minor": 2
}
