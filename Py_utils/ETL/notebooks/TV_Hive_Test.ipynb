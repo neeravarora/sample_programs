{
 "cells": [
  {
   "cell_type": "code",
   "execution_count": 1,
   "metadata": {},
   "outputs": [],
   "source": [
    "import sys, os, inspect\n",
    "sys.path.append(\"/home/vbhargava/fb_v9.0_merged/msaction_backend/common/BU3.0_core/util/Py_utils/ETL\")"
   ]
  },
  {
   "cell_type": "code",
   "execution_count": 2,
   "metadata": {},
   "outputs": [],
   "source": [
    "from tv.util.qubole_hive_client import QuboleHiveClient\n",
    "from tv.util.s3_utils import S3\n",
    "from tv import path_resolver\n",
    "from tv.ds_metadata import S3Location"
   ]
  },
  {
   "cell_type": "code",
   "execution_count": 3,
   "metadata": {},
   "outputs": [
    {
     "data": {
      "text/html": [
       "<div>\n",
       "<style scoped>\n",
       "    .dataframe tbody tr th:only-of-type {\n",
       "        vertical-align: middle;\n",
       "    }\n",
       "\n",
       "    .dataframe tbody tr th {\n",
       "        vertical-align: top;\n",
       "    }\n",
       "\n",
       "    .dataframe thead th {\n",
       "        text-align: right;\n",
       "    }\n",
       "</style>\n",
       "<table border=\"1\" class=\"dataframe\">\n",
       "  <thead>\n",
       "    <tr style=\"text-align: right;\">\n",
       "      <th></th>\n",
       "      <th>database_name</th>\n",
       "    </tr>\n",
       "  </thead>\n",
       "  <tbody>\n",
       "    <tr>\n",
       "      <th>0</th>\n",
       "      <td>adp_client2_core</td>\n",
       "    </tr>\n",
       "    <tr>\n",
       "      <th>1</th>\n",
       "      <td>adp_client2_lbis</td>\n",
       "    </tr>\n",
       "    <tr>\n",
       "      <th>2</th>\n",
       "      <td>adp_client2_qa_vbhargava</td>\n",
       "    </tr>\n",
       "    <tr>\n",
       "      <th>3</th>\n",
       "      <td>adp_client2_raw</td>\n",
       "    </tr>\n",
       "    <tr>\n",
       "      <th>4</th>\n",
       "      <td>adp_client2_src</td>\n",
       "    </tr>\n",
       "    <tr>\n",
       "      <th>5</th>\n",
       "      <td>adp_client3_core</td>\n",
       "    </tr>\n",
       "    <tr>\n",
       "      <th>6</th>\n",
       "      <td>adp_client3_lbis</td>\n",
       "    </tr>\n",
       "    <tr>\n",
       "      <th>7</th>\n",
       "      <td>adp_client3_qa_vbhargava</td>\n",
       "    </tr>\n",
       "    <tr>\n",
       "      <th>8</th>\n",
       "      <td>adp_client3_raw</td>\n",
       "    </tr>\n",
       "    <tr>\n",
       "      <th>9</th>\n",
       "      <td>adp_client3_src</td>\n",
       "    </tr>\n",
       "    <tr>\n",
       "      <th>10</th>\n",
       "      <td>adp_client4_core</td>\n",
       "    </tr>\n",
       "    <tr>\n",
       "      <th>11</th>\n",
       "      <td>adp_client4_lbis</td>\n",
       "    </tr>\n",
       "    <tr>\n",
       "      <th>12</th>\n",
       "      <td>adp_client4_presrc</td>\n",
       "    </tr>\n",
       "    <tr>\n",
       "      <th>13</th>\n",
       "      <td>adp_client4_qa_vbhargava</td>\n",
       "    </tr>\n",
       "    <tr>\n",
       "      <th>14</th>\n",
       "      <td>adp_client4_raw</td>\n",
       "    </tr>\n",
       "    <tr>\n",
       "      <th>15</th>\n",
       "      <td>adp_client4_src</td>\n",
       "    </tr>\n",
       "    <tr>\n",
       "      <th>16</th>\n",
       "      <td>adp_client4_staging</td>\n",
       "    </tr>\n",
       "    <tr>\n",
       "      <th>17</th>\n",
       "      <td>adp_test_client_core</td>\n",
       "    </tr>\n",
       "    <tr>\n",
       "      <th>18</th>\n",
       "      <td>adp_test_client_lbis</td>\n",
       "    </tr>\n",
       "    <tr>\n",
       "      <th>19</th>\n",
       "      <td>adp_test_client_presrc</td>\n",
       "    </tr>\n",
       "    <tr>\n",
       "      <th>20</th>\n",
       "      <td>adp_test_client_qa_mspnightly</td>\n",
       "    </tr>\n",
       "    <tr>\n",
       "      <th>21</th>\n",
       "      <td>adp_test_client_raw</td>\n",
       "    </tr>\n",
       "    <tr>\n",
       "      <th>22</th>\n",
       "      <td>adp_test_client_src</td>\n",
       "    </tr>\n",
       "    <tr>\n",
       "      <th>23</th>\n",
       "      <td>adp_test_client_staging</td>\n",
       "    </tr>\n",
       "    <tr>\n",
       "      <th>24</th>\n",
       "      <td>aiptest2_core</td>\n",
       "    </tr>\n",
       "    <tr>\n",
       "      <th>25</th>\n",
       "      <td>aiptest2_lbis</td>\n",
       "    </tr>\n",
       "    <tr>\n",
       "      <th>26</th>\n",
       "      <td>aiptest2_presrc</td>\n",
       "    </tr>\n",
       "    <tr>\n",
       "      <th>27</th>\n",
       "      <td>aiptest2_prod</td>\n",
       "    </tr>\n",
       "    <tr>\n",
       "      <th>28</th>\n",
       "      <td>aiptest2_qa_mspnightly</td>\n",
       "    </tr>\n",
       "    <tr>\n",
       "      <th>29</th>\n",
       "      <td>aiptest2_raw</td>\n",
       "    </tr>\n",
       "    <tr>\n",
       "      <th>...</th>\n",
       "      <td>...</td>\n",
       "    </tr>\n",
       "    <tr>\n",
       "      <th>970</th>\n",
       "      <td>test_config_app_123_raw</td>\n",
       "    </tr>\n",
       "    <tr>\n",
       "      <th>971</th>\n",
       "      <td>test_config_app_123_src</td>\n",
       "    </tr>\n",
       "    <tr>\n",
       "      <th>972</th>\n",
       "      <td>test_config_app_123_staging</td>\n",
       "    </tr>\n",
       "    <tr>\n",
       "      <th>973</th>\n",
       "      <td>test_config_app_124_core</td>\n",
       "    </tr>\n",
       "    <tr>\n",
       "      <th>974</th>\n",
       "      <td>test_config_app_124_lbis</td>\n",
       "    </tr>\n",
       "    <tr>\n",
       "      <th>975</th>\n",
       "      <td>test_config_app_124_presrc</td>\n",
       "    </tr>\n",
       "    <tr>\n",
       "      <th>976</th>\n",
       "      <td>test_config_app_124_qa_mspnightly</td>\n",
       "    </tr>\n",
       "    <tr>\n",
       "      <th>977</th>\n",
       "      <td>test_config_app_124_raw</td>\n",
       "    </tr>\n",
       "    <tr>\n",
       "      <th>978</th>\n",
       "      <td>test_config_app_124_src</td>\n",
       "    </tr>\n",
       "    <tr>\n",
       "      <th>979</th>\n",
       "      <td>test_config_app_124_staging</td>\n",
       "    </tr>\n",
       "    <tr>\n",
       "      <th>980</th>\n",
       "      <td>test_config_app_125_core</td>\n",
       "    </tr>\n",
       "    <tr>\n",
       "      <th>981</th>\n",
       "      <td>test_config_app_125_lbis</td>\n",
       "    </tr>\n",
       "    <tr>\n",
       "      <th>982</th>\n",
       "      <td>test_config_app_125_presrc</td>\n",
       "    </tr>\n",
       "    <tr>\n",
       "      <th>983</th>\n",
       "      <td>test_config_app_125_qa_mspnightly</td>\n",
       "    </tr>\n",
       "    <tr>\n",
       "      <th>984</th>\n",
       "      <td>test_config_app_125_raw</td>\n",
       "    </tr>\n",
       "    <tr>\n",
       "      <th>985</th>\n",
       "      <td>test_config_app_125_src</td>\n",
       "    </tr>\n",
       "    <tr>\n",
       "      <th>986</th>\n",
       "      <td>test_config_app_125_staging</td>\n",
       "    </tr>\n",
       "    <tr>\n",
       "      <th>987</th>\n",
       "      <td>test_config_app_126_core</td>\n",
       "    </tr>\n",
       "    <tr>\n",
       "      <th>988</th>\n",
       "      <td>test_config_app_126_lbis</td>\n",
       "    </tr>\n",
       "    <tr>\n",
       "      <th>989</th>\n",
       "      <td>test_config_app_126_presrc</td>\n",
       "    </tr>\n",
       "    <tr>\n",
       "      <th>990</th>\n",
       "      <td>test_config_app_126_qa_mspnightly</td>\n",
       "    </tr>\n",
       "    <tr>\n",
       "      <th>991</th>\n",
       "      <td>test_config_app_126_raw</td>\n",
       "    </tr>\n",
       "    <tr>\n",
       "      <th>992</th>\n",
       "      <td>test_config_app_126_src</td>\n",
       "    </tr>\n",
       "    <tr>\n",
       "      <th>993</th>\n",
       "      <td>test_config_app_126_staging</td>\n",
       "    </tr>\n",
       "    <tr>\n",
       "      <th>994</th>\n",
       "      <td>test_config_app_127_core</td>\n",
       "    </tr>\n",
       "    <tr>\n",
       "      <th>995</th>\n",
       "      <td>test_config_app_127_lbis</td>\n",
       "    </tr>\n",
       "    <tr>\n",
       "      <th>996</th>\n",
       "      <td>test_config_app_127_presrc</td>\n",
       "    </tr>\n",
       "    <tr>\n",
       "      <th>997</th>\n",
       "      <td>test_config_app_127_qa_mspnightly</td>\n",
       "    </tr>\n",
       "    <tr>\n",
       "      <th>998</th>\n",
       "      <td>test_config_app_127_raw</td>\n",
       "    </tr>\n",
       "    <tr>\n",
       "      <th>999</th>\n",
       "      <td>test_config_app_127_src</td>\n",
       "    </tr>\n",
       "  </tbody>\n",
       "</table>\n",
       "<p>1000 rows × 1 columns</p>\n",
       "</div>"
      ],
      "text/plain": [
       "                         database_name\n",
       "0                     adp_client2_core\n",
       "1                     adp_client2_lbis\n",
       "2             adp_client2_qa_vbhargava\n",
       "3                      adp_client2_raw\n",
       "4                      adp_client2_src\n",
       "5                     adp_client3_core\n",
       "6                     adp_client3_lbis\n",
       "7             adp_client3_qa_vbhargava\n",
       "8                      adp_client3_raw\n",
       "9                      adp_client3_src\n",
       "10                    adp_client4_core\n",
       "11                    adp_client4_lbis\n",
       "12                  adp_client4_presrc\n",
       "13            adp_client4_qa_vbhargava\n",
       "14                     adp_client4_raw\n",
       "15                     adp_client4_src\n",
       "16                 adp_client4_staging\n",
       "17                adp_test_client_core\n",
       "18                adp_test_client_lbis\n",
       "19              adp_test_client_presrc\n",
       "20       adp_test_client_qa_mspnightly\n",
       "21                 adp_test_client_raw\n",
       "22                 adp_test_client_src\n",
       "23             adp_test_client_staging\n",
       "24                       aiptest2_core\n",
       "25                       aiptest2_lbis\n",
       "26                     aiptest2_presrc\n",
       "27                       aiptest2_prod\n",
       "28              aiptest2_qa_mspnightly\n",
       "29                        aiptest2_raw\n",
       "..                                 ...\n",
       "970            test_config_app_123_raw\n",
       "971            test_config_app_123_src\n",
       "972        test_config_app_123_staging\n",
       "973           test_config_app_124_core\n",
       "974           test_config_app_124_lbis\n",
       "975         test_config_app_124_presrc\n",
       "976  test_config_app_124_qa_mspnightly\n",
       "977            test_config_app_124_raw\n",
       "978            test_config_app_124_src\n",
       "979        test_config_app_124_staging\n",
       "980           test_config_app_125_core\n",
       "981           test_config_app_125_lbis\n",
       "982         test_config_app_125_presrc\n",
       "983  test_config_app_125_qa_mspnightly\n",
       "984            test_config_app_125_raw\n",
       "985            test_config_app_125_src\n",
       "986        test_config_app_125_staging\n",
       "987           test_config_app_126_core\n",
       "988           test_config_app_126_lbis\n",
       "989         test_config_app_126_presrc\n",
       "990  test_config_app_126_qa_mspnightly\n",
       "991            test_config_app_126_raw\n",
       "992            test_config_app_126_src\n",
       "993        test_config_app_126_staging\n",
       "994           test_config_app_127_core\n",
       "995           test_config_app_127_lbis\n",
       "996         test_config_app_127_presrc\n",
       "997  test_config_app_127_qa_mspnightly\n",
       "998            test_config_app_127_raw\n",
       "999            test_config_app_127_src\n",
       "\n",
       "[1000 rows x 1 columns]"
      ]
     },
     "execution_count": 3,
     "metadata": {},
     "output_type": "execute_result"
    }
   ],
   "source": [
    "# df = QuboleHiveClient.hive_query(query=\"show databases;\", debug=True)\n",
    "# df"
   ]
  },
  {
   "cell_type": "code",
   "execution_count": 31,
   "metadata": {},
   "outputs": [],
   "source": [
    "kantar_weeks_exists_in_range = '''\n",
    "        select week as weeks from {db}.{table} where year >= {start_year} and year <= {end_year}\n",
    "            and week  >= {start_week} and week <= {end_week} group by week;\n",
    "    '''"
   ]
  },
  {
   "cell_type": "code",
   "execution_count": 49,
   "metadata": {},
   "outputs": [],
   "source": [
    "def __extract_list_from_hive(query, extracted_key, **kwargs):\n",
    "    \n",
    "    df = QuboleHiveClient.hive_query(query=query.format(**kwargs))\n",
    "    if df is not None:\n",
    "        data = df[extracted_key]\n",
    "        if data is not None and len(data) > 0:\n",
    "            data_list = list(data)\n",
    "            return data_list\n",
    "        else:\n",
    "            return []   \n",
    "    return None\n",
    "#         if df is not None and df[extracted_key] is not None \\\n",
    "#             and len(df[extracted_key]) >= 1 and str(df[extracted_key][0]).isnumeric():\n",
    "#             return df[extracted_key][0]\n",
    "#         else : \n",
    "#             return None"
   ]
  },
  {
   "cell_type": "code",
   "execution_count": 33,
   "metadata": {},
   "outputs": [],
   "source": [
    "df = __extract_list_from_hive(kantar_weeks_exists_in_range,  ['weeks'], \n",
    "                              db ='tv_mta_staging_dev5',\n",
    "                             table= 'ext_raw_kantar_log',\n",
    "                             start_year='2019',\n",
    "                             end_year='2019',\n",
    "                             start_week='39',\n",
    "                             end_week='47')"
   ]
  },
  {
   "cell_type": "code",
   "execution_count": 46,
   "metadata": {},
   "outputs": [
    {
     "data": {
      "text/plain": [
       "[46, 45, 44, 42, 41, 40, 39]"
      ]
     },
     "execution_count": 46,
     "metadata": {},
     "output_type": "execute_result"
    }
   ],
   "source": [
    "data_list.sort()\n",
    "\n",
    "\n",
    "a = df['weeks']\n",
    "b = list(a)\n",
    "b.sort(reverse=True)\n",
    "b"
   ]
  },
  {
   "cell_type": "code",
   "execution_count": 47,
   "metadata": {},
   "outputs": [
    {
     "data": {
      "text/plain": [
       "[39, 40, 41, 42, 44, 45, 46]"
      ]
     },
     "execution_count": 47,
     "metadata": {},
     "output_type": "execute_result"
    }
   ],
   "source": [
    "b.sort()\n",
    "b"
   ]
  },
  {
   "cell_type": "code",
   "execution_count": 48,
   "metadata": {},
   "outputs": [
    {
     "data": {
      "text/plain": [
       "7"
      ]
     },
     "execution_count": 48,
     "metadata": {},
     "output_type": "execute_result"
    }
   ],
   "source": [
    "len(a)"
   ]
  },
  {
   "cell_type": "code",
   "execution_count": 52,
   "metadata": {},
   "outputs": [],
   "source": [
    "data = __extract_list_from_hive(kantar_weeks_exists_in_range,  'weeks', \n",
    "                              db ='tv_mta_staging_dev5',\n",
    "                             table= 'ext_raw_kantar_log',\n",
    "                             start_year='2019',\n",
    "                             end_year='2019',\n",
    "                             start_week='39',\n",
    "                             end_week='47')"
   ]
  },
  {
   "cell_type": "code",
   "execution_count": 53,
   "metadata": {},
   "outputs": [
    {
     "data": {
      "text/plain": [
       "[39, 40, 41, 42, 44, 45, 46]"
      ]
     },
     "execution_count": 53,
     "metadata": {},
     "output_type": "execute_result"
    }
   ],
   "source": [
    "data"
   ]
  },
  {
   "cell_type": "code",
   "execution_count": 54,
   "metadata": {},
   "outputs": [],
   "source": [
    "def __extract_col_dict_from_hive(query, extracted_keys: list, **kwargs):\n",
    "    \n",
    "    df = QuboleHiveClient.hive_query(query=query.format(**kwargs))\n",
    "    if df is not None:\n",
    "        result = {}\n",
    "        for col in extracted_keys:\n",
    "            data = df[col]\n",
    "            if data is not None and len(data) > 0:\n",
    "                data_list = list(data)\n",
    "                result[col] = data_list\n",
    "            else:\n",
    "                result[col] = None\n",
    "        return result        \n",
    "    return None"
   ]
  },
  {
   "cell_type": "code",
   "execution_count": 55,
   "metadata": {},
   "outputs": [],
   "source": [
    "data = __extract_col_dict_from_hive(kantar_weeks_exists_in_range,  ['weeks'], \n",
    "                              db ='tv_mta_staging_dev5',\n",
    "                             table= 'ext_raw_kantar_log',\n",
    "                             start_year='2019',\n",
    "                             end_year='2019',\n",
    "                             start_week='39',\n",
    "                             end_week='47')"
   ]
  },
  {
   "cell_type": "code",
   "execution_count": 56,
   "metadata": {},
   "outputs": [
    {
     "data": {
      "text/plain": [
       "{'weeks': [39, 40, 41, 42, 44, 45, 46]}"
      ]
     },
     "execution_count": 56,
     "metadata": {},
     "output_type": "execute_result"
    }
   ],
   "source": [
    "data"
   ]
  },
  {
   "cell_type": "code",
   "execution_count": 58,
   "metadata": {},
   "outputs": [],
   "source": [
    "def __extract_list_from_hive2(query, extracted_key, **kwargs):\n",
    "    data = __extract_col_dict_from_hive(query, [extracted_key], **kwargs)\n",
    "    if data is not None:\n",
    "        return data[extracted_key]\n",
    "    return None\n",
    "                \n",
    "    "
   ]
  },
  {
   "cell_type": "code",
   "execution_count": 59,
   "metadata": {},
   "outputs": [],
   "source": [
    "data2 = __extract_list_from_hive2(kantar_weeks_exists_in_range,  'weeks', \n",
    "                              db ='tv_mta_staging_dev5',\n",
    "                             table= 'ext_raw_kantar_log',\n",
    "                             start_year='2019',\n",
    "                             end_year='2019',\n",
    "                             start_week='39',\n",
    "                             end_week='47')"
   ]
  },
  {
   "cell_type": "code",
   "execution_count": 60,
   "metadata": {},
   "outputs": [
    {
     "data": {
      "text/plain": [
       "[39, 40, 41, 42, 44, 45, 46]"
      ]
     },
     "execution_count": 60,
     "metadata": {},
     "output_type": "execute_result"
    }
   ],
   "source": [
    "data2"
   ]
  },
  {
   "cell_type": "code",
   "execution_count": 71,
   "metadata": {},
   "outputs": [
    {
     "name": "stdout",
     "output_type": "stream",
     "text": [
      "39\n"
     ]
    }
   ],
   "source": [
    "data3 = [37,38] #[39, 40, 41, 42, 43, 44, 45, 46]\n",
    "flag_week = 39\n",
    "for i in data3:\n",
    "    if i == flag_week:\n",
    "        flag_week = flag_week +1\n",
    "        continue\n",
    "print(flag_week)"
   ]
  },
  {
   "cell_type": "code",
   "execution_count": 64,
   "metadata": {},
   "outputs": [
    {
     "data": {
      "text/plain": [
       "'1575903815_'"
      ]
     },
     "execution_count": 64,
     "metadata": {},
     "output_type": "execute_result"
    }
   ],
   "source": []
  },
  {
   "cell_type": "code",
   "execution_count": null,
   "metadata": {},
   "outputs": [],
   "source": []
  }
 ],
 "metadata": {
  "kernelspec": {
   "display_name": "Python 3",
   "language": "python",
   "name": "python3"
  },
  "language_info": {
   "codemirror_mode": {
    "name": "ipython",
    "version": 3
   },
   "file_extension": ".py",
   "mimetype": "text/x-python",
   "name": "python",
   "nbconvert_exporter": "python",
   "pygments_lexer": "ipython3",
   "version": "3.7.1"
  }
 },
 "nbformat": 4,
 "nbformat_minor": 2
}
