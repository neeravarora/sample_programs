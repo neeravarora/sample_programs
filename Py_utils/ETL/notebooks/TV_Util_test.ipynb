{
 "cells": [
  {
   "cell_type": "code",
   "execution_count": 1,
   "metadata": {},
   "outputs": [],
   "source": [
    "import sys, os, inspect\n",
    "sys.path.append(\"/home/vbhargava/fb_v9.0_merged/msaction_backend/common/BU3.0_core/util/Py_utils/ETL\")"
   ]
  },
  {
   "cell_type": "code",
   "execution_count": 2,
   "metadata": {},
   "outputs": [],
   "source": [
    "from tv.util.qubole_hive_client import QuboleHiveClient\n",
    "from tv.util.s3_utils import S3\n",
    "from tv import path_resolver\n",
    "from tv.ds_metadata import S3Location"
   ]
  },
  {
   "cell_type": "code",
   "execution_count": 3,
   "metadata": {},
   "outputs": [
    {
     "data": {
      "text/plain": [
       "'/home/vbhargava/fb_v9.0_merged/msaction_backend/common/BU3.0_core/util/Py_utils/ETL/'"
      ]
     },
     "execution_count": 3,
     "metadata": {},
     "output_type": "execute_result"
    }
   ],
   "source": [
    "p = path_resolver.resolve('')\n",
    "p"
   ]
  },
  {
   "cell_type": "code",
   "execution_count": 4,
   "metadata": {},
   "outputs": [
    {
     "name": "stdout",
     "output_type": "stream",
     "text": [
      "/home/vbhargava/fb_v9.0_merged/msaction_backend/common/BU3.0_core/util/Py_utils/ETL/state/original/state.json\r\n"
     ]
    }
   ],
   "source": [
    "!ls /home/vbhargava/fb_v9.0_merged/msaction_backend/common/BU3.0_core/util/Py_utils/ETL/state/original/state.json"
   ]
  },
  {
   "cell_type": "code",
   "execution_count": 5,
   "metadata": {},
   "outputs": [
    {
     "name": "stdout",
     "output_type": "stream",
     "text": [
      "/home/vbhargava/fb_v9.0_merged/msaction_backend/common/BU3.0_core/util/Py_utils/ETL/state/working/state.json\r\n"
     ]
    }
   ],
   "source": [
    "!ls /home/vbhargava/fb_v9.0_merged/msaction_backend/common/BU3.0_core/util/Py_utils/ETL/state/working/state.json"
   ]
  },
  {
   "cell_type": "code",
   "execution_count": 20,
   "metadata": {},
   "outputs": [
    {
     "name": "stdout",
     "output_type": "stream",
     "text": [
      "stdout:\n",
      "Completed 295 Bytes/295 Bytes (2.6 KiB/s) with 1 file(s) remaining\n",
      "upload: ../state/working/state.json to s3://tv-mta/tv-results-dev/state/state.json\n",
      "\n",
      "stderr:\n",
      "\n",
      "/home/vbhargava/fb_v9.0_merged/msaction_backend/common/BU3.0_core/util/Py_utils/ETL/state/working/state.json\n",
      "s3://tv-mta/tv-results-dev/state/\n"
     ]
    },
    {
     "data": {
      "text/plain": [
       "['Completed 295 Bytes/295 Bytes (2.6 KiB/s) with 1 file(s) remaining',\n",
       " 'upload: ../state/working/state.json to s3://tv-mta/tv-results-dev/state/state.json',\n",
       " '']"
      ]
     },
     "execution_count": 20,
     "metadata": {},
     "output_type": "execute_result"
    }
   ],
   "source": [
    "path = os.path.join(\"state\", 'working','state.json')\n",
    "resolved_path = path_resolver.resolve(path)\n",
    "s3_loc = 's3://tv-mta/tv-results-dev/state/'   #S3Location.tv_etl_states_loc\n",
    "res = S3.s3_ftp(s3_loc, resolved_path, 'UPLOAD', debug=True, print_stderr=True)\n",
    "print(resolved_path)\n",
    "print(s3_loc)\n",
    "assert res is not None and res[0] != '' , 'Saving working state file failed!'\n",
    "res"
   ]
  },
  {
   "cell_type": "code",
   "execution_count": 13,
   "metadata": {},
   "outputs": [
    {
     "data": {
      "text/plain": [
       "<re.Match object; span=(0, 33), match='s3://tv-mta/tv-results-dev/state/'>"
      ]
     },
     "execution_count": 13,
     "metadata": {},
     "output_type": "execute_result"
    }
   ],
   "source": [
    "import re\n",
    "assert re.match('^.*state/$',s3_loc) is not None, 'State location should have leaf dir state/'\n",
    "a = re.match('^.*state/$',s3_loc)\n",
    "a"
   ]
  },
  {
   "cell_type": "code",
   "execution_count": 8,
   "metadata": {},
   "outputs": [
    {
     "name": "stdout",
     "output_type": "stream",
     "text": [
      "stdout:\n",
      "_tmp.mta-tv-impressions-2/\n",
      "_tmp.mta-tv-impressions/\n",
      "mta-tv-impressions-2/\n",
      "mta-tv-impressions/\n",
      "state/\n",
      "\n",
      "stderr:\n",
      "\n"
     ]
    },
    {
     "data": {
      "text/plain": [
       "['_tmp.mta-tv-impressions-2/',\n",
       " '_tmp.mta-tv-impressions/',\n",
       " 'mta-tv-impressions-2/',\n",
       " 'mta-tv-impressions/',\n",
       " 'state/',\n",
       " '']"
      ]
     },
     "execution_count": 8,
     "metadata": {},
     "output_type": "execute_result"
    }
   ],
   "source": [
    "S3.list_s3_files('s3://tv-mta/tv-results-dev/')\n",
    "#S3.list_s3_files_kantar('s3://tv-mta/kantar/tvweekly/')"
   ]
  },
  {
   "cell_type": "code",
   "execution_count": 59,
   "metadata": {},
   "outputs": [
    {
     "name": "stdout",
     "output_type": "stream",
     "text": [
      "delete: s3://tv-mta/tv-results-dev/state/state.json\r\n"
     ]
    }
   ],
   "source": [
    "!aws s3 rm s3://tv-mta/tv-results-dev/state --recursive"
   ]
  },
  {
   "cell_type": "code",
   "execution_count": 16,
   "metadata": {},
   "outputs": [
    {
     "data": {
      "text/plain": [
       "1"
      ]
     },
     "execution_count": 16,
     "metadata": {},
     "output_type": "execute_result"
    }
   ],
   "source": [
    "len(res)"
   ]
  },
  {
   "cell_type": "code",
   "execution_count": 61,
   "metadata": {},
   "outputs": [
    {
     "name": "stdout",
     "output_type": "stream",
     "text": [
      "stdout:\n",
      "Completed 225 Bytes/225 Bytes (2.0 KiB/s) with 1 file(s) remaining\n",
      "upload: ../state/original/state.json to s3://tv-mta/tv-results-dev/state/state.json\n",
      "\n",
      "stderr:\n",
      "\n",
      "/home/vbhargava/fb_v9.0_merged/msaction_backend/common/BU3.0_core/util/Py_utils/ETL/state/original/state.json\n",
      "s3://tv-mta/tv-results-dev/state/state.json\n"
     ]
    },
    {
     "data": {
      "text/plain": [
       "['Completed 225 Bytes/225 Bytes (2.0 KiB/s) with 1 file(s) remaining',\n",
       " 'upload: ../state/original/state.json to s3://tv-mta/tv-results-dev/state/state.json',\n",
       " '']"
      ]
     },
     "execution_count": 61,
     "metadata": {},
     "output_type": "execute_result"
    }
   ],
   "source": [
    "path = os.path.join(\"state\", 'original','state.json')\n",
    "resolved_path = path_resolver.resolve(path)\n",
    "s3_loc = os.path.join('s3://tv-mta/tv-results-dev/state/','state.json')  #S3Location.tv_etl_states_loc\n",
    "res = S3.s3_ftp(s3_loc, resolved_path, 'UPLOAD', debug=True, print_stderr=True)\n",
    "print(resolved_path)\n",
    "print(s3_loc)\n",
    "res"
   ]
  },
  {
   "cell_type": "code",
   "execution_count": 25,
   "metadata": {},
   "outputs": [],
   "source": [
    "assert re.match('^.*state/state.json$',s3_loc) is not None, 'State location should have leaf dir state/state.json'"
   ]
  },
  {
   "cell_type": "code",
   "execution_count": 30,
   "metadata": {},
   "outputs": [
    {
     "data": {
      "text/plain": [
       "'/home/vbhargava/fb_v9.0_merged/msaction_backend/common/BU3.0_core/util/Py_utils/ETL/state/working/state.json'"
      ]
     },
     "execution_count": 30,
     "metadata": {},
     "output_type": "execute_result"
    }
   ],
   "source": [
    "path = os.path.join(\"state\", 'template','state.json')\n",
    "templete_file_path = path_resolver.resolve(path)\n",
    "path = os.path.join(\"state\", 'original','state.json')\n",
    "original_file_path = path_resolver.resolve(path)\n",
    "path = os.path.join(\"state\", 'working','state.json')\n",
    "working_file_path = path_resolver.resolve(path)\n",
    "\n",
    "from shutil import copyfile\n",
    "\n",
    "copyfile(templete_file_path, working_file_path)"
   ]
  },
  {
   "cell_type": "code",
   "execution_count": 33,
   "metadata": {},
   "outputs": [],
   "source": [
    "import json\n",
    "def read(path = None):\n",
    "    if path is None:\n",
    "        path = os.path.join(\"state\", 'working','state.json') \n",
    "    resolved_path = path_resolver.resolve(path)\n",
    "    with open(resolved_path, 'r') as qubole_config_file:       \n",
    "        state_dict  = json.load(qubole_config_file)\n",
    "    return state_dict"
   ]
  },
  {
   "cell_type": "code",
   "execution_count": 34,
   "metadata": {},
   "outputs": [],
   "source": [
    "data_json = read()"
   ]
  },
  {
   "cell_type": "code",
   "execution_count": 42,
   "metadata": {},
   "outputs": [],
   "source": [
    "data_json['tv_etl_history'][0]['started_on']='asc'\n"
   ]
  },
  {
   "cell_type": "code",
   "execution_count": 43,
   "metadata": {},
   "outputs": [
    {
     "data": {
      "text/plain": [
       "[{'status': 'start',\n",
       "  'started_on': 'asc',\n",
       "  'finished_on': '',\n",
       "  'tv_start_date': '',\n",
       "  'tv-end-date': '',\n",
       "  'for_noOfDays': -1}]"
      ]
     },
     "execution_count": 43,
     "metadata": {},
     "output_type": "execute_result"
    }
   ],
   "source": [
    "data_json['tv_etl_history']"
   ]
  },
  {
   "cell_type": "code",
   "execution_count": 46,
   "metadata": {},
   "outputs": [],
   "source": [
    "def write(data_dict: dict, path = None):\n",
    "    if path is None:\n",
    "        path = os.path.join(\"state\", 'working','state.json') \n",
    "    resolved_path = path_resolver.resolve(path)\n",
    "    with open(resolved_path, 'w') as outfile:       \n",
    "        json.dump(data_dict, outfile, indent=4)\n"
   ]
  },
  {
   "cell_type": "code",
   "execution_count": 57,
   "metadata": {},
   "outputs": [],
   "source": [
    "write(data_json)"
   ]
  },
  {
   "cell_type": "code",
   "execution_count": 53,
   "metadata": {},
   "outputs": [
    {
     "data": {
      "text/plain": [
       "[{'status': 'start',\n",
       "  'started_on': 'asc',\n",
       "  'finished_on': '',\n",
       "  'tv_start_date': '',\n",
       "  'tv-end-date': '',\n",
       "  'for_noOfDays': -1}]"
      ]
     },
     "execution_count": 53,
     "metadata": {},
     "output_type": "execute_result"
    }
   ],
   "source": [
    "model : dict = {}\n",
    "model['status'] = \"InProgress\"\n",
    "model['started_on'] = \"started_on\"\n",
    "model['finished_on'] = \"finished_on\"\n",
    "model['tv-start-date'] = \"cls.status\"\n",
    "model['tv-end-date'] = \"cls.status\"\n",
    "model['trigger_no_of_days'] = \"cls.status\"\n",
    "l = data_json['tv_etl_history']\n",
    "l"
   ]
  },
  {
   "cell_type": "code",
   "execution_count": 55,
   "metadata": {},
   "outputs": [],
   "source": [
    "l.insert(0, model)"
   ]
  },
  {
   "cell_type": "code",
   "execution_count": 56,
   "metadata": {},
   "outputs": [
    {
     "data": {
      "text/plain": [
       "{'optimistic_lock': '',\n",
       " 'tv_etl_history': [{'status': 'InProgress',\n",
       "   'started_on': 'started_on',\n",
       "   'finished_on': 'finished_on',\n",
       "   'tv-start-date': 'cls.status',\n",
       "   'tv-end-date': 'cls.status',\n",
       "   'trigger_no_of_days': 'cls.status'},\n",
       "  {'status': 'start',\n",
       "   'started_on': 'asc',\n",
       "   'finished_on': '',\n",
       "   'tv_start_date': '',\n",
       "   'tv-end-date': '',\n",
       "   'for_noOfDays': -1}]}"
      ]
     },
     "execution_count": 56,
     "metadata": {},
     "output_type": "execute_result"
    }
   ],
   "source": [
    "data_json"
   ]
  },
  {
   "cell_type": "code",
   "execution_count": 13,
   "metadata": {},
   "outputs": [],
   "source": [
    "df = QuboleHiveClient.hive_query(query=\"SELECT min(t.file_name) as end_date from tv_mta_staging_dev2.ext_raw_tivo_log_2 t where t.file_name >= '20190107';\")"
   ]
  },
  {
   "cell_type": "code",
   "execution_count": 23,
   "metadata": {},
   "outputs": [
    {
     "data": {
      "text/plain": [
       "True"
      ]
     },
     "execution_count": 23,
     "metadata": {},
     "output_type": "execute_result"
    }
   ],
   "source": [
    "str(df['end_date'][0]).isnumeric()"
   ]
  },
  {
   "cell_type": "code",
   "execution_count": 12,
   "metadata": {},
   "outputs": [],
   "source": [
    "df1 = QuboleHiveClient.hive_query(query=\"SELECT max(t.file_name) as end_date from tv_mta_staging_dev2.ext_raw_tivo_log_2 t where t.file_name <= '20190107' and  t.file_name >='20190101';\")"
   ]
  },
  {
   "cell_type": "code",
   "execution_count": 20,
   "metadata": {},
   "outputs": [
    {
     "data": {
      "text/plain": [
       "False"
      ]
     },
     "execution_count": 20,
     "metadata": {},
     "output_type": "execute_result"
    }
   ],
   "source": [
    "df1['end_date'][0].isnumeric()"
   ]
  },
  {
   "cell_type": "code",
   "execution_count": 24,
   "metadata": {},
   "outputs": [
    {
     "data": {
      "text/html": [
       "<div>\n",
       "<style scoped>\n",
       "    .dataframe tbody tr th:only-of-type {\n",
       "        vertical-align: middle;\n",
       "    }\n",
       "\n",
       "    .dataframe tbody tr th {\n",
       "        vertical-align: top;\n",
       "    }\n",
       "\n",
       "    .dataframe thead th {\n",
       "        text-align: right;\n",
       "    }\n",
       "</style>\n",
       "<table border=\"1\" class=\"dataframe\">\n",
       "  <thead>\n",
       "    <tr style=\"text-align: right;\">\n",
       "      <th></th>\n",
       "      <th>week</th>\n",
       "    </tr>\n",
       "  </thead>\n",
       "  <tbody>\n",
       "    <tr>\n",
       "      <th>0</th>\n",
       "      <td>36</td>\n",
       "    </tr>\n",
       "  </tbody>\n",
       "</table>\n",
       "</div>"
      ],
      "text/plain": [
       "   week\n",
       "0    36"
      ]
     },
     "execution_count": 24,
     "metadata": {},
     "output_type": "execute_result"
    }
   ],
   "source": [
    "df2 = QuboleHiveClient.hive_query(query=\"select distinct week from tv_mta_staging_dev2.raw_kantar_log_2 where year = 2019 and week = 36;\")\n",
    "df2"
   ]
  },
  {
   "cell_type": "code",
   "execution_count": 25,
   "metadata": {},
   "outputs": [
    {
     "data": {
      "text/plain": [
       "36"
      ]
     },
     "execution_count": 25,
     "metadata": {},
     "output_type": "execute_result"
    }
   ],
   "source": [
    "df2['week'][0]"
   ]
  },
  {
   "cell_type": "code",
   "execution_count": null,
   "metadata": {},
   "outputs": [],
   "source": []
  }
 ],
 "metadata": {
  "kernelspec": {
   "display_name": "Python 3",
   "language": "python",
   "name": "python3"
  },
  "language_info": {
   "codemirror_mode": {
    "name": "ipython",
    "version": 3
   },
   "file_extension": ".py",
   "mimetype": "text/x-python",
   "name": "python",
   "nbconvert_exporter": "python",
   "pygments_lexer": "ipython3",
   "version": "3.7.1"
  }
 },
 "nbformat": 4,
 "nbformat_minor": 2
}
