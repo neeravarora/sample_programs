{
 "cells": [
  {
   "cell_type": "code",
   "execution_count": 1,
   "metadata": {},
   "outputs": [],
   "source": [
    "import sys, os, inspect, re\n",
    "sys.path.append(\"/home/vbhargava/feature_test0/msaction_backend/common/BU3.0_core/util/Py_utils/taxonomy_utils\")\n",
    "import time, logging\n",
    "numeric_level = getattr(logging, 'INFO', None)\n",
    "stdout_handler = logging.StreamHandler(sys.stdout)\n",
    "logging.basicConfig(level=numeric_level,\n",
    "                        format='%(asctime)s %(levelname)s %(name)s: %(message)s',\n",
    "                        handlers=[stdout_handler])"
   ]
  },
  {
   "cell_type": "code",
   "execution_count": 2,
   "metadata": {},
   "outputs": [],
   "source": [
    "from libs.s3_ops import S3_OPs\n",
    "from libs.s3_stream import S3Stream\n",
    "from libs.configs import Config\n",
    "from libs.nio_executor import NIO\n",
    "from libs import utils\n",
    "from collections import defaultdict"
   ]
  },
  {
   "cell_type": "code",
   "execution_count": 3,
   "metadata": {},
   "outputs": [],
   "source": [
    "config = '/home/vbhargava/feature_test0/msaction_backend/customers/raj_ford_test/common/config/inputs/platform_config.xml'\n",
    "lmt_src = 's3://qubole-ford/taxonomy_cs/lmt/input/'\n",
    "lmt_data = 's3://qubole-ford/taxonomy_cs/lmt/data/'"
   ]
  },
  {
   "cell_type": "code",
   "execution_count": 4,
   "metadata": {},
   "outputs": [],
   "source": [
    "config_data = Config.get_qubole_config(config)\n",
    "ACCESS_KEY=config_data['access_key']\n",
    "SECRET_KEY=config_data['secret_key']"
   ]
  },
  {
   "cell_type": "code",
   "execution_count": 5,
   "metadata": {},
   "outputs": [],
   "source": [
    "TG_EXTRACT_REGEX = '^.*?/([a-zA-Z]+\\-?[0-9]*)/$'\n",
    "FILE_EXTRACT_REGEX = '^.*/([a-zA-Z0-9.\\-_]{0,255}.csv)$'\n",
    "TARGET_EXTRACT_REGEX ='^.*,?(target_[A-Za-z0-9_-]+).*$'\n",
    "VALID_FILE_KEY_REGEX = '^(.*/([a-zA-Z]+\\-?[0-9]*)?/)?(([a-zA-Z]+\\-?[0-9]*?)_([0-9]{4}-[0-9]{2}-[0-9]{2}?)_([a-zA-Z0-9.\\-_]+?).csv?)$'"
   ]
  },
  {
   "cell_type": "code",
   "execution_count": 6,
   "metadata": {},
   "outputs": [],
   "source": [
    "s3_ops = S3_OPs(ACCESS_KEY, SECRET_KEY)\n",
    "\n",
    "def filename_by_key(key):\n",
    "    return get_val_by_regex(key, FILE_EXTRACT_REGEX, error_msg=\"Not vaild key for taxonomy data csv file\")\n",
    "\n",
    "def find_by_data_tg(key, regex):\n",
    "    return get_val_by_regex(key, regex, error_msg=\"Not vaild taxonomy data dir\")\n",
    "\n",
    "        \n",
    "def get_val_by_regex(key, regex, error_msg=\"can't be extract a val.\"):\n",
    "    matched = re.findall(regex, key)\n",
    "    if len(matched) > 0:\n",
    "        return matched[0]\n",
    "    else:\n",
    "        raise Exception(error_msg)\n",
    "        \n",
    "def get_data_n_schema(tg, data_files_loc):\n",
    "    data_file_lock_detail = s3_ops.get_bucket_name(data_files_loc)\n",
    "    files = s3_ops.list_complete(data_file_lock_detail['bucket'], data_file_lock_detail['key'])\n",
    "    res = {}\n",
    "    if len(files)>0:\n",
    "        s3_stream = S3Stream(ACCESS_KEY, SECRET_KEY)\n",
    "        schema = s3_stream.get_header(s3_ops.get_full_s3_path(data_file_lock_detail['bucket'],files[0]['Key']))\n",
    "        #res[tg]={'schema':schema, 'files': files}\n",
    "        res['schema'] = {tg:schema}\n",
    "        res['files'] = {tg:files}\n",
    "    return res\n",
    "\n",
    "def extract_schema(schema):\n",
    "    return schema.replace(\" \",\"\").lower()\n",
    "\n",
    "def validate_schema(schema):\n",
    "    if schema=='': \n",
    "        return {'IsValid' : False, 'schema': schema, 'message' : \"Schema shouldn't be empty\"}\n",
    "    tokens = schema.split(',')\n",
    "    if len(tokens) < 2:\n",
    "         return {'IsValid' : False, 'schema': schema, 'message' : \"Schema should have at least 2 columns\"}\n",
    "    KEY_REGEX = '^[Kk]ey_[A-Za-z0-9_]{3,30}$'\n",
    "    TARGET_REGEX = '^[Tt]arget_[A-Za-z0-9_]{3,30}$'\n",
    "    key_cnt = 0\n",
    "    target_cnt = 0\n",
    "    invalid_headers = []\n",
    "    columns = defaultdict(list)\n",
    "    res = {}\n",
    "    target_col = None\n",
    "    key_cols_set = set()\n",
    "    for t in tokens:\n",
    "        t = t.strip()\n",
    "        if re.match(TARGET_REGEX, t):\n",
    "            target_cnt = target_cnt + 1\n",
    "            target_col = t\n",
    "        elif re.match(KEY_REGEX, t):\n",
    "            key_cnt = key_cnt + 1\n",
    "            key_cols_set.add(t)\n",
    "        else:\n",
    "            invalid_headers.append(t)\n",
    "        columns[t.lower()].append(1)\n",
    "\n",
    "    error_msgs=[]\n",
    "    if target_cnt != 1 :\n",
    "        error_msgs.append(\"Exact one Target column is required!\")\n",
    "    if key_cnt < 1 :\n",
    "        error_msgs.append(\"At least one Key column is required!\")\n",
    "    if len(invalid_headers) > 0 :\n",
    "        error_msgs.append(\"All given columns should Key or Target!\")\n",
    "    for k, v in columns.items():\n",
    "\n",
    "        if len(v) > 1:\n",
    "            print(\"--\")\n",
    "            error_msgs.append(\"Same name: {} should not represent more than one column in schema! cols names are case insensitive. \".format(k))\n",
    "\n",
    "    if len(error_msgs) > 0:\n",
    "        return {'IsValid' : False, 'schema': schema, 'errors' : \" \\n\".join(error_msgs)}\n",
    "    #print(str(key_cnt)+\":\"+str(target_cnt)+\":\"+str(invalid_headers)+\":\"+str(columns))\n",
    "    return {'IsValid' : True, 'Schema': schema.replace(\" \",\"\").lower(), \n",
    "            'TargetCol' : target_col, 'KeyColsSet' : key_cols_set}"
   ]
  },
  {
   "cell_type": "code",
   "execution_count": 7,
   "metadata": {},
   "outputs": [],
   "source": [
    "def extract_data_detail(lmt_src, lmt_data, access_key, secret_key):\n",
    "#     Valid data Taxonomy Grps\n",
    "    \n",
    "    #\n",
    "    lmt_data_loc_detail = s3_ops.get_bucket_name(lmt_data)\n",
    "    lmt_data_loc_bucket = lmt_data_loc_detail['bucket']\n",
    "    lmt_data_loc_key = lmt_data_loc_detail['key']\n",
    "    valid_tg_list_res = s3_ops.list_subdirs(lmt_data_loc_detail['bucket'],lmt_data_loc_detail['key'],)\n",
    "    \n",
    "    valid_tgrp_loc_list = [ [find_by_data_tg(item['Prefix'], TG_EXTRACT_REGEX), \n",
    "                         '{}{}'.format(lmt_data, find_by_data_tg(item['Prefix'], TG_EXTRACT_REGEX))] \n",
    "                       for item in valid_tg_list_res]\n",
    "    \n",
    "    collected = NIO.decorated_run_io(task=get_data_n_schema, task_n_args_list=valid_tgrp_loc_list, max_workers=25,)\n",
    "    \n",
    "    tg_data_schema_dict = {k:extract_schema(v)  for item in collected for k, v in item['result']['schema'].items()}\n",
    "    tg_data_files_dict = {k:{filename_by_key(u['Key']):u for u in v } for item in collected for k, v in item['result']['files'].items()}\n",
    "    target_data_tg_dict = {re.findall(TARGET_EXTRACT_REGEX,V)[0]: K for K, V in tg_data_schema_dict.items()}\n",
    "    \n",
    "    return tg_data_schema_dict, tg_data_files_dict,target_data_tg_dict"
   ]
  },
  {
   "cell_type": "code",
   "execution_count": 8,
   "metadata": {},
   "outputs": [
    {
     "name": "stdout",
     "output_type": "stream",
     "text": [
      "2020-10-28 23:42:46,915:65224 MainThread run_blocking_tasks: starting\n",
      "\n",
      "2020-10-28 23:42:46,916:65224 MainThread run_blocking_tasks: creating executor tasks\n",
      "\n",
      "2020-10-28 23:42:46,917:65224 ThreadPoolExecutor-0_0 (task-0): passed args :['AdvertiserReporting', 's3://qubole-ford/taxonomy_cs/lmt/data/AdvertiserReporting']\n",
      "\n",
      "2020-10-28 23:42:46,917:65224 ThreadPoolExecutor-0_1 (task-1): passed args :['ChannelGrouping', 's3://qubole-ford/taxonomy_cs/lmt/data/ChannelGrouping']\n",
      "\n",
      "2020-10-28 23:42:46,918:65224 ThreadPoolExecutor-0_0 (task-0): running\n",
      "\n",
      "2020-10-28 23:42:46,918:65224 MainThread run_blocking_tasks: waiting for executor tasks\n",
      "\n",
      "2020-10-28 23:42:46,919:65224 ThreadPoolExecutor-0_1 (task-1): running\n",
      "\n",
      "2020-10-28 23:42:46,975:65224 ThreadPoolExecutor-0_0 (task-0): done\n",
      "\n",
      "2020-10-28 23:42:47,020:65224 ThreadPoolExecutor-0_1 (task-1): done\n",
      "\n",
      "2020-10-28 23:42:47,021:65224 MainThread run_blocking_tasks: exiting\n",
      "\n"
     ]
    },
    {
     "data": {
      "text/plain": [
       "({'AdvertiserReporting': 'key_evt_advertiser_key,target_evt_advertiser_name',\n",
       "  'ChannelGrouping': 'key_evt_source,target_channel'},\n",
       " {'AdvertiserReporting': {'AdvertiserReporting_2020-06-01_ford.csv': {'Key': 'taxonomy_cs/lmt/data/AdvertiserReporting/AdvertiserReporting_2020-06-01_ford.csv',\n",
       "    'LastModified': datetime.datetime(2020, 10, 20, 21, 52, 9, tzinfo=tzlocal()),\n",
       "    'ETag': '\"04234605e8b4354998074abae5c74ae9\"',\n",
       "    'Size': 71,\n",
       "    'StorageClass': 'STANDARD'},\n",
       "   'AdvertiserReporting_2020-06-02_ford.csv': {'Key': 'taxonomy_cs/lmt/data/AdvertiserReporting/AdvertiserReporting_2020-06-02_ford.csv',\n",
       "    'LastModified': datetime.datetime(2020, 10, 20, 21, 50, 55, tzinfo=tzlocal()),\n",
       "    'ETag': '\"f33832d48d54ec287f1b486526c197bf\"',\n",
       "    'Size': 57,\n",
       "    'StorageClass': 'STANDARD'}},\n",
       "  'ChannelGrouping': {'ChannelGrouping_2020-06-01_ford.csv': {'Key': 'taxonomy_cs/lmt/data/ChannelGrouping/ChannelGrouping_2020-06-01_ford.csv',\n",
       "    'LastModified': datetime.datetime(2020, 10, 20, 21, 53, 33, tzinfo=tzlocal()),\n",
       "    'ETag': '\"f6987a7636f122fd412879bdcb51678d\"',\n",
       "    'Size': 53,\n",
       "    'StorageClass': 'STANDARD'}}},\n",
       " {'target_evt_advertiser_name': 'AdvertiserReporting',\n",
       "  'target_channel': 'ChannelGrouping'})"
      ]
     },
     "execution_count": 8,
     "metadata": {},
     "output_type": "execute_result"
    }
   ],
   "source": [
    "extract_data_detail(lmt_src, lmt_data, ACCESS_KEY, SECRET_KEY)"
   ]
  },
  {
   "cell_type": "code",
   "execution_count": 9,
   "metadata": {},
   "outputs": [],
   "source": [
    "from service.taxonomy_cs_api import Taxonomy_CS_API"
   ]
  },
  {
   "cell_type": "code",
   "execution_count": 10,
   "metadata": {},
   "outputs": [],
   "source": [
    "tcAPI = Taxonomy_CS_API()"
   ]
  },
  {
   "cell_type": "code",
   "execution_count": 11,
   "metadata": {},
   "outputs": [
    {
     "name": "stdout",
     "output_type": "stream",
     "text": [
      "2020-10-28 23:42:47,102:65224 MainThread run_blocking_tasks: starting\n",
      "\n",
      "2020-10-28 23:42:47,103:65224 MainThread run_blocking_tasks: creating executor tasks\n",
      "\n",
      "2020-10-28 23:42:47,104:65224 ThreadPoolExecutor-1_0 (task-0): passed args :['AdvertiserReporting', 's3://qubole-ford/taxonomy_cs/lmt/data/AdvertiserReporting']\n",
      "\n",
      "2020-10-28 23:42:47,104:65224 ThreadPoolExecutor-1_1 (task-1): passed args :['ChannelGrouping', 's3://qubole-ford/taxonomy_cs/lmt/data/ChannelGrouping']\n",
      "\n",
      "2020-10-28 23:42:47,105:65224 MainThread run_blocking_tasks: waiting for executor tasks\n",
      "\n",
      "2020-10-28 23:42:47,105:65224 ThreadPoolExecutor-1_0 (task-0): running\n",
      "\n",
      "2020-10-28 23:42:47,106:65224 ThreadPoolExecutor-1_1 (task-1): running\n",
      "\n",
      "2020-10-28 23:42:47,187:65224 ThreadPoolExecutor-1_0 (task-0): done\n",
      "\n",
      "2020-10-28 23:42:47,200:65224 ThreadPoolExecutor-1_1 (task-1): done\n",
      "\n",
      "2020-10-28 23:42:47,201:65224 MainThread run_blocking_tasks: exiting\n",
      "\n"
     ]
    },
    {
     "data": {
      "text/plain": [
       "{'tg_data_schema_dict': {'ChannelGrouping': 'key_evt_source,target_channel',\n",
       "  'AdvertiserReporting': 'key_evt_advertiser_key,target_evt_advertiser_name'},\n",
       " 'tg_data_files_dict': {'ChannelGrouping': {'ChannelGrouping_2020-06-01_ford.csv': {'Key': 'taxonomy_cs/lmt/data/ChannelGrouping/ChannelGrouping_2020-06-01_ford.csv',\n",
       "    'LastModified': datetime.datetime(2020, 10, 20, 21, 53, 33, tzinfo=tzlocal()),\n",
       "    'ETag': '\"f6987a7636f122fd412879bdcb51678d\"',\n",
       "    'Size': 53,\n",
       "    'StorageClass': 'STANDARD'}},\n",
       "  'AdvertiserReporting': {'AdvertiserReporting_2020-06-01_ford.csv': {'Key': 'taxonomy_cs/lmt/data/AdvertiserReporting/AdvertiserReporting_2020-06-01_ford.csv',\n",
       "    'LastModified': datetime.datetime(2020, 10, 20, 21, 52, 9, tzinfo=tzlocal()),\n",
       "    'ETag': '\"04234605e8b4354998074abae5c74ae9\"',\n",
       "    'Size': 71,\n",
       "    'StorageClass': 'STANDARD'},\n",
       "   'AdvertiserReporting_2020-06-02_ford.csv': {'Key': 'taxonomy_cs/lmt/data/AdvertiserReporting/AdvertiserReporting_2020-06-02_ford.csv',\n",
       "    'LastModified': datetime.datetime(2020, 10, 20, 21, 50, 55, tzinfo=tzlocal()),\n",
       "    'ETag': '\"f33832d48d54ec287f1b486526c197bf\"',\n",
       "    'Size': 57,\n",
       "    'StorageClass': 'STANDARD'}}},\n",
       " 'target_data_tg_dict': {'target_channel': 'ChannelGrouping',\n",
       "  'target_evt_advertiser_name': 'AdvertiserReporting'}}"
      ]
     },
     "execution_count": 11,
     "metadata": {},
     "output_type": "execute_result"
    }
   ],
   "source": [
    "tcAPI.extract_data_detail()"
   ]
  },
  {
   "cell_type": "markdown",
   "metadata": {},
   "source": [
    "## SRC File processed"
   ]
  },
  {
   "cell_type": "code",
   "execution_count": 18,
   "metadata": {},
   "outputs": [
    {
     "name": "stdout",
     "output_type": "stream",
     "text": [
      "2020-10-28 23:44:15,720:65224 MainThread run_blocking_tasks: starting\n",
      "\n",
      "2020-10-28 23:44:15,721:65224 MainThread run_blocking_tasks: creating executor tasks\n",
      "\n",
      "2020-10-28 23:44:15,722:65224 ThreadPoolExecutor-4_0 (task-0): passed args :['AdvertiserReporting', 's3://qubole-ford/taxonomy_cs/lmt/data/AdvertiserReporting']\n",
      "\n",
      "2020-10-28 23:44:15,722:65224 ThreadPoolExecutor-4_1 (task-1): passed args :['ChannelGrouping', 's3://qubole-ford/taxonomy_cs/lmt/data/ChannelGrouping']\n",
      "\n",
      "2020-10-28 23:44:15,722:65224 MainThread run_blocking_tasks: waiting for executor tasks\n",
      "\n",
      "2020-10-28 23:44:15,723:65224 ThreadPoolExecutor-4_0 (task-0): running\n",
      "\n",
      "2020-10-28 23:44:15,724:65224 ThreadPoolExecutor-4_1 (task-1): running\n",
      "\n",
      "2020-10-28 23:44:15,781:65224 ThreadPoolExecutor-4_0 (task-0): done\n",
      "\n",
      "2020-10-28 23:44:15,821:65224 ThreadPoolExecutor-4_1 (task-1): done\n",
      "\n",
      "2020-10-28 23:44:15,823:65224 MainThread run_blocking_tasks: exiting\n",
      "\n"
     ]
    }
   ],
   "source": [
    "tg_data = extract_data_detail(lmt_src, lmt_data, ACCESS_KEY, SECRET_KEY)\n",
    "tg_data_schema_dict = tg_data[0]\n",
    "tg_data_files_dict = tg_data[1]\n",
    "target_data_tg_dict = tg_data[2]"
   ]
  },
  {
   "cell_type": "code",
   "execution_count": 20,
   "metadata": {},
   "outputs": [
    {
     "data": {
      "text/plain": [
       "{'target_evt_advertiser_name': 'AdvertiserReporting',\n",
       " 'target_channel': 'ChannelGrouping'}"
      ]
     },
     "execution_count": 20,
     "metadata": {},
     "output_type": "execute_result"
    }
   ],
   "source": [
    "target_data_tg_dict"
   ]
  },
  {
   "cell_type": "code",
   "execution_count": 14,
   "metadata": {},
   "outputs": [],
   "source": [
    "def is_valid_file(key:str='', regex = VALID_FILE_KEY_REGEX):\n",
    "    if re.match(regex, key) is None:\n",
    "        return False\n",
    "    return True\n",
    "\n",
    "def extract_info(key:str='', regex = VALID_FILE_KEY_REGEX):\n",
    "    matched = re.findall(regex, key)\n",
    "    return {\n",
    "            'KeyDirPath' : matched[0][0],\n",
    "            'ParentDir' : matched[0][1],\n",
    "            'FileName' : matched[0][2],\n",
    "            'FileGrp' :  matched[0][3],\n",
    "            'Date' :  matched[0][4],\n",
    "            'ClientName' : matched[0][5]\n",
    "           }\n",
    "def extract_info_with_bucket(key:str='', bucket = ''):\n",
    "    res = extract_info(key)\n",
    "    res.update({'Bucket' : bucket})\n",
    "    return res"
   ]
  },
  {
   "cell_type": "code",
   "execution_count": 15,
   "metadata": {},
   "outputs": [],
   "source": [
    "def grouped_tg(collected, tg_files_dict_type='new_tg_files_dict'):\n",
    "    collect = defaultdict(dict)\n",
    "    tg_f_gen = (item['result'][tg_files_dict_type] for item in collected if len(item['result'][tg_files_dict_type]) > 0)\n",
    "    tg_f_gen2 = (collect[tg].update({filename: file_dict})  for item in tg_f_gen for tg, file_detail_dict in item.items() for filename, file_dict in file_detail_dict.items())\n",
    "    [ i for i in tg_f_gen2]\n",
    "    tg = dict(collect)\n",
    "    return tg\n",
    "\n",
    "def grouped_flag_dict(collected, flag_dict_type='schema_tg_dict'):\n",
    "    f_gen = (item['result'][flag_dict_type] for item in collected if len(item['result'][flag_dict_type]) > 0)\n",
    "    collect = defaultdict(set)\n",
    "    f_gen2 = (collect[K].add(V)  for item in f_gen for K, V in item.items())\n",
    "    [ i for i in f_gen2]\n",
    "    res = dict(collect)\n",
    "    return res\n",
    "\n",
    "def grouped_set_of_flags_dict(collected, flag_dict_type='schema_tg_dict'):\n",
    "    f_gen = (item['result'][flag_dict_type] for item in collected if len(item['result'][flag_dict_type]) > 0)\n",
    "    collect = defaultdict(set)\n",
    "    f_gen2 = (collect[K].add(*V)  for item in f_gen for K, V in item.items())\n",
    "    [ i for i in f_gen2]\n",
    "    res = dict(collect)\n",
    "    return res\n",
    "\n",
    "def grouped_set_of_flags(collected, flag_dict_type='invalid_schema_files'):\n",
    "    res_set=set()\n",
    "    f_gen = (res_set.update(item['result'][flag_dict_type]) for item in collected if len(item['result'][flag_dict_type]) > 0)\n",
    "    [ i for i in f_gen]\n",
    "    return res_set"
   ]
  },
  {
   "cell_type": "code",
   "execution_count": 16,
   "metadata": {},
   "outputs": [],
   "source": [
    "# def file_process_task(src_file_details):\n",
    "#     invalid_schema_files = set()\n",
    "\n",
    "#     ''' {'key_evt_advertiser_key,target_evt_advertiser_name': {'tg1', 'tg2', ...}}'''\n",
    "#     schema_tg_dict = {}\n",
    "    \n",
    "#     ''' {'target_evt_advertiser_name': {'tg1', 'tg2', ...}}'''\n",
    "#     target_tg_dict = {}\n",
    "\n",
    "#     ''' {'tg': {'key_evt_advertiser_key,target_evt_advertiser_name', '',...}}'''\n",
    "#     new_tg_schema_dict = {}\n",
    "#     ''' {'tg': {'AdvertiserReporting_2020-06-01_ford.csv': {file detailed obj dict} }  }'''\n",
    "#     new_tg_files_dict = {}\n",
    "#     ''' {'tg': {'AdvertiserReporting_2020-06-01_ford.csv': {file detailed obj dict} }  }'''\n",
    "#     existing_tg_files_dict = {}\n",
    "\n",
    "\n",
    "# #     tg_data_schema_dict = {}\n",
    "# #     tg_data_files_dict = {}\n",
    "\n",
    "# #     src_file_details = valid_file_arg[0]\n",
    "#     src_file_loc = s3_ops.get_full_s3_path(src_file_details['Bucket'], src_file_details['Key'])\n",
    "\n",
    "#     s3_stream = S3Stream(ACCESS_KEY, SECRET_KEY)\n",
    "#     schema =  s3_stream.get_header(src_file_loc)\n",
    "#     #schema = 'key_evt_advertiser_key, targe_evt_advertiser_name'\n",
    "#     validate_res = validate_schema(schema)\n",
    "#     if validate_res['IsValid']:\n",
    "#         src_file_details['Schema'] = validate_res['Schema']\n",
    "#         tg = src_file_details['FileGrp']\n",
    "#         file_name = src_file_details['FileName']\n",
    "#         schema_tg_dict[validate_res['Schema']] = tg\n",
    "#         target_tg_dict[validate_res['TargetCol']] = tg\n",
    "#         if tg_data_schema_dict.get(tg) is None:\n",
    "#             new_tg_schema_dict[tg] = validate_res['Schema']\n",
    "#             new_tg_files_dict[tg] = {file_name: src_file_details}\n",
    "#         else:\n",
    "#             existing_tg_files_dict[tg] = {file_name: src_file_details}\n",
    "\n",
    "#     else:\n",
    "#         invalid_schema_files.add((src_file_loc, schema, validate_res['errors']))\n",
    "\n",
    "#     return {'invalid_schema_files': invalid_schema_files,\n",
    "#             'schema_tg_dict': schema_tg_dict,\n",
    "#             'target_tg_dict':target_tg_dict,\n",
    "#             'new_tg_schema_dict': new_tg_schema_dict,\n",
    "#             'new_tg_files_dict' : new_tg_files_dict,\n",
    "#             'existing_tg_files_dict' : existing_tg_files_dict\n",
    "#            }\n",
    "\n",
    "\n",
    "def file_process_task(src_file_details):\n",
    "    \n",
    "    invalid_schema_files = set()\n",
    "\n",
    "    target_already_exist_files = set()\n",
    "    \n",
    "    ''' {'key_evt_advertiser_key,target_evt_advertiser_name': {'tg1', 'tg2', ...}}'''\n",
    "    schema_tg_dict = {}\n",
    "    \n",
    "    ''' {'target_evt_advertiser_name': {'tg1', 'tg2', ...}}'''\n",
    "    target_tg_dict = {}\n",
    "\n",
    "    ''' {'tg': {'key_evt_advertiser_key,target_evt_advertiser_name', '',...}}'''\n",
    "    new_tg_schema_dict = {}\n",
    "    ''' {'tg': {'AdvertiserReporting_2020-06-01_ford.csv': {file detailed obj dict} }  }'''\n",
    "    new_tg_files_dict = {}\n",
    "    ''' {'tg': {'AdvertiserReporting_2020-06-01_ford.csv': {file detailed obj dict} }  }'''\n",
    "    existing_tg_files_dict = {}\n",
    "\n",
    "\n",
    "    # tg_data_schema_dict = \n",
    "    # tg_data_files_dict = \n",
    "    # target_data_tg_dict = \n",
    "\n",
    "#     src_file_details = valid_file_arg[0]\n",
    "    src_file_loc = s3_ops.get_full_s3_path(src_file_details['Bucket'], src_file_details['Key'])\n",
    "\n",
    "    s3_stream = S3Stream(ACCESS_KEY, SECRET_KEY)\n",
    "    schema =  s3_stream.get_header(src_file_loc)\n",
    "    #schema = 'key_evt_advertiser_key, targe_evt_advertiser_name'\n",
    "    validate_res = validate_schema(schema)\n",
    "    if validate_res['IsValid']:\n",
    "        \n",
    "        \n",
    "        \n",
    "        tg = src_file_details['FileGrp']\n",
    "        file_name = src_file_details['FileName']\n",
    "        \n",
    "        if tg_data_schema_dict.get(tg) is None or tg_data_schema_dict.get(tg) != validate_res['Schema']:\n",
    "                \n",
    "#             data_tg_for_target = target_data_tg_dict.get(validate_res['TargetCol'])\n",
    "#             if  data_tg_for_target is not None:# and data_tg_for_target != tg:\n",
    "#                 target_already_exist_files.add((src_file_loc, data_tg_for_target))\n",
    "#             else:\n",
    "            new_tg_schema_dict[tg] = validate_res['Schema']\n",
    "            new_tg_files_dict[tg] = {file_name: src_file_details}\n",
    "        else:\n",
    "            existing_tg_files_dict[tg] = {file_name: src_file_details}\n",
    "        \n",
    "        src_file_details['Schema'] = validate_res['Schema']\n",
    "        schema_tg_dict[validate_res['Schema']] = tg\n",
    "        target_tg_dict[validate_res['TargetCol']] = tg\n",
    "\n",
    "    else:\n",
    "        invalid_schema_files.add((src_file_loc, schema, validate_res['errors']))\n",
    "\n",
    "    return {'invalid_schema_files': invalid_schema_files,\n",
    "            'target_already_exist_files':target_already_exist_files,\n",
    "            'schema_tg_dict': schema_tg_dict,\n",
    "            'target_tg_dict':target_tg_dict,\n",
    "            'new_tg_schema_dict': new_tg_schema_dict,\n",
    "            'new_tg_files_dict' : new_tg_files_dict,\n",
    "            'existing_tg_files_dict' : existing_tg_files_dict\n",
    "           }\n",
    "\n",
    "\n",
    "\n",
    "def src_list_page_process_task(list_page):\n",
    "    \n",
    "    lmt_src_loc_detail = s3_ops.get_bucket_name(lmt_src)\n",
    "    lmt_src_loc_bucket = lmt_src_loc_detail['bucket']\n",
    "    lmt_src_loc_key = lmt_src_loc_detail['key']\n",
    "    \n",
    "    invalid_files_set = { s3_ops.get_full_s3_path(lmt_src_loc_detail['bucket'], item['Key']) for item in list_page if  not is_valid_file(key=item['Key'])}\n",
    "    valid_file_set = [[utils.dict_append(extract_info_with_bucket(item['Key'], lmt_src_loc_detail['bucket']),item)] for item in list_page if  is_valid_file(key=item['Key']) ]\n",
    "    collected = NIO.decorated_run_io(task=file_process_task, task_n_args_list=valid_file_set, max_workers=25,)\n",
    "#     return collected\n",
    "    return {'invalid_files_set' : invalid_files_set,\n",
    "            'invalid_schema_files': grouped_set_of_flags(collected, flag_dict_type='invalid_schema_files'),\n",
    "            'target_already_exist_files' : grouped_set_of_flags(collected, flag_dict_type='target_already_exist_files'),\n",
    "            'schema_tg_dict': grouped_flag_dict(collected, flag_dict_type='schema_tg_dict'),\n",
    "            'target_tg_dict': grouped_flag_dict(collected, flag_dict_type='target_tg_dict'),\n",
    "            'new_tg_schema_dict': grouped_flag_dict(collected, flag_dict_type='new_tg_schema_dict'),\n",
    "            'new_tg_files_dict' : grouped_tg(collected, 'new_tg_files_dict'),\n",
    "            'existing_tg_files_dict' : grouped_tg(collected, 'existing_tg_files_dict')\n",
    "           }"
   ]
  },
  {
   "cell_type": "code",
   "execution_count": 21,
   "metadata": {},
   "outputs": [
    {
     "name": "stdout",
     "output_type": "stream",
     "text": [
      "2020-10-28 23:45:47,975:65224 MainThread run_blocking_tasks: starting\n",
      "\n",
      "2020-10-28 23:45:47,975:65224 MainThread run_blocking_tasks: creating executor tasks\n",
      "\n",
      "2020-10-28 23:45:47,976:65224 ThreadPoolExecutor-5_0 (task-0): passed args :[{'KeyDirPath': 'taxonomy_cs/lmt/input/', 'ParentDir': 'input', 'FileName': 'AdvertiserReporting-123_2020-05-11_ford.csv', 'FileGrp': 'AdvertiserReporting-123', 'Date': '2020-05-11', 'ClientName': 'ford', 'Bucket': 'qubole-ford', 'Key': 'taxonomy_cs/lmt/input/AdvertiserReporting-123_2020-05-11_ford.csv', 'LastModified': datetime.datetime(2020, 10, 27, 16, 7, 11, tzinfo=tzlocal()), 'ETag': '\"c752db15b6440fde2ed7c6b6621fd594\"', 'Size': 76, 'StorageClass': 'STANDARD'}]\n",
      "\n",
      "2020-10-28 23:45:47,976:65224 ThreadPoolExecutor-5_1 (task-1): passed args :[{'KeyDirPath': 'taxonomy_cs/lmt/input/', 'ParentDir': 'input', 'FileName': 'AdvertiserReporting_2020-06-01_ford.csv', 'FileGrp': 'AdvertiserReporting', 'Date': '2020-06-01', 'ClientName': 'ford', 'Bucket': 'qubole-ford', 'Key': 'taxonomy_cs/lmt/input/AdvertiserReporting_2020-06-01_ford.csv', 'LastModified': datetime.datetime(2020, 10, 12, 21, 15, 2, tzinfo=tzlocal()), 'ETag': '\"04234605e8b4354998074abae5c74ae9\"', 'Size': 71, 'StorageClass': 'STANDARD'}]\n",
      "\n",
      "2020-10-28 23:45:47,977:65224 ThreadPoolExecutor-5_2 (task-2): passed args :[{'KeyDirPath': 'taxonomy_cs/lmt/input/', 'ParentDir': 'input', 'FileName': 'AdvertiserReporting_2020-06-02_ford.csv', 'FileGrp': 'AdvertiserReporting', 'Date': '2020-06-02', 'ClientName': 'ford', 'Bucket': 'qubole-ford', 'Key': 'taxonomy_cs/lmt/input/AdvertiserReporting_2020-06-02_ford.csv', 'LastModified': datetime.datetime(2020, 10, 12, 21, 15, 2, tzinfo=tzlocal()), 'ETag': '\"f33832d48d54ec287f1b486526c197bf\"', 'Size': 57, 'StorageClass': 'STANDARD'}]\n",
      "\n",
      "2020-10-28 23:45:47,977:65224 ThreadPoolExecutor-5_0 (task-0): running\n",
      "\n",
      "2020-10-28 23:45:47,977:65224 ThreadPoolExecutor-5_3 (task-3): passed args :[{'KeyDirPath': 'taxonomy_cs/lmt/input/', 'ParentDir': 'input', 'FileName': 'AdvertiserReporting_2020-06-03_ford.csv', 'FileGrp': 'AdvertiserReporting', 'Date': '2020-06-03', 'ClientName': 'ford', 'Bucket': 'qubole-ford', 'Key': 'taxonomy_cs/lmt/input/AdvertiserReporting_2020-06-03_ford.csv', 'LastModified': datetime.datetime(2020, 10, 12, 21, 15, 2, tzinfo=tzlocal()), 'ETag': '\"e4432fb96afba25162ecbd89624b93bd\"', 'Size': 72, 'StorageClass': 'STANDARD'}]\n",
      "\n",
      "2020-10-28 23:45:47,978:65224 ThreadPoolExecutor-5_1 (task-1): running\n",
      "\n",
      "2020-10-28 23:45:47,978:65224 ThreadPoolExecutor-5_4 (task-4): passed args :[{'KeyDirPath': 'taxonomy_cs/lmt/input/', 'ParentDir': 'input', 'FileName': 'AdvertiserReporting_2020-06-05_ford.csv', 'FileGrp': 'AdvertiserReporting', 'Date': '2020-06-05', 'ClientName': 'ford', 'Bucket': 'qubole-ford', 'Key': 'taxonomy_cs/lmt/input/AdvertiserReporting_2020-06-05_ford.csv', 'LastModified': datetime.datetime(2020, 10, 27, 14, 14, 56, tzinfo=tzlocal()), 'ETag': '\"e4432fb96afba25162ecbd89624b93bd\"', 'Size': 72, 'StorageClass': 'STANDARD'}]\n",
      "\n",
      "2020-10-28 23:45:47,979:65224 ThreadPoolExecutor-5_2 (task-2): running\n",
      "\n",
      "2020-10-28 23:45:47,979:65224 ThreadPoolExecutor-5_5 (task-5): passed args :[{'KeyDirPath': 'taxonomy_cs/lmt/input/', 'ParentDir': 'input', 'FileName': 'ChannelGrouping_2020-06-01_ford.csv', 'FileGrp': 'ChannelGrouping', 'Date': '2020-06-01', 'ClientName': 'ford', 'Bucket': 'qubole-ford', 'Key': 'taxonomy_cs/lmt/input/ChannelGrouping_2020-06-01_ford.csv', 'LastModified': datetime.datetime(2020, 10, 12, 21, 15, 2, tzinfo=tzlocal()), 'ETag': '\"f6987a7636f122fd412879bdcb51678d\"', 'Size': 53, 'StorageClass': 'STANDARD'}]\n",
      "\n",
      "2020-10-28 23:45:47,980:65224 ThreadPoolExecutor-5_6 (task-6): passed args :[{'KeyDirPath': 'taxonomy_cs/lmt/input/', 'ParentDir': 'input', 'FileName': 'ChannelGrouping_2020-06-02_ford.csv', 'FileGrp': 'ChannelGrouping', 'Date': '2020-06-02', 'ClientName': 'ford', 'Bucket': 'qubole-ford', 'Key': 'taxonomy_cs/lmt/input/ChannelGrouping_2020-06-02_ford.csv', 'LastModified': datetime.datetime(2020, 10, 12, 21, 15, 2, tzinfo=tzlocal()), 'ETag': '\"85765aed716b8ac68c5ba714d1fd62b4\"', 'Size': 45, 'StorageClass': 'STANDARD'}]\n",
      "\n",
      "2020-10-28 23:45:47,980:65224 ThreadPoolExecutor-5_7 (task-7): passed args :[{'KeyDirPath': 'taxonomy_cs/lmt/input/', 'ParentDir': 'input', 'FileName': 'ChannelGrouping_2020-06-03_ford.csv', 'FileGrp': 'ChannelGrouping', 'Date': '2020-06-03', 'ClientName': 'ford', 'Bucket': 'qubole-ford', 'Key': 'taxonomy_cs/lmt/input/ChannelGrouping_2020-06-03_ford.csv', 'LastModified': datetime.datetime(2020, 10, 12, 21, 15, 2, tzinfo=tzlocal()), 'ETag': '\"1b4a36fcd62391d3f1fb7df1472006ec\"', 'Size': 37, 'StorageClass': 'STANDARD'}]\n",
      "\n",
      "2020-10-28 23:45:47,981:65224 MainThread run_blocking_tasks: waiting for executor tasks\n",
      "\n",
      "2020-10-28 23:45:47,988:65224 ThreadPoolExecutor-5_3 (task-3): running\n",
      "\n",
      "2020-10-28 23:45:47,996:65224 ThreadPoolExecutor-5_4 (task-4): running\n",
      "\n",
      "2020-10-28 23:45:48,004:65224 ThreadPoolExecutor-5_5 (task-5): running\n",
      "\n",
      "2020-10-28 23:45:48,005:65224 ThreadPoolExecutor-5_6 (task-6): running\n",
      "\n",
      "2020-10-28 23:45:48,006:65224 ThreadPoolExecutor-5_7 (task-7): running\n",
      "\n",
      "2020-10-28 23:45:48,051:65224 ThreadPoolExecutor-5_0 (task-0): done\n",
      "\n",
      "2020-10-28 23:45:48,052:65224 ThreadPoolExecutor-5_1 (task-1): done\n",
      "\n",
      "2020-10-28 23:45:48,053:65224 ThreadPoolExecutor-5_2 (task-2): done\n",
      "\n",
      "2020-10-28 23:45:48,072:65224 ThreadPoolExecutor-5_3 (task-3): done\n",
      "\n",
      "2020-10-28 23:45:48,073:65224 ThreadPoolExecutor-5_4 (task-4): done\n",
      "\n",
      "2020-10-28 23:45:48,083:65224 ThreadPoolExecutor-5_6 (task-6): done\n",
      "\n",
      "2020-10-28 23:45:48,085:65224 ThreadPoolExecutor-5_7 (task-7): done\n",
      "\n",
      "2020-10-28 23:45:48,091:65224 ThreadPoolExecutor-5_5 (task-5): done\n",
      "\n",
      "2020-10-28 23:45:48,092:65224 MainThread run_blocking_tasks: exiting\n",
      "\n"
     ]
    },
    {
     "data": {
      "text/plain": [
       "{'invalid_files_set': {'s3://qubole-ford/taxonomy_cs/lmt/input/AdvertiserReporting_202-06-04_ford.csv'},\n",
       " 'invalid_schema_files': {('s3://qubole-ford/taxonomy_cs/lmt/input/AdvertiserReporting_2020-06-02_ford.csv',\n",
       "   'ser_key,  target_evt_advertiser_name',\n",
       "   'At least one Key column is required! \\nAll given columns should Key or Target!'),\n",
       "  ('s3://qubole-ford/taxonomy_cs/lmt/input/ChannelGrouping_2020-06-03_ford.csv',\n",
       "   'ource, target_channel',\n",
       "   'At least one Key column is required! \\nAll given columns should Key or Target!')},\n",
       " 'target_already_exist_files': set(),\n",
       " 'schema_tg_dict': {'key_evt_source,target_channel': {'ChannelGrouping'},\n",
       "  'key_evt_advertiser_key,target_evt_advertiser_name': {'AdvertiserReporting'},\n",
       "  'key_evt_advertiser_key_2,target_evt_advertiser_name_2': {'AdvertiserReporting-123'}},\n",
       " 'target_tg_dict': {'target_channel': {'ChannelGrouping'},\n",
       "  'target_evt_advertiser_name': {'AdvertiserReporting'},\n",
       "  'target_evt_advertiser_name_2': {'AdvertiserReporting-123'}},\n",
       " 'new_tg_schema_dict': {'AdvertiserReporting-123': {'key_evt_advertiser_key_2,target_evt_advertiser_name_2'}},\n",
       " 'new_tg_files_dict': {'AdvertiserReporting-123': {'AdvertiserReporting-123_2020-05-11_ford.csv': {'KeyDirPath': 'taxonomy_cs/lmt/input/',\n",
       "    'ParentDir': 'input',\n",
       "    'FileName': 'AdvertiserReporting-123_2020-05-11_ford.csv',\n",
       "    'FileGrp': 'AdvertiserReporting-123',\n",
       "    'Date': '2020-05-11',\n",
       "    'ClientName': 'ford',\n",
       "    'Bucket': 'qubole-ford',\n",
       "    'Key': 'taxonomy_cs/lmt/input/AdvertiserReporting-123_2020-05-11_ford.csv',\n",
       "    'LastModified': datetime.datetime(2020, 10, 27, 16, 7, 11, tzinfo=tzlocal()),\n",
       "    'ETag': '\"c752db15b6440fde2ed7c6b6621fd594\"',\n",
       "    'Size': 76,\n",
       "    'StorageClass': 'STANDARD',\n",
       "    'Schema': 'key_evt_advertiser_key_2,target_evt_advertiser_name_2'}}},\n",
       " 'existing_tg_files_dict': {'ChannelGrouping': {'ChannelGrouping_2020-06-02_ford.csv': {'KeyDirPath': 'taxonomy_cs/lmt/input/',\n",
       "    'ParentDir': 'input',\n",
       "    'FileName': 'ChannelGrouping_2020-06-02_ford.csv',\n",
       "    'FileGrp': 'ChannelGrouping',\n",
       "    'Date': '2020-06-02',\n",
       "    'ClientName': 'ford',\n",
       "    'Bucket': 'qubole-ford',\n",
       "    'Key': 'taxonomy_cs/lmt/input/ChannelGrouping_2020-06-02_ford.csv',\n",
       "    'LastModified': datetime.datetime(2020, 10, 12, 21, 15, 2, tzinfo=tzlocal()),\n",
       "    'ETag': '\"85765aed716b8ac68c5ba714d1fd62b4\"',\n",
       "    'Size': 45,\n",
       "    'StorageClass': 'STANDARD',\n",
       "    'Schema': 'key_evt_source,target_channel'},\n",
       "   'ChannelGrouping_2020-06-01_ford.csv': {'KeyDirPath': 'taxonomy_cs/lmt/input/',\n",
       "    'ParentDir': 'input',\n",
       "    'FileName': 'ChannelGrouping_2020-06-01_ford.csv',\n",
       "    'FileGrp': 'ChannelGrouping',\n",
       "    'Date': '2020-06-01',\n",
       "    'ClientName': 'ford',\n",
       "    'Bucket': 'qubole-ford',\n",
       "    'Key': 'taxonomy_cs/lmt/input/ChannelGrouping_2020-06-01_ford.csv',\n",
       "    'LastModified': datetime.datetime(2020, 10, 12, 21, 15, 2, tzinfo=tzlocal()),\n",
       "    'ETag': '\"f6987a7636f122fd412879bdcb51678d\"',\n",
       "    'Size': 53,\n",
       "    'StorageClass': 'STANDARD',\n",
       "    'Schema': 'key_evt_source,target_channel'}},\n",
       "  'AdvertiserReporting': {'AdvertiserReporting_2020-06-05_ford.csv': {'KeyDirPath': 'taxonomy_cs/lmt/input/',\n",
       "    'ParentDir': 'input',\n",
       "    'FileName': 'AdvertiserReporting_2020-06-05_ford.csv',\n",
       "    'FileGrp': 'AdvertiserReporting',\n",
       "    'Date': '2020-06-05',\n",
       "    'ClientName': 'ford',\n",
       "    'Bucket': 'qubole-ford',\n",
       "    'Key': 'taxonomy_cs/lmt/input/AdvertiserReporting_2020-06-05_ford.csv',\n",
       "    'LastModified': datetime.datetime(2020, 10, 27, 14, 14, 56, tzinfo=tzlocal()),\n",
       "    'ETag': '\"e4432fb96afba25162ecbd89624b93bd\"',\n",
       "    'Size': 72,\n",
       "    'StorageClass': 'STANDARD',\n",
       "    'Schema': 'key_evt_advertiser_key,target_evt_advertiser_name'},\n",
       "   'AdvertiserReporting_2020-06-03_ford.csv': {'KeyDirPath': 'taxonomy_cs/lmt/input/',\n",
       "    'ParentDir': 'input',\n",
       "    'FileName': 'AdvertiserReporting_2020-06-03_ford.csv',\n",
       "    'FileGrp': 'AdvertiserReporting',\n",
       "    'Date': '2020-06-03',\n",
       "    'ClientName': 'ford',\n",
       "    'Bucket': 'qubole-ford',\n",
       "    'Key': 'taxonomy_cs/lmt/input/AdvertiserReporting_2020-06-03_ford.csv',\n",
       "    'LastModified': datetime.datetime(2020, 10, 12, 21, 15, 2, tzinfo=tzlocal()),\n",
       "    'ETag': '\"e4432fb96afba25162ecbd89624b93bd\"',\n",
       "    'Size': 72,\n",
       "    'StorageClass': 'STANDARD',\n",
       "    'Schema': 'key_evt_advertiser_key,target_evt_advertiser_name'},\n",
       "   'AdvertiserReporting_2020-06-01_ford.csv': {'KeyDirPath': 'taxonomy_cs/lmt/input/',\n",
       "    'ParentDir': 'input',\n",
       "    'FileName': 'AdvertiserReporting_2020-06-01_ford.csv',\n",
       "    'FileGrp': 'AdvertiserReporting',\n",
       "    'Date': '2020-06-01',\n",
       "    'ClientName': 'ford',\n",
       "    'Bucket': 'qubole-ford',\n",
       "    'Key': 'taxonomy_cs/lmt/input/AdvertiserReporting_2020-06-01_ford.csv',\n",
       "    'LastModified': datetime.datetime(2020, 10, 12, 21, 15, 2, tzinfo=tzlocal()),\n",
       "    'ETag': '\"04234605e8b4354998074abae5c74ae9\"',\n",
       "    'Size': 71,\n",
       "    'StorageClass': 'STANDARD',\n",
       "    'Schema': 'key_evt_advertiser_key,target_evt_advertiser_name'}}}}"
      ]
     },
     "execution_count": 21,
     "metadata": {},
     "output_type": "execute_result"
    }
   ],
   "source": [
    "lmt_src_loc_detail = s3_ops.get_bucket_name(lmt_src)\n",
    "page_generator = s3_ops.list_gen(lmt_src_loc_detail['bucket'],lmt_src_loc_detail['key'], maxKeysPerReq=12, )\n",
    "list_page = [i for i in page_generator][0]\n",
    "\n",
    "src_list_page_process_task(list_page)"
   ]
  },
  {
   "cell_type": "code",
   "execution_count": 22,
   "metadata": {},
   "outputs": [],
   "source": [
    "def extract_src_detail1():\n",
    "    lmt_src_loc_detail = s3_ops.get_bucket_name(lmt_src)\n",
    "    lmt_src_loc_bucket = lmt_src_loc_detail['bucket']\n",
    "    lmt_src_loc_key = lmt_src_loc_detail['key']\n",
    "    page_generator = s3_ops.list_gen(lmt_src_loc_bucket, lmt_src_loc_key, maxKeysPerReq=3, )\n",
    "    page_args_generator = ([page] for page in page_generator)\n",
    "    #list_page = [i for i in page_generator][0]\n",
    "    collected = NIO.decorated_run_with_args_generator(task=src_list_page_process_task, args_generator=page_args_generator, is_kernal_thread=False,)\n",
    "    return collected\n",
    "\n",
    "\n",
    "def extract_src_detail(maxKeysPerReq=3):\n",
    "    lmt_src_loc_detail = s3_ops.get_bucket_name(lmt_src)\n",
    "    lmt_src_loc_bucket = lmt_src_loc_detail['bucket']\n",
    "    lmt_src_loc_key = lmt_src_loc_detail['key']\n",
    "    page_generator = s3_ops.list_gen(lmt_src_loc_bucket, lmt_src_loc_key, maxKeysPerReq=maxKeysPerReq, )\n",
    "    page_args_generator = ([page] for page in page_generator)\n",
    "    #list_page = [i for i in page_generator][0]\n",
    "    collected = NIO.decorated_run_with_args_generator(task=src_list_page_process_task, args_generator=page_args_generator, is_kernal_thread=True,)\n",
    "    \n",
    "    return {'invalid_files_set' : grouped_set_of_flags(collected, flag_dict_type='invalid_files_set'),\n",
    "            'invalid_schema_files': grouped_set_of_flags(collected, flag_dict_type='invalid_schema_files'),\n",
    "            'target_already_exist_files' : grouped_set_of_flags(collected, flag_dict_type='target_already_exist_files'),\n",
    "            'schema_tg_dict': grouped_set_of_flags_dict(collected, flag_dict_type='schema_tg_dict'),\n",
    "            'target_tg_dict': grouped_set_of_flags_dict(collected, flag_dict_type='target_tg_dict'),\n",
    "            'new_tg_schema_dict': grouped_set_of_flags_dict(collected, flag_dict_type='new_tg_schema_dict'),\n",
    "            'new_tg_files_dict' : grouped_tg(collected, 'new_tg_files_dict'),\n",
    "            'existing_tg_files_dict' : grouped_tg(collected, 'existing_tg_files_dict')\n",
    "               }"
   ]
  },
  {
   "cell_type": "code",
   "execution_count": 23,
   "metadata": {},
   "outputs": [
    {
     "name": "stdout",
     "output_type": "stream",
     "text": [
      "2020-10-28 23:47:58,582:65224 MainThread run_blocking_tasks: starting\n",
      "\n",
      "2020-10-28 23:47:58,583:65224 MainThread run_blocking_tasks: creating executor tasks\n",
      "\n",
      "2020-10-28 23:47:58,629:65224 ThreadPoolExecutor-6_0 (task-0): passed args :[[{'Key': 'taxonomy_cs/lmt/input/AdvertiserReporting-123_2020-05-11_ford.csv', 'LastModified': datetime.datetime(2020, 10, 27, 16, 7, 11, tzinfo=tzlocal()), 'ETag': '\"c752db15b6440fde2ed7c6b6621fd594\"', 'Size': 76, 'StorageClass': 'STANDARD'}, {'Key': 'taxonomy_cs/lmt/input/AdvertiserReporting_202-06-04_ford.csv', 'LastModified': datetime.datetime(2020, 10, 27, 14, 15, 22, tzinfo=tzlocal()), 'ETag': '\"e4432fb96afba25162ecbd89624b93bd\"', 'Size': 72, 'StorageClass': 'STANDARD'}, {'Key': 'taxonomy_cs/lmt/input/AdvertiserReporting_2020-06-01_ford.csv', 'LastModified': datetime.datetime(2020, 10, 12, 21, 15, 2, tzinfo=tzlocal()), 'ETag': '\"04234605e8b4354998074abae5c74ae9\"', 'Size': 71, 'StorageClass': 'STANDARD'}]]\n",
      "\n",
      "2020-10-28 23:47:58,632:65224 ThreadPoolExecutor-6_0 (task-0): running\n",
      "\n",
      "2020-10-28 23:47:58,632:65224 ThreadPoolExecutor-6_0 run_blocking_tasks: starting\n",
      "\n",
      "2020-10-28 23:47:58,633:65224 ThreadPoolExecutor-6_0 run_blocking_tasks: creating executor tasks\n",
      "\n",
      "2020-10-28 23:47:58,633:65224 ThreadPoolExecutor-7_0 (task-0): passed args :[{'KeyDirPath': 'taxonomy_cs/lmt/input/', 'ParentDir': 'input', 'FileName': 'AdvertiserReporting-123_2020-05-11_ford.csv', 'FileGrp': 'AdvertiserReporting-123', 'Date': '2020-05-11', 'ClientName': 'ford', 'Bucket': 'qubole-ford', 'Key': 'taxonomy_cs/lmt/input/AdvertiserReporting-123_2020-05-11_ford.csv', 'LastModified': datetime.datetime(2020, 10, 27, 16, 7, 11, tzinfo=tzlocal()), 'ETag': '\"c752db15b6440fde2ed7c6b6621fd594\"', 'Size': 76, 'StorageClass': 'STANDARD'}]\n",
      "\n",
      "2020-10-28 23:47:58,634:65224 ThreadPoolExecutor-7_1 (task-1): passed args :[{'KeyDirPath': 'taxonomy_cs/lmt/input/', 'ParentDir': 'input', 'FileName': 'AdvertiserReporting_2020-06-01_ford.csv', 'FileGrp': 'AdvertiserReporting', 'Date': '2020-06-01', 'ClientName': 'ford', 'Bucket': 'qubole-ford', 'Key': 'taxonomy_cs/lmt/input/AdvertiserReporting_2020-06-01_ford.csv', 'LastModified': datetime.datetime(2020, 10, 12, 21, 15, 2, tzinfo=tzlocal()), 'ETag': '\"04234605e8b4354998074abae5c74ae9\"', 'Size': 71, 'StorageClass': 'STANDARD'}]\n",
      "\n",
      "2020-10-28 23:47:58,634:65224 ThreadPoolExecutor-6_0 run_blocking_tasks: waiting for executor tasks\n",
      "\n",
      "2020-10-28 23:47:58,634:65224 ThreadPoolExecutor-7_0 (task-0): running\n",
      "\n",
      "2020-10-28 23:47:58,636:65224 ThreadPoolExecutor-7_1 (task-1): running\n",
      "\n",
      "2020-10-28 23:47:58,652:65224 ThreadPoolExecutor-6_1 (task-1): passed args :[[{'Key': 'taxonomy_cs/lmt/input/AdvertiserReporting_2020-06-02_ford.csv', 'LastModified': datetime.datetime(2020, 10, 12, 21, 15, 2, tzinfo=tzlocal()), 'ETag': '\"f33832d48d54ec287f1b486526c197bf\"', 'Size': 57, 'StorageClass': 'STANDARD'}, {'Key': 'taxonomy_cs/lmt/input/AdvertiserReporting_2020-06-03_ford.csv', 'LastModified': datetime.datetime(2020, 10, 12, 21, 15, 2, tzinfo=tzlocal()), 'ETag': '\"e4432fb96afba25162ecbd89624b93bd\"', 'Size': 72, 'StorageClass': 'STANDARD'}, {'Key': 'taxonomy_cs/lmt/input/AdvertiserReporting_2020-06-05_ford.csv', 'LastModified': datetime.datetime(2020, 10, 27, 14, 14, 56, tzinfo=tzlocal()), 'ETag': '\"e4432fb96afba25162ecbd89624b93bd\"', 'Size': 72, 'StorageClass': 'STANDARD'}]]\n",
      "\n",
      "2020-10-28 23:47:58,654:65224 ThreadPoolExecutor-6_1 (task-1): running\n",
      "\n",
      "2020-10-28 23:47:58,656:65224 ThreadPoolExecutor-6_1 run_blocking_tasks: starting\n",
      "\n",
      "2020-10-28 23:47:58,656:65224 ThreadPoolExecutor-6_1 run_blocking_tasks: creating executor tasks\n",
      "\n",
      "2020-10-28 23:47:58,658:65224 ThreadPoolExecutor-8_0 (task-0): passed args :[{'KeyDirPath': 'taxonomy_cs/lmt/input/', 'ParentDir': 'input', 'FileName': 'AdvertiserReporting_2020-06-02_ford.csv', 'FileGrp': 'AdvertiserReporting', 'Date': '2020-06-02', 'ClientName': 'ford', 'Bucket': 'qubole-ford', 'Key': 'taxonomy_cs/lmt/input/AdvertiserReporting_2020-06-02_ford.csv', 'LastModified': datetime.datetime(2020, 10, 12, 21, 15, 2, tzinfo=tzlocal()), 'ETag': '\"f33832d48d54ec287f1b486526c197bf\"', 'Size': 57, 'StorageClass': 'STANDARD'}]\n",
      "\n",
      "2020-10-28 23:47:58,659:65224 ThreadPoolExecutor-8_1 (task-1): passed args :[{'KeyDirPath': 'taxonomy_cs/lmt/input/', 'ParentDir': 'input', 'FileName': 'AdvertiserReporting_2020-06-03_ford.csv', 'FileGrp': 'AdvertiserReporting', 'Date': '2020-06-03', 'ClientName': 'ford', 'Bucket': 'qubole-ford', 'Key': 'taxonomy_cs/lmt/input/AdvertiserReporting_2020-06-03_ford.csv', 'LastModified': datetime.datetime(2020, 10, 12, 21, 15, 2, tzinfo=tzlocal()), 'ETag': '\"e4432fb96afba25162ecbd89624b93bd\"', 'Size': 72, 'StorageClass': 'STANDARD'}]\n",
      "\n",
      "2020-10-28 23:47:58,659:65224 ThreadPoolExecutor-8_0 (task-0): running\n",
      "\n",
      "2020-10-28 23:47:58,659:65224 ThreadPoolExecutor-8_2 (task-2): passed args :[{'KeyDirPath': 'taxonomy_cs/lmt/input/', 'ParentDir': 'input', 'FileName': 'AdvertiserReporting_2020-06-05_ford.csv', 'FileGrp': 'AdvertiserReporting', 'Date': '2020-06-05', 'ClientName': 'ford', 'Bucket': 'qubole-ford', 'Key': 'taxonomy_cs/lmt/input/AdvertiserReporting_2020-06-05_ford.csv', 'LastModified': datetime.datetime(2020, 10, 27, 14, 14, 56, tzinfo=tzlocal()), 'ETag': '\"e4432fb96afba25162ecbd89624b93bd\"', 'Size': 72, 'StorageClass': 'STANDARD'}]\n",
      "\n",
      "2020-10-28 23:47:58,660:65224 ThreadPoolExecutor-6_1 run_blocking_tasks: waiting for executor tasks\n",
      "\n",
      "2020-10-28 23:47:58,661:65224 ThreadPoolExecutor-8_1 (task-1): running\n",
      "\n",
      "2020-10-28 23:47:58,669:65224 ThreadPoolExecutor-8_2 (task-2): running\n",
      "\n",
      "2020-10-28 23:47:58,671:65224 ThreadPoolExecutor-6_2 (task-2): passed args :[[{'Key': 'taxonomy_cs/lmt/input/ChannelGrouping_2020-06-01_ford.csv', 'LastModified': datetime.datetime(2020, 10, 12, 21, 15, 2, tzinfo=tzlocal()), 'ETag': '\"f6987a7636f122fd412879bdcb51678d\"', 'Size': 53, 'StorageClass': 'STANDARD'}, {'Key': 'taxonomy_cs/lmt/input/ChannelGrouping_2020-06-02_ford.csv', 'LastModified': datetime.datetime(2020, 10, 12, 21, 15, 2, tzinfo=tzlocal()), 'ETag': '\"85765aed716b8ac68c5ba714d1fd62b4\"', 'Size': 45, 'StorageClass': 'STANDARD'}, {'Key': 'taxonomy_cs/lmt/input/ChannelGrouping_2020-06-03_ford.csv', 'LastModified': datetime.datetime(2020, 10, 12, 21, 15, 2, tzinfo=tzlocal()), 'ETag': '\"1b4a36fcd62391d3f1fb7df1472006ec\"', 'Size': 37, 'StorageClass': 'STANDARD'}]]\n",
      "\n",
      "2020-10-28 23:47:58,673:65224 MainThread run_blocking_tasks: waiting for executor tasks\n",
      "\n",
      "2020-10-28 23:47:58,675:65224 ThreadPoolExecutor-7_0 (task-0): done\n",
      "\n",
      "2020-10-28 23:47:58,690:65224 ThreadPoolExecutor-6_2 (task-2): running\n",
      "\n",
      "2020-10-28 23:47:58,693:65224 ThreadPoolExecutor-6_2 run_blocking_tasks: starting\n",
      "\n",
      "2020-10-28 23:47:58,694:65224 ThreadPoolExecutor-6_2 run_blocking_tasks: creating executor tasks\n",
      "\n",
      "2020-10-28 23:47:58,695:65224 ThreadPoolExecutor-9_0 (task-0): passed args :[{'KeyDirPath': 'taxonomy_cs/lmt/input/', 'ParentDir': 'input', 'FileName': 'ChannelGrouping_2020-06-01_ford.csv', 'FileGrp': 'ChannelGrouping', 'Date': '2020-06-01', 'ClientName': 'ford', 'Bucket': 'qubole-ford', 'Key': 'taxonomy_cs/lmt/input/ChannelGrouping_2020-06-01_ford.csv', 'LastModified': datetime.datetime(2020, 10, 12, 21, 15, 2, tzinfo=tzlocal()), 'ETag': '\"f6987a7636f122fd412879bdcb51678d\"', 'Size': 53, 'StorageClass': 'STANDARD'}]\n",
      "\n",
      "2020-10-28 23:47:58,696:65224 ThreadPoolExecutor-9_1 (task-1): passed args :[{'KeyDirPath': 'taxonomy_cs/lmt/input/', 'ParentDir': 'input', 'FileName': 'ChannelGrouping_2020-06-02_ford.csv', 'FileGrp': 'ChannelGrouping', 'Date': '2020-06-02', 'ClientName': 'ford', 'Bucket': 'qubole-ford', 'Key': 'taxonomy_cs/lmt/input/ChannelGrouping_2020-06-02_ford.csv', 'LastModified': datetime.datetime(2020, 10, 12, 21, 15, 2, tzinfo=tzlocal()), 'ETag': '\"85765aed716b8ac68c5ba714d1fd62b4\"', 'Size': 45, 'StorageClass': 'STANDARD'}]\n",
      "\n",
      "2020-10-28 23:47:58,696:65224 ThreadPoolExecutor-9_0 (task-0): running\n",
      "\n",
      "2020-10-28 23:47:58,697:65224 ThreadPoolExecutor-9_2 (task-2): passed args :[{'KeyDirPath': 'taxonomy_cs/lmt/input/', 'ParentDir': 'input', 'FileName': 'ChannelGrouping_2020-06-03_ford.csv', 'FileGrp': 'ChannelGrouping', 'Date': '2020-06-03', 'ClientName': 'ford', 'Bucket': 'qubole-ford', 'Key': 'taxonomy_cs/lmt/input/ChannelGrouping_2020-06-03_ford.csv', 'LastModified': datetime.datetime(2020, 10, 12, 21, 15, 2, tzinfo=tzlocal()), 'ETag': '\"1b4a36fcd62391d3f1fb7df1472006ec\"', 'Size': 37, 'StorageClass': 'STANDARD'}]\n",
      "\n"
     ]
    },
    {
     "name": "stdout",
     "output_type": "stream",
     "text": [
      "2020-10-28 23:47:58,697:65224 ThreadPoolExecutor-6_2 run_blocking_tasks: waiting for executor tasks\n",
      "\n",
      "2020-10-28 23:47:58,698:65224 ThreadPoolExecutor-9_1 (task-1): running\n",
      "\n",
      "2020-10-28 23:47:58,705:65224 ThreadPoolExecutor-9_2 (task-2): running\n",
      "\n",
      "2020-10-28 23:47:58,709:65224 ThreadPoolExecutor-7_1 (task-1): done\n",
      "\n",
      "2020-10-28 23:47:58,723:65224 ThreadPoolExecutor-8_0 (task-0): done\n",
      "\n",
      "2020-10-28 23:47:58,732:65224 ThreadPoolExecutor-8_2 (task-2): done\n",
      "\n",
      "2020-10-28 23:47:58,733:65224 ThreadPoolExecutor-6_0 run_blocking_tasks: exiting\n",
      "\n",
      "2020-10-28 23:47:58,736:65224 ThreadPoolExecutor-6_0 (task-0): done\n",
      "\n",
      "2020-10-28 23:47:58,744:65224 ThreadPoolExecutor-9_0 (task-0): done\n",
      "\n",
      "2020-10-28 23:47:58,763:65224 ThreadPoolExecutor-9_1 (task-1): done\n",
      "\n",
      "2020-10-28 23:47:58,772:65224 ThreadPoolExecutor-9_2 (task-2): done\n",
      "\n",
      "2020-10-28 23:47:58,773:65224 ThreadPoolExecutor-6_2 run_blocking_tasks: exiting\n",
      "\n",
      "2020-10-28 23:47:58,774:65224 ThreadPoolExecutor-6_2 (task-2): done\n",
      "\n",
      "2020-10-28 23:47:58,948:65224 ThreadPoolExecutor-8_1 (task-1): done\n",
      "\n",
      "2020-10-28 23:47:58,949:65224 ThreadPoolExecutor-6_1 run_blocking_tasks: exiting\n",
      "\n",
      "2020-10-28 23:47:58,950:65224 ThreadPoolExecutor-6_1 (task-1): done\n",
      "\n",
      "2020-10-28 23:47:58,952:65224 MainThread run_blocking_tasks: exiting\n",
      "\n"
     ]
    },
    {
     "data": {
      "text/plain": [
       "[{'id': 'task-0',\n",
       "  'task': <function __main__.src_list_page_process_task(list_page)>,\n",
       "  'args': [[{'Key': 'taxonomy_cs/lmt/input/AdvertiserReporting-123_2020-05-11_ford.csv',\n",
       "     'LastModified': datetime.datetime(2020, 10, 27, 16, 7, 11, tzinfo=tzlocal()),\n",
       "     'ETag': '\"c752db15b6440fde2ed7c6b6621fd594\"',\n",
       "     'Size': 76,\n",
       "     'StorageClass': 'STANDARD'},\n",
       "    {'Key': 'taxonomy_cs/lmt/input/AdvertiserReporting_202-06-04_ford.csv',\n",
       "     'LastModified': datetime.datetime(2020, 10, 27, 14, 15, 22, tzinfo=tzlocal()),\n",
       "     'ETag': '\"e4432fb96afba25162ecbd89624b93bd\"',\n",
       "     'Size': 72,\n",
       "     'StorageClass': 'STANDARD'},\n",
       "    {'Key': 'taxonomy_cs/lmt/input/AdvertiserReporting_2020-06-01_ford.csv',\n",
       "     'LastModified': datetime.datetime(2020, 10, 12, 21, 15, 2, tzinfo=tzlocal()),\n",
       "     'ETag': '\"04234605e8b4354998074abae5c74ae9\"',\n",
       "     'Size': 71,\n",
       "     'StorageClass': 'STANDARD'}]],\n",
       "  'result': {'invalid_files_set': {'s3://qubole-ford/taxonomy_cs/lmt/input/AdvertiserReporting_202-06-04_ford.csv'},\n",
       "   'invalid_schema_files': set(),\n",
       "   'target_already_exist_files': set(),\n",
       "   'schema_tg_dict': {'key_evt_advertiser_key,target_evt_advertiser_name': {'AdvertiserReporting'},\n",
       "    'key_evt_advertiser_key_2,target_evt_advertiser_name_2': {'AdvertiserReporting-123'}},\n",
       "   'target_tg_dict': {'target_evt_advertiser_name': {'AdvertiserReporting'},\n",
       "    'target_evt_advertiser_name_2': {'AdvertiserReporting-123'}},\n",
       "   'new_tg_schema_dict': {'AdvertiserReporting-123': {'key_evt_advertiser_key_2,target_evt_advertiser_name_2'}},\n",
       "   'new_tg_files_dict': {'AdvertiserReporting-123': {'AdvertiserReporting-123_2020-05-11_ford.csv': {'KeyDirPath': 'taxonomy_cs/lmt/input/',\n",
       "      'ParentDir': 'input',\n",
       "      'FileName': 'AdvertiserReporting-123_2020-05-11_ford.csv',\n",
       "      'FileGrp': 'AdvertiserReporting-123',\n",
       "      'Date': '2020-05-11',\n",
       "      'ClientName': 'ford',\n",
       "      'Bucket': 'qubole-ford',\n",
       "      'Key': 'taxonomy_cs/lmt/input/AdvertiserReporting-123_2020-05-11_ford.csv',\n",
       "      'LastModified': datetime.datetime(2020, 10, 27, 16, 7, 11, tzinfo=tzlocal()),\n",
       "      'ETag': '\"c752db15b6440fde2ed7c6b6621fd594\"',\n",
       "      'Size': 76,\n",
       "      'StorageClass': 'STANDARD',\n",
       "      'Schema': 'key_evt_advertiser_key_2,target_evt_advertiser_name_2'}}},\n",
       "   'existing_tg_files_dict': {'AdvertiserReporting': {'AdvertiserReporting_2020-06-01_ford.csv': {'KeyDirPath': 'taxonomy_cs/lmt/input/',\n",
       "      'ParentDir': 'input',\n",
       "      'FileName': 'AdvertiserReporting_2020-06-01_ford.csv',\n",
       "      'FileGrp': 'AdvertiserReporting',\n",
       "      'Date': '2020-06-01',\n",
       "      'ClientName': 'ford',\n",
       "      'Bucket': 'qubole-ford',\n",
       "      'Key': 'taxonomy_cs/lmt/input/AdvertiserReporting_2020-06-01_ford.csv',\n",
       "      'LastModified': datetime.datetime(2020, 10, 12, 21, 15, 2, tzinfo=tzlocal()),\n",
       "      'ETag': '\"04234605e8b4354998074abae5c74ae9\"',\n",
       "      'Size': 71,\n",
       "      'StorageClass': 'STANDARD',\n",
       "      'Schema': 'key_evt_advertiser_key,target_evt_advertiser_name'}}}},\n",
       "  'error': None},\n",
       " {'id': 'task-1',\n",
       "  'task': <function __main__.src_list_page_process_task(list_page)>,\n",
       "  'args': [[{'Key': 'taxonomy_cs/lmt/input/AdvertiserReporting_2020-06-02_ford.csv',\n",
       "     'LastModified': datetime.datetime(2020, 10, 12, 21, 15, 2, tzinfo=tzlocal()),\n",
       "     'ETag': '\"f33832d48d54ec287f1b486526c197bf\"',\n",
       "     'Size': 57,\n",
       "     'StorageClass': 'STANDARD'},\n",
       "    {'Key': 'taxonomy_cs/lmt/input/AdvertiserReporting_2020-06-03_ford.csv',\n",
       "     'LastModified': datetime.datetime(2020, 10, 12, 21, 15, 2, tzinfo=tzlocal()),\n",
       "     'ETag': '\"e4432fb96afba25162ecbd89624b93bd\"',\n",
       "     'Size': 72,\n",
       "     'StorageClass': 'STANDARD'},\n",
       "    {'Key': 'taxonomy_cs/lmt/input/AdvertiserReporting_2020-06-05_ford.csv',\n",
       "     'LastModified': datetime.datetime(2020, 10, 27, 14, 14, 56, tzinfo=tzlocal()),\n",
       "     'ETag': '\"e4432fb96afba25162ecbd89624b93bd\"',\n",
       "     'Size': 72,\n",
       "     'StorageClass': 'STANDARD'}]],\n",
       "  'result': {'invalid_files_set': set(),\n",
       "   'invalid_schema_files': {('s3://qubole-ford/taxonomy_cs/lmt/input/AdvertiserReporting_2020-06-02_ford.csv',\n",
       "     'ser_key,  target_evt_advertiser_name',\n",
       "     'At least one Key column is required! \\nAll given columns should Key or Target!')},\n",
       "   'target_already_exist_files': set(),\n",
       "   'schema_tg_dict': {'key_evt_advertiser_key,target_evt_advertiser_name': {'AdvertiserReporting'}},\n",
       "   'target_tg_dict': {'target_evt_advertiser_name': {'AdvertiserReporting'}},\n",
       "   'new_tg_schema_dict': {},\n",
       "   'new_tg_files_dict': {},\n",
       "   'existing_tg_files_dict': {'AdvertiserReporting': {'AdvertiserReporting_2020-06-03_ford.csv': {'KeyDirPath': 'taxonomy_cs/lmt/input/',\n",
       "      'ParentDir': 'input',\n",
       "      'FileName': 'AdvertiserReporting_2020-06-03_ford.csv',\n",
       "      'FileGrp': 'AdvertiserReporting',\n",
       "      'Date': '2020-06-03',\n",
       "      'ClientName': 'ford',\n",
       "      'Bucket': 'qubole-ford',\n",
       "      'Key': 'taxonomy_cs/lmt/input/AdvertiserReporting_2020-06-03_ford.csv',\n",
       "      'LastModified': datetime.datetime(2020, 10, 12, 21, 15, 2, tzinfo=tzlocal()),\n",
       "      'ETag': '\"e4432fb96afba25162ecbd89624b93bd\"',\n",
       "      'Size': 72,\n",
       "      'StorageClass': 'STANDARD',\n",
       "      'Schema': 'key_evt_advertiser_key,target_evt_advertiser_name'},\n",
       "     'AdvertiserReporting_2020-06-05_ford.csv': {'KeyDirPath': 'taxonomy_cs/lmt/input/',\n",
       "      'ParentDir': 'input',\n",
       "      'FileName': 'AdvertiserReporting_2020-06-05_ford.csv',\n",
       "      'FileGrp': 'AdvertiserReporting',\n",
       "      'Date': '2020-06-05',\n",
       "      'ClientName': 'ford',\n",
       "      'Bucket': 'qubole-ford',\n",
       "      'Key': 'taxonomy_cs/lmt/input/AdvertiserReporting_2020-06-05_ford.csv',\n",
       "      'LastModified': datetime.datetime(2020, 10, 27, 14, 14, 56, tzinfo=tzlocal()),\n",
       "      'ETag': '\"e4432fb96afba25162ecbd89624b93bd\"',\n",
       "      'Size': 72,\n",
       "      'StorageClass': 'STANDARD',\n",
       "      'Schema': 'key_evt_advertiser_key,target_evt_advertiser_name'}}}},\n",
       "  'error': None},\n",
       " {'id': 'task-2',\n",
       "  'task': <function __main__.src_list_page_process_task(list_page)>,\n",
       "  'args': [[{'Key': 'taxonomy_cs/lmt/input/ChannelGrouping_2020-06-01_ford.csv',\n",
       "     'LastModified': datetime.datetime(2020, 10, 12, 21, 15, 2, tzinfo=tzlocal()),\n",
       "     'ETag': '\"f6987a7636f122fd412879bdcb51678d\"',\n",
       "     'Size': 53,\n",
       "     'StorageClass': 'STANDARD'},\n",
       "    {'Key': 'taxonomy_cs/lmt/input/ChannelGrouping_2020-06-02_ford.csv',\n",
       "     'LastModified': datetime.datetime(2020, 10, 12, 21, 15, 2, tzinfo=tzlocal()),\n",
       "     'ETag': '\"85765aed716b8ac68c5ba714d1fd62b4\"',\n",
       "     'Size': 45,\n",
       "     'StorageClass': 'STANDARD'},\n",
       "    {'Key': 'taxonomy_cs/lmt/input/ChannelGrouping_2020-06-03_ford.csv',\n",
       "     'LastModified': datetime.datetime(2020, 10, 12, 21, 15, 2, tzinfo=tzlocal()),\n",
       "     'ETag': '\"1b4a36fcd62391d3f1fb7df1472006ec\"',\n",
       "     'Size': 37,\n",
       "     'StorageClass': 'STANDARD'}]],\n",
       "  'result': {'invalid_files_set': set(),\n",
       "   'invalid_schema_files': {('s3://qubole-ford/taxonomy_cs/lmt/input/ChannelGrouping_2020-06-03_ford.csv',\n",
       "     'ource, target_channel',\n",
       "     'At least one Key column is required! \\nAll given columns should Key or Target!')},\n",
       "   'target_already_exist_files': set(),\n",
       "   'schema_tg_dict': {'key_evt_source,target_channel': {'ChannelGrouping'}},\n",
       "   'target_tg_dict': {'target_channel': {'ChannelGrouping'}},\n",
       "   'new_tg_schema_dict': {},\n",
       "   'new_tg_files_dict': {},\n",
       "   'existing_tg_files_dict': {'ChannelGrouping': {'ChannelGrouping_2020-06-01_ford.csv': {'KeyDirPath': 'taxonomy_cs/lmt/input/',\n",
       "      'ParentDir': 'input',\n",
       "      'FileName': 'ChannelGrouping_2020-06-01_ford.csv',\n",
       "      'FileGrp': 'ChannelGrouping',\n",
       "      'Date': '2020-06-01',\n",
       "      'ClientName': 'ford',\n",
       "      'Bucket': 'qubole-ford',\n",
       "      'Key': 'taxonomy_cs/lmt/input/ChannelGrouping_2020-06-01_ford.csv',\n",
       "      'LastModified': datetime.datetime(2020, 10, 12, 21, 15, 2, tzinfo=tzlocal()),\n",
       "      'ETag': '\"f6987a7636f122fd412879bdcb51678d\"',\n",
       "      'Size': 53,\n",
       "      'StorageClass': 'STANDARD',\n",
       "      'Schema': 'key_evt_source,target_channel'},\n",
       "     'ChannelGrouping_2020-06-02_ford.csv': {'KeyDirPath': 'taxonomy_cs/lmt/input/',\n",
       "      'ParentDir': 'input',\n",
       "      'FileName': 'ChannelGrouping_2020-06-02_ford.csv',\n",
       "      'FileGrp': 'ChannelGrouping',\n",
       "      'Date': '2020-06-02',\n",
       "      'ClientName': 'ford',\n",
       "      'Bucket': 'qubole-ford',\n",
       "      'Key': 'taxonomy_cs/lmt/input/ChannelGrouping_2020-06-02_ford.csv',\n",
       "      'LastModified': datetime.datetime(2020, 10, 12, 21, 15, 2, tzinfo=tzlocal()),\n",
       "      'ETag': '\"85765aed716b8ac68c5ba714d1fd62b4\"',\n",
       "      'Size': 45,\n",
       "      'StorageClass': 'STANDARD',\n",
       "      'Schema': 'key_evt_source,target_channel'}}}},\n",
       "  'error': None}]"
      ]
     },
     "execution_count": 23,
     "metadata": {},
     "output_type": "execute_result"
    }
   ],
   "source": [
    "res432 = extract_src_detail1()\n",
    "res432"
   ]
  },
  {
   "cell_type": "code",
   "execution_count": 24,
   "metadata": {},
   "outputs": [
    {
     "data": {
      "text/plain": [
       "3"
      ]
     },
     "execution_count": 24,
     "metadata": {},
     "output_type": "execute_result"
    }
   ],
   "source": [
    "len(res432)"
   ]
  },
  {
   "cell_type": "code",
   "execution_count": 25,
   "metadata": {},
   "outputs": [
    {
     "data": {
      "text/plain": [
       "[{'invalid_files_set': {'s3://qubole-ford/taxonomy_cs/lmt/input/AdvertiserReporting_202-06-04_ford.csv'},\n",
       "  'invalid_schema_files': set(),\n",
       "  'target_already_exist_files': set(),\n",
       "  'schema_tg_dict': {'key_evt_advertiser_key,target_evt_advertiser_name': {'AdvertiserReporting'},\n",
       "   'key_evt_advertiser_key_2,target_evt_advertiser_name_2': {'AdvertiserReporting-123'}},\n",
       "  'target_tg_dict': {'target_evt_advertiser_name': {'AdvertiserReporting'},\n",
       "   'target_evt_advertiser_name_2': {'AdvertiserReporting-123'}},\n",
       "  'new_tg_schema_dict': {'AdvertiserReporting-123': {'key_evt_advertiser_key_2,target_evt_advertiser_name_2'}},\n",
       "  'new_tg_files_dict': {'AdvertiserReporting-123': {'AdvertiserReporting-123_2020-05-11_ford.csv': {'KeyDirPath': 'taxonomy_cs/lmt/input/',\n",
       "     'ParentDir': 'input',\n",
       "     'FileName': 'AdvertiserReporting-123_2020-05-11_ford.csv',\n",
       "     'FileGrp': 'AdvertiserReporting-123',\n",
       "     'Date': '2020-05-11',\n",
       "     'ClientName': 'ford',\n",
       "     'Bucket': 'qubole-ford',\n",
       "     'Key': 'taxonomy_cs/lmt/input/AdvertiserReporting-123_2020-05-11_ford.csv',\n",
       "     'LastModified': datetime.datetime(2020, 10, 27, 16, 7, 11, tzinfo=tzlocal()),\n",
       "     'ETag': '\"c752db15b6440fde2ed7c6b6621fd594\"',\n",
       "     'Size': 76,\n",
       "     'StorageClass': 'STANDARD',\n",
       "     'Schema': 'key_evt_advertiser_key_2,target_evt_advertiser_name_2'}}},\n",
       "  'existing_tg_files_dict': {'AdvertiserReporting': {'AdvertiserReporting_2020-06-01_ford.csv': {'KeyDirPath': 'taxonomy_cs/lmt/input/',\n",
       "     'ParentDir': 'input',\n",
       "     'FileName': 'AdvertiserReporting_2020-06-01_ford.csv',\n",
       "     'FileGrp': 'AdvertiserReporting',\n",
       "     'Date': '2020-06-01',\n",
       "     'ClientName': 'ford',\n",
       "     'Bucket': 'qubole-ford',\n",
       "     'Key': 'taxonomy_cs/lmt/input/AdvertiserReporting_2020-06-01_ford.csv',\n",
       "     'LastModified': datetime.datetime(2020, 10, 12, 21, 15, 2, tzinfo=tzlocal()),\n",
       "     'ETag': '\"04234605e8b4354998074abae5c74ae9\"',\n",
       "     'Size': 71,\n",
       "     'StorageClass': 'STANDARD',\n",
       "     'Schema': 'key_evt_advertiser_key,target_evt_advertiser_name'}}}},\n",
       " {'invalid_files_set': set(),\n",
       "  'invalid_schema_files': {('s3://qubole-ford/taxonomy_cs/lmt/input/AdvertiserReporting_2020-06-02_ford.csv',\n",
       "    'ser_key,  target_evt_advertiser_name',\n",
       "    'At least one Key column is required! \\nAll given columns should Key or Target!')},\n",
       "  'target_already_exist_files': set(),\n",
       "  'schema_tg_dict': {'key_evt_advertiser_key,target_evt_advertiser_name': {'AdvertiserReporting'}},\n",
       "  'target_tg_dict': {'target_evt_advertiser_name': {'AdvertiserReporting'}},\n",
       "  'new_tg_schema_dict': {},\n",
       "  'new_tg_files_dict': {},\n",
       "  'existing_tg_files_dict': {'AdvertiserReporting': {'AdvertiserReporting_2020-06-03_ford.csv': {'KeyDirPath': 'taxonomy_cs/lmt/input/',\n",
       "     'ParentDir': 'input',\n",
       "     'FileName': 'AdvertiserReporting_2020-06-03_ford.csv',\n",
       "     'FileGrp': 'AdvertiserReporting',\n",
       "     'Date': '2020-06-03',\n",
       "     'ClientName': 'ford',\n",
       "     'Bucket': 'qubole-ford',\n",
       "     'Key': 'taxonomy_cs/lmt/input/AdvertiserReporting_2020-06-03_ford.csv',\n",
       "     'LastModified': datetime.datetime(2020, 10, 12, 21, 15, 2, tzinfo=tzlocal()),\n",
       "     'ETag': '\"e4432fb96afba25162ecbd89624b93bd\"',\n",
       "     'Size': 72,\n",
       "     'StorageClass': 'STANDARD',\n",
       "     'Schema': 'key_evt_advertiser_key,target_evt_advertiser_name'},\n",
       "    'AdvertiserReporting_2020-06-05_ford.csv': {'KeyDirPath': 'taxonomy_cs/lmt/input/',\n",
       "     'ParentDir': 'input',\n",
       "     'FileName': 'AdvertiserReporting_2020-06-05_ford.csv',\n",
       "     'FileGrp': 'AdvertiserReporting',\n",
       "     'Date': '2020-06-05',\n",
       "     'ClientName': 'ford',\n",
       "     'Bucket': 'qubole-ford',\n",
       "     'Key': 'taxonomy_cs/lmt/input/AdvertiserReporting_2020-06-05_ford.csv',\n",
       "     'LastModified': datetime.datetime(2020, 10, 27, 14, 14, 56, tzinfo=tzlocal()),\n",
       "     'ETag': '\"e4432fb96afba25162ecbd89624b93bd\"',\n",
       "     'Size': 72,\n",
       "     'StorageClass': 'STANDARD',\n",
       "     'Schema': 'key_evt_advertiser_key,target_evt_advertiser_name'}}}},\n",
       " {'invalid_files_set': set(),\n",
       "  'invalid_schema_files': {('s3://qubole-ford/taxonomy_cs/lmt/input/ChannelGrouping_2020-06-03_ford.csv',\n",
       "    'ource, target_channel',\n",
       "    'At least one Key column is required! \\nAll given columns should Key or Target!')},\n",
       "  'target_already_exist_files': set(),\n",
       "  'schema_tg_dict': {'key_evt_source,target_channel': {'ChannelGrouping'}},\n",
       "  'target_tg_dict': {'target_channel': {'ChannelGrouping'}},\n",
       "  'new_tg_schema_dict': {},\n",
       "  'new_tg_files_dict': {},\n",
       "  'existing_tg_files_dict': {'ChannelGrouping': {'ChannelGrouping_2020-06-01_ford.csv': {'KeyDirPath': 'taxonomy_cs/lmt/input/',\n",
       "     'ParentDir': 'input',\n",
       "     'FileName': 'ChannelGrouping_2020-06-01_ford.csv',\n",
       "     'FileGrp': 'ChannelGrouping',\n",
       "     'Date': '2020-06-01',\n",
       "     'ClientName': 'ford',\n",
       "     'Bucket': 'qubole-ford',\n",
       "     'Key': 'taxonomy_cs/lmt/input/ChannelGrouping_2020-06-01_ford.csv',\n",
       "     'LastModified': datetime.datetime(2020, 10, 12, 21, 15, 2, tzinfo=tzlocal()),\n",
       "     'ETag': '\"f6987a7636f122fd412879bdcb51678d\"',\n",
       "     'Size': 53,\n",
       "     'StorageClass': 'STANDARD',\n",
       "     'Schema': 'key_evt_source,target_channel'},\n",
       "    'ChannelGrouping_2020-06-02_ford.csv': {'KeyDirPath': 'taxonomy_cs/lmt/input/',\n",
       "     'ParentDir': 'input',\n",
       "     'FileName': 'ChannelGrouping_2020-06-02_ford.csv',\n",
       "     'FileGrp': 'ChannelGrouping',\n",
       "     'Date': '2020-06-02',\n",
       "     'ClientName': 'ford',\n",
       "     'Bucket': 'qubole-ford',\n",
       "     'Key': 'taxonomy_cs/lmt/input/ChannelGrouping_2020-06-02_ford.csv',\n",
       "     'LastModified': datetime.datetime(2020, 10, 12, 21, 15, 2, tzinfo=tzlocal()),\n",
       "     'ETag': '\"85765aed716b8ac68c5ba714d1fd62b4\"',\n",
       "     'Size': 45,\n",
       "     'StorageClass': 'STANDARD',\n",
       "     'Schema': 'key_evt_source,target_channel'}}}}]"
      ]
     },
     "execution_count": 25,
     "metadata": {},
     "output_type": "execute_result"
    }
   ],
   "source": [
    "[ i['result'] for i in res432]"
   ]
  },
  {
   "cell_type": "code",
   "execution_count": 26,
   "metadata": {},
   "outputs": [
    {
     "data": {
      "text/plain": [
       "{'key_evt_advertiser_key,target_evt_advertiser_name': {'AdvertiserReporting'},\n",
       " 'key_evt_advertiser_key_2,target_evt_advertiser_name_2': {'AdvertiserReporting-123'},\n",
       " 'key_evt_source,target_channel': {'ChannelGrouping'}}"
      ]
     },
     "execution_count": 26,
     "metadata": {},
     "output_type": "execute_result"
    }
   ],
   "source": [
    "grouped_set_of_flags_dict(res432, flag_dict_type='schema_tg_dict')\n"
   ]
  },
  {
   "cell_type": "code",
   "execution_count": 27,
   "metadata": {},
   "outputs": [
    {
     "data": {
      "text/plain": [
       "{'target_evt_advertiser_name': {'AdvertiserReporting'},\n",
       " 'target_evt_advertiser_name_2': {'AdvertiserReporting-123'},\n",
       " 'target_channel': {'ChannelGrouping'}}"
      ]
     },
     "execution_count": 27,
     "metadata": {},
     "output_type": "execute_result"
    }
   ],
   "source": [
    "grouped_set_of_flags_dict(res432, flag_dict_type='target_tg_dict')"
   ]
  },
  {
   "cell_type": "code",
   "execution_count": 28,
   "metadata": {},
   "outputs": [
    {
     "data": {
      "text/plain": [
       "{'AdvertiserReporting-123': {'key_evt_advertiser_key_2,target_evt_advertiser_name_2'}}"
      ]
     },
     "execution_count": 28,
     "metadata": {},
     "output_type": "execute_result"
    }
   ],
   "source": [
    "grouped_set_of_flags_dict(res432, flag_dict_type='new_tg_schema_dict')"
   ]
  },
  {
   "cell_type": "code",
   "execution_count": 29,
   "metadata": {},
   "outputs": [
    {
     "data": {
      "text/plain": [
       "{'AdvertiserReporting-123': {'AdvertiserReporting-123_2020-05-11_ford.csv': {'KeyDirPath': 'taxonomy_cs/lmt/input/',\n",
       "   'ParentDir': 'input',\n",
       "   'FileName': 'AdvertiserReporting-123_2020-05-11_ford.csv',\n",
       "   'FileGrp': 'AdvertiserReporting-123',\n",
       "   'Date': '2020-05-11',\n",
       "   'ClientName': 'ford',\n",
       "   'Bucket': 'qubole-ford',\n",
       "   'Key': 'taxonomy_cs/lmt/input/AdvertiserReporting-123_2020-05-11_ford.csv',\n",
       "   'LastModified': datetime.datetime(2020, 10, 27, 16, 7, 11, tzinfo=tzlocal()),\n",
       "   'ETag': '\"c752db15b6440fde2ed7c6b6621fd594\"',\n",
       "   'Size': 76,\n",
       "   'StorageClass': 'STANDARD',\n",
       "   'Schema': 'key_evt_advertiser_key_2,target_evt_advertiser_name_2'}}}"
      ]
     },
     "execution_count": 29,
     "metadata": {},
     "output_type": "execute_result"
    }
   ],
   "source": [
    "grouped_tg(res432, 'new_tg_files_dict')"
   ]
  },
  {
   "cell_type": "code",
   "execution_count": 30,
   "metadata": {},
   "outputs": [
    {
     "data": {
      "text/plain": [
       "{'AdvertiserReporting': {'AdvertiserReporting_2020-06-01_ford.csv': {'KeyDirPath': 'taxonomy_cs/lmt/input/',\n",
       "   'ParentDir': 'input',\n",
       "   'FileName': 'AdvertiserReporting_2020-06-01_ford.csv',\n",
       "   'FileGrp': 'AdvertiserReporting',\n",
       "   'Date': '2020-06-01',\n",
       "   'ClientName': 'ford',\n",
       "   'Bucket': 'qubole-ford',\n",
       "   'Key': 'taxonomy_cs/lmt/input/AdvertiserReporting_2020-06-01_ford.csv',\n",
       "   'LastModified': datetime.datetime(2020, 10, 12, 21, 15, 2, tzinfo=tzlocal()),\n",
       "   'ETag': '\"04234605e8b4354998074abae5c74ae9\"',\n",
       "   'Size': 71,\n",
       "   'StorageClass': 'STANDARD',\n",
       "   'Schema': 'key_evt_advertiser_key,target_evt_advertiser_name'},\n",
       "  'AdvertiserReporting_2020-06-03_ford.csv': {'KeyDirPath': 'taxonomy_cs/lmt/input/',\n",
       "   'ParentDir': 'input',\n",
       "   'FileName': 'AdvertiserReporting_2020-06-03_ford.csv',\n",
       "   'FileGrp': 'AdvertiserReporting',\n",
       "   'Date': '2020-06-03',\n",
       "   'ClientName': 'ford',\n",
       "   'Bucket': 'qubole-ford',\n",
       "   'Key': 'taxonomy_cs/lmt/input/AdvertiserReporting_2020-06-03_ford.csv',\n",
       "   'LastModified': datetime.datetime(2020, 10, 12, 21, 15, 2, tzinfo=tzlocal()),\n",
       "   'ETag': '\"e4432fb96afba25162ecbd89624b93bd\"',\n",
       "   'Size': 72,\n",
       "   'StorageClass': 'STANDARD',\n",
       "   'Schema': 'key_evt_advertiser_key,target_evt_advertiser_name'},\n",
       "  'AdvertiserReporting_2020-06-05_ford.csv': {'KeyDirPath': 'taxonomy_cs/lmt/input/',\n",
       "   'ParentDir': 'input',\n",
       "   'FileName': 'AdvertiserReporting_2020-06-05_ford.csv',\n",
       "   'FileGrp': 'AdvertiserReporting',\n",
       "   'Date': '2020-06-05',\n",
       "   'ClientName': 'ford',\n",
       "   'Bucket': 'qubole-ford',\n",
       "   'Key': 'taxonomy_cs/lmt/input/AdvertiserReporting_2020-06-05_ford.csv',\n",
       "   'LastModified': datetime.datetime(2020, 10, 27, 14, 14, 56, tzinfo=tzlocal()),\n",
       "   'ETag': '\"e4432fb96afba25162ecbd89624b93bd\"',\n",
       "   'Size': 72,\n",
       "   'StorageClass': 'STANDARD',\n",
       "   'Schema': 'key_evt_advertiser_key,target_evt_advertiser_name'}},\n",
       " 'ChannelGrouping': {'ChannelGrouping_2020-06-01_ford.csv': {'KeyDirPath': 'taxonomy_cs/lmt/input/',\n",
       "   'ParentDir': 'input',\n",
       "   'FileName': 'ChannelGrouping_2020-06-01_ford.csv',\n",
       "   'FileGrp': 'ChannelGrouping',\n",
       "   'Date': '2020-06-01',\n",
       "   'ClientName': 'ford',\n",
       "   'Bucket': 'qubole-ford',\n",
       "   'Key': 'taxonomy_cs/lmt/input/ChannelGrouping_2020-06-01_ford.csv',\n",
       "   'LastModified': datetime.datetime(2020, 10, 12, 21, 15, 2, tzinfo=tzlocal()),\n",
       "   'ETag': '\"f6987a7636f122fd412879bdcb51678d\"',\n",
       "   'Size': 53,\n",
       "   'StorageClass': 'STANDARD',\n",
       "   'Schema': 'key_evt_source,target_channel'},\n",
       "  'ChannelGrouping_2020-06-02_ford.csv': {'KeyDirPath': 'taxonomy_cs/lmt/input/',\n",
       "   'ParentDir': 'input',\n",
       "   'FileName': 'ChannelGrouping_2020-06-02_ford.csv',\n",
       "   'FileGrp': 'ChannelGrouping',\n",
       "   'Date': '2020-06-02',\n",
       "   'ClientName': 'ford',\n",
       "   'Bucket': 'qubole-ford',\n",
       "   'Key': 'taxonomy_cs/lmt/input/ChannelGrouping_2020-06-02_ford.csv',\n",
       "   'LastModified': datetime.datetime(2020, 10, 12, 21, 15, 2, tzinfo=tzlocal()),\n",
       "   'ETag': '\"85765aed716b8ac68c5ba714d1fd62b4\"',\n",
       "   'Size': 45,\n",
       "   'StorageClass': 'STANDARD',\n",
       "   'Schema': 'key_evt_source,target_channel'}}}"
      ]
     },
     "execution_count": 30,
     "metadata": {},
     "output_type": "execute_result"
    }
   ],
   "source": [
    "grouped_tg(res432, 'existing_tg_files_dict')"
   ]
  },
  {
   "cell_type": "code",
   "execution_count": 31,
   "metadata": {},
   "outputs": [
    {
     "data": {
      "text/plain": [
       "{('s3://qubole-ford/taxonomy_cs/lmt/input/AdvertiserReporting_2020-06-02_ford.csv',\n",
       "  'ser_key,  target_evt_advertiser_name',\n",
       "  'At least one Key column is required! \\nAll given columns should Key or Target!'),\n",
       " ('s3://qubole-ford/taxonomy_cs/lmt/input/ChannelGrouping_2020-06-03_ford.csv',\n",
       "  'ource, target_channel',\n",
       "  'At least one Key column is required! \\nAll given columns should Key or Target!')}"
      ]
     },
     "execution_count": 31,
     "metadata": {},
     "output_type": "execute_result"
    }
   ],
   "source": [
    "grouped_set_of_flags(res432, 'invalid_schema_files')"
   ]
  },
  {
   "cell_type": "code",
   "execution_count": 32,
   "metadata": {},
   "outputs": [
    {
     "data": {
      "text/plain": [
       "{'s3://qubole-ford/taxonomy_cs/lmt/input/AdvertiserReporting_202-06-04_ford.csv'}"
      ]
     },
     "execution_count": 32,
     "metadata": {},
     "output_type": "execute_result"
    }
   ],
   "source": [
    "grouped_set_of_flags(res432, 'invalid_files_set')"
   ]
  },
  {
   "cell_type": "code",
   "execution_count": 33,
   "metadata": {},
   "outputs": [
    {
     "name": "stdout",
     "output_type": "stream",
     "text": [
      "2020-10-28 23:49:11,936   process-id:65224 run_blocking_tasks: starting\n",
      "\n",
      "2020-10-28 23:49:11,938   process-id:65224 run_blocking_tasks: creating executor tasks\n",
      "\n",
      "2020-10-28 23:49:12,038   process-id:97838   (task-0): passed args :[[{'Key': 'taxonomy_cs/lmt/input/AdvertiserReporting-123_2020-05-11_ford.csv', 'LastModified': datetime.datetime(2020, 10, 27, 16, 7, 11, tzinfo=tzlocal()), 'ETag': '\"c752db15b6440fde2ed7c6b6621fd594\"', 'Size': 76, 'StorageClass': 'STANDARD'}, {'Key': 'taxonomy_cs/lmt/input/AdvertiserReporting_202-06-04_ford.csv', 'LastModified': datetime.datetime(2020, 10, 27, 14, 15, 22, tzinfo=tzlocal()), 'ETag': '\"e4432fb96afba25162ecbd89624b93bd\"', 'Size': 72, 'StorageClass': 'STANDARD'}, {'Key': 'taxonomy_cs/lmt/input/AdvertiserReporting_2020-06-01_ford.csv', 'LastModified': datetime.datetime(2020, 10, 12, 21, 15, 2, tzinfo=tzlocal()), 'ETag': '\"04234605e8b4354998074abae5c74ae9\"', 'Size': 71, 'StorageClass': 'STANDARD'}]]\n",
      "\n",
      "2020-10-28 23:49:12,041   process-id:97838   (task-0): running\n",
      "\n",
      "2020-10-28 23:49:12,043:97838 MainThread run_blocking_tasks: starting\n",
      "\n",
      "2020-10-28 23:49:12,044:97838 MainThread run_blocking_tasks: creating executor tasks\n",
      "\n",
      "2020-10-28 23:49:12,045:97838 ThreadPoolExecutor-10_0 (task-0): passed args :[{'KeyDirPath': 'taxonomy_cs/lmt/input/', 'ParentDir': 'input', 'FileName': 'AdvertiserReporting-123_2020-05-11_ford.csv', 'FileGrp': 'AdvertiserReporting-123', 'Date': '2020-05-11', 'ClientName': 'ford', 'Bucket': 'qubole-ford', 'Key': 'taxonomy_cs/lmt/input/AdvertiserReporting-123_2020-05-11_ford.csv', 'LastModified': datetime.datetime(2020, 10, 27, 16, 7, 11, tzinfo=tzlocal()), 'ETag': '\"c752db15b6440fde2ed7c6b6621fd594\"', 'Size': 76, 'StorageClass': 'STANDARD'}]\n",
      "\n",
      "2020-10-28 23:49:12,046:97838 ThreadPoolExecutor-10_1 (task-1): passed args :[{'KeyDirPath': 'taxonomy_cs/lmt/input/', 'ParentDir': 'input', 'FileName': 'AdvertiserReporting_2020-06-01_ford.csv', 'FileGrp': 'AdvertiserReporting', 'Date': '2020-06-01', 'ClientName': 'ford', 'Bucket': 'qubole-ford', 'Key': 'taxonomy_cs/lmt/input/AdvertiserReporting_2020-06-01_ford.csv', 'LastModified': datetime.datetime(2020, 10, 12, 21, 15, 2, tzinfo=tzlocal()), 'ETag': '\"04234605e8b4354998074abae5c74ae9\"', 'Size': 71, 'StorageClass': 'STANDARD'}]\n",
      "\n",
      "2020-10-28 23:49:12,047:97838 MainThread run_blocking_tasks: waiting for executor tasks\n",
      "\n",
      "2020-10-28 23:49:12,047:97838 ThreadPoolExecutor-10_0 (task-0): running\n",
      "\n",
      "2020-10-28 23:49:12,048:97838 ThreadPoolExecutor-10_1 (task-1): running\n",
      "\n",
      "2020-10-28 23:49:12,054   process-id:97839   (task-1): passed args :[[{'Key': 'taxonomy_cs/lmt/input/AdvertiserReporting_2020-06-02_ford.csv', 'LastModified': datetime.datetime(2020, 10, 12, 21, 15, 2, tzinfo=tzlocal()), 'ETag': '\"f33832d48d54ec287f1b486526c197bf\"', 'Size': 57, 'StorageClass': 'STANDARD'}, {'Key': 'taxonomy_cs/lmt/input/AdvertiserReporting_2020-06-03_ford.csv', 'LastModified': datetime.datetime(2020, 10, 12, 21, 15, 2, tzinfo=tzlocal()), 'ETag': '\"e4432fb96afba25162ecbd89624b93bd\"', 'Size': 72, 'StorageClass': 'STANDARD'}, {'Key': 'taxonomy_cs/lmt/input/AdvertiserReporting_2020-06-05_ford.csv', 'LastModified': datetime.datetime(2020, 10, 27, 14, 14, 56, tzinfo=tzlocal()), 'ETag': '\"e4432fb96afba25162ecbd89624b93bd\"', 'Size': 72, 'StorageClass': 'STANDARD'}]]\n",
      "\n",
      "2020-10-28 23:49:12,057   process-id:97839   (task-1): running\n",
      "\n",
      "2020-10-28 23:49:12,059:97839 MainThread run_blocking_tasks: starting\n",
      "\n",
      "2020-10-28 23:49:12,060:97839 MainThread run_blocking_tasks: creating executor tasks\n",
      "\n",
      "2020-10-28 23:49:12,061:97839 ThreadPoolExecutor-10_0 (task-0): passed args :[{'KeyDirPath': 'taxonomy_cs/lmt/input/', 'ParentDir': 'input', 'FileName': 'AdvertiserReporting_2020-06-02_ford.csv', 'FileGrp': 'AdvertiserReporting', 'Date': '2020-06-02', 'ClientName': 'ford', 'Bucket': 'qubole-ford', 'Key': 'taxonomy_cs/lmt/input/AdvertiserReporting_2020-06-02_ford.csv', 'LastModified': datetime.datetime(2020, 10, 12, 21, 15, 2, tzinfo=tzlocal()), 'ETag': '\"f33832d48d54ec287f1b486526c197bf\"', 'Size': 57, 'StorageClass': 'STANDARD'}]\n",
      "\n",
      "2020-10-28 23:49:12,062:97839 ThreadPoolExecutor-10_1 (task-1): passed args :[{'KeyDirPath': 'taxonomy_cs/lmt/input/', 'ParentDir': 'input', 'FileName': 'AdvertiserReporting_2020-06-03_ford.csv', 'FileGrp': 'AdvertiserReporting', 'Date': '2020-06-03', 'ClientName': 'ford', 'Bucket': 'qubole-ford', 'Key': 'taxonomy_cs/lmt/input/AdvertiserReporting_2020-06-03_ford.csv', 'LastModified': datetime.datetime(2020, 10, 12, 21, 15, 2, tzinfo=tzlocal()), 'ETag': '\"e4432fb96afba25162ecbd89624b93bd\"', 'Size': 72, 'StorageClass': 'STANDARD'}]\n",
      "\n",
      "2020-10-28 23:49:12,062:97839 ThreadPoolExecutor-10_2 (task-2): passed args :[{'KeyDirPath': 'taxonomy_cs/lmt/input/', 'ParentDir': 'input', 'FileName': 'AdvertiserReporting_2020-06-05_ford.csv', 'FileGrp': 'AdvertiserReporting', 'Date': '2020-06-05', 'ClientName': 'ford', 'Bucket': 'qubole-ford', 'Key': 'taxonomy_cs/lmt/input/AdvertiserReporting_2020-06-05_ford.csv', 'LastModified': datetime.datetime(2020, 10, 27, 14, 14, 56, tzinfo=tzlocal()), 'ETag': '\"e4432fb96afba25162ecbd89624b93bd\"', 'Size': 72, 'StorageClass': 'STANDARD'}]\n",
      "\n",
      "2020-10-28 23:49:12,063:97839 MainThread run_blocking_tasks: waiting for executor tasks\n",
      "\n",
      "2020-10-28 23:49:12,063:97839 ThreadPoolExecutor-10_0 (task-0): running\n",
      "\n",
      "2020-10-28 23:49:12,064:97839 ThreadPoolExecutor-10_1 (task-1): running\n",
      "\n",
      "2020-10-28 23:49:12,072   process-id:65224 run_blocking_tasks: waiting for executor tasks\n",
      "\n",
      "2020-10-28 23:49:12,074   process-id:97840   (task-2): passed args :[[{'Key': 'taxonomy_cs/lmt/input/ChannelGrouping_2020-06-01_ford.csv', 'LastModified': datetime.datetime(2020, 10, 12, 21, 15, 2, tzinfo=tzlocal()), 'ETag': '\"f6987a7636f122fd412879bdcb51678d\"', 'Size': 53, 'StorageClass': 'STANDARD'}, {'Key': 'taxonomy_cs/lmt/input/ChannelGrouping_2020-06-02_ford.csv', 'LastModified': datetime.datetime(2020, 10, 12, 21, 15, 2, tzinfo=tzlocal()), 'ETag': '\"85765aed716b8ac68c5ba714d1fd62b4\"', 'Size': 45, 'StorageClass': 'STANDARD'}, {'Key': 'taxonomy_cs/lmt/input/ChannelGrouping_2020-06-03_ford.csv', 'LastModified': datetime.datetime(2020, 10, 12, 21, 15, 2, tzinfo=tzlocal()), 'ETag': '\"1b4a36fcd62391d3f1fb7df1472006ec\"', 'Size': 37, 'StorageClass': 'STANDARD'}]]\n",
      "\n",
      "2020-10-28 23:49:12,076   process-id:97840   (task-2): running\n",
      "\n",
      "2020-10-28 23:49:12,078:97840 MainThread run_blocking_tasks: starting\n",
      "\n",
      "2020-10-28 23:49:12,079:97840 MainThread run_blocking_tasks: creating executor tasks\n",
      "\n",
      "2020-10-28 23:49:12,081:97840 ThreadPoolExecutor-10_0 (task-0): passed args :[{'KeyDirPath': 'taxonomy_cs/lmt/input/', 'ParentDir': 'input', 'FileName': 'ChannelGrouping_2020-06-01_ford.csv', 'FileGrp': 'ChannelGrouping', 'Date': '2020-06-01', 'ClientName': 'ford', 'Bucket': 'qubole-ford', 'Key': 'taxonomy_cs/lmt/input/ChannelGrouping_2020-06-01_ford.csv', 'LastModified': datetime.datetime(2020, 10, 12, 21, 15, 2, tzinfo=tzlocal()), 'ETag': '\"f6987a7636f122fd412879bdcb51678d\"', 'Size': 53, 'StorageClass': 'STANDARD'}]\n",
      "\n",
      "2020-10-28 23:49:12,082:97840 ThreadPoolExecutor-10_1 (task-1): passed args :[{'KeyDirPath': 'taxonomy_cs/lmt/input/', 'ParentDir': 'input', 'FileName': 'ChannelGrouping_2020-06-02_ford.csv', 'FileGrp': 'ChannelGrouping', 'Date': '2020-06-02', 'ClientName': 'ford', 'Bucket': 'qubole-ford', 'Key': 'taxonomy_cs/lmt/input/ChannelGrouping_2020-06-02_ford.csv', 'LastModified': datetime.datetime(2020, 10, 12, 21, 15, 2, tzinfo=tzlocal()), 'ETag': '\"85765aed716b8ac68c5ba714d1fd62b4\"', 'Size': 45, 'StorageClass': 'STANDARD'}]\n",
      "\n",
      "2020-10-28 23:49:12,082:97840 ThreadPoolExecutor-10_0 (task-0): running\n",
      "\n",
      "2020-10-28 23:49:12,065:97839 ThreadPoolExecutor-10_2 (task-2): running\n",
      "\n",
      "2020-10-28 23:49:12,082:97840 ThreadPoolExecutor-10_2 (task-2): passed args :[{'KeyDirPath': 'taxonomy_cs/lmt/input/', 'ParentDir': 'input', 'FileName': 'ChannelGrouping_2020-06-03_ford.csv', 'FileGrp': 'ChannelGrouping', 'Date': '2020-06-03', 'ClientName': 'ford', 'Bucket': 'qubole-ford', 'Key': 'taxonomy_cs/lmt/input/ChannelGrouping_2020-06-03_ford.csv', 'LastModified': datetime.datetime(2020, 10, 12, 21, 15, 2, tzinfo=tzlocal()), 'ETag': '\"1b4a36fcd62391d3f1fb7df1472006ec\"', 'Size': 37, 'StorageClass': 'STANDARD'}]\n",
      "\n",
      "2020-10-28 23:49:12,083:97840 MainThread run_blocking_tasks: waiting for executor tasks\n",
      "\n"
     ]
    },
    {
     "name": "stdout",
     "output_type": "stream",
     "text": [
      "2020-10-28 23:49:12,084:97840 ThreadPoolExecutor-10_1 (task-1): running\n",
      "\n",
      "2020-10-28 23:49:12,095:97840 ThreadPoolExecutor-10_2 (task-2): running\n",
      "\n",
      "2020-10-28 23:49:12,124:97839 ThreadPoolExecutor-10_1 (task-1): done\n",
      "\n",
      "2020-10-28 23:49:12,129:97838 ThreadPoolExecutor-10_1 (task-1): done\n",
      "\n",
      "2020-10-28 23:49:12,130:97839 ThreadPoolExecutor-10_2 (task-2): done\n",
      "\n",
      "2020-10-28 23:49:12,133:97839 ThreadPoolExecutor-10_0 (task-0): done\n",
      "\n",
      "2020-10-28 23:49:12,135:97839 MainThread run_blocking_tasks: exiting\n",
      "\n",
      "2020-10-28 23:49:12,136   process-id:97839   (task-1): done\n",
      "\n",
      "2020-10-28 23:49:12,139:97840 ThreadPoolExecutor-10_0 (task-0): done\n",
      "\n",
      "2020-10-28 23:49:12,150:97838 ThreadPoolExecutor-10_0 (task-0): done\n",
      "\n",
      "2020-10-28 23:49:12,152:97838 MainThread run_blocking_tasks: exiting\n",
      "\n",
      "2020-10-28 23:49:12,153   process-id:97838   (task-0): done\n",
      "\n",
      "2020-10-28 23:49:12,154:97840 ThreadPoolExecutor-10_1 (task-1): done\n",
      "\n",
      "2020-10-28 23:49:12,156:97840 ThreadPoolExecutor-10_2 (task-2): done\n",
      "\n",
      "2020-10-28 23:49:12,157:97840 MainThread run_blocking_tasks: exiting\n",
      "\n",
      "2020-10-28 23:49:12,158   process-id:97840   (task-2): done\n",
      "\n",
      "2020-10-28 23:49:12,160   process-id:65224 run_blocking_tasks: exiting\n",
      "\n"
     ]
    }
   ],
   "source": [
    "res_final = extract_src_detail()"
   ]
  },
  {
   "cell_type": "code",
   "execution_count": 34,
   "metadata": {},
   "outputs": [
    {
     "data": {
      "text/plain": [
       "{'invalid_files_set': {'s3://qubole-ford/taxonomy_cs/lmt/input/AdvertiserReporting_202-06-04_ford.csv'},\n",
       " 'invalid_schema_files': {('s3://qubole-ford/taxonomy_cs/lmt/input/AdvertiserReporting_2020-06-02_ford.csv',\n",
       "   'ser_key,  target_evt_advertiser_name',\n",
       "   'At least one Key column is required! \\nAll given columns should Key or Target!'),\n",
       "  ('s3://qubole-ford/taxonomy_cs/lmt/input/ChannelGrouping_2020-06-03_ford.csv',\n",
       "   'ource, target_channel',\n",
       "   'At least one Key column is required! \\nAll given columns should Key or Target!')},\n",
       " 'target_already_exist_files': set(),\n",
       " 'schema_tg_dict': {'key_evt_advertiser_key,target_evt_advertiser_name': {'AdvertiserReporting'},\n",
       "  'key_evt_source,target_channel': {'ChannelGrouping'},\n",
       "  'key_evt_advertiser_key_2,target_evt_advertiser_name_2': {'AdvertiserReporting-123'}},\n",
       " 'target_tg_dict': {'target_evt_advertiser_name': {'AdvertiserReporting'},\n",
       "  'target_channel': {'ChannelGrouping'},\n",
       "  'target_evt_advertiser_name_2': {'AdvertiserReporting-123'}},\n",
       " 'new_tg_schema_dict': {'AdvertiserReporting-123': {'key_evt_advertiser_key_2,target_evt_advertiser_name_2'}},\n",
       " 'new_tg_files_dict': {'AdvertiserReporting-123': {'AdvertiserReporting-123_2020-05-11_ford.csv': {'KeyDirPath': 'taxonomy_cs/lmt/input/',\n",
       "    'ParentDir': 'input',\n",
       "    'FileName': 'AdvertiserReporting-123_2020-05-11_ford.csv',\n",
       "    'FileGrp': 'AdvertiserReporting-123',\n",
       "    'Date': '2020-05-11',\n",
       "    'ClientName': 'ford',\n",
       "    'Bucket': 'qubole-ford',\n",
       "    'Key': 'taxonomy_cs/lmt/input/AdvertiserReporting-123_2020-05-11_ford.csv',\n",
       "    'LastModified': datetime.datetime(2020, 10, 27, 16, 7, 11, tzinfo=tzlocal()),\n",
       "    'ETag': '\"c752db15b6440fde2ed7c6b6621fd594\"',\n",
       "    'Size': 76,\n",
       "    'StorageClass': 'STANDARD',\n",
       "    'Schema': 'key_evt_advertiser_key_2,target_evt_advertiser_name_2'}}},\n",
       " 'existing_tg_files_dict': {'AdvertiserReporting': {'AdvertiserReporting_2020-06-03_ford.csv': {'KeyDirPath': 'taxonomy_cs/lmt/input/',\n",
       "    'ParentDir': 'input',\n",
       "    'FileName': 'AdvertiserReporting_2020-06-03_ford.csv',\n",
       "    'FileGrp': 'AdvertiserReporting',\n",
       "    'Date': '2020-06-03',\n",
       "    'ClientName': 'ford',\n",
       "    'Bucket': 'qubole-ford',\n",
       "    'Key': 'taxonomy_cs/lmt/input/AdvertiserReporting_2020-06-03_ford.csv',\n",
       "    'LastModified': datetime.datetime(2020, 10, 12, 21, 15, 2, tzinfo=tzlocal()),\n",
       "    'ETag': '\"e4432fb96afba25162ecbd89624b93bd\"',\n",
       "    'Size': 72,\n",
       "    'StorageClass': 'STANDARD',\n",
       "    'Schema': 'key_evt_advertiser_key,target_evt_advertiser_name'},\n",
       "   'AdvertiserReporting_2020-06-05_ford.csv': {'KeyDirPath': 'taxonomy_cs/lmt/input/',\n",
       "    'ParentDir': 'input',\n",
       "    'FileName': 'AdvertiserReporting_2020-06-05_ford.csv',\n",
       "    'FileGrp': 'AdvertiserReporting',\n",
       "    'Date': '2020-06-05',\n",
       "    'ClientName': 'ford',\n",
       "    'Bucket': 'qubole-ford',\n",
       "    'Key': 'taxonomy_cs/lmt/input/AdvertiserReporting_2020-06-05_ford.csv',\n",
       "    'LastModified': datetime.datetime(2020, 10, 27, 14, 14, 56, tzinfo=tzlocal()),\n",
       "    'ETag': '\"e4432fb96afba25162ecbd89624b93bd\"',\n",
       "    'Size': 72,\n",
       "    'StorageClass': 'STANDARD',\n",
       "    'Schema': 'key_evt_advertiser_key,target_evt_advertiser_name'},\n",
       "   'AdvertiserReporting_2020-06-01_ford.csv': {'KeyDirPath': 'taxonomy_cs/lmt/input/',\n",
       "    'ParentDir': 'input',\n",
       "    'FileName': 'AdvertiserReporting_2020-06-01_ford.csv',\n",
       "    'FileGrp': 'AdvertiserReporting',\n",
       "    'Date': '2020-06-01',\n",
       "    'ClientName': 'ford',\n",
       "    'Bucket': 'qubole-ford',\n",
       "    'Key': 'taxonomy_cs/lmt/input/AdvertiserReporting_2020-06-01_ford.csv',\n",
       "    'LastModified': datetime.datetime(2020, 10, 12, 21, 15, 2, tzinfo=tzlocal()),\n",
       "    'ETag': '\"04234605e8b4354998074abae5c74ae9\"',\n",
       "    'Size': 71,\n",
       "    'StorageClass': 'STANDARD',\n",
       "    'Schema': 'key_evt_advertiser_key,target_evt_advertiser_name'}},\n",
       "  'ChannelGrouping': {'ChannelGrouping_2020-06-02_ford.csv': {'KeyDirPath': 'taxonomy_cs/lmt/input/',\n",
       "    'ParentDir': 'input',\n",
       "    'FileName': 'ChannelGrouping_2020-06-02_ford.csv',\n",
       "    'FileGrp': 'ChannelGrouping',\n",
       "    'Date': '2020-06-02',\n",
       "    'ClientName': 'ford',\n",
       "    'Bucket': 'qubole-ford',\n",
       "    'Key': 'taxonomy_cs/lmt/input/ChannelGrouping_2020-06-02_ford.csv',\n",
       "    'LastModified': datetime.datetime(2020, 10, 12, 21, 15, 2, tzinfo=tzlocal()),\n",
       "    'ETag': '\"85765aed716b8ac68c5ba714d1fd62b4\"',\n",
       "    'Size': 45,\n",
       "    'StorageClass': 'STANDARD',\n",
       "    'Schema': 'key_evt_source,target_channel'},\n",
       "   'ChannelGrouping_2020-06-01_ford.csv': {'KeyDirPath': 'taxonomy_cs/lmt/input/',\n",
       "    'ParentDir': 'input',\n",
       "    'FileName': 'ChannelGrouping_2020-06-01_ford.csv',\n",
       "    'FileGrp': 'ChannelGrouping',\n",
       "    'Date': '2020-06-01',\n",
       "    'ClientName': 'ford',\n",
       "    'Bucket': 'qubole-ford',\n",
       "    'Key': 'taxonomy_cs/lmt/input/ChannelGrouping_2020-06-01_ford.csv',\n",
       "    'LastModified': datetime.datetime(2020, 10, 12, 21, 15, 2, tzinfo=tzlocal()),\n",
       "    'ETag': '\"f6987a7636f122fd412879bdcb51678d\"',\n",
       "    'Size': 53,\n",
       "    'StorageClass': 'STANDARD',\n",
       "    'Schema': 'key_evt_source,target_channel'}}}}"
      ]
     },
     "execution_count": 34,
     "metadata": {},
     "output_type": "execute_result"
    }
   ],
   "source": [
    "res_final"
   ]
  },
  {
   "cell_type": "code",
   "execution_count": 36,
   "metadata": {},
   "outputs": [
    {
     "name": "stdout",
     "output_type": "stream",
     "text": [
      "2020-10-29 00:22:14,545:65224 MainThread run_blocking_tasks: starting\n",
      "\n",
      "2020-10-29 00:22:14,546:65224 MainThread run_blocking_tasks: creating executor tasks\n",
      "\n",
      "2020-10-29 00:22:14,547:65224 ThreadPoolExecutor-10_0 (task-0): passed args :['AdvertiserReporting', 's3://qubole-ford/taxonomy_cs/lmt/data/AdvertiserReporting']\n",
      "\n",
      "2020-10-29 00:22:14,547:65224 ThreadPoolExecutor-10_1 (task-1): passed args :['ChannelGrouping', 's3://qubole-ford/taxonomy_cs/lmt/data/ChannelGrouping']\n",
      "\n",
      "2020-10-29 00:22:14,548:65224 ThreadPoolExecutor-10_0 (task-0): running\n",
      "\n",
      "2020-10-29 00:22:14,548:65224 ThreadPoolExecutor-10_1 (task-1): running\n",
      "\n",
      "2020-10-29 00:22:14,549:65224 MainThread run_blocking_tasks: waiting for executor tasks\n",
      "\n",
      "2020-10-29 00:22:14,606:65224 ThreadPoolExecutor-10_0 (task-0): done\n",
      "\n",
      "2020-10-29 00:22:14,627:65224 ThreadPoolExecutor-10_1 (task-1): done\n",
      "\n",
      "2020-10-29 00:22:14,628:65224 MainThread run_blocking_tasks: exiting\n",
      "\n",
      "2020-10-29 00:22:14,629:65224 MainThread run_blocking_tasks: starting\n",
      "\n",
      "2020-10-29 00:22:14,630:65224 MainThread run_blocking_tasks: creating executor tasks\n",
      "\n",
      "2020-10-29 00:22:14,712:65224 ThreadPoolExecutor-11_0 (task-0): passed args :[[{'Key': 'taxonomy_cs/lmt/input/AdvertiserReporting-123_2020-05-11_ford.csv', 'LastModified': datetime.datetime(2020, 10, 27, 16, 7, 11, tzinfo=tzlocal()), 'ETag': '\"c752db15b6440fde2ed7c6b6621fd594\"', 'Size': 76, 'StorageClass': 'STANDARD'}, {'Key': 'taxonomy_cs/lmt/input/AdvertiserReporting_202-06-04_ford.csv', 'LastModified': datetime.datetime(2020, 10, 27, 14, 15, 22, tzinfo=tzlocal()), 'ETag': '\"e4432fb96afba25162ecbd89624b93bd\"', 'Size': 72, 'StorageClass': 'STANDARD'}, {'Key': 'taxonomy_cs/lmt/input/AdvertiserReporting_2020-06-01_ford.csv', 'LastModified': datetime.datetime(2020, 10, 12, 21, 15, 2, tzinfo=tzlocal()), 'ETag': '\"04234605e8b4354998074abae5c74ae9\"', 'Size': 71, 'StorageClass': 'STANDARD'}]]\n",
      "\n",
      "2020-10-29 00:22:14,715:65224 ThreadPoolExecutor-11_0 (task-0): running\n",
      "\n",
      "2020-10-29 00:22:14,715:65224 ThreadPoolExecutor-11_0 src_list_page_process_task: Creating Thread pool executer to process list page\n",
      "\n",
      "2020-10-29 00:22:14,717:65224 ThreadPoolExecutor-11_0 run_blocking_tasks: starting\n",
      "\n",
      "2020-10-29 00:22:14,717:65224 ThreadPoolExecutor-11_0 run_blocking_tasks: creating executor tasks\n",
      "\n",
      "2020-10-29 00:22:14,718:65224 ThreadPoolExecutor-12_0 (task-0): passed args :[{'KeyDirPath': 'taxonomy_cs/lmt/input/', 'ParentDir': 'input', 'FileName': 'AdvertiserReporting-123_2020-05-11_ford.csv', 'FileGrp': 'AdvertiserReporting-123', 'Date': '2020-05-11', 'ClientName': 'ford', 'Bucket': 'qubole-ford', 'Key': 'taxonomy_cs/lmt/input/AdvertiserReporting-123_2020-05-11_ford.csv', 'LastModified': datetime.datetime(2020, 10, 27, 16, 7, 11, tzinfo=tzlocal()), 'ETag': '\"c752db15b6440fde2ed7c6b6621fd594\"', 'Size': 76, 'StorageClass': 'STANDARD'}]\n",
      "\n",
      "2020-10-29 00:22:14,718:65224 ThreadPoolExecutor-12_1 (task-1): passed args :[{'KeyDirPath': 'taxonomy_cs/lmt/input/', 'ParentDir': 'input', 'FileName': 'AdvertiserReporting_2020-06-01_ford.csv', 'FileGrp': 'AdvertiserReporting', 'Date': '2020-06-01', 'ClientName': 'ford', 'Bucket': 'qubole-ford', 'Key': 'taxonomy_cs/lmt/input/AdvertiserReporting_2020-06-01_ford.csv', 'LastModified': datetime.datetime(2020, 10, 12, 21, 15, 2, tzinfo=tzlocal()), 'ETag': '\"04234605e8b4354998074abae5c74ae9\"', 'Size': 71, 'StorageClass': 'STANDARD'}]\n",
      "\n",
      "2020-10-29 00:22:14,718:65224 ThreadPoolExecutor-11_0 run_blocking_tasks: waiting for executor tasks\n",
      "\n",
      "2020-10-29 00:22:14,719:65224 ThreadPoolExecutor-12_0 (task-0): running\n",
      "\n",
      "2020-10-29 00:22:14,720:65224 ThreadPoolExecutor-12_1 (task-1): running\n",
      "\n",
      "2020-10-29 00:22:14,731:65224 ThreadPoolExecutor-11_1 (task-1): passed args :[[{'Key': 'taxonomy_cs/lmt/input/AdvertiserReporting_2020-06-02_ford.csv', 'LastModified': datetime.datetime(2020, 10, 12, 21, 15, 2, tzinfo=tzlocal()), 'ETag': '\"f33832d48d54ec287f1b486526c197bf\"', 'Size': 57, 'StorageClass': 'STANDARD'}, {'Key': 'taxonomy_cs/lmt/input/AdvertiserReporting_2020-06-03_ford.csv', 'LastModified': datetime.datetime(2020, 10, 12, 21, 15, 2, tzinfo=tzlocal()), 'ETag': '\"e4432fb96afba25162ecbd89624b93bd\"', 'Size': 72, 'StorageClass': 'STANDARD'}, {'Key': 'taxonomy_cs/lmt/input/AdvertiserReporting_2020-06-05_ford.csv', 'LastModified': datetime.datetime(2020, 10, 27, 14, 14, 56, tzinfo=tzlocal()), 'ETag': '\"e4432fb96afba25162ecbd89624b93bd\"', 'Size': 72, 'StorageClass': 'STANDARD'}]]\n",
      "\n",
      "2020-10-29 00:22:14,733:65224 ThreadPoolExecutor-11_1 (task-1): running\n",
      "\n",
      "2020-10-29 00:22:14,734:65224 ThreadPoolExecutor-11_1 src_list_page_process_task: Creating Thread pool executer to process list page\n",
      "\n",
      "2020-10-29 00:22:14,735:65224 ThreadPoolExecutor-11_1 run_blocking_tasks: starting\n",
      "\n",
      "2020-10-29 00:22:14,736:65224 ThreadPoolExecutor-11_1 run_blocking_tasks: creating executor tasks\n",
      "\n",
      "2020-10-29 00:22:14,737:65224 ThreadPoolExecutor-13_0 (task-0): passed args :[{'KeyDirPath': 'taxonomy_cs/lmt/input/', 'ParentDir': 'input', 'FileName': 'AdvertiserReporting_2020-06-02_ford.csv', 'FileGrp': 'AdvertiserReporting', 'Date': '2020-06-02', 'ClientName': 'ford', 'Bucket': 'qubole-ford', 'Key': 'taxonomy_cs/lmt/input/AdvertiserReporting_2020-06-02_ford.csv', 'LastModified': datetime.datetime(2020, 10, 12, 21, 15, 2, tzinfo=tzlocal()), 'ETag': '\"f33832d48d54ec287f1b486526c197bf\"', 'Size': 57, 'StorageClass': 'STANDARD'}]\n",
      "\n",
      "2020-10-29 00:22:14,738:65224 ThreadPoolExecutor-13_1 (task-1): passed args :[{'KeyDirPath': 'taxonomy_cs/lmt/input/', 'ParentDir': 'input', 'FileName': 'AdvertiserReporting_2020-06-03_ford.csv', 'FileGrp': 'AdvertiserReporting', 'Date': '2020-06-03', 'ClientName': 'ford', 'Bucket': 'qubole-ford', 'Key': 'taxonomy_cs/lmt/input/AdvertiserReporting_2020-06-03_ford.csv', 'LastModified': datetime.datetime(2020, 10, 12, 21, 15, 2, tzinfo=tzlocal()), 'ETag': '\"e4432fb96afba25162ecbd89624b93bd\"', 'Size': 72, 'StorageClass': 'STANDARD'}]\n",
      "\n",
      "2020-10-29 00:22:14,738:65224 ThreadPoolExecutor-13_0 (task-0): running\n",
      "\n",
      "2020-10-29 00:22:14,739:65224 ThreadPoolExecutor-13_2 (task-2): passed args :[{'KeyDirPath': 'taxonomy_cs/lmt/input/', 'ParentDir': 'input', 'FileName': 'AdvertiserReporting_2020-06-05_ford.csv', 'FileGrp': 'AdvertiserReporting', 'Date': '2020-06-05', 'ClientName': 'ford', 'Bucket': 'qubole-ford', 'Key': 'taxonomy_cs/lmt/input/AdvertiserReporting_2020-06-05_ford.csv', 'LastModified': datetime.datetime(2020, 10, 27, 14, 14, 56, tzinfo=tzlocal()), 'ETag': '\"e4432fb96afba25162ecbd89624b93bd\"', 'Size': 72, 'StorageClass': 'STANDARD'}]\n",
      "\n",
      "2020-10-29 00:22:14,739:65224 ThreadPoolExecutor-11_1 run_blocking_tasks: waiting for executor tasks\n",
      "\n",
      "2020-10-29 00:22:14,740:65224 ThreadPoolExecutor-13_1 (task-1): running\n",
      "\n",
      "2020-10-29 00:22:14,744:65224 ThreadPoolExecutor-13_2 (task-2): running\n",
      "\n",
      "2020-10-29 00:22:14,751:65224 ThreadPoolExecutor-12_0 (task-0): done\n",
      "\n",
      "2020-10-29 00:22:14,754:65224 ThreadPoolExecutor-11_2 (task-2): passed args :[[{'Key': 'taxonomy_cs/lmt/input/ChannelGrouping_2020-06-01_ford.csv', 'LastModified': datetime.datetime(2020, 10, 12, 21, 15, 2, tzinfo=tzlocal()), 'ETag': '\"f6987a7636f122fd412879bdcb51678d\"', 'Size': 53, 'StorageClass': 'STANDARD'}, {'Key': 'taxonomy_cs/lmt/input/ChannelGrouping_2020-06-02_ford.csv', 'LastModified': datetime.datetime(2020, 10, 12, 21, 15, 2, tzinfo=tzlocal()), 'ETag': '\"85765aed716b8ac68c5ba714d1fd62b4\"', 'Size': 45, 'StorageClass': 'STANDARD'}, {'Key': 'taxonomy_cs/lmt/input/ChannelGrouping_2020-06-03_ford.csv', 'LastModified': datetime.datetime(2020, 10, 12, 21, 15, 2, tzinfo=tzlocal()), 'ETag': '\"1b4a36fcd62391d3f1fb7df1472006ec\"', 'Size': 37, 'StorageClass': 'STANDARD'}]]\n",
      "\n",
      "2020-10-29 00:22:14,754:65224 MainThread run_blocking_tasks: waiting for executor tasks\n",
      "\n",
      "2020-10-29 00:22:14,755:65224 ThreadPoolExecutor-11_2 (task-2): running\n",
      "\n",
      "2020-10-29 00:22:14,756:65224 ThreadPoolExecutor-11_2 src_list_page_process_task: Creating Thread pool executer to process list page\n",
      "\n",
      "2020-10-29 00:22:14,757:65224 ThreadPoolExecutor-11_2 run_blocking_tasks: starting\n",
      "\n",
      "2020-10-29 00:22:14,758:65224 ThreadPoolExecutor-11_2 run_blocking_tasks: creating executor tasks\n",
      "\n",
      "2020-10-29 00:22:14,759:65224 ThreadPoolExecutor-14_0 (task-0): passed args :[{'KeyDirPath': 'taxonomy_cs/lmt/input/', 'ParentDir': 'input', 'FileName': 'ChannelGrouping_2020-06-01_ford.csv', 'FileGrp': 'ChannelGrouping', 'Date': '2020-06-01', 'ClientName': 'ford', 'Bucket': 'qubole-ford', 'Key': 'taxonomy_cs/lmt/input/ChannelGrouping_2020-06-01_ford.csv', 'LastModified': datetime.datetime(2020, 10, 12, 21, 15, 2, tzinfo=tzlocal()), 'ETag': '\"f6987a7636f122fd412879bdcb51678d\"', 'Size': 53, 'StorageClass': 'STANDARD'}]\n",
      "\n"
     ]
    },
    {
     "name": "stdout",
     "output_type": "stream",
     "text": [
      "2020-10-29 00:22:14,760:65224 ThreadPoolExecutor-14_1 (task-1): passed args :[{'KeyDirPath': 'taxonomy_cs/lmt/input/', 'ParentDir': 'input', 'FileName': 'ChannelGrouping_2020-06-02_ford.csv', 'FileGrp': 'ChannelGrouping', 'Date': '2020-06-02', 'ClientName': 'ford', 'Bucket': 'qubole-ford', 'Key': 'taxonomy_cs/lmt/input/ChannelGrouping_2020-06-02_ford.csv', 'LastModified': datetime.datetime(2020, 10, 12, 21, 15, 2, tzinfo=tzlocal()), 'ETag': '\"85765aed716b8ac68c5ba714d1fd62b4\"', 'Size': 45, 'StorageClass': 'STANDARD'}]\n",
      "\n",
      "2020-10-29 00:22:14,760:65224 ThreadPoolExecutor-14_0 (task-0): running\n",
      "\n",
      "2020-10-29 00:22:14,760:65224 ThreadPoolExecutor-14_2 (task-2): passed args :[{'KeyDirPath': 'taxonomy_cs/lmt/input/', 'ParentDir': 'input', 'FileName': 'ChannelGrouping_2020-06-03_ford.csv', 'FileGrp': 'ChannelGrouping', 'Date': '2020-06-03', 'ClientName': 'ford', 'Bucket': 'qubole-ford', 'Key': 'taxonomy_cs/lmt/input/ChannelGrouping_2020-06-03_ford.csv', 'LastModified': datetime.datetime(2020, 10, 12, 21, 15, 2, tzinfo=tzlocal()), 'ETag': '\"1b4a36fcd62391d3f1fb7df1472006ec\"', 'Size': 37, 'StorageClass': 'STANDARD'}]\n",
      "\n",
      "2020-10-29 00:22:14,760:65224 ThreadPoolExecutor-11_2 run_blocking_tasks: waiting for executor tasks\n",
      "\n",
      "2020-10-29 00:22:14,762:65224 ThreadPoolExecutor-14_1 (task-1): running\n",
      "\n",
      "2020-10-29 00:22:14,765:65224 ThreadPoolExecutor-14_2 (task-2): running\n",
      "\n",
      "2020-10-29 00:22:14,769:65224 ThreadPoolExecutor-12_1 (task-1): done\n",
      "\n",
      "2020-10-29 00:22:14,775:65224 ThreadPoolExecutor-11_0 run_blocking_tasks: exiting\n",
      "\n",
      "2020-10-29 00:22:14,777:65224 ThreadPoolExecutor-14_0 (task-0): done\n",
      "\n",
      "2020-10-29 00:22:14,778:65224 ThreadPoolExecutor-11_0 src_list_page_process_task: list page processed!\n",
      "\n",
      "2020-10-29 00:22:14,780:65224 ThreadPoolExecutor-11_0 (task-0): done\n",
      "\n",
      "2020-10-29 00:22:14,781:65224 ThreadPoolExecutor-14_1 (task-1): done\n",
      "\n",
      "2020-10-29 00:22:14,783:65224 ThreadPoolExecutor-13_1 (task-1): done\n",
      "\n",
      "2020-10-29 00:22:14,784:65224 ThreadPoolExecutor-13_0 (task-0): done\n",
      "\n",
      "2020-10-29 00:22:14,794:65224 ThreadPoolExecutor-13_2 (task-2): done\n",
      "\n",
      "2020-10-29 00:22:14,795:65224 ThreadPoolExecutor-11_1 run_blocking_tasks: exiting\n",
      "\n",
      "2020-10-29 00:22:14,796:65224 ThreadPoolExecutor-11_1 src_list_page_process_task: list page processed!\n",
      "\n",
      "2020-10-29 00:22:14,797:65224 ThreadPoolExecutor-11_1 (task-1): done\n",
      "\n",
      "2020-10-29 00:22:14,799:65224 ThreadPoolExecutor-14_2 (task-2): done\n",
      "\n",
      "2020-10-29 00:22:14,800:65224 ThreadPoolExecutor-11_2 run_blocking_tasks: exiting\n",
      "\n",
      "2020-10-29 00:22:14,801:65224 ThreadPoolExecutor-11_2 src_list_page_process_task: list page processed!\n",
      "\n",
      "2020-10-29 00:22:14,802:65224 ThreadPoolExecutor-11_2 (task-2): done\n",
      "\n",
      "2020-10-29 00:22:14,803:65224 MainThread run_blocking_tasks: exiting\n",
      "\n"
     ]
    }
   ],
   "source": [
    "src_delta = tcAPI.extract_src_detail(is_kernal_thread = False)"
   ]
  },
  {
   "cell_type": "code",
   "execution_count": 37,
   "metadata": {},
   "outputs": [
    {
     "data": {
      "text/plain": [
       "{'invalid_files_set': {'s3://qubole-ford/taxonomy_cs/lmt/input/AdvertiserReporting_202-06-04_ford.csv'},\n",
       " 'invalid_schema_files': {('s3://qubole-ford/taxonomy_cs/lmt/input/AdvertiserReporting_2020-06-02_ford.csv',\n",
       "   'ser_key,  target_evt_advertiser_name',\n",
       "   'At least one Key column is required! \\nAll given columns should Key or Target!'),\n",
       "  ('s3://qubole-ford/taxonomy_cs/lmt/input/ChannelGrouping_2020-06-03_ford.csv',\n",
       "   'ource, target_channel',\n",
       "   'At least one Key column is required! \\nAll given columns should Key or Target!')},\n",
       " 'schema_tg_dict': {'key_evt_source,target_channel': {'ChannelGrouping'},\n",
       "  'key_evt_advertiser_key_2,target_evt_advertiser_name_2': {'AdvertiserReporting-123'},\n",
       "  'key_evt_advertiser_key,target_evt_advertiser_name': {'AdvertiserReporting'}},\n",
       " 'target_tg_dict': {'target_channel': {'ChannelGrouping'},\n",
       "  'target_evt_advertiser_name_2': {'AdvertiserReporting-123'},\n",
       "  'target_evt_advertiser_name': {'AdvertiserReporting'}},\n",
       " 'new_tg_schema_dict': {'AdvertiserReporting-123': {'key_evt_advertiser_key_2,target_evt_advertiser_name_2'}},\n",
       " 'new_tg_files_dict': {'AdvertiserReporting-123': {'AdvertiserReporting-123_2020-05-11_ford.csv': {'KeyDirPath': 'taxonomy_cs/lmt/input/',\n",
       "    'ParentDir': 'input',\n",
       "    'FileName': 'AdvertiserReporting-123_2020-05-11_ford.csv',\n",
       "    'FileGrp': 'AdvertiserReporting-123',\n",
       "    'Date': '2020-05-11',\n",
       "    'ClientName': 'ford',\n",
       "    'Bucket': 'qubole-ford',\n",
       "    'Key': 'taxonomy_cs/lmt/input/AdvertiserReporting-123_2020-05-11_ford.csv',\n",
       "    'LastModified': datetime.datetime(2020, 10, 27, 16, 7, 11, tzinfo=tzlocal()),\n",
       "    'ETag': '\"c752db15b6440fde2ed7c6b6621fd594\"',\n",
       "    'Size': 76,\n",
       "    'StorageClass': 'STANDARD',\n",
       "    'Schema': 'key_evt_advertiser_key_2,target_evt_advertiser_name_2'}}},\n",
       " 'existing_tg_files_dict': {'ChannelGrouping': {'ChannelGrouping_2020-06-02_ford.csv': {'KeyDirPath': 'taxonomy_cs/lmt/input/',\n",
       "    'ParentDir': 'input',\n",
       "    'FileName': 'ChannelGrouping_2020-06-02_ford.csv',\n",
       "    'FileGrp': 'ChannelGrouping',\n",
       "    'Date': '2020-06-02',\n",
       "    'ClientName': 'ford',\n",
       "    'Bucket': 'qubole-ford',\n",
       "    'Key': 'taxonomy_cs/lmt/input/ChannelGrouping_2020-06-02_ford.csv',\n",
       "    'LastModified': datetime.datetime(2020, 10, 12, 21, 15, 2, tzinfo=tzlocal()),\n",
       "    'ETag': '\"85765aed716b8ac68c5ba714d1fd62b4\"',\n",
       "    'Size': 45,\n",
       "    'StorageClass': 'STANDARD',\n",
       "    'Schema': 'key_evt_source,target_channel'},\n",
       "   'ChannelGrouping_2020-06-01_ford.csv': {'KeyDirPath': 'taxonomy_cs/lmt/input/',\n",
       "    'ParentDir': 'input',\n",
       "    'FileName': 'ChannelGrouping_2020-06-01_ford.csv',\n",
       "    'FileGrp': 'ChannelGrouping',\n",
       "    'Date': '2020-06-01',\n",
       "    'ClientName': 'ford',\n",
       "    'Bucket': 'qubole-ford',\n",
       "    'Key': 'taxonomy_cs/lmt/input/ChannelGrouping_2020-06-01_ford.csv',\n",
       "    'LastModified': datetime.datetime(2020, 10, 12, 21, 15, 2, tzinfo=tzlocal()),\n",
       "    'ETag': '\"f6987a7636f122fd412879bdcb51678d\"',\n",
       "    'Size': 53,\n",
       "    'StorageClass': 'STANDARD',\n",
       "    'Schema': 'key_evt_source,target_channel'}},\n",
       "  'AdvertiserReporting': {'AdvertiserReporting_2020-06-01_ford.csv': {'KeyDirPath': 'taxonomy_cs/lmt/input/',\n",
       "    'ParentDir': 'input',\n",
       "    'FileName': 'AdvertiserReporting_2020-06-01_ford.csv',\n",
       "    'FileGrp': 'AdvertiserReporting',\n",
       "    'Date': '2020-06-01',\n",
       "    'ClientName': 'ford',\n",
       "    'Bucket': 'qubole-ford',\n",
       "    'Key': 'taxonomy_cs/lmt/input/AdvertiserReporting_2020-06-01_ford.csv',\n",
       "    'LastModified': datetime.datetime(2020, 10, 12, 21, 15, 2, tzinfo=tzlocal()),\n",
       "    'ETag': '\"04234605e8b4354998074abae5c74ae9\"',\n",
       "    'Size': 71,\n",
       "    'StorageClass': 'STANDARD',\n",
       "    'Schema': 'key_evt_advertiser_key,target_evt_advertiser_name'},\n",
       "   'AdvertiserReporting_2020-06-05_ford.csv': {'KeyDirPath': 'taxonomy_cs/lmt/input/',\n",
       "    'ParentDir': 'input',\n",
       "    'FileName': 'AdvertiserReporting_2020-06-05_ford.csv',\n",
       "    'FileGrp': 'AdvertiserReporting',\n",
       "    'Date': '2020-06-05',\n",
       "    'ClientName': 'ford',\n",
       "    'Bucket': 'qubole-ford',\n",
       "    'Key': 'taxonomy_cs/lmt/input/AdvertiserReporting_2020-06-05_ford.csv',\n",
       "    'LastModified': datetime.datetime(2020, 10, 27, 14, 14, 56, tzinfo=tzlocal()),\n",
       "    'ETag': '\"e4432fb96afba25162ecbd89624b93bd\"',\n",
       "    'Size': 72,\n",
       "    'StorageClass': 'STANDARD',\n",
       "    'Schema': 'key_evt_advertiser_key,target_evt_advertiser_name'},\n",
       "   'AdvertiserReporting_2020-06-03_ford.csv': {'KeyDirPath': 'taxonomy_cs/lmt/input/',\n",
       "    'ParentDir': 'input',\n",
       "    'FileName': 'AdvertiserReporting_2020-06-03_ford.csv',\n",
       "    'FileGrp': 'AdvertiserReporting',\n",
       "    'Date': '2020-06-03',\n",
       "    'ClientName': 'ford',\n",
       "    'Bucket': 'qubole-ford',\n",
       "    'Key': 'taxonomy_cs/lmt/input/AdvertiserReporting_2020-06-03_ford.csv',\n",
       "    'LastModified': datetime.datetime(2020, 10, 12, 21, 15, 2, tzinfo=tzlocal()),\n",
       "    'ETag': '\"e4432fb96afba25162ecbd89624b93bd\"',\n",
       "    'Size': 72,\n",
       "    'StorageClass': 'STANDARD',\n",
       "    'Schema': 'key_evt_advertiser_key,target_evt_advertiser_name'}}}}"
      ]
     },
     "execution_count": 37,
     "metadata": {},
     "output_type": "execute_result"
    }
   ],
   "source": [
    "src_delta"
   ]
  },
  {
   "cell_type": "code",
   "execution_count": null,
   "metadata": {},
   "outputs": [],
   "source": [
    "#tg_data_schema_dict\n",
    "#tg_data_files_dict\n",
    "#target_data_tg_dict = {re.findall(TARGET_EXTRACT_REGEX,V)[0]: K for K, V in tg_data_schema_dict.items()}"
   ]
  },
  {
   "cell_type": "code",
   "execution_count": 38,
   "metadata": {},
   "outputs": [
    {
     "data": {
      "text/plain": [
       "{'existing_tg_files_dict',\n",
       " 'invalid_files_set',\n",
       " 'invalid_schema_files',\n",
       " 'new_tg_files_dict',\n",
       " 'new_tg_schema_dict',\n",
       " 'schema_tg_dict',\n",
       " 'target_tg_dict'}"
      ]
     },
     "execution_count": 38,
     "metadata": {},
     "output_type": "execute_result"
    }
   ],
   "source": [
    "{ k for k in src_delta.keys()}"
   ]
  },
  {
   "cell_type": "code",
   "execution_count": 39,
   "metadata": {},
   "outputs": [
    {
     "data": {
      "text/plain": [
       "{'AdvertiserReporting', 'ChannelGrouping'}"
      ]
     },
     "execution_count": 39,
     "metadata": {},
     "output_type": "execute_result"
    }
   ],
   "source": [
    "{ k for k in tg_data_files_dict.keys()}"
   ]
  },
  {
   "cell_type": "code",
   "execution_count": 40,
   "metadata": {},
   "outputs": [
    {
     "data": {
      "text/plain": [
       "{'AdvertiserReporting', 'ChannelGrouping'}"
      ]
     },
     "execution_count": 40,
     "metadata": {},
     "output_type": "execute_result"
    }
   ],
   "source": [
    "{ k for k in src_delta['existing_tg_files_dict'].keys()}"
   ]
  },
  {
   "cell_type": "code",
   "execution_count": 41,
   "metadata": {},
   "outputs": [
    {
     "data": {
      "text/plain": [
       "{'AdvertiserReporting-123'}"
      ]
     },
     "execution_count": 41,
     "metadata": {},
     "output_type": "execute_result"
    }
   ],
   "source": [
    "{ k for k in src_delta['new_tg_files_dict'].keys()}"
   ]
  },
  {
   "cell_type": "code",
   "execution_count": 42,
   "metadata": {},
   "outputs": [
    {
     "data": {
      "text/plain": [
       "[]"
      ]
     },
     "execution_count": 42,
     "metadata": {},
     "output_type": "execute_result"
    }
   ],
   "source": [
    "[v for k, v in src_delta['schema_tg_dict'].items() if len(v) > 1]"
   ]
  },
  {
   "cell_type": "code",
   "execution_count": 43,
   "metadata": {},
   "outputs": [
    {
     "data": {
      "text/plain": [
       "[]"
      ]
     },
     "execution_count": 43,
     "metadata": {},
     "output_type": "execute_result"
    }
   ],
   "source": [
    "[v for k, v in src_delta['target_tg_dict'].items() if len(v) > 1]"
   ]
  },
  {
   "cell_type": "code",
   "execution_count": 44,
   "metadata": {},
   "outputs": [
    {
     "data": {
      "text/plain": [
       "{('s3://qubole-ford/taxonomy_cs/lmt/input/AdvertiserReporting_2020-06-02_ford.csv',\n",
       "  'ser_key,  target_evt_advertiser_name',\n",
       "  'At least one Key column is required! \\nAll given columns should Key or Target!'),\n",
       " ('s3://qubole-ford/taxonomy_cs/lmt/input/ChannelGrouping_2020-06-03_ford.csv',\n",
       "  'ource, target_channel',\n",
       "  'At least one Key column is required! \\nAll given columns should Key or Target!')}"
      ]
     },
     "execution_count": 44,
     "metadata": {},
     "output_type": "execute_result"
    }
   ],
   "source": [
    "src_delta['invalid_schema_files']"
   ]
  },
  {
   "cell_type": "code",
   "execution_count": 91,
   "metadata": {},
   "outputs": [],
   "source": [
    "tg_data = { k for k in tg_data_files_dict.keys()}\n",
    "tg_existing = { k for k in src_delta['existing_tg_files_dict'].keys()}\n",
    "tg_new ={ k for k in src_delta['new_tg_files_dict'].keys()}\n",
    "tg_delta = tg_new.union(tg_existing)\n",
    "tg_dropped = tg_data.difference(tg_delta)\n",
    "many_tg4schema_check_gen = (v for k, v in src_delta['schema_tg_dict'].items() if len(v) > 0)\n",
    "many_tg4target_check_gen = (v for k, v in src_delta['target_tg_dict'].items() if len(v) > 0)\n",
    "many_schema4tg_check_gen = (v for k, v in src_delta['new_tg_schema_dict'].items() if len(v) > 0)"
   ]
  },
  {
   "cell_type": "code",
   "execution_count": 92,
   "metadata": {},
   "outputs": [
    {
     "data": {
      "text/plain": [
       "[None]"
      ]
     },
     "execution_count": 92,
     "metadata": {},
     "output_type": "execute_result"
    }
   ],
   "source": [
    "tg4schema = set()\n",
    "[tg4schema.add(*i) for i in many_tg4schema_check_gen]\n",
    "tg4target = set()\n",
    "[tg4schema.add(*i) for i in many_tg4target_check_gen]\n",
    "schema4tg = set()\n",
    "[schema4tg.add(*i) for i in many_schema4tg_check_gen]"
   ]
  },
  {
   "cell_type": "code",
   "execution_count": 93,
   "metadata": {},
   "outputs": [
    {
     "data": {
      "text/plain": [
       "{'AdvertiserReporting', 'AdvertiserReporting-123', 'ChannelGrouping'}"
      ]
     },
     "execution_count": 93,
     "metadata": {},
     "output_type": "execute_result"
    }
   ],
   "source": [
    "tg4schema"
   ]
  },
  {
   "cell_type": "code",
   "execution_count": 97,
   "metadata": {},
   "outputs": [],
   "source": [
    "newTg4schema = {tg for schema in schema4tg for tg in src_delta['schema_tg_dict'][schema]}"
   ]
  },
  {
   "cell_type": "code",
   "execution_count": 98,
   "metadata": {},
   "outputs": [
    {
     "data": {
      "text/plain": [
       "{'AdvertiserReporting-123'}"
      ]
     },
     "execution_count": 98,
     "metadata": {},
     "output_type": "execute_result"
    }
   ],
   "source": [
    "newTg4schema"
   ]
  },
  {
   "cell_type": "code",
   "execution_count": 96,
   "metadata": {},
   "outputs": [
    {
     "data": {
      "text/plain": [
       "set()"
      ]
     },
     "execution_count": 96,
     "metadata": {},
     "output_type": "execute_result"
    }
   ],
   "source": [
    "tg4target"
   ]
  },
  {
   "cell_type": "code",
   "execution_count": 107,
   "metadata": {},
   "outputs": [],
   "source": [
    "#def extract_delta():\n",
    "invalid_files_set = src_delta['invalid_files_set']\n",
    "invalid_schema_files = src_delta['invalid_schema_files']\n",
    "\n",
    "tg_data = { k for k in tg_data_files_dict.keys()}\n",
    "tg_existing = { k for k in src_delta['existing_tg_files_dict'].keys()}\n",
    "tg_new ={ k for k in src_delta['new_tg_files_dict'].keys()}\n",
    "tg_all = tg_new.union(tg_existing)\n",
    "\n",
    "many_tg4schema_check_gen = (v for k, v in src_delta['schema_tg_dict'].items() if len(v) > 1)\n",
    "many_tg4target_check_gen = (v for k, v in src_delta['target_tg_dict'].items() if len(v) > 1)\n",
    "many_schema4tg_check_gen = (v for k, v in src_delta['new_tg_schema_dict'].items() if len(v) > 1)\n",
    "\n",
    "\n",
    "tg4schema = set()\n",
    "[tg4schema.add(*i) for i in many_tg4schema_check_gen]\n",
    "tg4target = set()\n",
    "[tg4schema.add(*i) for i in many_tg4target_check_gen]\n",
    "schema4tg = set()\n",
    "[schema4tg.add(*i) for i in many_schema4tg_check_gen]\n",
    "\n",
    "newTg4schema = {tg for schema in schema4tg for tg in src_delta['schema_tg_dict'][schema]}\n",
    "\n",
    "invalid_tg_with_dup_schema = (tg4schema.union(newTg4schema)).difference(tg_existing)\n",
    "\n",
    "invalid_tg_with_dup_target = tg4target.difference(tg_existing)\n",
    "\n",
    "invalid_tg_all = invalid_tg_with_dup_schema.union(invalid_tg_with_dup_target)\n",
    "\n",
    "tg_delta = tg_new.difference(invalid_tg_all)\n",
    "\n",
    "tg_delta_create = tg_delta.difference(tg_data)\n",
    "\n",
    "tg_delta_drop_n_create = (tg_delta.intersection(tg_data)).difference(tg_existing)\n",
    "\n",
    "tg_dropped = tg_data.difference(tg_all)\n",
    "\n",
    "# tg_dropped_all = tg_dropped.union(tg_delta_drop_n_create)\n",
    "# tg_create_all = tg_delta_create.union(tg_delta_drop_n_create)\n",
    "    "
   ]
  },
  {
   "cell_type": "code",
   "execution_count": 100,
   "metadata": {},
   "outputs": [
    {
     "data": {
      "text/plain": [
       "set()"
      ]
     },
     "execution_count": 100,
     "metadata": {},
     "output_type": "execute_result"
    }
   ],
   "source": [
    "invalid_tg_with_dup_schema"
   ]
  },
  {
   "cell_type": "code",
   "execution_count": 101,
   "metadata": {},
   "outputs": [
    {
     "data": {
      "text/plain": [
       "set()"
      ]
     },
     "execution_count": 101,
     "metadata": {},
     "output_type": "execute_result"
    }
   ],
   "source": [
    "invalid_tg_with_dup_target"
   ]
  },
  {
   "cell_type": "code",
   "execution_count": 102,
   "metadata": {},
   "outputs": [
    {
     "data": {
      "text/plain": [
       "set()"
      ]
     },
     "execution_count": 102,
     "metadata": {},
     "output_type": "execute_result"
    }
   ],
   "source": [
    "invalid_tg_all"
   ]
  },
  {
   "cell_type": "code",
   "execution_count": 103,
   "metadata": {},
   "outputs": [
    {
     "data": {
      "text/plain": [
       "{'AdvertiserReporting-123'}"
      ]
     },
     "execution_count": 103,
     "metadata": {},
     "output_type": "execute_result"
    }
   ],
   "source": [
    "tg_delta"
   ]
  },
  {
   "cell_type": "code",
   "execution_count": 104,
   "metadata": {},
   "outputs": [
    {
     "data": {
      "text/plain": [
       "{'AdvertiserReporting-123'}"
      ]
     },
     "execution_count": 104,
     "metadata": {},
     "output_type": "execute_result"
    }
   ],
   "source": [
    "tg_delta_create"
   ]
  },
  {
   "cell_type": "code",
   "execution_count": 105,
   "metadata": {},
   "outputs": [
    {
     "data": {
      "text/plain": [
       "set()"
      ]
     },
     "execution_count": 105,
     "metadata": {},
     "output_type": "execute_result"
    }
   ],
   "source": [
    "tg_delta_drop_n_create"
   ]
  },
  {
   "cell_type": "code",
   "execution_count": 106,
   "metadata": {},
   "outputs": [
    {
     "data": {
      "text/plain": [
       "set()"
      ]
     },
     "execution_count": 106,
     "metadata": {},
     "output_type": "execute_result"
    }
   ],
   "source": [
    "tg_dropped"
   ]
  },
  {
   "cell_type": "code",
   "execution_count": 108,
   "metadata": {},
   "outputs": [
    {
     "data": {
      "text/plain": [
       "set()"
      ]
     },
     "execution_count": 108,
     "metadata": {},
     "output_type": "execute_result"
    }
   ],
   "source": [
    "tg_dropped_all"
   ]
  },
  {
   "cell_type": "code",
   "execution_count": 109,
   "metadata": {},
   "outputs": [
    {
     "data": {
      "text/plain": [
       "{'AdvertiserReporting-123'}"
      ]
     },
     "execution_count": 109,
     "metadata": {},
     "output_type": "execute_result"
    }
   ],
   "source": [
    "tg_create_all"
   ]
  },
  {
   "cell_type": "code",
   "execution_count": null,
   "metadata": {},
   "outputs": [],
   "source": []
  }
 ],
 "metadata": {
  "kernelspec": {
   "display_name": "aws_util",
   "language": "python",
   "name": "aws_util"
  },
  "language_info": {
   "codemirror_mode": {
    "name": "ipython",
    "version": 3
   },
   "file_extension": ".py",
   "mimetype": "text/x-python",
   "name": "python",
   "nbconvert_exporter": "python",
   "pygments_lexer": "ipython3",
   "version": "3.7.2"
  }
 },
 "nbformat": 4,
 "nbformat_minor": 2
}
