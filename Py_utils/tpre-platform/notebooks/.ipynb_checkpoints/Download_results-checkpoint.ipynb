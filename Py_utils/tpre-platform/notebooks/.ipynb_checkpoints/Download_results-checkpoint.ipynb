{
 "cells": [
  {
   "cell_type": "markdown",
   "metadata": {},
   "source": [
    "# Get results"
   ]
  },
  {
   "cell_type": "code",
   "execution_count": 3,
   "metadata": {
    "ExecuteTime": {
     "end_time": "2019-02-22T17:44:45.532418Z",
     "start_time": "2019-02-22T17:44:45.506442Z"
    }
   },
   "outputs": [],
   "source": [
    "%load_ext autoreload\n",
    "%autoreload 2"
   ]
  },
  {
   "cell_type": "code",
   "execution_count": 139,
   "metadata": {
    "ExecuteTime": {
     "end_time": "2019-02-23T23:04:06.601892Z",
     "start_time": "2019-02-23T23:04:06.568446Z"
    }
   },
   "outputs": [],
   "source": [
    "import sys\n",
    "import os\n",
    "import json\n",
    "import pandas as pd\n",
    "import requests\n",
    "import re"
   ]
  },
  {
   "cell_type": "code",
   "execution_count": 5,
   "metadata": {
    "ExecuteTime": {
     "end_time": "2019-02-22T17:44:47.959125Z",
     "start_time": "2019-02-22T17:44:47.405542Z"
    }
   },
   "outputs": [],
   "source": [
    "conv_api_path = os.path.abspath(\"../conv_api/\")\n",
    "if conv_api_path not in sys.path:\n",
    "    sys.path.append(conv_api_path)\n",
    "from conv_api_conn import get_reports_urls, download_report_files, request_run"
   ]
  },
  {
   "cell_type": "code",
   "execution_count": 117,
   "metadata": {
    "ExecuteTime": {
     "end_time": "2019-02-23T22:29:06.642068Z",
     "start_time": "2019-02-23T22:29:06.440322Z"
    }
   },
   "outputs": [],
   "source": [
    "access_token = 'EAAZAuVvcfbzIBAN7eEabFBtQglFmQZBXu3mdI6vveFfZBVQF7HkSp8Jq7FcekmODGZCEXZBcU3zsosT8JuTpReOcqOwcezuWuxXgAiPCi7d1b2nxZCR3QAjhxa2U7GRNuY5LvtkdpZBJBZB4EZB0dPBaKdPBIUNBAZBIYfTV4n8zhO6chwL6CI5LKnmkmukLaqWRUZD'\n",
    "event_set_id = '2461135463917442'\n",
    "business_id = '1386462108046405'\n",
    "pixel_id = '734394220033893' # pier1\n",
    "pixel_id = '128900881029137' # ATT"
   ]
  },
  {
   "cell_type": "code",
   "execution_count": 50,
   "metadata": {
    "ExecuteTime": {
     "end_time": "2019-02-23T16:14:31.515763Z",
     "start_time": "2019-02-23T16:14:31.477896Z"
    }
   },
   "outputs": [
    {
     "data": {
      "text/plain": [
       "200"
      ]
     },
     "execution_count": 50,
     "metadata": {},
     "output_type": "execute_result"
    }
   ],
   "source": [
    "len(access_token)"
   ]
  },
  {
   "cell_type": "code",
   "execution_count": 7,
   "metadata": {
    "ExecuteTime": {
     "end_time": "2019-02-22T17:44:48.170024Z",
     "start_time": "2019-02-22T17:44:48.000501Z"
    }
   },
   "outputs": [
    {
     "name": "stdout",
     "output_type": "stream",
     "text": [
      "/Users/jnatali/repos/fb_mta/notebooks\r\n"
     ]
    }
   ],
   "source": [
    "!pwd"
   ]
  },
  {
   "cell_type": "markdown",
   "metadata": {},
   "source": [
    "## Request run"
   ]
  },
  {
   "cell_type": "code",
   "execution_count": 7,
   "metadata": {
    "ExecuteTime": {
     "end_time": "2019-02-22T02:47:17.586074Z",
     "start_time": "2019-02-22T02:47:17.433587Z"
    }
   },
   "outputs": [
    {
     "data": {
      "text/plain": [
       "['20190105_attribution_mod_v2',\n",
       " '20190112_attribution_mod_v2',\n",
       " '20190119_attribution_mod_v2',\n",
       " '20190126_attribution_mod_v2',\n",
       " '20190202_attribution_mod_v2']"
      ]
     },
     "execution_count": 7,
     "metadata": {},
     "output_type": "execute_result"
    }
   ],
   "source": [
    "raw_tags = \"\"\"\n",
    "\"20190105_attribution_mod_v2\": [\n",
    "\"20190112_attribution_mod_v2\": [\n",
    "\"20190119_attribution_mod_v2\": [\n",
    "\"20190126_attribution_mod_v2\": [\n",
    "\"20190202_attribution_mod_v2\": [\n",
    "\"\"\"\n",
    "tags = [t.strip() for t in raw_tags.replace('\"', '').replace(':', '').replace('[', '').split()]\n",
    "tags"
   ]
  },
  {
   "cell_type": "raw",
   "metadata": {
    "ExecuteTime": {
     "end_time": "2019-02-07T02:25:07.023165Z",
     "start_time": "2019-02-07T02:25:06.957446Z"
    }
   },
   "source": [
    "tags = ['20181215_attribution_ff_v1', '20181222_attribution_ff_v1']\n",
    "tags"
   ]
  },
  {
   "cell_type": "code",
   "execution_count": 8,
   "metadata": {
    "ExecuteTime": {
     "end_time": "2019-02-22T02:47:25.662006Z",
     "start_time": "2019-02-22T02:47:23.368304Z"
    }
   },
   "outputs": [],
   "source": [
    "responses = request_run(tags, access_token, business_id)"
   ]
  },
  {
   "cell_type": "code",
   "execution_count": 9,
   "metadata": {
    "ExecuteTime": {
     "end_time": "2019-02-22T02:47:25.707946Z",
     "start_time": "2019-02-22T02:47:25.665338Z"
    }
   },
   "outputs": [
    {
     "data": {
      "text/plain": [
       "[{'id': '766483513730040'},\n",
       " {'id': '2105836672784859'},\n",
       " {'id': '1972498892847375'},\n",
       " {'id': '2332312130389253'},\n",
       " {'id': '2547534648594092'}]"
      ]
     },
     "execution_count": 9,
     "metadata": {},
     "output_type": "execute_result"
    }
   ],
   "source": [
    "responses"
   ]
  },
  {
   "cell_type": "code",
   "execution_count": null,
   "metadata": {},
   "outputs": [],
   "source": [
    "2291311837809965"
   ]
  },
  {
   "cell_type": "raw",
   "metadata": {
    "ExecuteTime": {
     "end_time": "2019-02-23T20:15:45.208367Z",
     "start_time": "2019-02-23T20:15:44.668800Z"
    }
   },
   "source": [
    "%%writefile request_run_curl.sh\n",
    "curl -X POST \\\n",
    "-F 'upload_tag=20180804_estimation_v4' \\\n",
    "-F 'upload_start_time=1542992616' \\\n",
    "-F 'upload_end_time=1542993567' \\\n",
    "-F 'group=SUNDAY' \\\n",
    "-F 'version=EVALUATION' \\\n",
    "-F 'access_token=EAAZAuVvcfbzIBAN7eEabFBtQglFmQZBXu3mdI6vveFfZBVQF7HkSp8Jq7FcekmODGZCEXZBcU3zsosT8JuTpReOcqOwcezuWuxXgAiPCi7d1b2nxZCR3QAjhxa2U7GRNuY5LvtkdpZBJBZB4EZB0dPBaKdPBIUNBAZBIYfTV4n8zhO6chwL6CI5LKnmkmukLaqWRUZD' \\\n",
    "https://graph.facebook.com/v3.1/1386462108046405/upload_event"
   ]
  },
  {
   "cell_type": "code",
   "execution_count": 25,
   "metadata": {
    "ExecuteTime": {
     "end_time": "2018-12-12T20:01:19.435481Z",
     "start_time": "2018-12-12T20:01:18.467373Z"
    }
   },
   "outputs": [
    {
     "name": "stdout",
     "output_type": "stream",
     "text": [
      "{\"error\":{\"message\":\"(#3) User must be on whitelist\",\"type\":\"OAuthException\",\"code\":3,\"fbtrace_id\":\"Aaf5yQzx74B\"}}"
     ]
    }
   ],
   "source": [
    "!bash request_run_curl.sh"
   ]
  },
  {
   "cell_type": "code",
   "execution_count": 27,
   "metadata": {
    "ExecuteTime": {
     "end_time": "2018-12-12T20:02:57.917713Z",
     "start_time": "2018-12-12T20:02:57.009974Z"
    }
   },
   "outputs": [
    {
     "name": "stdout",
     "output_type": "stream",
     "text": [
      "{\"error\":{\"message\":\"(#3) User must be on whitelist\",\"type\":\"OAuthException\",\"code\":3,\"fbtrace_id\":\"AybwqZqJkN7\"}}"
     ]
    }
   ],
   "source": [
    "!bash request_run_curl.sh"
   ]
  },
  {
   "cell_type": "code",
   "execution_count": 26,
   "metadata": {
    "ExecuteTime": {
     "end_time": "2018-12-12T20:01:57.984472Z",
     "start_time": "2018-12-12T20:01:57.778311Z"
    }
   },
   "outputs": [
    {
     "name": "stdout",
     "output_type": "stream",
     "text": [
      "total 3096\r\n",
      "-rwxr-xr-x    1 jnatali  CIS\\Domain Users  976648 Sep 27 20:38 \u001b[31mFB_alpha_phase_POC_ES.ipynb\u001b[m\u001b[m\r\n",
      "-rwxr-xr-x    1 jnatali  CIS\\Domain Users  513953 Sep 27 20:38 \u001b[31mPier1_data_prep.ipynb\u001b[m\u001b[m\r\n",
      "drwxr-xr-x    3 jnatali  CIS\\Domain Users     102 Dec 11 19:44 \u001b[34m.ipynb_checkpoints\u001b[m\u001b[m\r\n",
      "drwxr-xr-x   15 jnatali  CIS\\Domain Users     510 Dec 12 04:01 \u001b[34m..\u001b[m\u001b[m\r\n",
      "-rw-r--r--@   1 jnatali  CIS\\Domain Users    6148 Dec 12 04:01 .DS_Store\r\n",
      "drwxr-xr-x  121 jnatali  CIS\\Domain Users    4114 Dec 12 06:12 \u001b[34mreports\u001b[m\u001b[m\r\n",
      "-rw-r--r--    1 jnatali  CIS\\Domain Users   74112 Dec 12 12:00 Download_results.ipynb\r\n",
      "-rw-r--r--    1 jnatali  CIS\\Domain Users     455 Dec 12 12:01 request_run_curl.sh\r\n",
      "drwxr-xr-x    9 jnatali  CIS\\Domain Users     306 Dec 12 12:01 \u001b[34m.\u001b[m\u001b[m\r\n"
     ]
    }
   ],
   "source": [
    "!ls -latr"
   ]
  },
  {
   "cell_type": "markdown",
   "metadata": {},
   "source": [
    "## Download results"
   ]
  },
  {
   "cell_type": "code",
   "execution_count": 113,
   "metadata": {
    "ExecuteTime": {
     "end_time": "2019-02-23T22:14:23.440303Z",
     "start_time": "2019-02-23T22:14:22.986556Z"
    }
   },
   "outputs": [],
   "source": [
    "access_token = 'EAAZAuVvcfbzIBAN7eEabFBtQglFmQZBXu3mdI6vveFfZBVQF7HkSp8Jq7FcekmODGZCEXZBcU3zsosT8JuTpReOcqOwcezuWuxXgAiPCi7d1b2nxZCR3QAjhxa2U7GRNuY5LvtkdpZBJBZB4EZB0dPBaKdPBIUNBAZBIYfTV4n8zhO6chwL6CI5LKnmkmukLaqWRUZD'\n",
    "#access_token = 'EAACEdEose0cBAEfU7sGuw4okZBbzL26U6wyHh0Cj0Wt4OOhr8mWzoOQSe9kzXiPq6nXYmUp1kjRCyOc4ide6lZAVGS776bqqB0obaxIww1WZBxPulkyofIbPUf13zhr9RBIygpL9UDZCxhNFDjrBQIVWg6qjjE2jWYKSq3RDBTR8u1kZCXXrtJ6SRzMHD4xcZD'\n",
    "#access_token = 'EAAZAuVvcfbzIBAMK3xVc1n7jMA2pCZC9yLZCV1yoKFzrbzDI7ZAnZBWxpjNNHOQIppxb1owKpmzZAQa0H3yd5Qcsxg1rDc1ayvyeOIknyNVvIFeiMaP4ZAQihmbIZCEEpzlLXZBbZB7qwlxvCdTZAhhHZCjV'\n",
    "access_token = 'EAAZAuVvcfbzIBAKSaI0n3EQuNHmJG8WvbSFmwV6fJpFzTAzZCLzQh46Llkmjd3EKVhkoV3ZCgHXWUP1iGdWToHZBZCWRGcqbZAYGVnZAAvipZC84yDLn2JE0RKXrjZCQ5ZAnVdwsGkoLluPnTQT7fDASZAomLYo8eGWPQcwIYWl3ZBZCiCwZDZD'\n",
    "#access_token = 'EAAZAuVvcfbzIBAMK3xVc1n7jMA2pCZC9yLZCV1yoKFzrbzDI7ZAnZBWxpjNNHOQIppxb1owKpmzZAQa0H3yd5Qcsxg1rDc1ayvyeOIknyNVvIFeiMaP4ZAQihmbIZCEEpzlLXZBbZB7qwlxvCdTZAhhHZCjV'\n",
    "access_token = 'EAAZAuVvcfbzIBAKSaI0n3EQuNHmJG8WvbSFmwV6fJpFzTAzZCLzQh46Llkmjd3EKVhkoV3ZCgHXWUP1iGdWToHZBZCWRGcqbZAYGVnZAAvipZC84yDLn2JE0RKXrjZCQ5ZAnVdwsGkoLluPnTQT7fDASZAomLYo8eGWPQcwIYWl3ZBZCiCwZDZD'"
   ]
  },
  {
   "cell_type": "code",
   "execution_count": 114,
   "metadata": {
    "ExecuteTime": {
     "end_time": "2019-02-23T22:14:25.711984Z",
     "start_time": "2019-02-23T22:14:25.653471Z"
    }
   },
   "outputs": [
    {
     "data": {
      "text/plain": [
       "184"
      ]
     },
     "execution_count": 114,
     "metadata": {},
     "output_type": "execute_result"
    }
   ],
   "source": [
    "len(access_token)"
   ]
  },
  {
   "cell_type": "code",
   "execution_count": 118,
   "metadata": {
    "ExecuteTime": {
     "end_time": "2019-02-23T22:45:52.513959Z",
     "start_time": "2019-02-23T22:35:21.551612Z"
    }
   },
   "outputs": [
    {
     "name": "stdout",
     "output_type": "stream",
     "text": [
      "{'data': [{'download_urls': ['https://scontent.xx.fbcdn.net/v/t58.7538-6/34777533_1817353401701882_3471690393991512064_n.gz/mta_partner_2019-02-21_cohort_1386462108046405_128900881029137summary_1000_1386462108046405_128900881029137.csv.gpg.gz?_nc_cat=107&_nc_ht=scontent.xx&oh=9074e27b45c99db20a246f9000ce28f1&oe=5C73F0EA'], 'metadata': {}, 'id': '2291311837809965'}, {'download_urls': ['https://scontent.xx.fbcdn.net/v/t58.7538-6/53183697_2204047949657670_8017569572049649664_n.gz/mta_partner_2019-02-21_cohort_1386462108046405_128900881029137membership_10_1386462108046405_128900881029137.csv.gpg.gz?_nc_cat=104&_nc_ht=scontent.xx&oh=134cecb3e04cb44a5f0a1be7ea39968a&oe=5C747A6B'], 'metadata': {}, 'id': '260055008220278'}, {'download_urls': ['https://scontent.xx.fbcdn.net/v/t58.7538-6/33976125_313087619347327_5411309822572232704_n.gz/mta_partner_2019-02-21_cohort_1386462108046405_128900881029137membership_1_1386462108046405_128900881029137.csv.gpg.gz?_nc_cat=107&_nc_ht=scontent.xx&oh=5ac45a35985a4f8d3e8b4023788dba35&oe=5C734091'], 'metadata': {}, 'id': '1417328851743324'}, {'download_urls': ['https://scontent.xx.fbcdn.net/v/t58.7538-6/53093894_1848120278621933_4696726680125833216_n.gz/mta_partner_2019-02-21_cohort_1386462108046405_128900881029137metrics_1_1386462108046405_128900881029137.csv.gpg.gz?_nc_cat=104&_nc_ht=scontent.xx&oh=3411486f66bfc65477f67d07f87eb0e8&oe=5C7474A6'], 'metadata': {}, 'id': '361618027762286'}, {'download_urls': ['https://scontent.xx.fbcdn.net/v/t58.7538-6/35243501_357806888137924_2481512875336663040_n.gz/mta_partner_2019-02-21_cohort_1386462108046405_128900881029137metrics_10_1386462108046405_128900881029137.csv.gpg.gz?_nc_cat=111&_nc_ht=scontent.xx&oh=73abc7f5a9eff32a705cd6046f5e6029&oe=5C7330F3'], 'metadata': {}, 'id': '376471113186450'}], 'paging': {'cursors': {'before': 'QVFIUkV3VGlXYkRiS1NrcklaamRBSm5SdkpralRMVDZAJd01PSmRmRkVIS0R0Wkw2c0kycGg3VUVRcGR4ZAXp0Y3VvM3JRSDRfUWNGNjFMaUROT3lBVWRkbnJn', 'after': 'QVFIUmp6WFVoQThlM3FYSHdOSFVVNE9hZAjVLLWQ1SUprSFJqVnBQVENhbkhHTExXWnlLU3VyYXl2ZA2FYd3Bud1hfdHNmTV9ZAXzF6dUFVSjg4SXlzTGpHY0tB'}, 'next': 'https://graph.facebook.com/v3.1/1386462108046405/measurement_reports?access_token=EAAZAuVvcfbzIBAN7eEabFBtQglFmQZBXu3mdI6vveFfZBVQF7HkSp8Jq7FcekmODGZCEXZBcU3zsosT8JuTpReOcqOwcezuWuxXgAiPCi7d1b2nxZCR3QAjhxa2U7GRNuY5LvtkdpZBJBZB4EZB0dPBaKdPBIUNBAZBIYfTV4n8zhO6chwL6CI5LKnmkmukLaqWRUZD&fields=%5B%22download_urls%22%2C+%22metadata%22%5D&since=1485368811&report_type=third_party_mta_report&limit=5&after=QVFIUmp6WFVoQThlM3FYSHdOSFVVNE9hZAjVLLWQ1SUprSFJqVnBQVENhbkhHTExXWnlLU3VyYXl2ZA2FYd3Bud1hfdHNmTV9ZAXzF6dUFVSjg4SXlzTGpHY0tB'}}\n"
     ]
    },
    {
     "ename": "KeyboardInterrupt",
     "evalue": "",
     "output_type": "error",
     "traceback": [
      "\u001b[0;31m---------------------------------------------------------------------------\u001b[0m",
      "\u001b[0;31mTypeError\u001b[0m                                 Traceback (most recent call last)",
      "\u001b[0;32m~/miniconda3/envs/main/lib/python3.6/site-packages/urllib3/connectionpool.py\u001b[0m in \u001b[0;36m_make_request\u001b[0;34m(self, conn, method, url, timeout, chunked, **httplib_request_kw)\u001b[0m\n\u001b[1;32m    376\u001b[0m             \u001b[0;32mtry\u001b[0m\u001b[0;34m:\u001b[0m  \u001b[0;31m# Python 2.7, use buffering of HTTP responses\u001b[0m\u001b[0;34m\u001b[0m\u001b[0;34m\u001b[0m\u001b[0m\n\u001b[0;32m--> 377\u001b[0;31m                 \u001b[0mhttplib_response\u001b[0m \u001b[0;34m=\u001b[0m \u001b[0mconn\u001b[0m\u001b[0;34m.\u001b[0m\u001b[0mgetresponse\u001b[0m\u001b[0;34m(\u001b[0m\u001b[0mbuffering\u001b[0m\u001b[0;34m=\u001b[0m\u001b[0;32mTrue\u001b[0m\u001b[0;34m)\u001b[0m\u001b[0;34m\u001b[0m\u001b[0;34m\u001b[0m\u001b[0m\n\u001b[0m\u001b[1;32m    378\u001b[0m             \u001b[0;32mexcept\u001b[0m \u001b[0mTypeError\u001b[0m\u001b[0;34m:\u001b[0m  \u001b[0;31m# Python 3\u001b[0m\u001b[0;34m\u001b[0m\u001b[0;34m\u001b[0m\u001b[0m\n",
      "\u001b[0;31mTypeError\u001b[0m: getresponse() got an unexpected keyword argument 'buffering'",
      "\nDuring handling of the above exception, another exception occurred:\n",
      "\u001b[0;31mWantReadError\u001b[0m                             Traceback (most recent call last)",
      "\u001b[0;32m~/miniconda3/envs/main/lib/python3.6/site-packages/urllib3/contrib/pyopenssl.py\u001b[0m in \u001b[0;36mrecv_into\u001b[0;34m(self, *args, **kwargs)\u001b[0m\n\u001b[1;32m    293\u001b[0m         \u001b[0;32mtry\u001b[0m\u001b[0;34m:\u001b[0m\u001b[0;34m\u001b[0m\u001b[0;34m\u001b[0m\u001b[0m\n\u001b[0;32m--> 294\u001b[0;31m             \u001b[0;32mreturn\u001b[0m \u001b[0mself\u001b[0m\u001b[0;34m.\u001b[0m\u001b[0mconnection\u001b[0m\u001b[0;34m.\u001b[0m\u001b[0mrecv_into\u001b[0m\u001b[0;34m(\u001b[0m\u001b[0;34m*\u001b[0m\u001b[0margs\u001b[0m\u001b[0;34m,\u001b[0m \u001b[0;34m**\u001b[0m\u001b[0mkwargs\u001b[0m\u001b[0;34m)\u001b[0m\u001b[0;34m\u001b[0m\u001b[0;34m\u001b[0m\u001b[0m\n\u001b[0m\u001b[1;32m    295\u001b[0m         \u001b[0;32mexcept\u001b[0m \u001b[0mOpenSSL\u001b[0m\u001b[0;34m.\u001b[0m\u001b[0mSSL\u001b[0m\u001b[0;34m.\u001b[0m\u001b[0mSysCallError\u001b[0m \u001b[0;32mas\u001b[0m \u001b[0me\u001b[0m\u001b[0;34m:\u001b[0m\u001b[0;34m\u001b[0m\u001b[0;34m\u001b[0m\u001b[0m\n",
      "\u001b[0;32m~/miniconda3/envs/main/lib/python3.6/site-packages/OpenSSL/SSL.py\u001b[0m in \u001b[0;36mrecv_into\u001b[0;34m(self, buffer, nbytes, flags)\u001b[0m\n\u001b[1;32m   1821\u001b[0m             \u001b[0mresult\u001b[0m \u001b[0;34m=\u001b[0m \u001b[0m_lib\u001b[0m\u001b[0;34m.\u001b[0m\u001b[0mSSL_read\u001b[0m\u001b[0;34m(\u001b[0m\u001b[0mself\u001b[0m\u001b[0;34m.\u001b[0m\u001b[0m_ssl\u001b[0m\u001b[0;34m,\u001b[0m \u001b[0mbuf\u001b[0m\u001b[0;34m,\u001b[0m \u001b[0mnbytes\u001b[0m\u001b[0;34m)\u001b[0m\u001b[0;34m\u001b[0m\u001b[0;34m\u001b[0m\u001b[0m\n\u001b[0;32m-> 1822\u001b[0;31m         \u001b[0mself\u001b[0m\u001b[0;34m.\u001b[0m\u001b[0m_raise_ssl_error\u001b[0m\u001b[0;34m(\u001b[0m\u001b[0mself\u001b[0m\u001b[0;34m.\u001b[0m\u001b[0m_ssl\u001b[0m\u001b[0;34m,\u001b[0m \u001b[0mresult\u001b[0m\u001b[0;34m)\u001b[0m\u001b[0;34m\u001b[0m\u001b[0;34m\u001b[0m\u001b[0m\n\u001b[0m\u001b[1;32m   1823\u001b[0m \u001b[0;34m\u001b[0m\u001b[0m\n",
      "\u001b[0;32m~/miniconda3/envs/main/lib/python3.6/site-packages/OpenSSL/SSL.py\u001b[0m in \u001b[0;36m_raise_ssl_error\u001b[0;34m(self, ssl, result)\u001b[0m\n\u001b[1;32m   1621\u001b[0m         \u001b[0;32mif\u001b[0m \u001b[0merror\u001b[0m \u001b[0;34m==\u001b[0m \u001b[0m_lib\u001b[0m\u001b[0;34m.\u001b[0m\u001b[0mSSL_ERROR_WANT_READ\u001b[0m\u001b[0;34m:\u001b[0m\u001b[0;34m\u001b[0m\u001b[0;34m\u001b[0m\u001b[0m\n\u001b[0;32m-> 1622\u001b[0;31m             \u001b[0;32mraise\u001b[0m \u001b[0mWantReadError\u001b[0m\u001b[0;34m(\u001b[0m\u001b[0;34m)\u001b[0m\u001b[0;34m\u001b[0m\u001b[0;34m\u001b[0m\u001b[0m\n\u001b[0m\u001b[1;32m   1623\u001b[0m         \u001b[0;32melif\u001b[0m \u001b[0merror\u001b[0m \u001b[0;34m==\u001b[0m \u001b[0m_lib\u001b[0m\u001b[0;34m.\u001b[0m\u001b[0mSSL_ERROR_WANT_WRITE\u001b[0m\u001b[0;34m:\u001b[0m\u001b[0;34m\u001b[0m\u001b[0;34m\u001b[0m\u001b[0m\n",
      "\u001b[0;31mWantReadError\u001b[0m: ",
      "\nDuring handling of the above exception, another exception occurred:\n",
      "\u001b[0;31mKeyboardInterrupt\u001b[0m                         Traceback (most recent call last)",
      "\u001b[0;32m<ipython-input-118-26fb8712ae49>\u001b[0m in \u001b[0;36m<module>\u001b[0;34m\u001b[0m\n\u001b[0;32m----> 1\u001b[0;31m \u001b[0murls\u001b[0m \u001b[0;34m=\u001b[0m \u001b[0mget_reports_urls\u001b[0m\u001b[0;34m(\u001b[0m\u001b[0maccess_token\u001b[0m\u001b[0;34m,\u001b[0m \u001b[0mbusiness_id\u001b[0m\u001b[0;34m,\u001b[0m \u001b[0mpixel_id\u001b[0m\u001b[0;34m,\u001b[0m \u001b[0msince\u001b[0m\u001b[0;34m=\u001b[0m\u001b[0;34m'1485368811'\u001b[0m\u001b[0;34m,\u001b[0m \u001b[0mlimit\u001b[0m\u001b[0;34m=\u001b[0m\u001b[0;36m5\u001b[0m\u001b[0;34m)\u001b[0m\u001b[0;34m\u001b[0m\u001b[0;34m\u001b[0m\u001b[0m\n\u001b[0m",
      "\u001b[0;32m~/repos/fb_mta/conv_api/conv_api_conn.py\u001b[0m in \u001b[0;36mget_reports_urls\u001b[0;34m(access_token, business_id, pixel_id, **kwargs)\u001b[0m\n\u001b[1;32m    212\u001b[0m         \u001b[0mnext_url\u001b[0m \u001b[0;34m=\u001b[0m \u001b[0mr_json\u001b[0m\u001b[0;34m[\u001b[0m\u001b[0;34m'paging'\u001b[0m\u001b[0;34m]\u001b[0m\u001b[0;34m[\u001b[0m\u001b[0;34m'next'\u001b[0m\u001b[0;34m]\u001b[0m\u001b[0;34m\u001b[0m\u001b[0;34m\u001b[0m\u001b[0m\n\u001b[1;32m    213\u001b[0m         \u001b[0mlogging\u001b[0m\u001b[0;34m.\u001b[0m\u001b[0mdebug\u001b[0m\u001b[0;34m(\u001b[0m\u001b[0;34mf\"Next url = {next_url}\"\u001b[0m\u001b[0;34m)\u001b[0m\u001b[0;34m\u001b[0m\u001b[0;34m\u001b[0m\u001b[0m\n\u001b[0;32m--> 214\u001b[0;31m         \u001b[0mr\u001b[0m \u001b[0;34m=\u001b[0m \u001b[0mrequests\u001b[0m\u001b[0;34m.\u001b[0m\u001b[0mget\u001b[0m\u001b[0;34m(\u001b[0m\u001b[0mnext_url\u001b[0m\u001b[0;34m,\u001b[0m \u001b[0mtimeout\u001b[0m\u001b[0;34m=\u001b[0m\u001b[0;36m100\u001b[0m\u001b[0;34m)\u001b[0m\u001b[0;34m\u001b[0m\u001b[0;34m\u001b[0m\u001b[0m\n\u001b[0m\u001b[1;32m    215\u001b[0m         \u001b[0mr\u001b[0m\u001b[0;34m.\u001b[0m\u001b[0mraise_for_status\u001b[0m\u001b[0;34m(\u001b[0m\u001b[0;34m)\u001b[0m\u001b[0;34m\u001b[0m\u001b[0;34m\u001b[0m\u001b[0m\n\u001b[1;32m    216\u001b[0m         \u001b[0mr_json\u001b[0m \u001b[0;34m=\u001b[0m \u001b[0mr\u001b[0m\u001b[0;34m.\u001b[0m\u001b[0mjson\u001b[0m\u001b[0;34m(\u001b[0m\u001b[0;34m)\u001b[0m\u001b[0;34m\u001b[0m\u001b[0;34m\u001b[0m\u001b[0m\n",
      "\u001b[0;32m~/miniconda3/envs/main/lib/python3.6/site-packages/requests/api.py\u001b[0m in \u001b[0;36mget\u001b[0;34m(url, params, **kwargs)\u001b[0m\n\u001b[1;32m     73\u001b[0m \u001b[0;34m\u001b[0m\u001b[0m\n\u001b[1;32m     74\u001b[0m     \u001b[0mkwargs\u001b[0m\u001b[0;34m.\u001b[0m\u001b[0msetdefault\u001b[0m\u001b[0;34m(\u001b[0m\u001b[0;34m'allow_redirects'\u001b[0m\u001b[0;34m,\u001b[0m \u001b[0;32mTrue\u001b[0m\u001b[0;34m)\u001b[0m\u001b[0;34m\u001b[0m\u001b[0;34m\u001b[0m\u001b[0m\n\u001b[0;32m---> 75\u001b[0;31m     \u001b[0;32mreturn\u001b[0m \u001b[0mrequest\u001b[0m\u001b[0;34m(\u001b[0m\u001b[0;34m'get'\u001b[0m\u001b[0;34m,\u001b[0m \u001b[0murl\u001b[0m\u001b[0;34m,\u001b[0m \u001b[0mparams\u001b[0m\u001b[0;34m=\u001b[0m\u001b[0mparams\u001b[0m\u001b[0;34m,\u001b[0m \u001b[0;34m**\u001b[0m\u001b[0mkwargs\u001b[0m\u001b[0;34m)\u001b[0m\u001b[0;34m\u001b[0m\u001b[0;34m\u001b[0m\u001b[0m\n\u001b[0m\u001b[1;32m     76\u001b[0m \u001b[0;34m\u001b[0m\u001b[0m\n\u001b[1;32m     77\u001b[0m \u001b[0;34m\u001b[0m\u001b[0m\n",
      "\u001b[0;32m~/miniconda3/envs/main/lib/python3.6/site-packages/requests/api.py\u001b[0m in \u001b[0;36mrequest\u001b[0;34m(method, url, **kwargs)\u001b[0m\n\u001b[1;32m     58\u001b[0m     \u001b[0;31m# cases, and look like a memory leak in others.\u001b[0m\u001b[0;34m\u001b[0m\u001b[0;34m\u001b[0m\u001b[0;34m\u001b[0m\u001b[0m\n\u001b[1;32m     59\u001b[0m     \u001b[0;32mwith\u001b[0m \u001b[0msessions\u001b[0m\u001b[0;34m.\u001b[0m\u001b[0mSession\u001b[0m\u001b[0;34m(\u001b[0m\u001b[0;34m)\u001b[0m \u001b[0;32mas\u001b[0m \u001b[0msession\u001b[0m\u001b[0;34m:\u001b[0m\u001b[0;34m\u001b[0m\u001b[0;34m\u001b[0m\u001b[0m\n\u001b[0;32m---> 60\u001b[0;31m         \u001b[0;32mreturn\u001b[0m \u001b[0msession\u001b[0m\u001b[0;34m.\u001b[0m\u001b[0mrequest\u001b[0m\u001b[0;34m(\u001b[0m\u001b[0mmethod\u001b[0m\u001b[0;34m=\u001b[0m\u001b[0mmethod\u001b[0m\u001b[0;34m,\u001b[0m \u001b[0murl\u001b[0m\u001b[0;34m=\u001b[0m\u001b[0murl\u001b[0m\u001b[0;34m,\u001b[0m \u001b[0;34m**\u001b[0m\u001b[0mkwargs\u001b[0m\u001b[0;34m)\u001b[0m\u001b[0;34m\u001b[0m\u001b[0;34m\u001b[0m\u001b[0m\n\u001b[0m\u001b[1;32m     61\u001b[0m \u001b[0;34m\u001b[0m\u001b[0m\n\u001b[1;32m     62\u001b[0m \u001b[0;34m\u001b[0m\u001b[0m\n",
      "\u001b[0;32m~/miniconda3/envs/main/lib/python3.6/site-packages/requests/sessions.py\u001b[0m in \u001b[0;36mrequest\u001b[0;34m(self, method, url, params, data, headers, cookies, files, auth, timeout, allow_redirects, proxies, hooks, stream, verify, cert, json)\u001b[0m\n\u001b[1;32m    531\u001b[0m         }\n\u001b[1;32m    532\u001b[0m         \u001b[0msend_kwargs\u001b[0m\u001b[0;34m.\u001b[0m\u001b[0mupdate\u001b[0m\u001b[0;34m(\u001b[0m\u001b[0msettings\u001b[0m\u001b[0;34m)\u001b[0m\u001b[0;34m\u001b[0m\u001b[0;34m\u001b[0m\u001b[0m\n\u001b[0;32m--> 533\u001b[0;31m         \u001b[0mresp\u001b[0m \u001b[0;34m=\u001b[0m \u001b[0mself\u001b[0m\u001b[0;34m.\u001b[0m\u001b[0msend\u001b[0m\u001b[0;34m(\u001b[0m\u001b[0mprep\u001b[0m\u001b[0;34m,\u001b[0m \u001b[0;34m**\u001b[0m\u001b[0msend_kwargs\u001b[0m\u001b[0;34m)\u001b[0m\u001b[0;34m\u001b[0m\u001b[0;34m\u001b[0m\u001b[0m\n\u001b[0m\u001b[1;32m    534\u001b[0m \u001b[0;34m\u001b[0m\u001b[0m\n\u001b[1;32m    535\u001b[0m         \u001b[0;32mreturn\u001b[0m \u001b[0mresp\u001b[0m\u001b[0;34m\u001b[0m\u001b[0;34m\u001b[0m\u001b[0m\n",
      "\u001b[0;32m~/miniconda3/envs/main/lib/python3.6/site-packages/requests/sessions.py\u001b[0m in \u001b[0;36msend\u001b[0;34m(self, request, **kwargs)\u001b[0m\n\u001b[1;32m    644\u001b[0m \u001b[0;34m\u001b[0m\u001b[0m\n\u001b[1;32m    645\u001b[0m         \u001b[0;31m# Send the request\u001b[0m\u001b[0;34m\u001b[0m\u001b[0;34m\u001b[0m\u001b[0;34m\u001b[0m\u001b[0m\n\u001b[0;32m--> 646\u001b[0;31m         \u001b[0mr\u001b[0m \u001b[0;34m=\u001b[0m \u001b[0madapter\u001b[0m\u001b[0;34m.\u001b[0m\u001b[0msend\u001b[0m\u001b[0;34m(\u001b[0m\u001b[0mrequest\u001b[0m\u001b[0;34m,\u001b[0m \u001b[0;34m**\u001b[0m\u001b[0mkwargs\u001b[0m\u001b[0;34m)\u001b[0m\u001b[0;34m\u001b[0m\u001b[0;34m\u001b[0m\u001b[0m\n\u001b[0m\u001b[1;32m    647\u001b[0m \u001b[0;34m\u001b[0m\u001b[0m\n\u001b[1;32m    648\u001b[0m         \u001b[0;31m# Total elapsed time of the request (approximately)\u001b[0m\u001b[0;34m\u001b[0m\u001b[0;34m\u001b[0m\u001b[0;34m\u001b[0m\u001b[0m\n",
      "\u001b[0;32m~/miniconda3/envs/main/lib/python3.6/site-packages/requests/adapters.py\u001b[0m in \u001b[0;36msend\u001b[0;34m(self, request, stream, timeout, verify, cert, proxies)\u001b[0m\n\u001b[1;32m    447\u001b[0m                     \u001b[0mdecode_content\u001b[0m\u001b[0;34m=\u001b[0m\u001b[0;32mFalse\u001b[0m\u001b[0;34m,\u001b[0m\u001b[0;34m\u001b[0m\u001b[0;34m\u001b[0m\u001b[0m\n\u001b[1;32m    448\u001b[0m                     \u001b[0mretries\u001b[0m\u001b[0;34m=\u001b[0m\u001b[0mself\u001b[0m\u001b[0;34m.\u001b[0m\u001b[0mmax_retries\u001b[0m\u001b[0;34m,\u001b[0m\u001b[0;34m\u001b[0m\u001b[0;34m\u001b[0m\u001b[0m\n\u001b[0;32m--> 449\u001b[0;31m                     \u001b[0mtimeout\u001b[0m\u001b[0;34m=\u001b[0m\u001b[0mtimeout\u001b[0m\u001b[0;34m\u001b[0m\u001b[0;34m\u001b[0m\u001b[0m\n\u001b[0m\u001b[1;32m    450\u001b[0m                 )\n\u001b[1;32m    451\u001b[0m \u001b[0;34m\u001b[0m\u001b[0m\n",
      "\u001b[0;32m~/miniconda3/envs/main/lib/python3.6/site-packages/urllib3/connectionpool.py\u001b[0m in \u001b[0;36murlopen\u001b[0;34m(self, method, url, body, headers, retries, redirect, assert_same_host, timeout, pool_timeout, release_conn, chunked, body_pos, **response_kw)\u001b[0m\n\u001b[1;32m    598\u001b[0m                                                   \u001b[0mtimeout\u001b[0m\u001b[0;34m=\u001b[0m\u001b[0mtimeout_obj\u001b[0m\u001b[0;34m,\u001b[0m\u001b[0;34m\u001b[0m\u001b[0;34m\u001b[0m\u001b[0m\n\u001b[1;32m    599\u001b[0m                                                   \u001b[0mbody\u001b[0m\u001b[0;34m=\u001b[0m\u001b[0mbody\u001b[0m\u001b[0;34m,\u001b[0m \u001b[0mheaders\u001b[0m\u001b[0;34m=\u001b[0m\u001b[0mheaders\u001b[0m\u001b[0;34m,\u001b[0m\u001b[0;34m\u001b[0m\u001b[0;34m\u001b[0m\u001b[0m\n\u001b[0;32m--> 600\u001b[0;31m                                                   chunked=chunked)\n\u001b[0m\u001b[1;32m    601\u001b[0m \u001b[0;34m\u001b[0m\u001b[0m\n\u001b[1;32m    602\u001b[0m             \u001b[0;31m# If we're going to release the connection in ``finally:``, then\u001b[0m\u001b[0;34m\u001b[0m\u001b[0;34m\u001b[0m\u001b[0;34m\u001b[0m\u001b[0m\n",
      "\u001b[0;32m~/miniconda3/envs/main/lib/python3.6/site-packages/urllib3/connectionpool.py\u001b[0m in \u001b[0;36m_make_request\u001b[0;34m(self, conn, method, url, timeout, chunked, **httplib_request_kw)\u001b[0m\n\u001b[1;32m    378\u001b[0m             \u001b[0;32mexcept\u001b[0m \u001b[0mTypeError\u001b[0m\u001b[0;34m:\u001b[0m  \u001b[0;31m# Python 3\u001b[0m\u001b[0;34m\u001b[0m\u001b[0;34m\u001b[0m\u001b[0m\n\u001b[1;32m    379\u001b[0m                 \u001b[0;32mtry\u001b[0m\u001b[0;34m:\u001b[0m\u001b[0;34m\u001b[0m\u001b[0;34m\u001b[0m\u001b[0m\n\u001b[0;32m--> 380\u001b[0;31m                     \u001b[0mhttplib_response\u001b[0m \u001b[0;34m=\u001b[0m \u001b[0mconn\u001b[0m\u001b[0;34m.\u001b[0m\u001b[0mgetresponse\u001b[0m\u001b[0;34m(\u001b[0m\u001b[0;34m)\u001b[0m\u001b[0;34m\u001b[0m\u001b[0;34m\u001b[0m\u001b[0m\n\u001b[0m\u001b[1;32m    381\u001b[0m                 \u001b[0;32mexcept\u001b[0m \u001b[0mException\u001b[0m \u001b[0;32mas\u001b[0m \u001b[0me\u001b[0m\u001b[0;34m:\u001b[0m\u001b[0;34m\u001b[0m\u001b[0;34m\u001b[0m\u001b[0m\n\u001b[1;32m    382\u001b[0m                     \u001b[0;31m# Remove the TypeError from the exception chain in Python 3;\u001b[0m\u001b[0;34m\u001b[0m\u001b[0;34m\u001b[0m\u001b[0;34m\u001b[0m\u001b[0m\n",
      "\u001b[0;32m~/miniconda3/envs/main/lib/python3.6/http/client.py\u001b[0m in \u001b[0;36mgetresponse\u001b[0;34m(self)\u001b[0m\n\u001b[1;32m   1329\u001b[0m         \u001b[0;32mtry\u001b[0m\u001b[0;34m:\u001b[0m\u001b[0;34m\u001b[0m\u001b[0;34m\u001b[0m\u001b[0m\n\u001b[1;32m   1330\u001b[0m             \u001b[0;32mtry\u001b[0m\u001b[0;34m:\u001b[0m\u001b[0;34m\u001b[0m\u001b[0;34m\u001b[0m\u001b[0m\n\u001b[0;32m-> 1331\u001b[0;31m                 \u001b[0mresponse\u001b[0m\u001b[0;34m.\u001b[0m\u001b[0mbegin\u001b[0m\u001b[0;34m(\u001b[0m\u001b[0;34m)\u001b[0m\u001b[0;34m\u001b[0m\u001b[0;34m\u001b[0m\u001b[0m\n\u001b[0m\u001b[1;32m   1332\u001b[0m             \u001b[0;32mexcept\u001b[0m \u001b[0mConnectionError\u001b[0m\u001b[0;34m:\u001b[0m\u001b[0;34m\u001b[0m\u001b[0;34m\u001b[0m\u001b[0m\n\u001b[1;32m   1333\u001b[0m                 \u001b[0mself\u001b[0m\u001b[0;34m.\u001b[0m\u001b[0mclose\u001b[0m\u001b[0;34m(\u001b[0m\u001b[0;34m)\u001b[0m\u001b[0;34m\u001b[0m\u001b[0;34m\u001b[0m\u001b[0m\n",
      "\u001b[0;32m~/miniconda3/envs/main/lib/python3.6/http/client.py\u001b[0m in \u001b[0;36mbegin\u001b[0;34m(self)\u001b[0m\n\u001b[1;32m    295\u001b[0m         \u001b[0;31m# read until we get a non-100 response\u001b[0m\u001b[0;34m\u001b[0m\u001b[0;34m\u001b[0m\u001b[0;34m\u001b[0m\u001b[0m\n\u001b[1;32m    296\u001b[0m         \u001b[0;32mwhile\u001b[0m \u001b[0;32mTrue\u001b[0m\u001b[0;34m:\u001b[0m\u001b[0;34m\u001b[0m\u001b[0;34m\u001b[0m\u001b[0m\n\u001b[0;32m--> 297\u001b[0;31m             \u001b[0mversion\u001b[0m\u001b[0;34m,\u001b[0m \u001b[0mstatus\u001b[0m\u001b[0;34m,\u001b[0m \u001b[0mreason\u001b[0m \u001b[0;34m=\u001b[0m \u001b[0mself\u001b[0m\u001b[0;34m.\u001b[0m\u001b[0m_read_status\u001b[0m\u001b[0;34m(\u001b[0m\u001b[0;34m)\u001b[0m\u001b[0;34m\u001b[0m\u001b[0;34m\u001b[0m\u001b[0m\n\u001b[0m\u001b[1;32m    298\u001b[0m             \u001b[0;32mif\u001b[0m \u001b[0mstatus\u001b[0m \u001b[0;34m!=\u001b[0m \u001b[0mCONTINUE\u001b[0m\u001b[0;34m:\u001b[0m\u001b[0;34m\u001b[0m\u001b[0;34m\u001b[0m\u001b[0m\n\u001b[1;32m    299\u001b[0m                 \u001b[0;32mbreak\u001b[0m\u001b[0;34m\u001b[0m\u001b[0;34m\u001b[0m\u001b[0m\n",
      "\u001b[0;32m~/miniconda3/envs/main/lib/python3.6/http/client.py\u001b[0m in \u001b[0;36m_read_status\u001b[0;34m(self)\u001b[0m\n\u001b[1;32m    256\u001b[0m \u001b[0;34m\u001b[0m\u001b[0m\n\u001b[1;32m    257\u001b[0m     \u001b[0;32mdef\u001b[0m \u001b[0m_read_status\u001b[0m\u001b[0;34m(\u001b[0m\u001b[0mself\u001b[0m\u001b[0;34m)\u001b[0m\u001b[0;34m:\u001b[0m\u001b[0;34m\u001b[0m\u001b[0;34m\u001b[0m\u001b[0m\n\u001b[0;32m--> 258\u001b[0;31m         \u001b[0mline\u001b[0m \u001b[0;34m=\u001b[0m \u001b[0mstr\u001b[0m\u001b[0;34m(\u001b[0m\u001b[0mself\u001b[0m\u001b[0;34m.\u001b[0m\u001b[0mfp\u001b[0m\u001b[0;34m.\u001b[0m\u001b[0mreadline\u001b[0m\u001b[0;34m(\u001b[0m\u001b[0m_MAXLINE\u001b[0m \u001b[0;34m+\u001b[0m \u001b[0;36m1\u001b[0m\u001b[0;34m)\u001b[0m\u001b[0;34m,\u001b[0m \u001b[0;34m\"iso-8859-1\"\u001b[0m\u001b[0;34m)\u001b[0m\u001b[0;34m\u001b[0m\u001b[0;34m\u001b[0m\u001b[0m\n\u001b[0m\u001b[1;32m    259\u001b[0m         \u001b[0;32mif\u001b[0m \u001b[0mlen\u001b[0m\u001b[0;34m(\u001b[0m\u001b[0mline\u001b[0m\u001b[0;34m)\u001b[0m \u001b[0;34m>\u001b[0m \u001b[0m_MAXLINE\u001b[0m\u001b[0;34m:\u001b[0m\u001b[0;34m\u001b[0m\u001b[0;34m\u001b[0m\u001b[0m\n\u001b[1;32m    260\u001b[0m             \u001b[0;32mraise\u001b[0m \u001b[0mLineTooLong\u001b[0m\u001b[0;34m(\u001b[0m\u001b[0;34m\"status line\"\u001b[0m\u001b[0;34m)\u001b[0m\u001b[0;34m\u001b[0m\u001b[0;34m\u001b[0m\u001b[0m\n",
      "\u001b[0;32m~/miniconda3/envs/main/lib/python3.6/socket.py\u001b[0m in \u001b[0;36mreadinto\u001b[0;34m(self, b)\u001b[0m\n\u001b[1;32m    584\u001b[0m         \u001b[0;32mwhile\u001b[0m \u001b[0;32mTrue\u001b[0m\u001b[0;34m:\u001b[0m\u001b[0;34m\u001b[0m\u001b[0;34m\u001b[0m\u001b[0m\n\u001b[1;32m    585\u001b[0m             \u001b[0;32mtry\u001b[0m\u001b[0;34m:\u001b[0m\u001b[0;34m\u001b[0m\u001b[0;34m\u001b[0m\u001b[0m\n\u001b[0;32m--> 586\u001b[0;31m                 \u001b[0;32mreturn\u001b[0m \u001b[0mself\u001b[0m\u001b[0;34m.\u001b[0m\u001b[0m_sock\u001b[0m\u001b[0;34m.\u001b[0m\u001b[0mrecv_into\u001b[0m\u001b[0;34m(\u001b[0m\u001b[0mb\u001b[0m\u001b[0;34m)\u001b[0m\u001b[0;34m\u001b[0m\u001b[0;34m\u001b[0m\u001b[0m\n\u001b[0m\u001b[1;32m    587\u001b[0m             \u001b[0;32mexcept\u001b[0m \u001b[0mtimeout\u001b[0m\u001b[0;34m:\u001b[0m\u001b[0;34m\u001b[0m\u001b[0;34m\u001b[0m\u001b[0m\n\u001b[1;32m    588\u001b[0m                 \u001b[0mself\u001b[0m\u001b[0;34m.\u001b[0m\u001b[0m_timeout_occurred\u001b[0m \u001b[0;34m=\u001b[0m \u001b[0;32mTrue\u001b[0m\u001b[0;34m\u001b[0m\u001b[0;34m\u001b[0m\u001b[0m\n",
      "\u001b[0;32m~/miniconda3/envs/main/lib/python3.6/site-packages/urllib3/contrib/pyopenssl.py\u001b[0m in \u001b[0;36mrecv_into\u001b[0;34m(self, *args, **kwargs)\u001b[0m\n\u001b[1;32m    304\u001b[0m                 \u001b[0;32mraise\u001b[0m\u001b[0;34m\u001b[0m\u001b[0;34m\u001b[0m\u001b[0m\n\u001b[1;32m    305\u001b[0m         \u001b[0;32mexcept\u001b[0m \u001b[0mOpenSSL\u001b[0m\u001b[0;34m.\u001b[0m\u001b[0mSSL\u001b[0m\u001b[0;34m.\u001b[0m\u001b[0mWantReadError\u001b[0m\u001b[0;34m:\u001b[0m\u001b[0;34m\u001b[0m\u001b[0;34m\u001b[0m\u001b[0m\n\u001b[0;32m--> 306\u001b[0;31m             \u001b[0;32mif\u001b[0m \u001b[0;32mnot\u001b[0m \u001b[0mutil\u001b[0m\u001b[0;34m.\u001b[0m\u001b[0mwait_for_read\u001b[0m\u001b[0;34m(\u001b[0m\u001b[0mself\u001b[0m\u001b[0;34m.\u001b[0m\u001b[0msocket\u001b[0m\u001b[0;34m,\u001b[0m \u001b[0mself\u001b[0m\u001b[0;34m.\u001b[0m\u001b[0msocket\u001b[0m\u001b[0;34m.\u001b[0m\u001b[0mgettimeout\u001b[0m\u001b[0;34m(\u001b[0m\u001b[0;34m)\u001b[0m\u001b[0;34m)\u001b[0m\u001b[0;34m:\u001b[0m\u001b[0;34m\u001b[0m\u001b[0;34m\u001b[0m\u001b[0m\n\u001b[0m\u001b[1;32m    307\u001b[0m                 \u001b[0;32mraise\u001b[0m \u001b[0mtimeout\u001b[0m\u001b[0;34m(\u001b[0m\u001b[0;34m'The read operation timed out'\u001b[0m\u001b[0;34m)\u001b[0m\u001b[0;34m\u001b[0m\u001b[0;34m\u001b[0m\u001b[0m\n\u001b[1;32m    308\u001b[0m             \u001b[0;32melse\u001b[0m\u001b[0;34m:\u001b[0m\u001b[0;34m\u001b[0m\u001b[0;34m\u001b[0m\u001b[0m\n",
      "\u001b[0;32m~/miniconda3/envs/main/lib/python3.6/site-packages/urllib3/util/wait.py\u001b[0m in \u001b[0;36mwait_for_read\u001b[0;34m(sock, timeout)\u001b[0m\n\u001b[1;32m    141\u001b[0m     \u001b[0mReturns\u001b[0m \u001b[0;32mTrue\u001b[0m \u001b[0;32mif\u001b[0m \u001b[0mthe\u001b[0m \u001b[0msocket\u001b[0m \u001b[0;32mis\u001b[0m \u001b[0mreadable\u001b[0m\u001b[0;34m,\u001b[0m \u001b[0;32mor\u001b[0m \u001b[0;32mFalse\u001b[0m \u001b[0;32mif\u001b[0m \u001b[0mthe\u001b[0m \u001b[0mtimeout\u001b[0m \u001b[0mexpired\u001b[0m\u001b[0;34m.\u001b[0m\u001b[0;34m\u001b[0m\u001b[0;34m\u001b[0m\u001b[0m\n\u001b[1;32m    142\u001b[0m     \"\"\"\n\u001b[0;32m--> 143\u001b[0;31m     \u001b[0;32mreturn\u001b[0m \u001b[0mwait_for_socket\u001b[0m\u001b[0;34m(\u001b[0m\u001b[0msock\u001b[0m\u001b[0;34m,\u001b[0m \u001b[0mread\u001b[0m\u001b[0;34m=\u001b[0m\u001b[0;32mTrue\u001b[0m\u001b[0;34m,\u001b[0m \u001b[0mtimeout\u001b[0m\u001b[0;34m=\u001b[0m\u001b[0mtimeout\u001b[0m\u001b[0;34m)\u001b[0m\u001b[0;34m\u001b[0m\u001b[0;34m\u001b[0m\u001b[0m\n\u001b[0m\u001b[1;32m    144\u001b[0m \u001b[0;34m\u001b[0m\u001b[0m\n\u001b[1;32m    145\u001b[0m \u001b[0;34m\u001b[0m\u001b[0m\n",
      "\u001b[0;32m~/miniconda3/envs/main/lib/python3.6/site-packages/urllib3/util/wait.py\u001b[0m in \u001b[0;36mpoll_wait_for_socket\u001b[0;34m(sock, read, write, timeout)\u001b[0m\n\u001b[1;32m    102\u001b[0m         \u001b[0;32mreturn\u001b[0m \u001b[0mpoll_obj\u001b[0m\u001b[0;34m.\u001b[0m\u001b[0mpoll\u001b[0m\u001b[0;34m(\u001b[0m\u001b[0mt\u001b[0m\u001b[0;34m)\u001b[0m\u001b[0;34m\u001b[0m\u001b[0;34m\u001b[0m\u001b[0m\n\u001b[1;32m    103\u001b[0m \u001b[0;34m\u001b[0m\u001b[0m\n\u001b[0;32m--> 104\u001b[0;31m     \u001b[0;32mreturn\u001b[0m \u001b[0mbool\u001b[0m\u001b[0;34m(\u001b[0m\u001b[0m_retry_on_intr\u001b[0m\u001b[0;34m(\u001b[0m\u001b[0mdo_poll\u001b[0m\u001b[0;34m,\u001b[0m \u001b[0mtimeout\u001b[0m\u001b[0;34m)\u001b[0m\u001b[0;34m)\u001b[0m\u001b[0;34m\u001b[0m\u001b[0;34m\u001b[0m\u001b[0m\n\u001b[0m\u001b[1;32m    105\u001b[0m \u001b[0;34m\u001b[0m\u001b[0m\n\u001b[1;32m    106\u001b[0m \u001b[0;34m\u001b[0m\u001b[0m\n",
      "\u001b[0;32m~/miniconda3/envs/main/lib/python3.6/site-packages/urllib3/util/wait.py\u001b[0m in \u001b[0;36m_retry_on_intr\u001b[0;34m(fn, timeout)\u001b[0m\n\u001b[1;32m     40\u001b[0m     \u001b[0;31m# Modern Python, that retries syscalls by default\u001b[0m\u001b[0;34m\u001b[0m\u001b[0;34m\u001b[0m\u001b[0;34m\u001b[0m\u001b[0m\n\u001b[1;32m     41\u001b[0m     \u001b[0;32mdef\u001b[0m \u001b[0m_retry_on_intr\u001b[0m\u001b[0;34m(\u001b[0m\u001b[0mfn\u001b[0m\u001b[0;34m,\u001b[0m \u001b[0mtimeout\u001b[0m\u001b[0;34m)\u001b[0m\u001b[0;34m:\u001b[0m\u001b[0;34m\u001b[0m\u001b[0;34m\u001b[0m\u001b[0m\n\u001b[0;32m---> 42\u001b[0;31m         \u001b[0;32mreturn\u001b[0m \u001b[0mfn\u001b[0m\u001b[0;34m(\u001b[0m\u001b[0mtimeout\u001b[0m\u001b[0;34m)\u001b[0m\u001b[0;34m\u001b[0m\u001b[0;34m\u001b[0m\u001b[0m\n\u001b[0m\u001b[1;32m     43\u001b[0m \u001b[0;32melse\u001b[0m\u001b[0;34m:\u001b[0m\u001b[0;34m\u001b[0m\u001b[0;34m\u001b[0m\u001b[0m\n\u001b[1;32m     44\u001b[0m     \u001b[0;31m# Old and broken Pythons.\u001b[0m\u001b[0;34m\u001b[0m\u001b[0;34m\u001b[0m\u001b[0;34m\u001b[0m\u001b[0m\n",
      "\u001b[0;32m~/miniconda3/envs/main/lib/python3.6/site-packages/urllib3/util/wait.py\u001b[0m in \u001b[0;36mdo_poll\u001b[0;34m(t)\u001b[0m\n\u001b[1;32m    100\u001b[0m         \u001b[0;32mif\u001b[0m \u001b[0mt\u001b[0m \u001b[0;32mis\u001b[0m \u001b[0;32mnot\u001b[0m \u001b[0;32mNone\u001b[0m\u001b[0;34m:\u001b[0m\u001b[0;34m\u001b[0m\u001b[0;34m\u001b[0m\u001b[0m\n\u001b[1;32m    101\u001b[0m             \u001b[0mt\u001b[0m \u001b[0;34m*=\u001b[0m \u001b[0;36m1000\u001b[0m\u001b[0;34m\u001b[0m\u001b[0;34m\u001b[0m\u001b[0m\n\u001b[0;32m--> 102\u001b[0;31m         \u001b[0;32mreturn\u001b[0m \u001b[0mpoll_obj\u001b[0m\u001b[0;34m.\u001b[0m\u001b[0mpoll\u001b[0m\u001b[0;34m(\u001b[0m\u001b[0mt\u001b[0m\u001b[0;34m)\u001b[0m\u001b[0;34m\u001b[0m\u001b[0;34m\u001b[0m\u001b[0m\n\u001b[0m\u001b[1;32m    103\u001b[0m \u001b[0;34m\u001b[0m\u001b[0m\n\u001b[1;32m    104\u001b[0m     \u001b[0;32mreturn\u001b[0m \u001b[0mbool\u001b[0m\u001b[0;34m(\u001b[0m\u001b[0m_retry_on_intr\u001b[0m\u001b[0;34m(\u001b[0m\u001b[0mdo_poll\u001b[0m\u001b[0;34m,\u001b[0m \u001b[0mtimeout\u001b[0m\u001b[0;34m)\u001b[0m\u001b[0;34m)\u001b[0m\u001b[0;34m\u001b[0m\u001b[0;34m\u001b[0m\u001b[0m\n",
      "\u001b[0;31mKeyboardInterrupt\u001b[0m: "
     ]
    }
   ],
   "source": [
    "urls = get_reports_urls(access_token, business_id, pixel_id, since='1485368811', limit=5)"
   ]
  },
  {
   "cell_type": "code",
   "execution_count": null,
   "metadata": {
    "ExecuteTime": {
     "end_time": "2019-02-23T22:45:52.521521Z",
     "start_time": "2019-02-23T22:35:29.953Z"
    }
   },
   "outputs": [],
   "source": [
    "urls"
   ]
  },
  {
   "cell_type": "code",
   "execution_count": 74,
   "metadata": {
    "ExecuteTime": {
     "end_time": "2019-02-23T16:53:58.280404Z",
     "start_time": "2019-02-23T16:53:58.190920Z"
    }
   },
   "outputs": [
    {
     "name": "stdout",
     "output_type": "stream",
     "text": [
      "128900881029137\n",
      "1386462108046405\n"
     ]
    }
   ],
   "source": [
    "print(pixel_id)\n",
    "print(business_id)"
   ]
  },
  {
   "cell_type": "code",
   "execution_count": 112,
   "metadata": {
    "ExecuteTime": {
     "end_time": "2019-02-23T20:17:06.675125Z",
     "start_time": "2019-02-23T20:16:54.772296Z"
    }
   },
   "outputs": [
    {
     "name": "stdout",
     "output_type": "stream",
     "text": [
      "{\"data\":[]}"
     ]
    },
    {
     "name": "stderr",
     "output_type": "stream",
     "text": [
      "  % Total    % Received % Xferd  Average Speed   Time    Time     Time  Current\n",
      "                                 Dload  Upload   Total   Spent    Left  Speed\n",
      "\r",
      "  0     0    0     0    0     0      0      0 --:--:-- --:--:-- --:--:--     0\r",
      "  0     0    0     0    0     0      0      0 --:--:-- --:--:-- --:--:--     0\r",
      "  0     0    0     0    0     0      0      0 --:--:--  0:00:01 --:--:--     0\r",
      "  0     0    0     0    0     0      0      0 --:--:--  0:00:02 --:--:--     0\r",
      "  0     0    0     0    0     0      0      0 --:--:--  0:00:03 --:--:--     0\r",
      "  0     0    0     0    0     0      0      0 --:--:--  0:00:04 --:--:--     0\r",
      "  0     0    0     0    0     0      0      0 --:--:--  0:00:05 --:--:--     0\r",
      "  0     0    0     0    0     0      0      0 --:--:--  0:00:06 --:--:--     0\r",
      "  0     0    0     0    0     0      0      0 --:--:--  0:00:07 --:--:--     0\r",
      "  0     0    0     0    0     0      0      0 --:--:--  0:00:08 --:--:--     0\r",
      "  0     0    0     0    0     0      0      0 --:--:--  0:00:09 --:--:--     0\r",
      "  0     0    0     0    0     0      0      0 --:--:--  0:00:10 --:--:--     0\r",
      "  0     0    0     0    0     0      0      0 --:--:--  0:00:11 --:--:--     0\r",
      "100    11    0    11    0     0      0      0 --:--:--  0:00:11 --:--:--     2\n"
     ]
    }
   ],
   "source": [
    "%%bash\n",
    "curl -G \\\n",
    "-d 'report_type=third_party_mta_report' \\\n",
    "-d 'fields=[\"download_urls\",\"metadata\"]' \\\n",
    "-d 'filters=[{key:\"account\",value:\"128900881029137\"},{key:\"report_type\",value:\"cohort\",\"comparison\":\"in\"},{key:\"request_date\",value:\"2019-W1\"}]' \\\n",
    "-d 'access_token=EAAZAuVvcfbzIBAN7eEabFBtQglFmQZBXu3mdI6vveFfZBVQF7HkSp8Jq7FcekmODGZCEXZBcU3zsosT8JuTpReOcqOwcezuWuxXgAiPCi7d1b2nxZCR3QAjhxa2U7GRNuY5LvtkdpZBJBZB4EZB0dPBaKdPBIUNBAZBIYfTV4n8zhO6chwL6CI5LKnmkmukLaqWRUZD' \\\n",
    "-d 'limit=10' \\\n",
    "https://graph.facebook.com/v3.1/1386462108046405/measurement_reports"
   ]
  },
  {
   "cell_type": "code",
   "execution_count": null,
   "metadata": {
    "ExecuteTime": {
     "end_time": "2019-02-23T22:45:52.523537Z",
     "start_time": "2019-02-23T22:35:36.178Z"
    }
   },
   "outputs": [],
   "source": [
    "len(urls)"
   ]
  },
  {
   "cell_type": "code",
   "execution_count": null,
   "metadata": {
    "ExecuteTime": {
     "end_time": "2019-02-22T22:04:43.456782Z",
     "start_time": "2019-02-22T22:04:35.181Z"
    }
   },
   "outputs": [],
   "source": [
    "for k in urls.keys():\n",
    "    print(k)"
   ]
  },
  {
   "cell_type": "markdown",
   "metadata": {},
   "source": [
    "### ATT reports manual download"
   ]
  },
  {
   "cell_type": "code",
   "execution_count": 174,
   "metadata": {
    "ExecuteTime": {
     "end_time": "2019-02-26T20:33:04.596852Z",
     "start_time": "2019-02-26T20:32:46.555714Z"
    }
   },
   "outputs": [],
   "source": [
    "req = 'https://graph.facebook.com/v3.1/1386462108046405/measurement_reports?fields=download_urls%2Cmetadata&report_type=third_party_mta_report&since=1550217601&access_token=EAAZAuVvcfbzIBAKSaI0n3EQuNHmJG8WvbSFmwV6fJpFzTAzZCLzQh46Llkmjd3EKVhkoV3ZCgHXWUP1iGdWToHZBZCWRGcqbZAYGVnZAAvipZC84yDLn2JE0RKXrjZCQ5ZAnVdwsGkoLluPnTQT7fDASZAomLYo8eGWPQcwIYWl3ZBZCiCwZDZD&limit=5000'\n",
    "r = requests.get(req)"
   ]
  },
  {
   "cell_type": "code",
   "execution_count": 175,
   "metadata": {
    "ExecuteTime": {
     "end_time": "2019-02-26T20:33:04.774084Z",
     "start_time": "2019-02-26T20:33:04.600824Z"
    }
   },
   "outputs": [],
   "source": [
    "r_json = r.json()"
   ]
  },
  {
   "cell_type": "code",
   "execution_count": 176,
   "metadata": {
    "ExecuteTime": {
     "end_time": "2019-02-26T20:33:04.815423Z",
     "start_time": "2019-02-26T20:33:04.777320Z"
    }
   },
   "outputs": [
    {
     "data": {
      "text/plain": [
       "5000"
      ]
     },
     "execution_count": 176,
     "metadata": {},
     "output_type": "execute_result"
    }
   ],
   "source": [
    "len(r_json['data'])"
   ]
  },
  {
   "cell_type": "code",
   "execution_count": 179,
   "metadata": {
    "ExecuteTime": {
     "end_time": "2019-02-26T20:33:47.282286Z",
     "start_time": "2019-02-26T20:33:47.226861Z"
    }
   },
   "outputs": [
    {
     "data": {
      "text/plain": [
       "65"
      ]
     },
     "execution_count": 179,
     "metadata": {},
     "output_type": "execute_result"
    }
   ],
   "source": [
    "data = [\n",
    "    u for u in r_json['data']\n",
    "    if 'cohort_1386462108046405_128900881029137' in u[\"download_urls\"][0]\n",
    "]\n",
    "len(data)"
   ]
  },
  {
   "cell_type": "code",
   "execution_count": 180,
   "metadata": {
    "ExecuteTime": {
     "end_time": "2019-02-26T20:33:50.639306Z",
     "start_time": "2019-02-26T20:33:50.604734Z"
    }
   },
   "outputs": [
    {
     "name": "stdout",
     "output_type": "stream",
     "text": [
      "[\n",
      "  {\n",
      "    \"download_urls\": [\n",
      "      \"https://scontent.xx.fbcdn.net/v/t58.7538-6/34285469_327662411196199_1481443132171091968_n.gz/mta_partner_2019-02-24_cohort_1386462108046405_128900881029137metrics_100_1386462108046405_128900881029137.csv.gpg.gz?_nc_cat=111&_nc_ht=scontent.xx&oh=1763535165bd4384c843a0e481d5842e&oe=5C77278C\"\n",
      "    ],\n",
      "    \"metadata\": {},\n",
      "    \"id\": \"1203859839769602\"\n",
      "  },\n",
      "  {\n",
      "    \"download_urls\": [\n",
      "      \"https://scontent.xx.fbcdn.net/v/t58.7538-6/10000000_2059103620875246_8612050078686773248_n.gz/mta_partner_2019-02-24_cohort_1386462108046405_128900881029137summary_1_1386462108046405_128900881029137.csv.gpg.gz?_nc_cat=104&_nc_ht=scontent.xx&oh=df1d6514cfe95df837330132335722be&oe=5C784C1A\"\n",
      "    ],\n",
      "    \"metadata\": {},\n",
      "    \"id\": \"303766573667300\"\n",
      "  },\n",
      "  {\n",
      "    \"download_urls\": [\n",
      "      \"https://scontent.xx.fbcdn.net/v/t58.7538-6/52982000_296932647644273_4530563165766811648_n.gz/mta_partner_2019-02-24_cohort_1386462108046405_128900881029137membership_100_1386462108046405_128900881029137.csv.gpg.gz?_nc_cat=107&_nc_ht=scontent.xx&oh=6059c25af7ed2f7fa0b45be69c01f8c4&oe=5C78616C\"\n",
      "    ],\n",
      "    \"metadata\": {},\n",
      "    \"id\": \"260592004868446\"\n",
      "  },\n",
      "  {\n",
      "    \"download_urls\": [\n",
      "      \"https://scontent.xx.fbcdn.net/v/t58.7538-6/34895691_484335672101471_9074286115623534592_n.gz/mta_partner_2019-02-24_cohort_1386462108046405_128900881029137metrics_10_1386462108046405_128900881029137.csv.gpg.gz?_nc_cat=108&_nc_ht=scontent.xx&oh=a963ff129e04db546f0b3f141d54481a&oe=5C781E9A\"\n",
      "    ],\n",
      "    \"metadata\": {},\n",
      "    \"id\": \"1215290075285274\"\n",
      "  },\n",
      "  {\n",
      "    \"download_urls\": [\n",
      "      \"https://scontent.xx.fbcdn.net/v/t58.7538-6/48093773_2018275978222345_464566275738173440_n.gz/mta_partner_2019-02-24_cohort_1386462108046405_128900881029137metrics_1_1386462108046405_128900881029137.csv.gpg.gz?_nc_cat=109&_nc_ht=scontent.xx&oh=d4190a579ba4c3888e2f401c82ba25c2&oe=5C7743E8\"\n",
      "    ],\n",
      "    \"metadata\": {},\n",
      "    \"id\": \"387244685392782\"\n",
      "  },\n",
      "  {\n",
      "    \"download_urls\": [\n",
      "      \"https://scontent.xx.fbcdn.net/v/t58.7538-6/10000000_424070055001753_4129576798444847104_n.gz/mta_partner_2019-02-24_cohort_1386462108046405_128900881029137summary_10_1386462108046405_128900881029137.csv.gpg.gz?_nc_cat=109&_nc_ht=scontent.xx&oh=821dfb7ba0338dd79ef9790c56202aa8&oe=5C786DF6\"\n",
      "    ],\n",
      "    \"metadata\": {},\n",
      "    \"id\": \"1986451858330285\"\n",
      "  },\n",
      "  {\n",
      "    \"download_urls\": [\n",
      "      \"https://scontent.xx.fbcdn.net/v/t58.7538-6/47551828_2221592101220034_4925138547075186688_n.gz/mta_partner_2019-02-24_cohort_1386462108046405_128900881029137membership_1_1386462108046405_128900881029137.csv.gpg.gz?_nc_cat=107&_nc_ht=scontent.xx&oh=7d5ffe6c263a40b01be028e125fb2a7f&oe=5C78003B\"\n",
      "    ],\n",
      "    \"metadata\": {},\n",
      "    \"id\": \"1004435976412427\"\n",
      "  },\n",
      "  {\n",
      "    \"download_urls\": [\n",
      "      \"https://scontent.xx.fbcdn.net/v/t58.7538-6/10000000_261164661471263_7007579579711750144_n.gz/mta_partner_2019-02-24_cohort_1386462108046405_128900881029137summary_100_1386462108046405_128900881029137.csv.gpg.gz?_nc_cat=100&_nc_ht=scontent.xx&oh=475249484b1b71528508a05c20967c2a&oe=5C785153\"\n",
      "    ],\n",
      "    \"metadata\": {},\n",
      "    \"id\": \"2619323858082389\"\n",
      "  },\n",
      "  {\n",
      "    \"download_urls\": [\n",
      "      \"https://scontent.xx.fbcdn.net/v/t58.7538-6/49468039_2305929386098656_8034674395270086656_n.gz/mta_partner_2019-02-24_cohort_1386462108046405_128900881029137membership_10_1386462108046405_128900881029137.csv.gpg.gz?_nc_cat=110&_nc_ht=scontent.xx&oh=330fa7e31c3a97aa82e32b7d23f709b7&oe=5C774988\"\n",
      "    ],\n",
      "    \"metadata\": {},\n",
      "    \"id\": \"578855765949232\"\n",
      "  },\n",
      "  {\n",
      "    \"download_urls\": [\n",
      "      \"https://scontent.xx.fbcdn.net/v/t58.7538-6/53219100_2401305640156343_8608248422744457216_n.gz/mta_partner_2019-02-24_cohort_1386462108046405_128900881029137metrics_1000_1386462108046405_128900881029137.csv.gpg.gz?_nc_cat=109&_nc_ht=scontent.xx&oh=85bec64f799ea2d487547f8107316a45&oe=5C786557\"\n",
      "    ],\n",
      "    \"metadata\": {},\n",
      "    \"id\": \"969197233269946\"\n",
      "  },\n",
      "  {\n",
      "    \"download_urls\": [\n",
      "      \"https://scontent.xx.fbcdn.net/v/t58.7538-6/48028381_689819818101650_4242005427207798784_n.gz/mta_partner_2019-02-24_cohort_1386462108046405_128900881029137taxonomy_1386462108046405_128900881029137.csv.gpg.gz?_nc_cat=101&_nc_ht=scontent.xx&oh=d4c31d92610fdcb923eb8112911bc3a4&oe=5C780A55\"\n",
      "    ],\n",
      "    \"metadata\": {},\n",
      "    \"id\": \"153985948844413\"\n",
      "  },\n",
      "  {\n",
      "    \"download_urls\": [\n",
      "      \"https://scontent.xx.fbcdn.net/v/t58.7538-6/47882420_2386722004671806_7127137433279266816_n.gz/mta_partner_2019-02-24_cohort_1386462108046405_128900881029137membership_1000_1386462108046405_128900881029137.csv.gpg.gz?_nc_cat=102&_nc_ht=scontent.xx&oh=565fa30eaa49572a47951901ec02cd3b&oe=5C78082A\"\n",
      "    ],\n",
      "    \"metadata\": {},\n",
      "    \"id\": \"304031583646749\"\n",
      "  },\n",
      "  {\n",
      "    \"download_urls\": [\n",
      "      \"https://scontent.xx.fbcdn.net/v/t58.7538-6/53205097_734527173609205_9182298302530453504_n.gz/mta_partner_2019-02-24_cohort_1386462108046405_128900881029137summary_1000_1386462108046405_128900881029137.csv.gpg.gz?_nc_cat=111&_nc_ht=scontent.xx&oh=f7a4e5f6418f240ae64b3e662df4601e&oe=5C78554D\"\n",
      "    ],\n",
      "    \"metadata\": {},\n",
      "    \"id\": \"1123612484480116\"\n",
      "  },\n",
      "  {\n",
      "    \"download_urls\": [\n",
      "      \"https://scontent.xx.fbcdn.net/v/t58.7538-6/53252988_788410211527771_2116992244941586432_n.gz/mta_partner_2019-02-24_cohort_1386462108046405_128900881029137metrics_1_1386462108046405_128900881029137.csv.gpg.gz?_nc_cat=108&_nc_ht=scontent.xx&oh=a204342d46a3c1c5b0575cfba8c6b69e&oe=5C780645\"\n",
      "    ],\n",
      "    \"metadata\": {},\n",
      "    \"id\": \"2046642045413728\"\n",
      "  },\n",
      "  {\n",
      "    \"download_urls\": [\n",
      "      \"https://scontent.xx.fbcdn.net/v/t58.7538-6/10000000_367884160466808_1471162067091193856_n.gz/mta_partner_2019-02-24_cohort_1386462108046405_128900881029137summary_1_1386462108046405_128900881029137.csv.gpg.gz?_nc_cat=101&_nc_ht=scontent.xx&oh=601ef7eb4b01dee3c1945f2aaa3655e2&oe=5C773FEF\"\n",
      "    ],\n",
      "    \"metadata\": {},\n",
      "    \"id\": \"421443778625852\"\n",
      "  },\n",
      "  {\n",
      "    \"download_urls\": [\n",
      "      \"https://scontent.xx.fbcdn.net/v/t58.7538-6/47841302_1111111965727592_2439325803884838912_n.gz/mta_partner_2019-02-24_cohort_1386462108046405_128900881029137summary_1000_1386462108046405_128900881029137.csv.gpg.gz?_nc_cat=100&_nc_ht=scontent.xx&oh=97421d1afe9a6bebcc744bdcae300631&oe=5C783556\"\n",
      "    ],\n",
      "    \"metadata\": {},\n",
      "    \"id\": \"376618889558602\"\n",
      "  },\n",
      "  {\n",
      "    \"download_urls\": [\n",
      "      \"https://scontent.xx.fbcdn.net/v/t58.7538-6/47894694_250082505925312_383604669034790912_n.gz/mta_partner_2019-02-24_cohort_1386462108046405_128900881029137membership_10_1386462108046405_128900881029137.csv.gpg.gz?_nc_cat=108&_nc_ht=scontent.xx&oh=10b50a15fa6ad4ec0ebeb697b5711e2f&oe=5C780E47\"\n",
      "    ],\n",
      "    \"metadata\": {},\n",
      "    \"id\": \"1213950375412709\"\n",
      "  },\n",
      "  {\n",
      "    \"download_urls\": [\n",
      "      \"https://scontent.xx.fbcdn.net/v/t58.7538-6/27141310_2142057255832952_1408268434319343616_n.gz/mta_partner_2019-02-24_cohort_1386462108046405_128900881029137membership_1000_1386462108046405_128900881029137.csv.gpg.gz?_nc_cat=106&_nc_ht=scontent.xx&oh=7c6b11281f72926246bc28a05f3ac5f1&oe=5C78151B\"\n",
      "    ],\n",
      "    \"metadata\": {},\n",
      "    \"id\": \"153500235575126\"\n",
      "  },\n",
      "  {\n",
      "    \"download_urls\": [\n",
      "      \"https://scontent.xx.fbcdn.net/v/t58.7538-6/47881909_1130470220461036_2989009956243505152_n.gz/mta_partner_2019-02-24_cohort_1386462108046405_128900881029137membership_1_1386462108046405_128900881029137.csv.gpg.gz?_nc_cat=108&_nc_ht=scontent.xx&oh=45b999c8b2884659da953053cd76d9c8&oe=5C774C29\"\n",
      "    ],\n",
      "    \"metadata\": {},\n",
      "    \"id\": \"2331526283790539\"\n",
      "  },\n",
      "  {\n",
      "    \"download_urls\": [\n",
      "      \"https://scontent.xx.fbcdn.net/v/t58.7538-6/10000000_1170631829772914_7694037356453560320_n.gz/mta_partner_2019-02-24_cohort_1386462108046405_128900881029137summary_100_1386462108046405_128900881029137.csv.gpg.gz?_nc_cat=108&_nc_ht=scontent.xx&oh=955f0bdb1d217a6ea81ceedb349872fe&oe=5C786043\"\n",
      "    ],\n",
      "    \"metadata\": {},\n",
      "    \"id\": \"250267245922136\"\n",
      "  },\n",
      "  {\n",
      "    \"download_urls\": [\n",
      "      \"https://scontent.xx.fbcdn.net/v/t58.7538-6/10000000_1735408183271221_4445139191122100224_n.gz/mta_partner_2019-02-24_cohort_1386462108046405_128900881029137summary_10_1386462108046405_128900881029137.csv.gpg.gz?_nc_cat=104&_nc_ht=scontent.xx&oh=883870d9590c9e692e32ba3e793dd608&oe=5C785B6F\"\n",
      "    ],\n",
      "    \"metadata\": {},\n",
      "    \"id\": \"248976125987272\"\n",
      "  },\n",
      "  {\n",
      "    \"download_urls\": [\n",
      "      \"https://scontent.xx.fbcdn.net/v/t58.7538-6/47631787_249608275977606_1441740540386213888_n.gz/mta_partner_2019-02-24_cohort_1386462108046405_128900881029137membership_100_1386462108046405_128900881029137.csv.gpg.gz?_nc_cat=109&_nc_ht=scontent.xx&oh=ccf319b1d9552791ea829ee34c78b915&oe=5C772D8E\"\n",
      "    ],\n",
      "    \"metadata\": {},\n",
      "    \"id\": \"341964903081225\"\n",
      "  },\n",
      "  {\n",
      "    \"download_urls\": [\n",
      "      \"https://scontent.xx.fbcdn.net/v/t58.7538-6/53255599_2113341922078922_5708792309898805248_n.gz/mta_partner_2019-02-24_cohort_1386462108046405_128900881029137taxonomy_1386462108046405_128900881029137.csv.gpg.gz?_nc_cat=108&_nc_ht=scontent.xx&oh=f2fba63aec260f40a31c3a51c125f06b&oe=5C7820E8\"\n",
      "    ],\n",
      "    \"metadata\": {},\n",
      "    \"id\": \"2110563582568768\"\n",
      "  },\n",
      "  {\n",
      "    \"download_urls\": [\n",
      "      \"https://scontent.xx.fbcdn.net/v/t58.7538-6/53318842_313647616168120_4075209740907446272_n.gz/mta_partner_2019-02-24_cohort_1386462108046405_128900881029137metrics_1000_1386462108046405_128900881029137.csv.gpg.gz?_nc_cat=107&_nc_ht=scontent.xx&oh=ff829fe9675809ca1ca09a0f287ab4ef&oe=5C786C1B\"\n",
      "    ],\n",
      "    \"metadata\": {},\n",
      "    \"id\": \"423805241699236\"\n",
      "  },\n",
      "  {\n",
      "    \"download_urls\": [\n",
      "      \"https://scontent.xx.fbcdn.net/v/t58.7538-6/47521630_2265902833698850_9033527528819523584_n.gz/mta_partner_2019-02-24_cohort_1386462108046405_128900881029137metrics_10_1386462108046405_128900881029137.csv.gpg.gz?_nc_cat=105&_nc_ht=scontent.xx&oh=a1dfb01773e7033dc21a23cbf177944d&oe=5C780ECB\"\n",
      "    ],\n",
      "    \"metadata\": {},\n",
      "    \"id\": \"575381262936595\"\n",
      "  },\n",
      "  {\n",
      "    \"download_urls\": [\n",
      "      \"https://scontent.xx.fbcdn.net/v/t58.7538-6/47903333_594220834355955_4068147423103418368_n.gz/mta_partner_2019-02-24_cohort_1386462108046405_128900881029137metrics_100_1386462108046405_128900881029137.csv.gpg.gz?_nc_cat=105&_nc_ht=scontent.xx&oh=ac1c05109c6875ed6ce0897cd965a806&oe=5C775451\"\n",
      "    ],\n",
      "    \"metadata\": {},\n",
      "    \"id\": \"279312089635620\"\n",
      "  },\n",
      "  {\n",
      "    \"download_urls\": [\n",
      "      \"https://scontent.xx.fbcdn.net/v/t58.7538-6/53347954_1904696436298670_1963187030825369600_n.gz/mta_partner_2019-02-24_cohort_1386462108046405_128900881029137summary_1000_1386462108046405_128900881029137.csv.gpg.gz?_nc_cat=108&_nc_ht=scontent.xx&oh=455a48bdda0c9e38e0fa83311564a574&oe=5C772B27\"\n",
      "    ],\n",
      "    \"metadata\": {},\n",
      "    \"id\": \"390965865057011\"\n",
      "  },\n",
      "  {\n",
      "    \"download_urls\": [\n",
      "      \"https://scontent.xx.fbcdn.net/v/t58.7538-6/10000000_2132335836844359_1470035342550630400_n.gz/mta_partner_2019-02-24_cohort_1386462108046405_128900881029137summary_10_1386462108046405_128900881029137.csv.gpg.gz?_nc_cat=100&_nc_ht=scontent.xx&oh=521463b97019738da928215718ca8bc5&oe=5C7753EC\"\n",
      "    ],\n",
      "    \"metadata\": {},\n",
      "    \"id\": \"2086284224997309\"\n",
      "  },\n",
      "  {\n",
      "    \"download_urls\": [\n",
      "      \"https://scontent.xx.fbcdn.net/v/t58.7538-6/10000000_802025940190647_5023187281733746688_n.gz/mta_partner_2019-02-24_cohort_1386462108046405_128900881029137summary_100_1386462108046405_128900881029137.csv.gpg.gz?_nc_cat=106&_nc_ht=scontent.xx&oh=a6ffcf3c2217426d6d4eae8294e3eb1e&oe=5C7821A5\"\n",
      "    ],\n",
      "    \"metadata\": {},\n",
      "    \"id\": \"376099622994485\"\n",
      "  },\n",
      "  {\n",
      "    \"download_urls\": [\n",
      "      \"https://scontent.xx.fbcdn.net/v/t58.7538-6/53306260_2283740978569595_377293532420898816_n.gz/mta_partner_2019-02-24_cohort_1386462108046405_128900881029137membership_1000_1386462108046405_128900881029137.csv.gpg.gz?_nc_cat=111&_nc_ht=scontent.xx&oh=c939acff3720ffb30762ced37dc41482&oe=5C787243\"\n",
      "    ],\n",
      "    \"metadata\": {},\n",
      "    \"id\": \"820268548310635\"\n",
      "  },\n",
      "  {\n",
      "    \"download_urls\": [\n",
      "      \"https://scontent.xx.fbcdn.net/v/t58.7538-6/47559191_301066390529433_1093038205822828544_n.gz/mta_partner_2019-02-24_cohort_1386462108046405_128900881029137metrics_100_1386462108046405_128900881029137.csv.gpg.gz?_nc_cat=106&_nc_ht=scontent.xx&oh=c74a7209e67fa9584ca69dfaaf64108a&oe=5C7842D8\"\n",
      "    ],\n",
      "    \"metadata\": {},\n",
      "    \"id\": \"389255255209531\"\n",
      "  },\n",
      "  {\n",
      "    \"download_urls\": [\n",
      "      \"https://scontent.xx.fbcdn.net/v/t58.7538-6/41015485_622489984864799_9118487380708294656_n.gz/mta_partner_2019-02-24_cohort_1386462108046405_128900881029137membership_10_1386462108046405_128900881029137.csv.gpg.gz?_nc_cat=105&_nc_ht=scontent.xx&oh=c7b2a3295b7ecf195ad5aefab0827c88&oe=5C7812F4\"\n",
      "    ],\n",
      "    \"metadata\": {},\n",
      "    \"id\": \"632574600510856\"\n",
      "  },\n",
      "  {\n",
      "    \"download_urls\": [\n",
      "      \"https://scontent.xx.fbcdn.net/v/t58.7538-6/48025915_1628873653882690_7627293599033458688_n.gz/mta_partner_2019-02-24_cohort_1386462108046405_128900881029137membership_1_1386462108046405_128900881029137.csv.gpg.gz?_nc_cat=107&_nc_ht=scontent.xx&oh=6380846e959a8bbe80334f2e0ded232d&oe=5C784357\"\n",
      "    ],\n",
      "    \"metadata\": {},\n",
      "    \"id\": \"395252094594138\"\n",
      "  },\n",
      "  {\n",
      "    \"download_urls\": [\n",
      "      \"https://scontent.xx.fbcdn.net/v/t58.7538-6/52172469_822418181473258_8521432865810939904_n.gz/mta_partner_2019-02-24_cohort_1386462108046405_128900881029137membership_100_1386462108046405_128900881029137.csv.gpg.gz?_nc_cat=101&_nc_ht=scontent.xx&oh=46c072ee90e24395c73614ce9a709f90&oe=5C784106\"\n",
      "    ],\n",
      "    \"metadata\": {},\n",
      "    \"id\": \"260767981481859\"\n",
      "  },\n",
      "  {\n",
      "    \"download_urls\": [\n",
      "      \"https://scontent.xx.fbcdn.net/v/t58.7538-6/47854205_2595234837213988_7585840537492520960_n.gz/mta_partner_2019-02-24_cohort_1386462108046405_128900881029137metrics_10_1386462108046405_128900881029137.csv.gpg.gz?_nc_cat=100&_nc_ht=scontent.xx&oh=1735a681d0848ac1dc78ad06049adefe&oe=5C784291\"\n",
      "    ],\n",
      "    \"metadata\": {},\n",
      "    \"id\": \"537714633299892\"\n",
      "  },\n",
      "  {\n",
      "    \"download_urls\": [\n",
      "      \"https://scontent.xx.fbcdn.net/v/t58.7538-6/10000000_289138741780102_2080660510994333696_n.gz/mta_partner_2019-02-24_cohort_1386462108046405_128900881029137summary_1_1386462108046405_128900881029137.csv.gpg.gz?_nc_cat=108&_nc_ht=scontent.xx&oh=3e4e0844da4cf60efaab758eb11ea5dc&oe=5C7827F2\"\n",
      "    ],\n",
      "    \"metadata\": {},\n",
      "    \"id\": \"297506764274689\"\n",
      "  },\n",
      "  {\n",
      "    \"download_urls\": [\n",
      "      \"https://scontent.xx.fbcdn.net/v/t58.7538-6/53324373_2258342781048744_8867752644576280576_n.gz/mta_partner_2019-02-24_cohort_1386462108046405_128900881029137metrics_1000_1386462108046405_128900881029137.csv.gpg.gz?_nc_cat=107&_nc_ht=scontent.xx&oh=6fcce2d8b2549f40032a82df3749b394&oe=5C7732AF\"\n",
      "    ],\n",
      "    \"metadata\": {},\n",
      "    \"id\": \"2562801713748092\"\n",
      "  },\n",
      "  {\n",
      "    \"download_urls\": [\n",
      "      \"https://scontent.xx.fbcdn.net/v/t58.7538-6/47862292_247726389466298_6685782913155334144_n.gz/mta_partner_2019-02-24_cohort_1386462108046405_128900881029137taxonomy_1386462108046405_128900881029137.csv.gpg.gz?_nc_cat=106&_nc_ht=scontent.xx&oh=7246e8c40e72929e932f54aa606479ee&oe=5C7811A4\"\n",
      "    ],\n",
      "    \"metadata\": {},\n",
      "    \"id\": \"623935404724300\"\n",
      "  },\n",
      "  {\n",
      "    \"download_urls\": [\n",
      "      \"https://scontent.xx.fbcdn.net/v/t58.7538-6/53091809_573252493203959_7757886147002368000_n.gz/mta_partner_2019-02-24_cohort_1386462108046405_128900881029137metrics_1_1386462108046405_128900881029137.csv.gpg.gz?_nc_cat=103&_nc_ht=scontent.xx&oh=d384f00321bd7bc73b1de53f942f46be&oe=5C7860A5\"\n",
      "    ],\n",
      "    \"metadata\": {},\n",
      "    \"id\": \"2026156554169090\"\n",
      "  },\n",
      "  {\n",
      "    \"download_urls\": [\n",
      "      \"https://scontent.xx.fbcdn.net/v/t58.7538-6/10000000_2749596845065468_6379869164508545024_n.gz/mta_partner_2019-02-24_cohort_1386462108046405_128900881029137summary_10_1386462108046405_128900881029137.csv.gpg.gz?_nc_cat=101&_nc_ht=scontent.xx&oh=f1f8d04abae79d53316af6391cdd900c&oe=5C7740FF\"\n",
      "    ],\n",
      "    \"metadata\": {},\n",
      "    \"id\": \"411875269567226\"\n",
      "  },\n",
      "  {\n",
      "    \"download_urls\": [\n",
      "      \"https://scontent.xx.fbcdn.net/v/t58.7538-6/49995275_259587704760578_8277187666349391872_n.gz/mta_partner_2019-02-24_cohort_1386462108046405_128900881029137summary_1000_1386462108046405_128900881029137.csv.gpg.gz?_nc_cat=107&_nc_ht=scontent.xx&oh=e5839a89633baf24e775140a0da8b8c9&oe=5C78272C\"\n",
      "    ],\n",
      "    \"metadata\": {},\n",
      "    \"id\": \"601454243614542\"\n",
      "  },\n",
      "  {\n",
      "    \"download_urls\": [\n",
      "      \"https://scontent.xx.fbcdn.net/v/t58.7538-6/10000000_250738762526546_1955239464427061248_n.gz/mta_partner_2019-02-24_cohort_1386462108046405_128900881029137summary_1_1386462108046405_128900881029137.csv.gpg.gz?_nc_cat=111&_nc_ht=scontent.xx&oh=3af1b9cf20d3a5927ba74d28c18be644&oe=5C783F4E\"\n",
      "    ],\n",
      "    \"metadata\": {},\n",
      "    \"id\": \"310738499799666\"\n",
      "  },\n",
      "  {\n",
      "    \"download_urls\": [\n",
      "      \"https://scontent.xx.fbcdn.net/v/t58.7538-6/47909819_2365104603717759_2951745333924724736_n.gz/mta_partner_2019-02-24_cohort_1386462108046405_128900881029137metrics_1000_1386462108046405_128900881029137.csv.gpg.gz?_nc_cat=108&_nc_ht=scontent.xx&oh=170d51ebf6f080ac226c173a0882d094&oe=5C773DB5\"\n",
      "    ],\n",
      "    \"metadata\": {},\n",
      "    \"id\": \"265065031086346\"\n",
      "  },\n",
      "  {\n",
      "    \"download_urls\": [\n",
      "      \"https://scontent.xx.fbcdn.net/v/t58.7538-6/49493622_299461747382964_6425412452254482432_n.gz/mta_partner_2019-02-24_cohort_1386462108046405_128900881029137membership_1000_1386462108046405_128900881029137.csv.gpg.gz?_nc_cat=105&_nc_ht=scontent.xx&oh=2c11f605e687c845f2ff2d941441a54c&oe=5C780ECD\"\n",
      "    ],\n",
      "    \"metadata\": {},\n",
      "    \"id\": \"2242218092771647\"\n",
      "  },\n",
      "  {\n",
      "    \"download_urls\": [\n",
      "      \"https://scontent.xx.fbcdn.net/v/t58.7538-6/47862843_299256920754932_7707191578560823296_n.gz/mta_partner_2019-02-24_cohort_1386462108046405_128900881029137summary_100_1386462108046405_128900881029137.csv.gpg.gz?_nc_cat=111&_nc_ht=scontent.xx&oh=3ba7eaa199e4ba7f57c95bb0c318bad7&oe=5C7813B7\"\n",
      "    ],\n",
      "    \"metadata\": {},\n",
      "    \"id\": \"951636978364324\"\n",
      "  },\n",
      "  {\n",
      "    \"download_urls\": [\n",
      "      \"https://scontent.xx.fbcdn.net/v/t58.7538-6/53089692_383441508904732_8847539583588499456_n.gz/mta_partner_2019-02-24_cohort_1386462108046405_128900881029137metrics_1_1386462108046405_128900881029137.csv.gpg.gz?_nc_cat=102&_nc_ht=scontent.xx&oh=b88872329dc562811249b55a8cc95ec5&oe=5C781189\"\n",
      "    ],\n",
      "    \"metadata\": {},\n",
      "    \"id\": \"317147265882644\"\n",
      "  },\n",
      "  {\n",
      "    \"download_urls\": [\n",
      "      \"https://scontent.xx.fbcdn.net/v/t58.7538-6/47863105_692770237787620_3166145668934795264_n.gz/mta_partner_2019-02-24_cohort_1386462108046405_128900881029137metrics_10_1386462108046405_128900881029137.csv.gpg.gz?_nc_cat=107&_nc_ht=scontent.xx&oh=44e6903b5e03108b69e232a4a6d879b2&oe=5C774BFC\"\n",
      "    ],\n",
      "    \"metadata\": {},\n",
      "    \"id\": \"416930262412612\"\n",
      "  },\n",
      "  {\n",
      "    \"download_urls\": [\n",
      "      \"https://scontent.xx.fbcdn.net/v/t58.7538-6/53325367_2270242849926049_7175998866729205760_n.gz/mta_partner_2019-02-24_cohort_1386462108046405_128900881029137metrics_100_1386462108046405_128900881029137.csv.gpg.gz?_nc_cat=107&_nc_ht=scontent.xx&oh=52d65cfa26d326f1ce1d47dc0de7d229&oe=5C784ED1\"\n",
      "    ],\n",
      "    \"metadata\": {},\n",
      "    \"id\": \"1542184862578751\"\n",
      "  },\n",
      "  {\n",
      "    \"download_urls\": [\n",
      "      \"https://scontent.xx.fbcdn.net/v/t58.7538-6/47505954_857023444645164_5374232452237623296_n.gz/mta_partner_2019-02-24_cohort_1386462108046405_128900881029137membership_1_1386462108046405_128900881029137.csv.gpg.gz?_nc_cat=111&_nc_ht=scontent.xx&oh=a09632ff731e33c32069248c5740d602&oe=5C773FDB\"\n",
      "    ],\n",
      "    \"metadata\": {},\n",
      "    \"id\": \"343453902929837\"\n",
      "  },\n",
      "  {\n",
      "    \"download_urls\": [\n",
      "      \"https://scontent.xx.fbcdn.net/v/t58.7538-6/47845199_249577439317885_8139770114699427840_n.gz/mta_partner_2019-02-24_cohort_1386462108046405_128900881029137taxonomy_1386462108046405_128900881029137.csv.gpg.gz?_nc_cat=110&_nc_ht=scontent.xx&oh=4eda3580b10546eef477ab6847efc351&oe=5C7826CF\"\n",
      "    ],\n",
      "    \"metadata\": {},\n",
      "    \"id\": \"342943673004679\"\n",
      "  },\n",
      "  {\n",
      "    \"download_urls\": [\n",
      "      \"https://scontent.xx.fbcdn.net/v/t58.7538-6/28596029_276117473285453_8386247417254641664_n.gz/mta_partner_2019-02-24_cohort_1386462108046405_128900881029137membership_100_1386462108046405_128900881029137.csv.gpg.gz?_nc_cat=110&_nc_ht=scontent.xx&oh=1f2fa0cc971d138c3074299c49ee3a17&oe=5C783905\"\n",
      "    ],\n",
      "    \"metadata\": {},\n",
      "    \"id\": \"302928133727698\"\n",
      "  },\n",
      "  {\n",
      "    \"download_urls\": [\n",
      "      \"https://scontent.xx.fbcdn.net/v/t58.7538-6/49857357_307044316622459_5198837163373887488_n.gz/mta_partner_2019-02-24_cohort_1386462108046405_128900881029137membership_10_1386462108046405_128900881029137.csv.gpg.gz?_nc_cat=108&_nc_ht=scontent.xx&oh=48c68e36c33960862620c9922ac63f41&oe=5C7754C7\"\n",
      "    ],\n",
      "    \"metadata\": {},\n",
      "    \"id\": \"465958460607486\"\n",
      "  },\n",
      "  {\n",
      "    \"download_urls\": [\n",
      "      \"https://scontent.xx.fbcdn.net/v/t58.7538-6/52821630_1981718771955344_759858381283393536_n.gz/mta_partner_2019-02-24_cohort_1386462108046405_128900881029137membership_1_1386462108046405_128900881029137.csv.gpg.gz?_nc_cat=104&_nc_ht=scontent.xx&oh=8ca70f2f15861c745313aadc6f1f2696&oe=5C781CF6\"\n",
      "    ],\n",
      "    \"metadata\": {},\n",
      "    \"id\": \"348830605840401\"\n",
      "  },\n",
      "  {\n",
      "    \"download_urls\": [\n",
      "      \"https://scontent.xx.fbcdn.net/v/t58.7538-6/10000000_2279954135377353_8313777295902900224_n.gz/mta_partner_2019-02-24_cohort_1386462108046405_128900881029137summary_1_1386462108046405_128900881029137.csv.gpg.gz?_nc_cat=110&_nc_ht=scontent.xx&oh=56630c3802f05f5c26b937336b65ebc2&oe=5C773577\"\n",
      "    ],\n",
      "    \"metadata\": {},\n",
      "    \"id\": \"706435573085347\"\n",
      "  },\n",
      "  {\n",
      "    \"download_urls\": [\n",
      "      \"https://scontent.xx.fbcdn.net/v/t58.7538-6/49956057_395852017907862_3836861389809385472_n.gz/mta_partner_2019-02-24_cohort_1386462108046405_128900881029137membership_100_1386462108046405_128900881029137.csv.gpg.gz?_nc_cat=108&_nc_ht=scontent.xx&oh=dccbadaaec508161df55092237659834&oe=5C781F47\"\n",
      "    ],\n",
      "    \"metadata\": {},\n",
      "    \"id\": \"2208788319384328\"\n",
      "  },\n",
      "  {\n",
      "    \"download_urls\": [\n",
      "      \"https://scontent.xx.fbcdn.net/v/t58.7538-6/10000000_350618315547744_3048642952923447296_n.gz/mta_partner_2019-02-24_cohort_1386462108046405_128900881029137summary_10_1386462108046405_128900881029137.csv.gpg.gz?_nc_cat=103&_nc_ht=scontent.xx&oh=87418d357f5f835df4cc906c76b6b679&oe=5C781145\"\n",
      "    ],\n",
      "    \"metadata\": {},\n",
      "    \"id\": \"393694798084999\"\n",
      "  },\n",
      "  {\n",
      "    \"download_urls\": [\n",
      "      \"https://scontent.xx.fbcdn.net/v/t58.7538-6/53244263_2289574994652558_1837591496916729856_n.gz/mta_partner_2019-02-24_cohort_1386462108046405_128900881029137membership_10_1386462108046405_128900881029137.csv.gpg.gz?_nc_cat=109&_nc_ht=scontent.xx&oh=894522add103412bf7e9cb110b6da3bc&oe=5C773BE0\"\n",
      "    ],\n",
      "    \"metadata\": {},\n",
      "    \"id\": \"366597557269918\"\n",
      "  },\n",
      "  {\n",
      "    \"download_urls\": [\n",
      "      \"https://scontent.xx.fbcdn.net/v/t58.7538-6/53181649_246835126195460_5895170199505600512_n.gz/mta_partner_2019-02-24_cohort_1386462108046405_128900881029137summary_1000_1386462108046405_128900881029137.csv.gpg.gz?_nc_cat=106&_nc_ht=scontent.xx&oh=f4bf183e4739199e6c0efdcba4072a55&oe=5C7860D6\"\n",
      "    ],\n",
      "    \"metadata\": {},\n",
      "    \"id\": \"293155138044191\"\n",
      "  },\n",
      "  {\n",
      "    \"download_urls\": [\n",
      "      \"https://scontent.xx.fbcdn.net/v/t58.7538-6/44489475_153943108864769_1112118194308382720_n.gz/mta_partner_2019-02-24_cohort_1386462108046405_128900881029137taxonomy_1386462108046405_128900881029137.csv.gpg.gz?_nc_cat=102&_nc_ht=scontent.xx&oh=aaeea75cbeb5bb94a7dda1304b110489&oe=5C7802B7\"\n",
      "    ],\n",
      "    \"metadata\": {},\n",
      "    \"id\": \"2305919316311856\"\n",
      "  },\n",
      "  {\n",
      "    \"download_urls\": [\n",
      "      \"https://scontent.xx.fbcdn.net/v/t58.7538-6/53047169_2249364728447024_8843168410687766528_n.gz/mta_partner_2019-02-24_cohort_1386462108046405_128900881029137summary_100_1386462108046405_128900881029137.csv.gpg.gz?_nc_cat=109&_nc_ht=scontent.xx&oh=caeac70a3c8b06fad4f1fc92b35471fb&oe=5C772FE1\"\n",
      "    ],\n",
      "    \"metadata\": {},\n",
      "    \"id\": \"2252865055001752\"\n",
      "  },\n",
      "  {\n",
      "    \"download_urls\": [\n",
      "      \"https://scontent.xx.fbcdn.net/v/t58.7538-6/53170051_2293014904084433_253431125190377472_n.gz/mta_partner_2019-02-24_cohort_1386462108046405_128900881029137metrics_1000_1386462108046405_128900881029137.csv.gpg.gz?_nc_cat=105&_nc_ht=scontent.xx&oh=f51da3b1486f725c9e21cf80564abd2c&oe=5C7823B9\"\n",
      "    ],\n",
      "    \"metadata\": {},\n",
      "    \"id\": \"2314520978558490\"\n",
      "  },\n",
      "  {\n",
      "    \"download_urls\": [\n",
      "      \"https://scontent.xx.fbcdn.net/v/t58.7538-6/53364524_559702354531951_3697441352607334400_n.gz/mta_partner_2019-02-24_cohort_1386462108046405_128900881029137metrics_10_1386462108046405_128900881029137.csv.gpg.gz?_nc_cat=109&_nc_ht=scontent.xx&oh=5f2510c6eab639a80b16b77874053824&oe=5C7870D7\"\n",
      "    ],\n",
      "    \"metadata\": {},\n",
      "    \"id\": \"423053378269985\"\n",
      "  },\n",
      "  {\n",
      "    \"download_urls\": [\n",
      "      \"https://scontent.xx.fbcdn.net/v/t58.7538-6/34295698_2558215451071543_9120539262679252992_n.gz/mta_partner_2019-02-24_cohort_1386462108046405_128900881029137membership_1000_1386462108046405_128900881029137.csv.gpg.gz?_nc_cat=108&_nc_ht=scontent.xx&oh=2db8cf1e5a334cc9aa92f72fa7458140&oe=5C774001\"\n",
      "    ],\n",
      "    \"metadata\": {},\n",
      "    \"id\": \"988759054666577\"\n",
      "  },\n",
      "  {\n",
      "    \"download_urls\": [\n",
      "      \"https://scontent.xx.fbcdn.net/v/t58.7538-6/53189128_290603941617651_2360201811823951872_n.gz/mta_partner_2019-02-24_cohort_1386462108046405_128900881029137metrics_100_1386462108046405_128900881029137.csv.gpg.gz?_nc_cat=101&_nc_ht=scontent.xx&oh=de58a49330e8d5c2321f072c3827d80d&oe=5C78306A\"\n",
      "    ],\n",
      "    \"metadata\": {},\n",
      "    \"id\": \"474800133053430\"\n",
      "  },\n",
      "  {\n",
      "    \"download_urls\": [\n",
      "      \"https://scontent.xx.fbcdn.net/v/t58.7538-6/47551432_660502717700483_5878474613654028288_n.gz/mta_partner_2019-02-24_cohort_1386462108046405_128900881029137metrics_1_1386462108046405_128900881029137.csv.gpg.gz?_nc_cat=103&_nc_ht=scontent.xx&oh=aaa9f08a93cc4968e841be43b92babb0&oe=5C786D94\"\n",
      "    ],\n",
      "    \"metadata\": {},\n",
      "    \"id\": \"487482171782568\"\n",
      "  }\n",
      "]\n"
     ]
    }
   ],
   "source": [
    "print(json.dumps(data, indent=2))"
   ]
  },
  {
   "cell_type": "code",
   "execution_count": 132,
   "metadata": {
    "ExecuteTime": {
     "end_time": "2019-02-23T22:59:54.809290Z",
     "start_time": "2019-02-23T22:59:54.772285Z"
    }
   },
   "outputs": [
    {
     "data": {
      "text/plain": [
       "65"
      ]
     },
     "execution_count": 132,
     "metadata": {},
     "output_type": "execute_result"
    }
   ],
   "source": [
    "5*(4*3 + 1)"
   ]
  },
  {
   "cell_type": "code",
   "execution_count": 135,
   "metadata": {
    "ExecuteTime": {
     "end_time": "2019-02-23T23:00:58.541662Z",
     "start_time": "2019-02-23T23:00:58.506835Z"
    }
   },
   "outputs": [],
   "source": [
    "with open('att_reports.json', 'r') as f:\n",
    "    reports_raw = json.load(f)"
   ]
  },
  {
   "cell_type": "code",
   "execution_count": 136,
   "metadata": {
    "ExecuteTime": {
     "end_time": "2019-02-23T23:01:08.519482Z",
     "start_time": "2019-02-23T23:01:08.486720Z"
    }
   },
   "outputs": [
    {
     "data": {
      "text/plain": [
       "65"
      ]
     },
     "execution_count": 136,
     "metadata": {},
     "output_type": "execute_result"
    }
   ],
   "source": [
    "len(reports_raw['data'])"
   ]
  },
  {
   "cell_type": "code",
   "execution_count": 182,
   "metadata": {
    "ExecuteTime": {
     "end_time": "2019-02-26T20:36:09.322890Z",
     "start_time": "2019-02-26T20:36:09.284226Z"
    }
   },
   "outputs": [
    {
     "name": "stdout",
     "output_type": "stream",
     "text": [
      "[\n",
      "  {\n",
      "    \"download_urls\": [\n",
      "      \"https://scontent.xx.fbcdn.net/v/t58.7538-6/34285469_327662411196199_1481443132171091968_n.gz/mta_partner_2019-02-24_cohort_1386462108046405_128900881029137metrics_100_1386462108046405_128900881029137.csv.gpg.gz?_nc_cat=111&_nc_ht=scontent.xx&oh=1763535165bd4384c843a0e481d5842e&oe=5C77278C\"\n",
      "    ],\n",
      "    \"metadata\": {},\n",
      "    \"id\": \"1203859839769602\"\n",
      "  },\n",
      "  {\n",
      "    \"download_urls\": [\n",
      "      \"https://scontent.xx.fbcdn.net/v/t58.7538-6/10000000_2059103620875246_8612050078686773248_n.gz/mta_partner_2019-02-24_cohort_1386462108046405_128900881029137summary_1_1386462108046405_128900881029137.csv.gpg.gz?_nc_cat=104&_nc_ht=scontent.xx&oh=df1d6514cfe95df837330132335722be&oe=5C784C1A\"\n",
      "    ],\n",
      "    \"metadata\": {},\n",
      "    \"id\": \"303766573667300\"\n",
      "  },\n",
      "  {\n",
      "    \"download_urls\": [\n",
      "      \"https://scontent.xx.fbcdn.net/v/t58.7538-6/52982000_296932647644273_4530563165766811648_n.gz/mta_partner_2019-02-24_cohort_1386462108046405_128900881029137membership_100_1386462108046405_128900881029137.csv.gpg.gz?_nc_cat=107&_nc_ht=scontent.xx&oh=6059c25af7ed2f7fa0b45be69c01f8c4&oe=5C78616C\"\n",
      "    ],\n",
      "    \"metadata\": {},\n",
      "    \"id\": \"260592004868446\"\n",
      "  },\n",
      "  {\n",
      "    \"download_urls\": [\n",
      "      \"https://scontent.xx.fbcdn.net/v/t58.7538-6/34895691_484335672101471_9074286115623534592_n.gz/mta_partner_2019-02-24_cohort_1386462108046405_128900881029137metrics_10_1386462108046405_128900881029137.csv.gpg.gz?_nc_cat=108&_nc_ht=scontent.xx&oh=a963ff129e04db546f0b3f141d54481a&oe=5C781E9A\"\n",
      "    ],\n",
      "    \"metadata\": {},\n",
      "    \"id\": \"1215290075285274\"\n",
      "  },\n",
      "  {\n",
      "    \"download_urls\": [\n",
      "      \"https://scontent.xx.fbcdn.net/v/t58.7538-6/48093773_2018275978222345_464566275738173440_n.gz/mta_partner_2019-02-24_cohort_1386462108046405_128900881029137metrics_1_1386462108046405_128900881029137.csv.gpg.gz?_nc_cat=109&_nc_ht=scontent.xx&oh=d4190a579ba4c3888e2f401c82ba25c2&oe=5C7743E8\"\n",
      "    ],\n",
      "    \"metadata\": {},\n",
      "    \"id\": \"387244685392782\"\n",
      "  },\n",
      "  {\n",
      "    \"download_urls\": [\n",
      "      \"https://scontent.xx.fbcdn.net/v/t58.7538-6/10000000_424070055001753_4129576798444847104_n.gz/mta_partner_2019-02-24_cohort_1386462108046405_128900881029137summary_10_1386462108046405_128900881029137.csv.gpg.gz?_nc_cat=109&_nc_ht=scontent.xx&oh=821dfb7ba0338dd79ef9790c56202aa8&oe=5C786DF6\"\n",
      "    ],\n",
      "    \"metadata\": {},\n",
      "    \"id\": \"1986451858330285\"\n",
      "  },\n",
      "  {\n",
      "    \"download_urls\": [\n",
      "      \"https://scontent.xx.fbcdn.net/v/t58.7538-6/47551828_2221592101220034_4925138547075186688_n.gz/mta_partner_2019-02-24_cohort_1386462108046405_128900881029137membership_1_1386462108046405_128900881029137.csv.gpg.gz?_nc_cat=107&_nc_ht=scontent.xx&oh=7d5ffe6c263a40b01be028e125fb2a7f&oe=5C78003B\"\n",
      "    ],\n",
      "    \"metadata\": {},\n",
      "    \"id\": \"1004435976412427\"\n",
      "  },\n",
      "  {\n",
      "    \"download_urls\": [\n",
      "      \"https://scontent.xx.fbcdn.net/v/t58.7538-6/10000000_261164661471263_7007579579711750144_n.gz/mta_partner_2019-02-24_cohort_1386462108046405_128900881029137summary_100_1386462108046405_128900881029137.csv.gpg.gz?_nc_cat=100&_nc_ht=scontent.xx&oh=475249484b1b71528508a05c20967c2a&oe=5C785153\"\n",
      "    ],\n",
      "    \"metadata\": {},\n",
      "    \"id\": \"2619323858082389\"\n",
      "  },\n",
      "  {\n",
      "    \"download_urls\": [\n",
      "      \"https://scontent.xx.fbcdn.net/v/t58.7538-6/49468039_2305929386098656_8034674395270086656_n.gz/mta_partner_2019-02-24_cohort_1386462108046405_128900881029137membership_10_1386462108046405_128900881029137.csv.gpg.gz?_nc_cat=110&_nc_ht=scontent.xx&oh=330fa7e31c3a97aa82e32b7d23f709b7&oe=5C774988\"\n",
      "    ],\n",
      "    \"metadata\": {},\n",
      "    \"id\": \"578855765949232\"\n",
      "  },\n",
      "  {\n",
      "    \"download_urls\": [\n",
      "      \"https://scontent.xx.fbcdn.net/v/t58.7538-6/53219100_2401305640156343_8608248422744457216_n.gz/mta_partner_2019-02-24_cohort_1386462108046405_128900881029137metrics_1000_1386462108046405_128900881029137.csv.gpg.gz?_nc_cat=109&_nc_ht=scontent.xx&oh=85bec64f799ea2d487547f8107316a45&oe=5C786557\"\n",
      "    ],\n",
      "    \"metadata\": {},\n",
      "    \"id\": \"969197233269946\"\n",
      "  },\n",
      "  {\n",
      "    \"download_urls\": [\n",
      "      \"https://scontent.xx.fbcdn.net/v/t58.7538-6/48028381_689819818101650_4242005427207798784_n.gz/mta_partner_2019-02-24_cohort_1386462108046405_128900881029137taxonomy_1386462108046405_128900881029137.csv.gpg.gz?_nc_cat=101&_nc_ht=scontent.xx&oh=d4c31d92610fdcb923eb8112911bc3a4&oe=5C780A55\"\n",
      "    ],\n",
      "    \"metadata\": {},\n",
      "    \"id\": \"153985948844413\"\n",
      "  },\n",
      "  {\n",
      "    \"download_urls\": [\n",
      "      \"https://scontent.xx.fbcdn.net/v/t58.7538-6/47882420_2386722004671806_7127137433279266816_n.gz/mta_partner_2019-02-24_cohort_1386462108046405_128900881029137membership_1000_1386462108046405_128900881029137.csv.gpg.gz?_nc_cat=102&_nc_ht=scontent.xx&oh=565fa30eaa49572a47951901ec02cd3b&oe=5C78082A\"\n",
      "    ],\n",
      "    \"metadata\": {},\n",
      "    \"id\": \"304031583646749\"\n",
      "  },\n",
      "  {\n",
      "    \"download_urls\": [\n",
      "      \"https://scontent.xx.fbcdn.net/v/t58.7538-6/53205097_734527173609205_9182298302530453504_n.gz/mta_partner_2019-02-24_cohort_1386462108046405_128900881029137summary_1000_1386462108046405_128900881029137.csv.gpg.gz?_nc_cat=111&_nc_ht=scontent.xx&oh=f7a4e5f6418f240ae64b3e662df4601e&oe=5C78554D\"\n",
      "    ],\n",
      "    \"metadata\": {},\n",
      "    \"id\": \"1123612484480116\"\n",
      "  },\n",
      "  {\n",
      "    \"download_urls\": [\n",
      "      \"https://scontent.xx.fbcdn.net/v/t58.7538-6/53252988_788410211527771_2116992244941586432_n.gz/mta_partner_2019-02-24_cohort_1386462108046405_128900881029137metrics_1_1386462108046405_128900881029137.csv.gpg.gz?_nc_cat=108&_nc_ht=scontent.xx&oh=a204342d46a3c1c5b0575cfba8c6b69e&oe=5C780645\"\n",
      "    ],\n",
      "    \"metadata\": {},\n",
      "    \"id\": \"2046642045413728\"\n",
      "  },\n",
      "  {\n",
      "    \"download_urls\": [\n",
      "      \"https://scontent.xx.fbcdn.net/v/t58.7538-6/10000000_367884160466808_1471162067091193856_n.gz/mta_partner_2019-02-24_cohort_1386462108046405_128900881029137summary_1_1386462108046405_128900881029137.csv.gpg.gz?_nc_cat=101&_nc_ht=scontent.xx&oh=601ef7eb4b01dee3c1945f2aaa3655e2&oe=5C773FEF\"\n",
      "    ],\n",
      "    \"metadata\": {},\n",
      "    \"id\": \"421443778625852\"\n",
      "  },\n",
      "  {\n",
      "    \"download_urls\": [\n",
      "      \"https://scontent.xx.fbcdn.net/v/t58.7538-6/47841302_1111111965727592_2439325803884838912_n.gz/mta_partner_2019-02-24_cohort_1386462108046405_128900881029137summary_1000_1386462108046405_128900881029137.csv.gpg.gz?_nc_cat=100&_nc_ht=scontent.xx&oh=97421d1afe9a6bebcc744bdcae300631&oe=5C783556\"\n",
      "    ],\n",
      "    \"metadata\": {},\n",
      "    \"id\": \"376618889558602\"\n",
      "  },\n",
      "  {\n",
      "    \"download_urls\": [\n",
      "      \"https://scontent.xx.fbcdn.net/v/t58.7538-6/47894694_250082505925312_383604669034790912_n.gz/mta_partner_2019-02-24_cohort_1386462108046405_128900881029137membership_10_1386462108046405_128900881029137.csv.gpg.gz?_nc_cat=108&_nc_ht=scontent.xx&oh=10b50a15fa6ad4ec0ebeb697b5711e2f&oe=5C780E47\"\n",
      "    ],\n",
      "    \"metadata\": {},\n",
      "    \"id\": \"1213950375412709\"\n",
      "  },\n",
      "  {\n",
      "    \"download_urls\": [\n",
      "      \"https://scontent.xx.fbcdn.net/v/t58.7538-6/27141310_2142057255832952_1408268434319343616_n.gz/mta_partner_2019-02-24_cohort_1386462108046405_128900881029137membership_1000_1386462108046405_128900881029137.csv.gpg.gz?_nc_cat=106&_nc_ht=scontent.xx&oh=7c6b11281f72926246bc28a05f3ac5f1&oe=5C78151B\"\n",
      "    ],\n",
      "    \"metadata\": {},\n",
      "    \"id\": \"153500235575126\"\n",
      "  },\n",
      "  {\n",
      "    \"download_urls\": [\n",
      "      \"https://scontent.xx.fbcdn.net/v/t58.7538-6/47881909_1130470220461036_2989009956243505152_n.gz/mta_partner_2019-02-24_cohort_1386462108046405_128900881029137membership_1_1386462108046405_128900881029137.csv.gpg.gz?_nc_cat=108&_nc_ht=scontent.xx&oh=45b999c8b2884659da953053cd76d9c8&oe=5C774C29\"\n",
      "    ],\n",
      "    \"metadata\": {},\n",
      "    \"id\": \"2331526283790539\"\n",
      "  },\n",
      "  {\n",
      "    \"download_urls\": [\n",
      "      \"https://scontent.xx.fbcdn.net/v/t58.7538-6/10000000_1170631829772914_7694037356453560320_n.gz/mta_partner_2019-02-24_cohort_1386462108046405_128900881029137summary_100_1386462108046405_128900881029137.csv.gpg.gz?_nc_cat=108&_nc_ht=scontent.xx&oh=955f0bdb1d217a6ea81ceedb349872fe&oe=5C786043\"\n",
      "    ],\n",
      "    \"metadata\": {},\n",
      "    \"id\": \"250267245922136\"\n",
      "  },\n",
      "  {\n",
      "    \"download_urls\": [\n",
      "      \"https://scontent.xx.fbcdn.net/v/t58.7538-6/10000000_1735408183271221_4445139191122100224_n.gz/mta_partner_2019-02-24_cohort_1386462108046405_128900881029137summary_10_1386462108046405_128900881029137.csv.gpg.gz?_nc_cat=104&_nc_ht=scontent.xx&oh=883870d9590c9e692e32ba3e793dd608&oe=5C785B6F\"\n",
      "    ],\n",
      "    \"metadata\": {},\n",
      "    \"id\": \"248976125987272\"\n",
      "  },\n",
      "  {\n",
      "    \"download_urls\": [\n",
      "      \"https://scontent.xx.fbcdn.net/v/t58.7538-6/47631787_249608275977606_1441740540386213888_n.gz/mta_partner_2019-02-24_cohort_1386462108046405_128900881029137membership_100_1386462108046405_128900881029137.csv.gpg.gz?_nc_cat=109&_nc_ht=scontent.xx&oh=ccf319b1d9552791ea829ee34c78b915&oe=5C772D8E\"\n",
      "    ],\n",
      "    \"metadata\": {},\n",
      "    \"id\": \"341964903081225\"\n",
      "  },\n",
      "  {\n",
      "    \"download_urls\": [\n",
      "      \"https://scontent.xx.fbcdn.net/v/t58.7538-6/53255599_2113341922078922_5708792309898805248_n.gz/mta_partner_2019-02-24_cohort_1386462108046405_128900881029137taxonomy_1386462108046405_128900881029137.csv.gpg.gz?_nc_cat=108&_nc_ht=scontent.xx&oh=f2fba63aec260f40a31c3a51c125f06b&oe=5C7820E8\"\n",
      "    ],\n",
      "    \"metadata\": {},\n",
      "    \"id\": \"2110563582568768\"\n",
      "  },\n",
      "  {\n",
      "    \"download_urls\": [\n",
      "      \"https://scontent.xx.fbcdn.net/v/t58.7538-6/53318842_313647616168120_4075209740907446272_n.gz/mta_partner_2019-02-24_cohort_1386462108046405_128900881029137metrics_1000_1386462108046405_128900881029137.csv.gpg.gz?_nc_cat=107&_nc_ht=scontent.xx&oh=ff829fe9675809ca1ca09a0f287ab4ef&oe=5C786C1B\"\n",
      "    ],\n",
      "    \"metadata\": {},\n",
      "    \"id\": \"423805241699236\"\n",
      "  },\n",
      "  {\n",
      "    \"download_urls\": [\n",
      "      \"https://scontent.xx.fbcdn.net/v/t58.7538-6/47521630_2265902833698850_9033527528819523584_n.gz/mta_partner_2019-02-24_cohort_1386462108046405_128900881029137metrics_10_1386462108046405_128900881029137.csv.gpg.gz?_nc_cat=105&_nc_ht=scontent.xx&oh=a1dfb01773e7033dc21a23cbf177944d&oe=5C780ECB\"\n",
      "    ],\n",
      "    \"metadata\": {},\n",
      "    \"id\": \"575381262936595\"\n",
      "  },\n",
      "  {\n",
      "    \"download_urls\": [\n",
      "      \"https://scontent.xx.fbcdn.net/v/t58.7538-6/47903333_594220834355955_4068147423103418368_n.gz/mta_partner_2019-02-24_cohort_1386462108046405_128900881029137metrics_100_1386462108046405_128900881029137.csv.gpg.gz?_nc_cat=105&_nc_ht=scontent.xx&oh=ac1c05109c6875ed6ce0897cd965a806&oe=5C775451\"\n",
      "    ],\n",
      "    \"metadata\": {},\n",
      "    \"id\": \"279312089635620\"\n",
      "  },\n",
      "  {\n",
      "    \"download_urls\": [\n",
      "      \"https://scontent.xx.fbcdn.net/v/t58.7538-6/53347954_1904696436298670_1963187030825369600_n.gz/mta_partner_2019-02-24_cohort_1386462108046405_128900881029137summary_1000_1386462108046405_128900881029137.csv.gpg.gz?_nc_cat=108&_nc_ht=scontent.xx&oh=455a48bdda0c9e38e0fa83311564a574&oe=5C772B27\"\n",
      "    ],\n",
      "    \"metadata\": {},\n",
      "    \"id\": \"390965865057011\"\n",
      "  },\n",
      "  {\n",
      "    \"download_urls\": [\n",
      "      \"https://scontent.xx.fbcdn.net/v/t58.7538-6/10000000_2132335836844359_1470035342550630400_n.gz/mta_partner_2019-02-24_cohort_1386462108046405_128900881029137summary_10_1386462108046405_128900881029137.csv.gpg.gz?_nc_cat=100&_nc_ht=scontent.xx&oh=521463b97019738da928215718ca8bc5&oe=5C7753EC\"\n",
      "    ],\n",
      "    \"metadata\": {},\n",
      "    \"id\": \"2086284224997309\"\n",
      "  },\n",
      "  {\n",
      "    \"download_urls\": [\n",
      "      \"https://scontent.xx.fbcdn.net/v/t58.7538-6/10000000_802025940190647_5023187281733746688_n.gz/mta_partner_2019-02-24_cohort_1386462108046405_128900881029137summary_100_1386462108046405_128900881029137.csv.gpg.gz?_nc_cat=106&_nc_ht=scontent.xx&oh=a6ffcf3c2217426d6d4eae8294e3eb1e&oe=5C7821A5\"\n",
      "    ],\n",
      "    \"metadata\": {},\n",
      "    \"id\": \"376099622994485\"\n",
      "  },\n",
      "  {\n",
      "    \"download_urls\": [\n",
      "      \"https://scontent.xx.fbcdn.net/v/t58.7538-6/53306260_2283740978569595_377293532420898816_n.gz/mta_partner_2019-02-24_cohort_1386462108046405_128900881029137membership_1000_1386462108046405_128900881029137.csv.gpg.gz?_nc_cat=111&_nc_ht=scontent.xx&oh=c939acff3720ffb30762ced37dc41482&oe=5C787243\"\n",
      "    ],\n",
      "    \"metadata\": {},\n",
      "    \"id\": \"820268548310635\"\n",
      "  },\n",
      "  {\n",
      "    \"download_urls\": [\n",
      "      \"https://scontent.xx.fbcdn.net/v/t58.7538-6/47559191_301066390529433_1093038205822828544_n.gz/mta_partner_2019-02-24_cohort_1386462108046405_128900881029137metrics_100_1386462108046405_128900881029137.csv.gpg.gz?_nc_cat=106&_nc_ht=scontent.xx&oh=c74a7209e67fa9584ca69dfaaf64108a&oe=5C7842D8\"\n",
      "    ],\n",
      "    \"metadata\": {},\n",
      "    \"id\": \"389255255209531\"\n",
      "  },\n",
      "  {\n",
      "    \"download_urls\": [\n",
      "      \"https://scontent.xx.fbcdn.net/v/t58.7538-6/41015485_622489984864799_9118487380708294656_n.gz/mta_partner_2019-02-24_cohort_1386462108046405_128900881029137membership_10_1386462108046405_128900881029137.csv.gpg.gz?_nc_cat=105&_nc_ht=scontent.xx&oh=c7b2a3295b7ecf195ad5aefab0827c88&oe=5C7812F4\"\n",
      "    ],\n",
      "    \"metadata\": {},\n",
      "    \"id\": \"632574600510856\"\n",
      "  },\n",
      "  {\n",
      "    \"download_urls\": [\n",
      "      \"https://scontent.xx.fbcdn.net/v/t58.7538-6/48025915_1628873653882690_7627293599033458688_n.gz/mta_partner_2019-02-24_cohort_1386462108046405_128900881029137membership_1_1386462108046405_128900881029137.csv.gpg.gz?_nc_cat=107&_nc_ht=scontent.xx&oh=6380846e959a8bbe80334f2e0ded232d&oe=5C784357\"\n",
      "    ],\n",
      "    \"metadata\": {},\n",
      "    \"id\": \"395252094594138\"\n",
      "  },\n",
      "  {\n",
      "    \"download_urls\": [\n",
      "      \"https://scontent.xx.fbcdn.net/v/t58.7538-6/52172469_822418181473258_8521432865810939904_n.gz/mta_partner_2019-02-24_cohort_1386462108046405_128900881029137membership_100_1386462108046405_128900881029137.csv.gpg.gz?_nc_cat=101&_nc_ht=scontent.xx&oh=46c072ee90e24395c73614ce9a709f90&oe=5C784106\"\n",
      "    ],\n",
      "    \"metadata\": {},\n",
      "    \"id\": \"260767981481859\"\n",
      "  },\n",
      "  {\n",
      "    \"download_urls\": [\n",
      "      \"https://scontent.xx.fbcdn.net/v/t58.7538-6/47854205_2595234837213988_7585840537492520960_n.gz/mta_partner_2019-02-24_cohort_1386462108046405_128900881029137metrics_10_1386462108046405_128900881029137.csv.gpg.gz?_nc_cat=100&_nc_ht=scontent.xx&oh=1735a681d0848ac1dc78ad06049adefe&oe=5C784291\"\n",
      "    ],\n",
      "    \"metadata\": {},\n",
      "    \"id\": \"537714633299892\"\n",
      "  },\n",
      "  {\n",
      "    \"download_urls\": [\n",
      "      \"https://scontent.xx.fbcdn.net/v/t58.7538-6/10000000_289138741780102_2080660510994333696_n.gz/mta_partner_2019-02-24_cohort_1386462108046405_128900881029137summary_1_1386462108046405_128900881029137.csv.gpg.gz?_nc_cat=108&_nc_ht=scontent.xx&oh=3e4e0844da4cf60efaab758eb11ea5dc&oe=5C7827F2\"\n",
      "    ],\n",
      "    \"metadata\": {},\n",
      "    \"id\": \"297506764274689\"\n",
      "  },\n",
      "  {\n",
      "    \"download_urls\": [\n",
      "      \"https://scontent.xx.fbcdn.net/v/t58.7538-6/53324373_2258342781048744_8867752644576280576_n.gz/mta_partner_2019-02-24_cohort_1386462108046405_128900881029137metrics_1000_1386462108046405_128900881029137.csv.gpg.gz?_nc_cat=107&_nc_ht=scontent.xx&oh=6fcce2d8b2549f40032a82df3749b394&oe=5C7732AF\"\n",
      "    ],\n",
      "    \"metadata\": {},\n",
      "    \"id\": \"2562801713748092\"\n",
      "  },\n",
      "  {\n",
      "    \"download_urls\": [\n",
      "      \"https://scontent.xx.fbcdn.net/v/t58.7538-6/47862292_247726389466298_6685782913155334144_n.gz/mta_partner_2019-02-24_cohort_1386462108046405_128900881029137taxonomy_1386462108046405_128900881029137.csv.gpg.gz?_nc_cat=106&_nc_ht=scontent.xx&oh=7246e8c40e72929e932f54aa606479ee&oe=5C7811A4\"\n",
      "    ],\n",
      "    \"metadata\": {},\n",
      "    \"id\": \"623935404724300\"\n",
      "  },\n",
      "  {\n",
      "    \"download_urls\": [\n",
      "      \"https://scontent.xx.fbcdn.net/v/t58.7538-6/53091809_573252493203959_7757886147002368000_n.gz/mta_partner_2019-02-24_cohort_1386462108046405_128900881029137metrics_1_1386462108046405_128900881029137.csv.gpg.gz?_nc_cat=103&_nc_ht=scontent.xx&oh=d384f00321bd7bc73b1de53f942f46be&oe=5C7860A5\"\n",
      "    ],\n",
      "    \"metadata\": {},\n",
      "    \"id\": \"2026156554169090\"\n",
      "  },\n",
      "  {\n",
      "    \"download_urls\": [\n",
      "      \"https://scontent.xx.fbcdn.net/v/t58.7538-6/10000000_2749596845065468_6379869164508545024_n.gz/mta_partner_2019-02-24_cohort_1386462108046405_128900881029137summary_10_1386462108046405_128900881029137.csv.gpg.gz?_nc_cat=101&_nc_ht=scontent.xx&oh=f1f8d04abae79d53316af6391cdd900c&oe=5C7740FF\"\n",
      "    ],\n",
      "    \"metadata\": {},\n",
      "    \"id\": \"411875269567226\"\n",
      "  },\n",
      "  {\n",
      "    \"download_urls\": [\n",
      "      \"https://scontent.xx.fbcdn.net/v/t58.7538-6/49995275_259587704760578_8277187666349391872_n.gz/mta_partner_2019-02-24_cohort_1386462108046405_128900881029137summary_1000_1386462108046405_128900881029137.csv.gpg.gz?_nc_cat=107&_nc_ht=scontent.xx&oh=e5839a89633baf24e775140a0da8b8c9&oe=5C78272C\"\n",
      "    ],\n",
      "    \"metadata\": {},\n",
      "    \"id\": \"601454243614542\"\n",
      "  },\n",
      "  {\n",
      "    \"download_urls\": [\n",
      "      \"https://scontent.xx.fbcdn.net/v/t58.7538-6/10000000_250738762526546_1955239464427061248_n.gz/mta_partner_2019-02-24_cohort_1386462108046405_128900881029137summary_1_1386462108046405_128900881029137.csv.gpg.gz?_nc_cat=111&_nc_ht=scontent.xx&oh=3af1b9cf20d3a5927ba74d28c18be644&oe=5C783F4E\"\n",
      "    ],\n",
      "    \"metadata\": {},\n",
      "    \"id\": \"310738499799666\"\n",
      "  },\n",
      "  {\n",
      "    \"download_urls\": [\n",
      "      \"https://scontent.xx.fbcdn.net/v/t58.7538-6/47909819_2365104603717759_2951745333924724736_n.gz/mta_partner_2019-02-24_cohort_1386462108046405_128900881029137metrics_1000_1386462108046405_128900881029137.csv.gpg.gz?_nc_cat=108&_nc_ht=scontent.xx&oh=170d51ebf6f080ac226c173a0882d094&oe=5C773DB5\"\n",
      "    ],\n",
      "    \"metadata\": {},\n",
      "    \"id\": \"265065031086346\"\n",
      "  },\n",
      "  {\n",
      "    \"download_urls\": [\n",
      "      \"https://scontent.xx.fbcdn.net/v/t58.7538-6/49493622_299461747382964_6425412452254482432_n.gz/mta_partner_2019-02-24_cohort_1386462108046405_128900881029137membership_1000_1386462108046405_128900881029137.csv.gpg.gz?_nc_cat=105&_nc_ht=scontent.xx&oh=2c11f605e687c845f2ff2d941441a54c&oe=5C780ECD\"\n",
      "    ],\n",
      "    \"metadata\": {},\n",
      "    \"id\": \"2242218092771647\"\n",
      "  },\n",
      "  {\n",
      "    \"download_urls\": [\n",
      "      \"https://scontent.xx.fbcdn.net/v/t58.7538-6/47862843_299256920754932_7707191578560823296_n.gz/mta_partner_2019-02-24_cohort_1386462108046405_128900881029137summary_100_1386462108046405_128900881029137.csv.gpg.gz?_nc_cat=111&_nc_ht=scontent.xx&oh=3ba7eaa199e4ba7f57c95bb0c318bad7&oe=5C7813B7\"\n",
      "    ],\n",
      "    \"metadata\": {},\n",
      "    \"id\": \"951636978364324\"\n",
      "  },\n",
      "  {\n",
      "    \"download_urls\": [\n",
      "      \"https://scontent.xx.fbcdn.net/v/t58.7538-6/53089692_383441508904732_8847539583588499456_n.gz/mta_partner_2019-02-24_cohort_1386462108046405_128900881029137metrics_1_1386462108046405_128900881029137.csv.gpg.gz?_nc_cat=102&_nc_ht=scontent.xx&oh=b88872329dc562811249b55a8cc95ec5&oe=5C781189\"\n",
      "    ],\n",
      "    \"metadata\": {},\n",
      "    \"id\": \"317147265882644\"\n",
      "  },\n",
      "  {\n",
      "    \"download_urls\": [\n",
      "      \"https://scontent.xx.fbcdn.net/v/t58.7538-6/47863105_692770237787620_3166145668934795264_n.gz/mta_partner_2019-02-24_cohort_1386462108046405_128900881029137metrics_10_1386462108046405_128900881029137.csv.gpg.gz?_nc_cat=107&_nc_ht=scontent.xx&oh=44e6903b5e03108b69e232a4a6d879b2&oe=5C774BFC\"\n",
      "    ],\n",
      "    \"metadata\": {},\n",
      "    \"id\": \"416930262412612\"\n",
      "  },\n",
      "  {\n",
      "    \"download_urls\": [\n",
      "      \"https://scontent.xx.fbcdn.net/v/t58.7538-6/53325367_2270242849926049_7175998866729205760_n.gz/mta_partner_2019-02-24_cohort_1386462108046405_128900881029137metrics_100_1386462108046405_128900881029137.csv.gpg.gz?_nc_cat=107&_nc_ht=scontent.xx&oh=52d65cfa26d326f1ce1d47dc0de7d229&oe=5C784ED1\"\n",
      "    ],\n",
      "    \"metadata\": {},\n",
      "    \"id\": \"1542184862578751\"\n",
      "  },\n",
      "  {\n",
      "    \"download_urls\": [\n",
      "      \"https://scontent.xx.fbcdn.net/v/t58.7538-6/47505954_857023444645164_5374232452237623296_n.gz/mta_partner_2019-02-24_cohort_1386462108046405_128900881029137membership_1_1386462108046405_128900881029137.csv.gpg.gz?_nc_cat=111&_nc_ht=scontent.xx&oh=a09632ff731e33c32069248c5740d602&oe=5C773FDB\"\n",
      "    ],\n",
      "    \"metadata\": {},\n",
      "    \"id\": \"343453902929837\"\n",
      "  },\n",
      "  {\n",
      "    \"download_urls\": [\n",
      "      \"https://scontent.xx.fbcdn.net/v/t58.7538-6/47845199_249577439317885_8139770114699427840_n.gz/mta_partner_2019-02-24_cohort_1386462108046405_128900881029137taxonomy_1386462108046405_128900881029137.csv.gpg.gz?_nc_cat=110&_nc_ht=scontent.xx&oh=4eda3580b10546eef477ab6847efc351&oe=5C7826CF\"\n",
      "    ],\n",
      "    \"metadata\": {},\n",
      "    \"id\": \"342943673004679\"\n",
      "  },\n",
      "  {\n",
      "    \"download_urls\": [\n",
      "      \"https://scontent.xx.fbcdn.net/v/t58.7538-6/28596029_276117473285453_8386247417254641664_n.gz/mta_partner_2019-02-24_cohort_1386462108046405_128900881029137membership_100_1386462108046405_128900881029137.csv.gpg.gz?_nc_cat=110&_nc_ht=scontent.xx&oh=1f2fa0cc971d138c3074299c49ee3a17&oe=5C783905\"\n",
      "    ],\n",
      "    \"metadata\": {},\n",
      "    \"id\": \"302928133727698\"\n",
      "  },\n",
      "  {\n",
      "    \"download_urls\": [\n",
      "      \"https://scontent.xx.fbcdn.net/v/t58.7538-6/49857357_307044316622459_5198837163373887488_n.gz/mta_partner_2019-02-24_cohort_1386462108046405_128900881029137membership_10_1386462108046405_128900881029137.csv.gpg.gz?_nc_cat=108&_nc_ht=scontent.xx&oh=48c68e36c33960862620c9922ac63f41&oe=5C7754C7\"\n",
      "    ],\n",
      "    \"metadata\": {},\n",
      "    \"id\": \"465958460607486\"\n",
      "  },\n",
      "  {\n",
      "    \"download_urls\": [\n",
      "      \"https://scontent.xx.fbcdn.net/v/t58.7538-6/52821630_1981718771955344_759858381283393536_n.gz/mta_partner_2019-02-24_cohort_1386462108046405_128900881029137membership_1_1386462108046405_128900881029137.csv.gpg.gz?_nc_cat=104&_nc_ht=scontent.xx&oh=8ca70f2f15861c745313aadc6f1f2696&oe=5C781CF6\"\n",
      "    ],\n",
      "    \"metadata\": {},\n",
      "    \"id\": \"348830605840401\"\n",
      "  },\n",
      "  {\n",
      "    \"download_urls\": [\n",
      "      \"https://scontent.xx.fbcdn.net/v/t58.7538-6/10000000_2279954135377353_8313777295902900224_n.gz/mta_partner_2019-02-24_cohort_1386462108046405_128900881029137summary_1_1386462108046405_128900881029137.csv.gpg.gz?_nc_cat=110&_nc_ht=scontent.xx&oh=56630c3802f05f5c26b937336b65ebc2&oe=5C773577\"\n",
      "    ],\n",
      "    \"metadata\": {},\n",
      "    \"id\": \"706435573085347\"\n",
      "  },\n",
      "  {\n",
      "    \"download_urls\": [\n",
      "      \"https://scontent.xx.fbcdn.net/v/t58.7538-6/49956057_395852017907862_3836861389809385472_n.gz/mta_partner_2019-02-24_cohort_1386462108046405_128900881029137membership_100_1386462108046405_128900881029137.csv.gpg.gz?_nc_cat=108&_nc_ht=scontent.xx&oh=dccbadaaec508161df55092237659834&oe=5C781F47\"\n",
      "    ],\n",
      "    \"metadata\": {},\n",
      "    \"id\": \"2208788319384328\"\n",
      "  },\n",
      "  {\n",
      "    \"download_urls\": [\n",
      "      \"https://scontent.xx.fbcdn.net/v/t58.7538-6/10000000_350618315547744_3048642952923447296_n.gz/mta_partner_2019-02-24_cohort_1386462108046405_128900881029137summary_10_1386462108046405_128900881029137.csv.gpg.gz?_nc_cat=103&_nc_ht=scontent.xx&oh=87418d357f5f835df4cc906c76b6b679&oe=5C781145\"\n",
      "    ],\n",
      "    \"metadata\": {},\n",
      "    \"id\": \"393694798084999\"\n",
      "  },\n",
      "  {\n",
      "    \"download_urls\": [\n",
      "      \"https://scontent.xx.fbcdn.net/v/t58.7538-6/53244263_2289574994652558_1837591496916729856_n.gz/mta_partner_2019-02-24_cohort_1386462108046405_128900881029137membership_10_1386462108046405_128900881029137.csv.gpg.gz?_nc_cat=109&_nc_ht=scontent.xx&oh=894522add103412bf7e9cb110b6da3bc&oe=5C773BE0\"\n",
      "    ],\n",
      "    \"metadata\": {},\n",
      "    \"id\": \"366597557269918\"\n",
      "  },\n",
      "  {\n",
      "    \"download_urls\": [\n",
      "      \"https://scontent.xx.fbcdn.net/v/t58.7538-6/53181649_246835126195460_5895170199505600512_n.gz/mta_partner_2019-02-24_cohort_1386462108046405_128900881029137summary_1000_1386462108046405_128900881029137.csv.gpg.gz?_nc_cat=106&_nc_ht=scontent.xx&oh=f4bf183e4739199e6c0efdcba4072a55&oe=5C7860D6\"\n",
      "    ],\n",
      "    \"metadata\": {},\n",
      "    \"id\": \"293155138044191\"\n",
      "  },\n",
      "  {\n",
      "    \"download_urls\": [\n",
      "      \"https://scontent.xx.fbcdn.net/v/t58.7538-6/44489475_153943108864769_1112118194308382720_n.gz/mta_partner_2019-02-24_cohort_1386462108046405_128900881029137taxonomy_1386462108046405_128900881029137.csv.gpg.gz?_nc_cat=102&_nc_ht=scontent.xx&oh=aaeea75cbeb5bb94a7dda1304b110489&oe=5C7802B7\"\n",
      "    ],\n",
      "    \"metadata\": {},\n",
      "    \"id\": \"2305919316311856\"\n",
      "  },\n",
      "  {\n",
      "    \"download_urls\": [\n",
      "      \"https://scontent.xx.fbcdn.net/v/t58.7538-6/53047169_2249364728447024_8843168410687766528_n.gz/mta_partner_2019-02-24_cohort_1386462108046405_128900881029137summary_100_1386462108046405_128900881029137.csv.gpg.gz?_nc_cat=109&_nc_ht=scontent.xx&oh=caeac70a3c8b06fad4f1fc92b35471fb&oe=5C772FE1\"\n",
      "    ],\n",
      "    \"metadata\": {},\n",
      "    \"id\": \"2252865055001752\"\n",
      "  },\n",
      "  {\n",
      "    \"download_urls\": [\n",
      "      \"https://scontent.xx.fbcdn.net/v/t58.7538-6/53170051_2293014904084433_253431125190377472_n.gz/mta_partner_2019-02-24_cohort_1386462108046405_128900881029137metrics_1000_1386462108046405_128900881029137.csv.gpg.gz?_nc_cat=105&_nc_ht=scontent.xx&oh=f51da3b1486f725c9e21cf80564abd2c&oe=5C7823B9\"\n",
      "    ],\n",
      "    \"metadata\": {},\n",
      "    \"id\": \"2314520978558490\"\n",
      "  },\n",
      "  {\n",
      "    \"download_urls\": [\n",
      "      \"https://scontent.xx.fbcdn.net/v/t58.7538-6/53364524_559702354531951_3697441352607334400_n.gz/mta_partner_2019-02-24_cohort_1386462108046405_128900881029137metrics_10_1386462108046405_128900881029137.csv.gpg.gz?_nc_cat=109&_nc_ht=scontent.xx&oh=5f2510c6eab639a80b16b77874053824&oe=5C7870D7\"\n",
      "    ],\n",
      "    \"metadata\": {},\n",
      "    \"id\": \"423053378269985\"\n",
      "  },\n",
      "  {\n",
      "    \"download_urls\": [\n",
      "      \"https://scontent.xx.fbcdn.net/v/t58.7538-6/34295698_2558215451071543_9120539262679252992_n.gz/mta_partner_2019-02-24_cohort_1386462108046405_128900881029137membership_1000_1386462108046405_128900881029137.csv.gpg.gz?_nc_cat=108&_nc_ht=scontent.xx&oh=2db8cf1e5a334cc9aa92f72fa7458140&oe=5C774001\"\n",
      "    ],\n",
      "    \"metadata\": {},\n",
      "    \"id\": \"988759054666577\"\n",
      "  },\n",
      "  {\n",
      "    \"download_urls\": [\n",
      "      \"https://scontent.xx.fbcdn.net/v/t58.7538-6/53189128_290603941617651_2360201811823951872_n.gz/mta_partner_2019-02-24_cohort_1386462108046405_128900881029137metrics_100_1386462108046405_128900881029137.csv.gpg.gz?_nc_cat=101&_nc_ht=scontent.xx&oh=de58a49330e8d5c2321f072c3827d80d&oe=5C78306A\"\n",
      "    ],\n",
      "    \"metadata\": {},\n",
      "    \"id\": \"474800133053430\"\n",
      "  },\n",
      "  {\n",
      "    \"download_urls\": [\n",
      "      \"https://scontent.xx.fbcdn.net/v/t58.7538-6/47551432_660502717700483_5878474613654028288_n.gz/mta_partner_2019-02-24_cohort_1386462108046405_128900881029137metrics_1_1386462108046405_128900881029137.csv.gpg.gz?_nc_cat=103&_nc_ht=scontent.xx&oh=aaa9f08a93cc4968e841be43b92babb0&oe=5C786D94\"\n",
      "    ],\n",
      "    \"metadata\": {},\n",
      "    \"id\": \"487482171782568\"\n",
      "  }\n",
      "]\n"
     ]
    }
   ],
   "source": [
    "print(json.dumps(data, indent=2))"
   ]
  },
  {
   "cell_type": "code",
   "execution_count": 184,
   "metadata": {
    "ExecuteTime": {
     "end_time": "2019-02-26T20:38:20.678228Z",
     "start_time": "2019-02-26T20:38:20.630082Z"
    }
   },
   "outputs": [],
   "source": [
    "pattern = re.compile(r\"mta_partner_2019-02-24_(.*)\\.csv\\.gpg\\.gz.*oe=(.*)$\")"
   ]
  },
  {
   "cell_type": "code",
   "execution_count": 185,
   "metadata": {
    "ExecuteTime": {
     "end_time": "2019-02-26T20:38:23.050181Z",
     "start_time": "2019-02-26T20:38:23.002469Z"
    }
   },
   "outputs": [
    {
     "data": {
      "text/plain": [
       "65"
      ]
     },
     "execution_count": 185,
     "metadata": {},
     "output_type": "execute_result"
    }
   ],
   "source": [
    "url_set = set()\n",
    "urls = {}\n",
    "for d in data:\n",
    "    url = d['download_urls'][0]\n",
    "    match = pattern.search(url)\n",
    "    if not match:\n",
    "        print(d)\n",
    "    filename = '{}_{}.csv.gpg.gz'.format(\n",
    "        match.group(1),\n",
    "        match.group(2)\n",
    "    )\n",
    "    url_set.add(filename)\n",
    "    urls[filename] = {'url': url, 'file_size': 0}\n",
    "    #if match:\n",
    "    #    print(match.group(1))\n",
    "    #    print(match.group(2))\n",
    "    #    codes.add(match.group(2))\n",
    "len(url_set)"
   ]
  },
  {
   "cell_type": "code",
   "execution_count": 192,
   "metadata": {
    "ExecuteTime": {
     "end_time": "2019-02-26T20:40:46.925270Z",
     "start_time": "2019-02-26T20:40:46.745241Z"
    }
   },
   "outputs": [
    {
     "data": {
      "text/plain": [
       "{'cohort_1386462108046405_128900881029137metrics_100_1386462108046405_128900881029137_5C77278C.csv.gpg.gz': {'url': 'https://scontent.xx.fbcdn.net/v/t58.7538-6/34285469_327662411196199_1481443132171091968_n.gz/mta_partner_2019-02-24_cohort_1386462108046405_128900881029137metrics_100_1386462108046405_128900881029137.csv.gpg.gz?_nc_cat=111&_nc_ht=scontent.xx&oh=1763535165bd4384c843a0e481d5842e&oe=5C77278C',\n",
       "  'file_size': 0},\n",
       " 'cohort_1386462108046405_128900881029137summary_1_1386462108046405_128900881029137_5C784C1A.csv.gpg.gz': {'url': 'https://scontent.xx.fbcdn.net/v/t58.7538-6/10000000_2059103620875246_8612050078686773248_n.gz/mta_partner_2019-02-24_cohort_1386462108046405_128900881029137summary_1_1386462108046405_128900881029137.csv.gpg.gz?_nc_cat=104&_nc_ht=scontent.xx&oh=df1d6514cfe95df837330132335722be&oe=5C784C1A',\n",
       "  'file_size': 0},\n",
       " 'cohort_1386462108046405_128900881029137membership_100_1386462108046405_128900881029137_5C78616C.csv.gpg.gz': {'url': 'https://scontent.xx.fbcdn.net/v/t58.7538-6/52982000_296932647644273_4530563165766811648_n.gz/mta_partner_2019-02-24_cohort_1386462108046405_128900881029137membership_100_1386462108046405_128900881029137.csv.gpg.gz?_nc_cat=107&_nc_ht=scontent.xx&oh=6059c25af7ed2f7fa0b45be69c01f8c4&oe=5C78616C',\n",
       "  'file_size': 0},\n",
       " 'cohort_1386462108046405_128900881029137metrics_10_1386462108046405_128900881029137_5C781E9A.csv.gpg.gz': {'url': 'https://scontent.xx.fbcdn.net/v/t58.7538-6/34895691_484335672101471_9074286115623534592_n.gz/mta_partner_2019-02-24_cohort_1386462108046405_128900881029137metrics_10_1386462108046405_128900881029137.csv.gpg.gz?_nc_cat=108&_nc_ht=scontent.xx&oh=a963ff129e04db546f0b3f141d54481a&oe=5C781E9A',\n",
       "  'file_size': 0},\n",
       " 'cohort_1386462108046405_128900881029137metrics_1_1386462108046405_128900881029137_5C7743E8.csv.gpg.gz': {'url': 'https://scontent.xx.fbcdn.net/v/t58.7538-6/48093773_2018275978222345_464566275738173440_n.gz/mta_partner_2019-02-24_cohort_1386462108046405_128900881029137metrics_1_1386462108046405_128900881029137.csv.gpg.gz?_nc_cat=109&_nc_ht=scontent.xx&oh=d4190a579ba4c3888e2f401c82ba25c2&oe=5C7743E8',\n",
       "  'file_size': 0},\n",
       " 'cohort_1386462108046405_128900881029137summary_10_1386462108046405_128900881029137_5C786DF6.csv.gpg.gz': {'url': 'https://scontent.xx.fbcdn.net/v/t58.7538-6/10000000_424070055001753_4129576798444847104_n.gz/mta_partner_2019-02-24_cohort_1386462108046405_128900881029137summary_10_1386462108046405_128900881029137.csv.gpg.gz?_nc_cat=109&_nc_ht=scontent.xx&oh=821dfb7ba0338dd79ef9790c56202aa8&oe=5C786DF6',\n",
       "  'file_size': 0},\n",
       " 'cohort_1386462108046405_128900881029137membership_1_1386462108046405_128900881029137_5C78003B.csv.gpg.gz': {'url': 'https://scontent.xx.fbcdn.net/v/t58.7538-6/47551828_2221592101220034_4925138547075186688_n.gz/mta_partner_2019-02-24_cohort_1386462108046405_128900881029137membership_1_1386462108046405_128900881029137.csv.gpg.gz?_nc_cat=107&_nc_ht=scontent.xx&oh=7d5ffe6c263a40b01be028e125fb2a7f&oe=5C78003B',\n",
       "  'file_size': 0},\n",
       " 'cohort_1386462108046405_128900881029137summary_100_1386462108046405_128900881029137_5C785153.csv.gpg.gz': {'url': 'https://scontent.xx.fbcdn.net/v/t58.7538-6/10000000_261164661471263_7007579579711750144_n.gz/mta_partner_2019-02-24_cohort_1386462108046405_128900881029137summary_100_1386462108046405_128900881029137.csv.gpg.gz?_nc_cat=100&_nc_ht=scontent.xx&oh=475249484b1b71528508a05c20967c2a&oe=5C785153',\n",
       "  'file_size': 0},\n",
       " 'cohort_1386462108046405_128900881029137membership_10_1386462108046405_128900881029137_5C774988.csv.gpg.gz': {'url': 'https://scontent.xx.fbcdn.net/v/t58.7538-6/49468039_2305929386098656_8034674395270086656_n.gz/mta_partner_2019-02-24_cohort_1386462108046405_128900881029137membership_10_1386462108046405_128900881029137.csv.gpg.gz?_nc_cat=110&_nc_ht=scontent.xx&oh=330fa7e31c3a97aa82e32b7d23f709b7&oe=5C774988',\n",
       "  'file_size': 0},\n",
       " 'cohort_1386462108046405_128900881029137metrics_1000_1386462108046405_128900881029137_5C786557.csv.gpg.gz': {'url': 'https://scontent.xx.fbcdn.net/v/t58.7538-6/53219100_2401305640156343_8608248422744457216_n.gz/mta_partner_2019-02-24_cohort_1386462108046405_128900881029137metrics_1000_1386462108046405_128900881029137.csv.gpg.gz?_nc_cat=109&_nc_ht=scontent.xx&oh=85bec64f799ea2d487547f8107316a45&oe=5C786557',\n",
       "  'file_size': 0},\n",
       " 'cohort_1386462108046405_128900881029137taxonomy_1386462108046405_128900881029137_5C780A55.csv.gpg.gz': {'url': 'https://scontent.xx.fbcdn.net/v/t58.7538-6/48028381_689819818101650_4242005427207798784_n.gz/mta_partner_2019-02-24_cohort_1386462108046405_128900881029137taxonomy_1386462108046405_128900881029137.csv.gpg.gz?_nc_cat=101&_nc_ht=scontent.xx&oh=d4c31d92610fdcb923eb8112911bc3a4&oe=5C780A55',\n",
       "  'file_size': 0},\n",
       " 'cohort_1386462108046405_128900881029137membership_1000_1386462108046405_128900881029137_5C78082A.csv.gpg.gz': {'url': 'https://scontent.xx.fbcdn.net/v/t58.7538-6/47882420_2386722004671806_7127137433279266816_n.gz/mta_partner_2019-02-24_cohort_1386462108046405_128900881029137membership_1000_1386462108046405_128900881029137.csv.gpg.gz?_nc_cat=102&_nc_ht=scontent.xx&oh=565fa30eaa49572a47951901ec02cd3b&oe=5C78082A',\n",
       "  'file_size': 0},\n",
       " 'cohort_1386462108046405_128900881029137summary_1000_1386462108046405_128900881029137_5C78554D.csv.gpg.gz': {'url': 'https://scontent.xx.fbcdn.net/v/t58.7538-6/53205097_734527173609205_9182298302530453504_n.gz/mta_partner_2019-02-24_cohort_1386462108046405_128900881029137summary_1000_1386462108046405_128900881029137.csv.gpg.gz?_nc_cat=111&_nc_ht=scontent.xx&oh=f7a4e5f6418f240ae64b3e662df4601e&oe=5C78554D',\n",
       "  'file_size': 0},\n",
       " 'cohort_1386462108046405_128900881029137metrics_1_1386462108046405_128900881029137_5C780645.csv.gpg.gz': {'url': 'https://scontent.xx.fbcdn.net/v/t58.7538-6/53252988_788410211527771_2116992244941586432_n.gz/mta_partner_2019-02-24_cohort_1386462108046405_128900881029137metrics_1_1386462108046405_128900881029137.csv.gpg.gz?_nc_cat=108&_nc_ht=scontent.xx&oh=a204342d46a3c1c5b0575cfba8c6b69e&oe=5C780645',\n",
       "  'file_size': 0},\n",
       " 'cohort_1386462108046405_128900881029137summary_1_1386462108046405_128900881029137_5C773FEF.csv.gpg.gz': {'url': 'https://scontent.xx.fbcdn.net/v/t58.7538-6/10000000_367884160466808_1471162067091193856_n.gz/mta_partner_2019-02-24_cohort_1386462108046405_128900881029137summary_1_1386462108046405_128900881029137.csv.gpg.gz?_nc_cat=101&_nc_ht=scontent.xx&oh=601ef7eb4b01dee3c1945f2aaa3655e2&oe=5C773FEF',\n",
       "  'file_size': 0},\n",
       " 'cohort_1386462108046405_128900881029137summary_1000_1386462108046405_128900881029137_5C783556.csv.gpg.gz': {'url': 'https://scontent.xx.fbcdn.net/v/t58.7538-6/47841302_1111111965727592_2439325803884838912_n.gz/mta_partner_2019-02-24_cohort_1386462108046405_128900881029137summary_1000_1386462108046405_128900881029137.csv.gpg.gz?_nc_cat=100&_nc_ht=scontent.xx&oh=97421d1afe9a6bebcc744bdcae300631&oe=5C783556',\n",
       "  'file_size': 0},\n",
       " 'cohort_1386462108046405_128900881029137membership_10_1386462108046405_128900881029137_5C780E47.csv.gpg.gz': {'url': 'https://scontent.xx.fbcdn.net/v/t58.7538-6/47894694_250082505925312_383604669034790912_n.gz/mta_partner_2019-02-24_cohort_1386462108046405_128900881029137membership_10_1386462108046405_128900881029137.csv.gpg.gz?_nc_cat=108&_nc_ht=scontent.xx&oh=10b50a15fa6ad4ec0ebeb697b5711e2f&oe=5C780E47',\n",
       "  'file_size': 0},\n",
       " 'cohort_1386462108046405_128900881029137membership_1000_1386462108046405_128900881029137_5C78151B.csv.gpg.gz': {'url': 'https://scontent.xx.fbcdn.net/v/t58.7538-6/27141310_2142057255832952_1408268434319343616_n.gz/mta_partner_2019-02-24_cohort_1386462108046405_128900881029137membership_1000_1386462108046405_128900881029137.csv.gpg.gz?_nc_cat=106&_nc_ht=scontent.xx&oh=7c6b11281f72926246bc28a05f3ac5f1&oe=5C78151B',\n",
       "  'file_size': 0},\n",
       " 'cohort_1386462108046405_128900881029137membership_1_1386462108046405_128900881029137_5C774C29.csv.gpg.gz': {'url': 'https://scontent.xx.fbcdn.net/v/t58.7538-6/47881909_1130470220461036_2989009956243505152_n.gz/mta_partner_2019-02-24_cohort_1386462108046405_128900881029137membership_1_1386462108046405_128900881029137.csv.gpg.gz?_nc_cat=108&_nc_ht=scontent.xx&oh=45b999c8b2884659da953053cd76d9c8&oe=5C774C29',\n",
       "  'file_size': 0},\n",
       " 'cohort_1386462108046405_128900881029137summary_100_1386462108046405_128900881029137_5C786043.csv.gpg.gz': {'url': 'https://scontent.xx.fbcdn.net/v/t58.7538-6/10000000_1170631829772914_7694037356453560320_n.gz/mta_partner_2019-02-24_cohort_1386462108046405_128900881029137summary_100_1386462108046405_128900881029137.csv.gpg.gz?_nc_cat=108&_nc_ht=scontent.xx&oh=955f0bdb1d217a6ea81ceedb349872fe&oe=5C786043',\n",
       "  'file_size': 0},\n",
       " 'cohort_1386462108046405_128900881029137summary_10_1386462108046405_128900881029137_5C785B6F.csv.gpg.gz': {'url': 'https://scontent.xx.fbcdn.net/v/t58.7538-6/10000000_1735408183271221_4445139191122100224_n.gz/mta_partner_2019-02-24_cohort_1386462108046405_128900881029137summary_10_1386462108046405_128900881029137.csv.gpg.gz?_nc_cat=104&_nc_ht=scontent.xx&oh=883870d9590c9e692e32ba3e793dd608&oe=5C785B6F',\n",
       "  'file_size': 0},\n",
       " 'cohort_1386462108046405_128900881029137membership_100_1386462108046405_128900881029137_5C772D8E.csv.gpg.gz': {'url': 'https://scontent.xx.fbcdn.net/v/t58.7538-6/47631787_249608275977606_1441740540386213888_n.gz/mta_partner_2019-02-24_cohort_1386462108046405_128900881029137membership_100_1386462108046405_128900881029137.csv.gpg.gz?_nc_cat=109&_nc_ht=scontent.xx&oh=ccf319b1d9552791ea829ee34c78b915&oe=5C772D8E',\n",
       "  'file_size': 0},\n",
       " 'cohort_1386462108046405_128900881029137taxonomy_1386462108046405_128900881029137_5C7820E8.csv.gpg.gz': {'url': 'https://scontent.xx.fbcdn.net/v/t58.7538-6/53255599_2113341922078922_5708792309898805248_n.gz/mta_partner_2019-02-24_cohort_1386462108046405_128900881029137taxonomy_1386462108046405_128900881029137.csv.gpg.gz?_nc_cat=108&_nc_ht=scontent.xx&oh=f2fba63aec260f40a31c3a51c125f06b&oe=5C7820E8',\n",
       "  'file_size': 0},\n",
       " 'cohort_1386462108046405_128900881029137metrics_1000_1386462108046405_128900881029137_5C786C1B.csv.gpg.gz': {'url': 'https://scontent.xx.fbcdn.net/v/t58.7538-6/53318842_313647616168120_4075209740907446272_n.gz/mta_partner_2019-02-24_cohort_1386462108046405_128900881029137metrics_1000_1386462108046405_128900881029137.csv.gpg.gz?_nc_cat=107&_nc_ht=scontent.xx&oh=ff829fe9675809ca1ca09a0f287ab4ef&oe=5C786C1B',\n",
       "  'file_size': 0},\n",
       " 'cohort_1386462108046405_128900881029137metrics_10_1386462108046405_128900881029137_5C780ECB.csv.gpg.gz': {'url': 'https://scontent.xx.fbcdn.net/v/t58.7538-6/47521630_2265902833698850_9033527528819523584_n.gz/mta_partner_2019-02-24_cohort_1386462108046405_128900881029137metrics_10_1386462108046405_128900881029137.csv.gpg.gz?_nc_cat=105&_nc_ht=scontent.xx&oh=a1dfb01773e7033dc21a23cbf177944d&oe=5C780ECB',\n",
       "  'file_size': 0},\n",
       " 'cohort_1386462108046405_128900881029137metrics_100_1386462108046405_128900881029137_5C775451.csv.gpg.gz': {'url': 'https://scontent.xx.fbcdn.net/v/t58.7538-6/47903333_594220834355955_4068147423103418368_n.gz/mta_partner_2019-02-24_cohort_1386462108046405_128900881029137metrics_100_1386462108046405_128900881029137.csv.gpg.gz?_nc_cat=105&_nc_ht=scontent.xx&oh=ac1c05109c6875ed6ce0897cd965a806&oe=5C775451',\n",
       "  'file_size': 0},\n",
       " 'cohort_1386462108046405_128900881029137summary_1000_1386462108046405_128900881029137_5C772B27.csv.gpg.gz': {'url': 'https://scontent.xx.fbcdn.net/v/t58.7538-6/53347954_1904696436298670_1963187030825369600_n.gz/mta_partner_2019-02-24_cohort_1386462108046405_128900881029137summary_1000_1386462108046405_128900881029137.csv.gpg.gz?_nc_cat=108&_nc_ht=scontent.xx&oh=455a48bdda0c9e38e0fa83311564a574&oe=5C772B27',\n",
       "  'file_size': 0},\n",
       " 'cohort_1386462108046405_128900881029137summary_10_1386462108046405_128900881029137_5C7753EC.csv.gpg.gz': {'url': 'https://scontent.xx.fbcdn.net/v/t58.7538-6/10000000_2132335836844359_1470035342550630400_n.gz/mta_partner_2019-02-24_cohort_1386462108046405_128900881029137summary_10_1386462108046405_128900881029137.csv.gpg.gz?_nc_cat=100&_nc_ht=scontent.xx&oh=521463b97019738da928215718ca8bc5&oe=5C7753EC',\n",
       "  'file_size': 0},\n",
       " 'cohort_1386462108046405_128900881029137summary_100_1386462108046405_128900881029137_5C7821A5.csv.gpg.gz': {'url': 'https://scontent.xx.fbcdn.net/v/t58.7538-6/10000000_802025940190647_5023187281733746688_n.gz/mta_partner_2019-02-24_cohort_1386462108046405_128900881029137summary_100_1386462108046405_128900881029137.csv.gpg.gz?_nc_cat=106&_nc_ht=scontent.xx&oh=a6ffcf3c2217426d6d4eae8294e3eb1e&oe=5C7821A5',\n",
       "  'file_size': 0},\n",
       " 'cohort_1386462108046405_128900881029137membership_1000_1386462108046405_128900881029137_5C787243.csv.gpg.gz': {'url': 'https://scontent.xx.fbcdn.net/v/t58.7538-6/53306260_2283740978569595_377293532420898816_n.gz/mta_partner_2019-02-24_cohort_1386462108046405_128900881029137membership_1000_1386462108046405_128900881029137.csv.gpg.gz?_nc_cat=111&_nc_ht=scontent.xx&oh=c939acff3720ffb30762ced37dc41482&oe=5C787243',\n",
       "  'file_size': 0},\n",
       " 'cohort_1386462108046405_128900881029137metrics_100_1386462108046405_128900881029137_5C7842D8.csv.gpg.gz': {'url': 'https://scontent.xx.fbcdn.net/v/t58.7538-6/47559191_301066390529433_1093038205822828544_n.gz/mta_partner_2019-02-24_cohort_1386462108046405_128900881029137metrics_100_1386462108046405_128900881029137.csv.gpg.gz?_nc_cat=106&_nc_ht=scontent.xx&oh=c74a7209e67fa9584ca69dfaaf64108a&oe=5C7842D8',\n",
       "  'file_size': 0},\n",
       " 'cohort_1386462108046405_128900881029137membership_10_1386462108046405_128900881029137_5C7812F4.csv.gpg.gz': {'url': 'https://scontent.xx.fbcdn.net/v/t58.7538-6/41015485_622489984864799_9118487380708294656_n.gz/mta_partner_2019-02-24_cohort_1386462108046405_128900881029137membership_10_1386462108046405_128900881029137.csv.gpg.gz?_nc_cat=105&_nc_ht=scontent.xx&oh=c7b2a3295b7ecf195ad5aefab0827c88&oe=5C7812F4',\n",
       "  'file_size': 0},\n",
       " 'cohort_1386462108046405_128900881029137membership_1_1386462108046405_128900881029137_5C784357.csv.gpg.gz': {'url': 'https://scontent.xx.fbcdn.net/v/t58.7538-6/48025915_1628873653882690_7627293599033458688_n.gz/mta_partner_2019-02-24_cohort_1386462108046405_128900881029137membership_1_1386462108046405_128900881029137.csv.gpg.gz?_nc_cat=107&_nc_ht=scontent.xx&oh=6380846e959a8bbe80334f2e0ded232d&oe=5C784357',\n",
       "  'file_size': 0},\n",
       " 'cohort_1386462108046405_128900881029137membership_100_1386462108046405_128900881029137_5C784106.csv.gpg.gz': {'url': 'https://scontent.xx.fbcdn.net/v/t58.7538-6/52172469_822418181473258_8521432865810939904_n.gz/mta_partner_2019-02-24_cohort_1386462108046405_128900881029137membership_100_1386462108046405_128900881029137.csv.gpg.gz?_nc_cat=101&_nc_ht=scontent.xx&oh=46c072ee90e24395c73614ce9a709f90&oe=5C784106',\n",
       "  'file_size': 0},\n",
       " 'cohort_1386462108046405_128900881029137metrics_10_1386462108046405_128900881029137_5C784291.csv.gpg.gz': {'url': 'https://scontent.xx.fbcdn.net/v/t58.7538-6/47854205_2595234837213988_7585840537492520960_n.gz/mta_partner_2019-02-24_cohort_1386462108046405_128900881029137metrics_10_1386462108046405_128900881029137.csv.gpg.gz?_nc_cat=100&_nc_ht=scontent.xx&oh=1735a681d0848ac1dc78ad06049adefe&oe=5C784291',\n",
       "  'file_size': 0},\n",
       " 'cohort_1386462108046405_128900881029137summary_1_1386462108046405_128900881029137_5C7827F2.csv.gpg.gz': {'url': 'https://scontent.xx.fbcdn.net/v/t58.7538-6/10000000_289138741780102_2080660510994333696_n.gz/mta_partner_2019-02-24_cohort_1386462108046405_128900881029137summary_1_1386462108046405_128900881029137.csv.gpg.gz?_nc_cat=108&_nc_ht=scontent.xx&oh=3e4e0844da4cf60efaab758eb11ea5dc&oe=5C7827F2',\n",
       "  'file_size': 0},\n",
       " 'cohort_1386462108046405_128900881029137metrics_1000_1386462108046405_128900881029137_5C7732AF.csv.gpg.gz': {'url': 'https://scontent.xx.fbcdn.net/v/t58.7538-6/53324373_2258342781048744_8867752644576280576_n.gz/mta_partner_2019-02-24_cohort_1386462108046405_128900881029137metrics_1000_1386462108046405_128900881029137.csv.gpg.gz?_nc_cat=107&_nc_ht=scontent.xx&oh=6fcce2d8b2549f40032a82df3749b394&oe=5C7732AF',\n",
       "  'file_size': 0},\n",
       " 'cohort_1386462108046405_128900881029137taxonomy_1386462108046405_128900881029137_5C7811A4.csv.gpg.gz': {'url': 'https://scontent.xx.fbcdn.net/v/t58.7538-6/47862292_247726389466298_6685782913155334144_n.gz/mta_partner_2019-02-24_cohort_1386462108046405_128900881029137taxonomy_1386462108046405_128900881029137.csv.gpg.gz?_nc_cat=106&_nc_ht=scontent.xx&oh=7246e8c40e72929e932f54aa606479ee&oe=5C7811A4',\n",
       "  'file_size': 0},\n",
       " 'cohort_1386462108046405_128900881029137metrics_1_1386462108046405_128900881029137_5C7860A5.csv.gpg.gz': {'url': 'https://scontent.xx.fbcdn.net/v/t58.7538-6/53091809_573252493203959_7757886147002368000_n.gz/mta_partner_2019-02-24_cohort_1386462108046405_128900881029137metrics_1_1386462108046405_128900881029137.csv.gpg.gz?_nc_cat=103&_nc_ht=scontent.xx&oh=d384f00321bd7bc73b1de53f942f46be&oe=5C7860A5',\n",
       "  'file_size': 0},\n",
       " 'cohort_1386462108046405_128900881029137summary_10_1386462108046405_128900881029137_5C7740FF.csv.gpg.gz': {'url': 'https://scontent.xx.fbcdn.net/v/t58.7538-6/10000000_2749596845065468_6379869164508545024_n.gz/mta_partner_2019-02-24_cohort_1386462108046405_128900881029137summary_10_1386462108046405_128900881029137.csv.gpg.gz?_nc_cat=101&_nc_ht=scontent.xx&oh=f1f8d04abae79d53316af6391cdd900c&oe=5C7740FF',\n",
       "  'file_size': 0},\n",
       " 'cohort_1386462108046405_128900881029137summary_1000_1386462108046405_128900881029137_5C78272C.csv.gpg.gz': {'url': 'https://scontent.xx.fbcdn.net/v/t58.7538-6/49995275_259587704760578_8277187666349391872_n.gz/mta_partner_2019-02-24_cohort_1386462108046405_128900881029137summary_1000_1386462108046405_128900881029137.csv.gpg.gz?_nc_cat=107&_nc_ht=scontent.xx&oh=e5839a89633baf24e775140a0da8b8c9&oe=5C78272C',\n",
       "  'file_size': 0},\n",
       " 'cohort_1386462108046405_128900881029137summary_1_1386462108046405_128900881029137_5C783F4E.csv.gpg.gz': {'url': 'https://scontent.xx.fbcdn.net/v/t58.7538-6/10000000_250738762526546_1955239464427061248_n.gz/mta_partner_2019-02-24_cohort_1386462108046405_128900881029137summary_1_1386462108046405_128900881029137.csv.gpg.gz?_nc_cat=111&_nc_ht=scontent.xx&oh=3af1b9cf20d3a5927ba74d28c18be644&oe=5C783F4E',\n",
       "  'file_size': 0},\n",
       " 'cohort_1386462108046405_128900881029137metrics_1000_1386462108046405_128900881029137_5C773DB5.csv.gpg.gz': {'url': 'https://scontent.xx.fbcdn.net/v/t58.7538-6/47909819_2365104603717759_2951745333924724736_n.gz/mta_partner_2019-02-24_cohort_1386462108046405_128900881029137metrics_1000_1386462108046405_128900881029137.csv.gpg.gz?_nc_cat=108&_nc_ht=scontent.xx&oh=170d51ebf6f080ac226c173a0882d094&oe=5C773DB5',\n",
       "  'file_size': 0},\n",
       " 'cohort_1386462108046405_128900881029137membership_1000_1386462108046405_128900881029137_5C780ECD.csv.gpg.gz': {'url': 'https://scontent.xx.fbcdn.net/v/t58.7538-6/49493622_299461747382964_6425412452254482432_n.gz/mta_partner_2019-02-24_cohort_1386462108046405_128900881029137membership_1000_1386462108046405_128900881029137.csv.gpg.gz?_nc_cat=105&_nc_ht=scontent.xx&oh=2c11f605e687c845f2ff2d941441a54c&oe=5C780ECD',\n",
       "  'file_size': 0},\n",
       " 'cohort_1386462108046405_128900881029137summary_100_1386462108046405_128900881029137_5C7813B7.csv.gpg.gz': {'url': 'https://scontent.xx.fbcdn.net/v/t58.7538-6/47862843_299256920754932_7707191578560823296_n.gz/mta_partner_2019-02-24_cohort_1386462108046405_128900881029137summary_100_1386462108046405_128900881029137.csv.gpg.gz?_nc_cat=111&_nc_ht=scontent.xx&oh=3ba7eaa199e4ba7f57c95bb0c318bad7&oe=5C7813B7',\n",
       "  'file_size': 0},\n",
       " 'cohort_1386462108046405_128900881029137metrics_1_1386462108046405_128900881029137_5C781189.csv.gpg.gz': {'url': 'https://scontent.xx.fbcdn.net/v/t58.7538-6/53089692_383441508904732_8847539583588499456_n.gz/mta_partner_2019-02-24_cohort_1386462108046405_128900881029137metrics_1_1386462108046405_128900881029137.csv.gpg.gz?_nc_cat=102&_nc_ht=scontent.xx&oh=b88872329dc562811249b55a8cc95ec5&oe=5C781189',\n",
       "  'file_size': 0},\n",
       " 'cohort_1386462108046405_128900881029137metrics_10_1386462108046405_128900881029137_5C774BFC.csv.gpg.gz': {'url': 'https://scontent.xx.fbcdn.net/v/t58.7538-6/47863105_692770237787620_3166145668934795264_n.gz/mta_partner_2019-02-24_cohort_1386462108046405_128900881029137metrics_10_1386462108046405_128900881029137.csv.gpg.gz?_nc_cat=107&_nc_ht=scontent.xx&oh=44e6903b5e03108b69e232a4a6d879b2&oe=5C774BFC',\n",
       "  'file_size': 0},\n",
       " 'cohort_1386462108046405_128900881029137metrics_100_1386462108046405_128900881029137_5C784ED1.csv.gpg.gz': {'url': 'https://scontent.xx.fbcdn.net/v/t58.7538-6/53325367_2270242849926049_7175998866729205760_n.gz/mta_partner_2019-02-24_cohort_1386462108046405_128900881029137metrics_100_1386462108046405_128900881029137.csv.gpg.gz?_nc_cat=107&_nc_ht=scontent.xx&oh=52d65cfa26d326f1ce1d47dc0de7d229&oe=5C784ED1',\n",
       "  'file_size': 0},\n",
       " 'cohort_1386462108046405_128900881029137membership_1_1386462108046405_128900881029137_5C773FDB.csv.gpg.gz': {'url': 'https://scontent.xx.fbcdn.net/v/t58.7538-6/47505954_857023444645164_5374232452237623296_n.gz/mta_partner_2019-02-24_cohort_1386462108046405_128900881029137membership_1_1386462108046405_128900881029137.csv.gpg.gz?_nc_cat=111&_nc_ht=scontent.xx&oh=a09632ff731e33c32069248c5740d602&oe=5C773FDB',\n",
       "  'file_size': 0},\n",
       " 'cohort_1386462108046405_128900881029137taxonomy_1386462108046405_128900881029137_5C7826CF.csv.gpg.gz': {'url': 'https://scontent.xx.fbcdn.net/v/t58.7538-6/47845199_249577439317885_8139770114699427840_n.gz/mta_partner_2019-02-24_cohort_1386462108046405_128900881029137taxonomy_1386462108046405_128900881029137.csv.gpg.gz?_nc_cat=110&_nc_ht=scontent.xx&oh=4eda3580b10546eef477ab6847efc351&oe=5C7826CF',\n",
       "  'file_size': 0},\n",
       " 'cohort_1386462108046405_128900881029137membership_100_1386462108046405_128900881029137_5C783905.csv.gpg.gz': {'url': 'https://scontent.xx.fbcdn.net/v/t58.7538-6/28596029_276117473285453_8386247417254641664_n.gz/mta_partner_2019-02-24_cohort_1386462108046405_128900881029137membership_100_1386462108046405_128900881029137.csv.gpg.gz?_nc_cat=110&_nc_ht=scontent.xx&oh=1f2fa0cc971d138c3074299c49ee3a17&oe=5C783905',\n",
       "  'file_size': 0},\n",
       " 'cohort_1386462108046405_128900881029137membership_10_1386462108046405_128900881029137_5C7754C7.csv.gpg.gz': {'url': 'https://scontent.xx.fbcdn.net/v/t58.7538-6/49857357_307044316622459_5198837163373887488_n.gz/mta_partner_2019-02-24_cohort_1386462108046405_128900881029137membership_10_1386462108046405_128900881029137.csv.gpg.gz?_nc_cat=108&_nc_ht=scontent.xx&oh=48c68e36c33960862620c9922ac63f41&oe=5C7754C7',\n",
       "  'file_size': 0},\n",
       " 'cohort_1386462108046405_128900881029137membership_1_1386462108046405_128900881029137_5C781CF6.csv.gpg.gz': {'url': 'https://scontent.xx.fbcdn.net/v/t58.7538-6/52821630_1981718771955344_759858381283393536_n.gz/mta_partner_2019-02-24_cohort_1386462108046405_128900881029137membership_1_1386462108046405_128900881029137.csv.gpg.gz?_nc_cat=104&_nc_ht=scontent.xx&oh=8ca70f2f15861c745313aadc6f1f2696&oe=5C781CF6',\n",
       "  'file_size': 0},\n",
       " 'cohort_1386462108046405_128900881029137summary_1_1386462108046405_128900881029137_5C773577.csv.gpg.gz': {'url': 'https://scontent.xx.fbcdn.net/v/t58.7538-6/10000000_2279954135377353_8313777295902900224_n.gz/mta_partner_2019-02-24_cohort_1386462108046405_128900881029137summary_1_1386462108046405_128900881029137.csv.gpg.gz?_nc_cat=110&_nc_ht=scontent.xx&oh=56630c3802f05f5c26b937336b65ebc2&oe=5C773577',\n",
       "  'file_size': 0},\n",
       " 'cohort_1386462108046405_128900881029137membership_100_1386462108046405_128900881029137_5C781F47.csv.gpg.gz': {'url': 'https://scontent.xx.fbcdn.net/v/t58.7538-6/49956057_395852017907862_3836861389809385472_n.gz/mta_partner_2019-02-24_cohort_1386462108046405_128900881029137membership_100_1386462108046405_128900881029137.csv.gpg.gz?_nc_cat=108&_nc_ht=scontent.xx&oh=dccbadaaec508161df55092237659834&oe=5C781F47',\n",
       "  'file_size': 0},\n",
       " 'cohort_1386462108046405_128900881029137summary_10_1386462108046405_128900881029137_5C781145.csv.gpg.gz': {'url': 'https://scontent.xx.fbcdn.net/v/t58.7538-6/10000000_350618315547744_3048642952923447296_n.gz/mta_partner_2019-02-24_cohort_1386462108046405_128900881029137summary_10_1386462108046405_128900881029137.csv.gpg.gz?_nc_cat=103&_nc_ht=scontent.xx&oh=87418d357f5f835df4cc906c76b6b679&oe=5C781145',\n",
       "  'file_size': 0},\n",
       " 'cohort_1386462108046405_128900881029137membership_10_1386462108046405_128900881029137_5C773BE0.csv.gpg.gz': {'url': 'https://scontent.xx.fbcdn.net/v/t58.7538-6/53244263_2289574994652558_1837591496916729856_n.gz/mta_partner_2019-02-24_cohort_1386462108046405_128900881029137membership_10_1386462108046405_128900881029137.csv.gpg.gz?_nc_cat=109&_nc_ht=scontent.xx&oh=894522add103412bf7e9cb110b6da3bc&oe=5C773BE0',\n",
       "  'file_size': 0},\n",
       " 'cohort_1386462108046405_128900881029137summary_1000_1386462108046405_128900881029137_5C7860D6.csv.gpg.gz': {'url': 'https://scontent.xx.fbcdn.net/v/t58.7538-6/53181649_246835126195460_5895170199505600512_n.gz/mta_partner_2019-02-24_cohort_1386462108046405_128900881029137summary_1000_1386462108046405_128900881029137.csv.gpg.gz?_nc_cat=106&_nc_ht=scontent.xx&oh=f4bf183e4739199e6c0efdcba4072a55&oe=5C7860D6',\n",
       "  'file_size': 0},\n",
       " 'cohort_1386462108046405_128900881029137taxonomy_1386462108046405_128900881029137_5C7802B7.csv.gpg.gz': {'url': 'https://scontent.xx.fbcdn.net/v/t58.7538-6/44489475_153943108864769_1112118194308382720_n.gz/mta_partner_2019-02-24_cohort_1386462108046405_128900881029137taxonomy_1386462108046405_128900881029137.csv.gpg.gz?_nc_cat=102&_nc_ht=scontent.xx&oh=aaeea75cbeb5bb94a7dda1304b110489&oe=5C7802B7',\n",
       "  'file_size': 0},\n",
       " 'cohort_1386462108046405_128900881029137summary_100_1386462108046405_128900881029137_5C772FE1.csv.gpg.gz': {'url': 'https://scontent.xx.fbcdn.net/v/t58.7538-6/53047169_2249364728447024_8843168410687766528_n.gz/mta_partner_2019-02-24_cohort_1386462108046405_128900881029137summary_100_1386462108046405_128900881029137.csv.gpg.gz?_nc_cat=109&_nc_ht=scontent.xx&oh=caeac70a3c8b06fad4f1fc92b35471fb&oe=5C772FE1',\n",
       "  'file_size': 0},\n",
       " 'cohort_1386462108046405_128900881029137metrics_1000_1386462108046405_128900881029137_5C7823B9.csv.gpg.gz': {'url': 'https://scontent.xx.fbcdn.net/v/t58.7538-6/53170051_2293014904084433_253431125190377472_n.gz/mta_partner_2019-02-24_cohort_1386462108046405_128900881029137metrics_1000_1386462108046405_128900881029137.csv.gpg.gz?_nc_cat=105&_nc_ht=scontent.xx&oh=f51da3b1486f725c9e21cf80564abd2c&oe=5C7823B9',\n",
       "  'file_size': 0},\n",
       " 'cohort_1386462108046405_128900881029137metrics_10_1386462108046405_128900881029137_5C7870D7.csv.gpg.gz': {'url': 'https://scontent.xx.fbcdn.net/v/t58.7538-6/53364524_559702354531951_3697441352607334400_n.gz/mta_partner_2019-02-24_cohort_1386462108046405_128900881029137metrics_10_1386462108046405_128900881029137.csv.gpg.gz?_nc_cat=109&_nc_ht=scontent.xx&oh=5f2510c6eab639a80b16b77874053824&oe=5C7870D7',\n",
       "  'file_size': 0},\n",
       " 'cohort_1386462108046405_128900881029137membership_1000_1386462108046405_128900881029137_5C774001.csv.gpg.gz': {'url': 'https://scontent.xx.fbcdn.net/v/t58.7538-6/34295698_2558215451071543_9120539262679252992_n.gz/mta_partner_2019-02-24_cohort_1386462108046405_128900881029137membership_1000_1386462108046405_128900881029137.csv.gpg.gz?_nc_cat=108&_nc_ht=scontent.xx&oh=2db8cf1e5a334cc9aa92f72fa7458140&oe=5C774001',\n",
       "  'file_size': 0},\n",
       " 'cohort_1386462108046405_128900881029137metrics_100_1386462108046405_128900881029137_5C78306A.csv.gpg.gz': {'url': 'https://scontent.xx.fbcdn.net/v/t58.7538-6/53189128_290603941617651_2360201811823951872_n.gz/mta_partner_2019-02-24_cohort_1386462108046405_128900881029137metrics_100_1386462108046405_128900881029137.csv.gpg.gz?_nc_cat=101&_nc_ht=scontent.xx&oh=de58a49330e8d5c2321f072c3827d80d&oe=5C78306A',\n",
       "  'file_size': 0},\n",
       " 'cohort_1386462108046405_128900881029137metrics_1_1386462108046405_128900881029137_5C786D94.csv.gpg.gz': {'url': 'https://scontent.xx.fbcdn.net/v/t58.7538-6/47551432_660502717700483_5878474613654028288_n.gz/mta_partner_2019-02-24_cohort_1386462108046405_128900881029137metrics_1_1386462108046405_128900881029137.csv.gpg.gz?_nc_cat=103&_nc_ht=scontent.xx&oh=aaa9f08a93cc4968e841be43b92babb0&oe=5C786D94',\n",
       "  'file_size': 0}}"
      ]
     },
     "execution_count": 192,
     "metadata": {},
     "output_type": "execute_result"
    }
   ],
   "source": [
    "urls"
   ]
  },
  {
   "cell_type": "code",
   "execution_count": 160,
   "metadata": {
    "ExecuteTime": {
     "end_time": "2019-02-23T23:26:08.910714Z",
     "start_time": "2019-02-23T23:26:08.747190Z"
    }
   },
   "outputs": [
    {
     "name": "stdout",
     "output_type": "stream",
     "text": [
      "/Users/jnatali/repos/fb_mta/notebooks\r\n"
     ]
    }
   ],
   "source": [
    "!pwd"
   ]
  },
  {
   "cell_type": "code",
   "execution_count": 193,
   "metadata": {
    "ExecuteTime": {
     "end_time": "2019-02-26T20:41:04.402055Z",
     "start_time": "2019-02-26T20:41:04.187630Z"
    }
   },
   "outputs": [],
   "source": [
    "!rm -rf reports/"
   ]
  },
  {
   "cell_type": "code",
   "execution_count": 194,
   "metadata": {
    "ExecuteTime": {
     "end_time": "2019-02-26T20:41:05.125011Z",
     "start_time": "2019-02-26T20:41:04.914456Z"
    }
   },
   "outputs": [],
   "source": [
    "!mkdir reports"
   ]
  },
  {
   "cell_type": "code",
   "execution_count": 195,
   "metadata": {
    "ExecuteTime": {
     "end_time": "2019-02-26T20:41:07.406910Z",
     "start_time": "2019-02-26T20:41:07.220409Z"
    }
   },
   "outputs": [],
   "source": [
    "!ls reports/"
   ]
  },
  {
   "cell_type": "code",
   "execution_count": 196,
   "metadata": {
    "ExecuteTime": {
     "end_time": "2019-02-26T20:42:36.746420Z",
     "start_time": "2019-02-26T20:41:09.239792Z"
    }
   },
   "outputs": [
    {
     "name": "stderr",
     "output_type": "stream",
     "text": [
      "/Users/jnatali/miniconda3/envs/main/lib/python3.6/site-packages/ipykernel_launcher.py:1: DeprecationWarning: URLopener style of invoking requests is deprecated. Use newer urlopen functions/methods\n",
      "  \"\"\"Entry point for launching an IPython kernel.\n"
     ]
    }
   ],
   "source": [
    "download_report_files(urls, \"./reports/\", check_sizes=False)"
   ]
  },
  {
   "cell_type": "code",
   "execution_count": 197,
   "metadata": {
    "ExecuteTime": {
     "end_time": "2019-02-26T20:42:37.141174Z",
     "start_time": "2019-02-26T20:42:36.749676Z"
    }
   },
   "outputs": [
    {
     "name": "stdout",
     "output_type": "stream",
     "text": [
      "total 579096\r\n",
      "drwxr-xr-x  67 jnatali  CIS\\Domain Users   2.2K Feb 26 12:42 \u001b[34m.\u001b[m\u001b[m\r\n",
      "drwxr-xr-x  11 jnatali  CIS\\Domain Users   374B Feb 26 12:41 \u001b[34m..\u001b[m\u001b[m\r\n",
      "-rw-r--r--   1 jnatali  CIS\\Domain Users   3.3M Feb 26 12:42 cohort_1386462108046405_128900881029137membership_1000_1386462108046405_128900881029137_5C774001.csv.gpg.gz\r\n",
      "-rw-r--r--   1 jnatali  CIS\\Domain Users   3.6M Feb 26 12:41 cohort_1386462108046405_128900881029137membership_1000_1386462108046405_128900881029137_5C78082A.csv.gpg.gz\r\n",
      "-rw-r--r--   1 jnatali  CIS\\Domain Users   3.3M Feb 26 12:42 cohort_1386462108046405_128900881029137membership_1000_1386462108046405_128900881029137_5C780ECD.csv.gpg.gz\r\n",
      "-rw-r--r--   1 jnatali  CIS\\Domain Users   3.7M Feb 26 12:41 cohort_1386462108046405_128900881029137membership_1000_1386462108046405_128900881029137_5C78151B.csv.gpg.gz\r\n",
      "-rw-r--r--   1 jnatali  CIS\\Domain Users   3.4M Feb 26 12:41 cohort_1386462108046405_128900881029137membership_1000_1386462108046405_128900881029137_5C787243.csv.gpg.gz\r\n",
      "-rw-r--r--   1 jnatali  CIS\\Domain Users   3.8M Feb 26 12:41 cohort_1386462108046405_128900881029137membership_100_1386462108046405_128900881029137_5C772D8E.csv.gpg.gz\r\n",
      "-rw-r--r--   1 jnatali  CIS\\Domain Users   3.4M Feb 26 12:42 cohort_1386462108046405_128900881029137membership_100_1386462108046405_128900881029137_5C781F47.csv.gpg.gz\r\n",
      "-rw-r--r--   1 jnatali  CIS\\Domain Users   3.3M Feb 26 12:42 cohort_1386462108046405_128900881029137membership_100_1386462108046405_128900881029137_5C783905.csv.gpg.gz\r\n",
      "-rw-r--r--   1 jnatali  CIS\\Domain Users   3.5M Feb 26 12:41 cohort_1386462108046405_128900881029137membership_100_1386462108046405_128900881029137_5C784106.csv.gpg.gz\r\n",
      "-rw-r--r--   1 jnatali  CIS\\Domain Users   3.6M Feb 26 12:41 cohort_1386462108046405_128900881029137membership_100_1386462108046405_128900881029137_5C78616C.csv.gpg.gz\r\n",
      "-rw-r--r--   1 jnatali  CIS\\Domain Users   3.5M Feb 26 12:42 cohort_1386462108046405_128900881029137membership_10_1386462108046405_128900881029137_5C773BE0.csv.gpg.gz\r\n",
      "-rw-r--r--   1 jnatali  CIS\\Domain Users   3.7M Feb 26 12:41 cohort_1386462108046405_128900881029137membership_10_1386462108046405_128900881029137_5C774988.csv.gpg.gz\r\n",
      "-rw-r--r--   1 jnatali  CIS\\Domain Users   3.4M Feb 26 12:42 cohort_1386462108046405_128900881029137membership_10_1386462108046405_128900881029137_5C7754C7.csv.gpg.gz\r\n",
      "-rw-r--r--   1 jnatali  CIS\\Domain Users   3.9M Feb 26 12:41 cohort_1386462108046405_128900881029137membership_10_1386462108046405_128900881029137_5C780E47.csv.gpg.gz\r\n",
      "-rw-r--r--   1 jnatali  CIS\\Domain Users   3.6M Feb 26 12:41 cohort_1386462108046405_128900881029137membership_10_1386462108046405_128900881029137_5C7812F4.csv.gpg.gz\r\n",
      "-rw-r--r--   1 jnatali  CIS\\Domain Users   3.6M Feb 26 12:42 cohort_1386462108046405_128900881029137membership_1_1386462108046405_128900881029137_5C773FDB.csv.gpg.gz\r\n",
      "-rw-r--r--   1 jnatali  CIS\\Domain Users   4.1M Feb 26 12:41 cohort_1386462108046405_128900881029137membership_1_1386462108046405_128900881029137_5C774C29.csv.gpg.gz\r\n",
      "-rw-r--r--   1 jnatali  CIS\\Domain Users   3.9M Feb 26 12:41 cohort_1386462108046405_128900881029137membership_1_1386462108046405_128900881029137_5C78003B.csv.gpg.gz\r\n",
      "-rw-r--r--   1 jnatali  CIS\\Domain Users   3.7M Feb 26 12:42 cohort_1386462108046405_128900881029137membership_1_1386462108046405_128900881029137_5C781CF6.csv.gpg.gz\r\n",
      "-rw-r--r--   1 jnatali  CIS\\Domain Users   3.8M Feb 26 12:41 cohort_1386462108046405_128900881029137membership_1_1386462108046405_128900881029137_5C784357.csv.gpg.gz\r\n",
      "-rw-r--r--   1 jnatali  CIS\\Domain Users   2.8K Feb 26 12:42 cohort_1386462108046405_128900881029137metrics_1000_1386462108046405_128900881029137_5C7732AF.csv.gpg.gz\r\n",
      "-rw-r--r--   1 jnatali  CIS\\Domain Users   2.7K Feb 26 12:42 cohort_1386462108046405_128900881029137metrics_1000_1386462108046405_128900881029137_5C773DB5.csv.gpg.gz\r\n",
      "-rw-r--r--   1 jnatali  CIS\\Domain Users   2.7K Feb 26 12:42 cohort_1386462108046405_128900881029137metrics_1000_1386462108046405_128900881029137_5C7823B9.csv.gpg.gz\r\n",
      "-rw-r--r--   1 jnatali  CIS\\Domain Users   2.9K Feb 26 12:41 cohort_1386462108046405_128900881029137metrics_1000_1386462108046405_128900881029137_5C786557.csv.gpg.gz\r\n",
      "-rw-r--r--   1 jnatali  CIS\\Domain Users   2.9K Feb 26 12:41 cohort_1386462108046405_128900881029137metrics_1000_1386462108046405_128900881029137_5C786C1B.csv.gpg.gz\r\n",
      "-rw-r--r--   1 jnatali  CIS\\Domain Users    21K Feb 26 12:41 cohort_1386462108046405_128900881029137metrics_100_1386462108046405_128900881029137_5C77278C.csv.gpg.gz\r\n",
      "-rw-r--r--   1 jnatali  CIS\\Domain Users    22K Feb 26 12:41 cohort_1386462108046405_128900881029137metrics_100_1386462108046405_128900881029137_5C775451.csv.gpg.gz\r\n",
      "-rw-r--r--   1 jnatali  CIS\\Domain Users    19K Feb 26 12:42 cohort_1386462108046405_128900881029137metrics_100_1386462108046405_128900881029137_5C78306A.csv.gpg.gz\r\n",
      "-rw-r--r--   1 jnatali  CIS\\Domain Users    20K Feb 26 12:41 cohort_1386462108046405_128900881029137metrics_100_1386462108046405_128900881029137_5C7842D8.csv.gpg.gz\r\n",
      "-rw-r--r--   1 jnatali  CIS\\Domain Users    19K Feb 26 12:42 cohort_1386462108046405_128900881029137metrics_100_1386462108046405_128900881029137_5C784ED1.csv.gpg.gz\r\n",
      "-rw-r--r--   1 jnatali  CIS\\Domain Users   188K Feb 26 12:42 cohort_1386462108046405_128900881029137metrics_10_1386462108046405_128900881029137_5C774BFC.csv.gpg.gz\r\n",
      "-rw-r--r--   1 jnatali  CIS\\Domain Users   214K Feb 26 12:41 cohort_1386462108046405_128900881029137metrics_10_1386462108046405_128900881029137_5C780ECB.csv.gpg.gz\r\n",
      "-rw-r--r--   1 jnatali  CIS\\Domain Users   207K Feb 26 12:41 cohort_1386462108046405_128900881029137metrics_10_1386462108046405_128900881029137_5C781E9A.csv.gpg.gz\r\n",
      "-rw-r--r--   1 jnatali  CIS\\Domain Users   198K Feb 26 12:42 cohort_1386462108046405_128900881029137metrics_10_1386462108046405_128900881029137_5C784291.csv.gpg.gz\r\n",
      "-rw-r--r--   1 jnatali  CIS\\Domain Users   190K Feb 26 12:42 cohort_1386462108046405_128900881029137metrics_10_1386462108046405_128900881029137_5C7870D7.csv.gpg.gz\r\n",
      "-rw-r--r--   1 jnatali  CIS\\Domain Users   2.1M Feb 26 12:41 cohort_1386462108046405_128900881029137metrics_1_1386462108046405_128900881029137_5C7743E8.csv.gpg.gz\r\n",
      "-rw-r--r--   1 jnatali  CIS\\Domain Users   2.2M Feb 26 12:41 cohort_1386462108046405_128900881029137metrics_1_1386462108046405_128900881029137_5C780645.csv.gpg.gz\r\n",
      "-rw-r--r--   1 jnatali  CIS\\Domain Users   1.9M Feb 26 12:42 cohort_1386462108046405_128900881029137metrics_1_1386462108046405_128900881029137_5C781189.csv.gpg.gz\r\n",
      "-rw-r--r--   1 jnatali  CIS\\Domain Users   2.0M Feb 26 12:42 cohort_1386462108046405_128900881029137metrics_1_1386462108046405_128900881029137_5C7860A5.csv.gpg.gz\r\n",
      "-rw-r--r--   1 jnatali  CIS\\Domain Users   1.9M Feb 26 12:42 cohort_1386462108046405_128900881029137metrics_1_1386462108046405_128900881029137_5C786D94.csv.gpg.gz\r\n",
      "-rw-r--r--   1 jnatali  CIS\\Domain Users   3.3M Feb 26 12:41 cohort_1386462108046405_128900881029137summary_1000_1386462108046405_128900881029137_5C772B27.csv.gpg.gz\r\n",
      "-rw-r--r--   1 jnatali  CIS\\Domain Users   3.0M Feb 26 12:42 cohort_1386462108046405_128900881029137summary_1000_1386462108046405_128900881029137_5C78272C.csv.gpg.gz\r\n",
      "-rw-r--r--   1 jnatali  CIS\\Domain Users   3.8M Feb 26 12:41 cohort_1386462108046405_128900881029137summary_1000_1386462108046405_128900881029137_5C783556.csv.gpg.gz\r\n",
      "-rw-r--r--   1 jnatali  CIS\\Domain Users   3.6M Feb 26 12:41 cohort_1386462108046405_128900881029137summary_1000_1386462108046405_128900881029137_5C78554D.csv.gpg.gz\r\n",
      "-rw-r--r--   1 jnatali  CIS\\Domain Users   3.0M Feb 26 12:42 cohort_1386462108046405_128900881029137summary_1000_1386462108046405_128900881029137_5C7860D6.csv.gpg.gz\r\n",
      "-rw-r--r--   1 jnatali  CIS\\Domain Users   7.8M Feb 26 12:42 cohort_1386462108046405_128900881029137summary_100_1386462108046405_128900881029137_5C772FE1.csv.gpg.gz\r\n",
      "-rw-r--r--   1 jnatali  CIS\\Domain Users   7.8M Feb 26 12:42 cohort_1386462108046405_128900881029137summary_100_1386462108046405_128900881029137_5C7813B7.csv.gpg.gz\r\n",
      "-rw-r--r--   1 jnatali  CIS\\Domain Users   8.7M Feb 26 12:41 cohort_1386462108046405_128900881029137summary_100_1386462108046405_128900881029137_5C7821A5.csv.gpg.gz\r\n",
      "-rw-r--r--   1 jnatali  CIS\\Domain Users   9.6M Feb 26 12:41 cohort_1386462108046405_128900881029137summary_100_1386462108046405_128900881029137_5C785153.csv.gpg.gz\r\n",
      "-rw-r--r--   1 jnatali  CIS\\Domain Users    10M Feb 26 12:41 cohort_1386462108046405_128900881029137summary_100_1386462108046405_128900881029137_5C786043.csv.gpg.gz\r\n",
      "-rw-r--r--   1 jnatali  CIS\\Domain Users    11M Feb 26 12:42 cohort_1386462108046405_128900881029137summary_10_1386462108046405_128900881029137_5C7740FF.csv.gpg.gz\r\n",
      "-rw-r--r--   1 jnatali  CIS\\Domain Users    13M Feb 26 12:41 cohort_1386462108046405_128900881029137summary_10_1386462108046405_128900881029137_5C7753EC.csv.gpg.gz\r\n",
      "-rw-r--r--   1 jnatali  CIS\\Domain Users    12M Feb 26 12:42 cohort_1386462108046405_128900881029137summary_10_1386462108046405_128900881029137_5C781145.csv.gpg.gz\r\n",
      "-rw-r--r--   1 jnatali  CIS\\Domain Users    15M Feb 26 12:41 cohort_1386462108046405_128900881029137summary_10_1386462108046405_128900881029137_5C785B6F.csv.gpg.gz\r\n",
      "-rw-r--r--   1 jnatali  CIS\\Domain Users    14M Feb 26 12:41 cohort_1386462108046405_128900881029137summary_10_1386462108046405_128900881029137_5C786DF6.csv.gpg.gz\r\n",
      "-rw-r--r--   1 jnatali  CIS\\Domain Users    13M Feb 26 12:42 cohort_1386462108046405_128900881029137summary_1_1386462108046405_128900881029137_5C773577.csv.gpg.gz\r\n",
      "-rw-r--r--   1 jnatali  CIS\\Domain Users    16M Feb 26 12:41 cohort_1386462108046405_128900881029137summary_1_1386462108046405_128900881029137_5C773FEF.csv.gpg.gz\r\n",
      "-rw-r--r--   1 jnatali  CIS\\Domain Users    14M Feb 26 12:42 cohort_1386462108046405_128900881029137summary_1_1386462108046405_128900881029137_5C7827F2.csv.gpg.gz\r\n",
      "-rw-r--r--   1 jnatali  CIS\\Domain Users    12M Feb 26 12:42 cohort_1386462108046405_128900881029137summary_1_1386462108046405_128900881029137_5C783F4E.csv.gpg.gz\r\n",
      "-rw-r--r--   1 jnatali  CIS\\Domain Users    16M Feb 26 12:41 cohort_1386462108046405_128900881029137summary_1_1386462108046405_128900881029137_5C784C1A.csv.gpg.gz\r\n",
      "-rw-r--r--   1 jnatali  CIS\\Domain Users   634K Feb 26 12:42 cohort_1386462108046405_128900881029137taxonomy_1386462108046405_128900881029137_5C7802B7.csv.gpg.gz\r\n",
      "-rw-r--r--   1 jnatali  CIS\\Domain Users   662K Feb 26 12:41 cohort_1386462108046405_128900881029137taxonomy_1386462108046405_128900881029137_5C780A55.csv.gpg.gz\r\n",
      "-rw-r--r--   1 jnatali  CIS\\Domain Users   577K Feb 26 12:42 cohort_1386462108046405_128900881029137taxonomy_1386462108046405_128900881029137_5C7811A4.csv.gpg.gz\r\n",
      "-rw-r--r--   1 jnatali  CIS\\Domain Users   672K Feb 26 12:41 cohort_1386462108046405_128900881029137taxonomy_1386462108046405_128900881029137_5C7820E8.csv.gpg.gz\r\n",
      "-rw-r--r--   1 jnatali  CIS\\Domain Users   604K Feb 26 12:42 cohort_1386462108046405_128900881029137taxonomy_1386462108046405_128900881029137_5C7826CF.csv.gpg.gz\r\n"
     ]
    }
   ],
   "source": [
    "!ls -lah ./reports/"
   ]
  },
  {
   "cell_type": "code",
   "execution_count": 198,
   "metadata": {
    "ExecuteTime": {
     "end_time": "2019-02-26T20:50:24.025671Z",
     "start_time": "2019-02-26T20:50:23.633467Z"
    }
   },
   "outputs": [
    {
     "name": "stdout",
     "output_type": "stream",
     "text": [
      "      68\r\n"
     ]
    }
   ],
   "source": [
    "!ls -lah ./reports/ | wc -l"
   ]
  },
  {
   "cell_type": "markdown",
   "metadata": {},
   "source": [
    "### Unzip and decrypt"
   ]
  },
  {
   "cell_type": "code",
   "execution_count": 199,
   "metadata": {
    "ExecuteTime": {
     "end_time": "2019-02-26T20:51:47.057751Z",
     "start_time": "2019-02-26T20:51:45.614117Z"
    }
   },
   "outputs": [],
   "source": [
    "!gunzip ./reports/*"
   ]
  },
  {
   "cell_type": "code",
   "execution_count": 200,
   "metadata": {
    "ExecuteTime": {
     "end_time": "2019-02-26T20:51:48.143400Z",
     "start_time": "2019-02-26T20:51:47.927062Z"
    }
   },
   "outputs": [
    {
     "name": "stdout",
     "output_type": "stream",
     "text": [
      "total 579000\r\n",
      "drwxr-xr-x  67 jnatali  CIS\\Domain Users   2.2K Feb 26 12:51 \u001b[34m.\u001b[m\u001b[m\r\n",
      "drwxr-xr-x  11 jnatali  CIS\\Domain Users   374B Feb 26 12:51 \u001b[34m..\u001b[m\u001b[m\r\n",
      "-rw-r--r--   1 jnatali  CIS\\Domain Users   3.3M Feb 26 12:42 cohort_1386462108046405_128900881029137membership_1000_1386462108046405_128900881029137_5C774001.csv.gpg\r\n",
      "-rw-r--r--   1 jnatali  CIS\\Domain Users   3.6M Feb 26 12:41 cohort_1386462108046405_128900881029137membership_1000_1386462108046405_128900881029137_5C78082A.csv.gpg\r\n",
      "-rw-r--r--   1 jnatali  CIS\\Domain Users   3.3M Feb 26 12:42 cohort_1386462108046405_128900881029137membership_1000_1386462108046405_128900881029137_5C780ECD.csv.gpg\r\n",
      "-rw-r--r--   1 jnatali  CIS\\Domain Users   3.7M Feb 26 12:41 cohort_1386462108046405_128900881029137membership_1000_1386462108046405_128900881029137_5C78151B.csv.gpg\r\n",
      "-rw-r--r--   1 jnatali  CIS\\Domain Users   3.4M Feb 26 12:41 cohort_1386462108046405_128900881029137membership_1000_1386462108046405_128900881029137_5C787243.csv.gpg\r\n",
      "-rw-r--r--   1 jnatali  CIS\\Domain Users   3.8M Feb 26 12:41 cohort_1386462108046405_128900881029137membership_100_1386462108046405_128900881029137_5C772D8E.csv.gpg\r\n",
      "-rw-r--r--   1 jnatali  CIS\\Domain Users   3.4M Feb 26 12:42 cohort_1386462108046405_128900881029137membership_100_1386462108046405_128900881029137_5C781F47.csv.gpg\r\n",
      "-rw-r--r--   1 jnatali  CIS\\Domain Users   3.3M Feb 26 12:42 cohort_1386462108046405_128900881029137membership_100_1386462108046405_128900881029137_5C783905.csv.gpg\r\n",
      "-rw-r--r--   1 jnatali  CIS\\Domain Users   3.5M Feb 26 12:41 cohort_1386462108046405_128900881029137membership_100_1386462108046405_128900881029137_5C784106.csv.gpg\r\n",
      "-rw-r--r--   1 jnatali  CIS\\Domain Users   3.6M Feb 26 12:41 cohort_1386462108046405_128900881029137membership_100_1386462108046405_128900881029137_5C78616C.csv.gpg\r\n",
      "-rw-r--r--   1 jnatali  CIS\\Domain Users   3.5M Feb 26 12:42 cohort_1386462108046405_128900881029137membership_10_1386462108046405_128900881029137_5C773BE0.csv.gpg\r\n",
      "-rw-r--r--   1 jnatali  CIS\\Domain Users   3.7M Feb 26 12:41 cohort_1386462108046405_128900881029137membership_10_1386462108046405_128900881029137_5C774988.csv.gpg\r\n",
      "-rw-r--r--   1 jnatali  CIS\\Domain Users   3.4M Feb 26 12:42 cohort_1386462108046405_128900881029137membership_10_1386462108046405_128900881029137_5C7754C7.csv.gpg\r\n",
      "-rw-r--r--   1 jnatali  CIS\\Domain Users   3.9M Feb 26 12:41 cohort_1386462108046405_128900881029137membership_10_1386462108046405_128900881029137_5C780E47.csv.gpg\r\n",
      "-rw-r--r--   1 jnatali  CIS\\Domain Users   3.6M Feb 26 12:41 cohort_1386462108046405_128900881029137membership_10_1386462108046405_128900881029137_5C7812F4.csv.gpg\r\n",
      "-rw-r--r--   1 jnatali  CIS\\Domain Users   3.6M Feb 26 12:42 cohort_1386462108046405_128900881029137membership_1_1386462108046405_128900881029137_5C773FDB.csv.gpg\r\n",
      "-rw-r--r--   1 jnatali  CIS\\Domain Users   4.1M Feb 26 12:41 cohort_1386462108046405_128900881029137membership_1_1386462108046405_128900881029137_5C774C29.csv.gpg\r\n",
      "-rw-r--r--   1 jnatali  CIS\\Domain Users   3.9M Feb 26 12:41 cohort_1386462108046405_128900881029137membership_1_1386462108046405_128900881029137_5C78003B.csv.gpg\r\n",
      "-rw-r--r--   1 jnatali  CIS\\Domain Users   3.7M Feb 26 12:42 cohort_1386462108046405_128900881029137membership_1_1386462108046405_128900881029137_5C781CF6.csv.gpg\r\n",
      "-rw-r--r--   1 jnatali  CIS\\Domain Users   3.8M Feb 26 12:41 cohort_1386462108046405_128900881029137membership_1_1386462108046405_128900881029137_5C784357.csv.gpg\r\n",
      "-rw-r--r--   1 jnatali  CIS\\Domain Users   2.6K Feb 26 12:42 cohort_1386462108046405_128900881029137metrics_1000_1386462108046405_128900881029137_5C7732AF.csv.gpg\r\n",
      "-rw-r--r--   1 jnatali  CIS\\Domain Users   2.5K Feb 26 12:42 cohort_1386462108046405_128900881029137metrics_1000_1386462108046405_128900881029137_5C773DB5.csv.gpg\r\n",
      "-rw-r--r--   1 jnatali  CIS\\Domain Users   2.6K Feb 26 12:42 cohort_1386462108046405_128900881029137metrics_1000_1386462108046405_128900881029137_5C7823B9.csv.gpg\r\n",
      "-rw-r--r--   1 jnatali  CIS\\Domain Users   2.7K Feb 26 12:41 cohort_1386462108046405_128900881029137metrics_1000_1386462108046405_128900881029137_5C786557.csv.gpg\r\n",
      "-rw-r--r--   1 jnatali  CIS\\Domain Users   2.8K Feb 26 12:41 cohort_1386462108046405_128900881029137metrics_1000_1386462108046405_128900881029137_5C786C1B.csv.gpg\r\n",
      "-rw-r--r--   1 jnatali  CIS\\Domain Users    21K Feb 26 12:41 cohort_1386462108046405_128900881029137metrics_100_1386462108046405_128900881029137_5C77278C.csv.gpg\r\n",
      "-rw-r--r--   1 jnatali  CIS\\Domain Users    22K Feb 26 12:41 cohort_1386462108046405_128900881029137metrics_100_1386462108046405_128900881029137_5C775451.csv.gpg\r\n",
      "-rw-r--r--   1 jnatali  CIS\\Domain Users    19K Feb 26 12:42 cohort_1386462108046405_128900881029137metrics_100_1386462108046405_128900881029137_5C78306A.csv.gpg\r\n",
      "-rw-r--r--   1 jnatali  CIS\\Domain Users    20K Feb 26 12:41 cohort_1386462108046405_128900881029137metrics_100_1386462108046405_128900881029137_5C7842D8.csv.gpg\r\n",
      "-rw-r--r--   1 jnatali  CIS\\Domain Users    19K Feb 26 12:42 cohort_1386462108046405_128900881029137metrics_100_1386462108046405_128900881029137_5C784ED1.csv.gpg\r\n",
      "-rw-r--r--   1 jnatali  CIS\\Domain Users   187K Feb 26 12:42 cohort_1386462108046405_128900881029137metrics_10_1386462108046405_128900881029137_5C774BFC.csv.gpg\r\n",
      "-rw-r--r--   1 jnatali  CIS\\Domain Users   214K Feb 26 12:41 cohort_1386462108046405_128900881029137metrics_10_1386462108046405_128900881029137_5C780ECB.csv.gpg\r\n",
      "-rw-r--r--   1 jnatali  CIS\\Domain Users   207K Feb 26 12:41 cohort_1386462108046405_128900881029137metrics_10_1386462108046405_128900881029137_5C781E9A.csv.gpg\r\n",
      "-rw-r--r--   1 jnatali  CIS\\Domain Users   198K Feb 26 12:42 cohort_1386462108046405_128900881029137metrics_10_1386462108046405_128900881029137_5C784291.csv.gpg\r\n",
      "-rw-r--r--   1 jnatali  CIS\\Domain Users   190K Feb 26 12:42 cohort_1386462108046405_128900881029137metrics_10_1386462108046405_128900881029137_5C7870D7.csv.gpg\r\n",
      "-rw-r--r--   1 jnatali  CIS\\Domain Users   2.1M Feb 26 12:41 cohort_1386462108046405_128900881029137metrics_1_1386462108046405_128900881029137_5C7743E8.csv.gpg\r\n",
      "-rw-r--r--   1 jnatali  CIS\\Domain Users   2.2M Feb 26 12:41 cohort_1386462108046405_128900881029137metrics_1_1386462108046405_128900881029137_5C780645.csv.gpg\r\n",
      "-rw-r--r--   1 jnatali  CIS\\Domain Users   1.9M Feb 26 12:42 cohort_1386462108046405_128900881029137metrics_1_1386462108046405_128900881029137_5C781189.csv.gpg\r\n",
      "-rw-r--r--   1 jnatali  CIS\\Domain Users   2.0M Feb 26 12:42 cohort_1386462108046405_128900881029137metrics_1_1386462108046405_128900881029137_5C7860A5.csv.gpg\r\n",
      "-rw-r--r--   1 jnatali  CIS\\Domain Users   1.9M Feb 26 12:42 cohort_1386462108046405_128900881029137metrics_1_1386462108046405_128900881029137_5C786D94.csv.gpg\r\n",
      "-rw-r--r--   1 jnatali  CIS\\Domain Users   3.3M Feb 26 12:41 cohort_1386462108046405_128900881029137summary_1000_1386462108046405_128900881029137_5C772B27.csv.gpg\r\n",
      "-rw-r--r--   1 jnatali  CIS\\Domain Users   3.0M Feb 26 12:42 cohort_1386462108046405_128900881029137summary_1000_1386462108046405_128900881029137_5C78272C.csv.gpg\r\n",
      "-rw-r--r--   1 jnatali  CIS\\Domain Users   3.8M Feb 26 12:41 cohort_1386462108046405_128900881029137summary_1000_1386462108046405_128900881029137_5C783556.csv.gpg\r\n",
      "-rw-r--r--   1 jnatali  CIS\\Domain Users   3.6M Feb 26 12:41 cohort_1386462108046405_128900881029137summary_1000_1386462108046405_128900881029137_5C78554D.csv.gpg\r\n",
      "-rw-r--r--   1 jnatali  CIS\\Domain Users   3.0M Feb 26 12:42 cohort_1386462108046405_128900881029137summary_1000_1386462108046405_128900881029137_5C7860D6.csv.gpg\r\n",
      "-rw-r--r--   1 jnatali  CIS\\Domain Users   7.7M Feb 26 12:42 cohort_1386462108046405_128900881029137summary_100_1386462108046405_128900881029137_5C772FE1.csv.gpg\r\n",
      "-rw-r--r--   1 jnatali  CIS\\Domain Users   7.8M Feb 26 12:42 cohort_1386462108046405_128900881029137summary_100_1386462108046405_128900881029137_5C7813B7.csv.gpg\r\n",
      "-rw-r--r--   1 jnatali  CIS\\Domain Users   8.7M Feb 26 12:41 cohort_1386462108046405_128900881029137summary_100_1386462108046405_128900881029137_5C7821A5.csv.gpg\r\n",
      "-rw-r--r--   1 jnatali  CIS\\Domain Users   9.6M Feb 26 12:41 cohort_1386462108046405_128900881029137summary_100_1386462108046405_128900881029137_5C785153.csv.gpg\r\n",
      "-rw-r--r--   1 jnatali  CIS\\Domain Users    10M Feb 26 12:41 cohort_1386462108046405_128900881029137summary_100_1386462108046405_128900881029137_5C786043.csv.gpg\r\n",
      "-rw-r--r--   1 jnatali  CIS\\Domain Users    11M Feb 26 12:42 cohort_1386462108046405_128900881029137summary_10_1386462108046405_128900881029137_5C7740FF.csv.gpg\r\n",
      "-rw-r--r--   1 jnatali  CIS\\Domain Users    13M Feb 26 12:41 cohort_1386462108046405_128900881029137summary_10_1386462108046405_128900881029137_5C7753EC.csv.gpg\r\n",
      "-rw-r--r--   1 jnatali  CIS\\Domain Users    12M Feb 26 12:42 cohort_1386462108046405_128900881029137summary_10_1386462108046405_128900881029137_5C781145.csv.gpg\r\n",
      "-rw-r--r--   1 jnatali  CIS\\Domain Users    15M Feb 26 12:41 cohort_1386462108046405_128900881029137summary_10_1386462108046405_128900881029137_5C785B6F.csv.gpg\r\n",
      "-rw-r--r--   1 jnatali  CIS\\Domain Users    14M Feb 26 12:41 cohort_1386462108046405_128900881029137summary_10_1386462108046405_128900881029137_5C786DF6.csv.gpg\r\n",
      "-rw-r--r--   1 jnatali  CIS\\Domain Users    13M Feb 26 12:42 cohort_1386462108046405_128900881029137summary_1_1386462108046405_128900881029137_5C773577.csv.gpg\r\n",
      "-rw-r--r--   1 jnatali  CIS\\Domain Users    16M Feb 26 12:41 cohort_1386462108046405_128900881029137summary_1_1386462108046405_128900881029137_5C773FEF.csv.gpg\r\n",
      "-rw-r--r--   1 jnatali  CIS\\Domain Users    14M Feb 26 12:42 cohort_1386462108046405_128900881029137summary_1_1386462108046405_128900881029137_5C7827F2.csv.gpg\r\n",
      "-rw-r--r--   1 jnatali  CIS\\Domain Users    12M Feb 26 12:42 cohort_1386462108046405_128900881029137summary_1_1386462108046405_128900881029137_5C783F4E.csv.gpg\r\n",
      "-rw-r--r--   1 jnatali  CIS\\Domain Users    16M Feb 26 12:41 cohort_1386462108046405_128900881029137summary_1_1386462108046405_128900881029137_5C784C1A.csv.gpg\r\n",
      "-rw-r--r--   1 jnatali  CIS\\Domain Users   634K Feb 26 12:42 cohort_1386462108046405_128900881029137taxonomy_1386462108046405_128900881029137_5C7802B7.csv.gpg\r\n",
      "-rw-r--r--   1 jnatali  CIS\\Domain Users   662K Feb 26 12:41 cohort_1386462108046405_128900881029137taxonomy_1386462108046405_128900881029137_5C780A55.csv.gpg\r\n",
      "-rw-r--r--   1 jnatali  CIS\\Domain Users   577K Feb 26 12:42 cohort_1386462108046405_128900881029137taxonomy_1386462108046405_128900881029137_5C7811A4.csv.gpg\r\n",
      "-rw-r--r--   1 jnatali  CIS\\Domain Users   672K Feb 26 12:41 cohort_1386462108046405_128900881029137taxonomy_1386462108046405_128900881029137_5C7820E8.csv.gpg\r\n",
      "-rw-r--r--   1 jnatali  CIS\\Domain Users   604K Feb 26 12:42 cohort_1386462108046405_128900881029137taxonomy_1386462108046405_128900881029137_5C7826CF.csv.gpg\r\n"
     ]
    }
   ],
   "source": [
    "!ls -lah ./reports/"
   ]
  },
  {
   "cell_type": "code",
   "execution_count": 201,
   "metadata": {
    "ExecuteTime": {
     "end_time": "2019-02-26T20:52:53.144942Z",
     "start_time": "2019-02-26T20:52:02.550802Z"
    }
   },
   "outputs": [
    {
     "name": "stdout",
     "output_type": "stream",
     "text": [
      "~/repos/fb_mta/notebooks/reports ~/repos/fb_mta/notebooks\n",
      "Working on cohort_1386462108046405_128900881029137membership_1000_1386462108046405_128900881029137_5C774001.csv.gpg, generating ./decrypt/cohort_1386462108046405_128900881029137membership_1000_1386462108046405_128900881029137_5C774001.csv\n",
      "Working on cohort_1386462108046405_128900881029137membership_1000_1386462108046405_128900881029137_5C78082A.csv.gpg, generating ./decrypt/cohort_1386462108046405_128900881029137membership_1000_1386462108046405_128900881029137_5C78082A.csv\n",
      "Working on cohort_1386462108046405_128900881029137membership_1000_1386462108046405_128900881029137_5C780ECD.csv.gpg, generating ./decrypt/cohort_1386462108046405_128900881029137membership_1000_1386462108046405_128900881029137_5C780ECD.csv\n",
      "Working on cohort_1386462108046405_128900881029137membership_1000_1386462108046405_128900881029137_5C78151B.csv.gpg, generating ./decrypt/cohort_1386462108046405_128900881029137membership_1000_1386462108046405_128900881029137_5C78151B.csv\n",
      "Working on cohort_1386462108046405_128900881029137membership_1000_1386462108046405_128900881029137_5C787243.csv.gpg, generating ./decrypt/cohort_1386462108046405_128900881029137membership_1000_1386462108046405_128900881029137_5C787243.csv\n",
      "Working on cohort_1386462108046405_128900881029137membership_100_1386462108046405_128900881029137_5C772D8E.csv.gpg, generating ./decrypt/cohort_1386462108046405_128900881029137membership_100_1386462108046405_128900881029137_5C772D8E.csv\n",
      "Working on cohort_1386462108046405_128900881029137membership_100_1386462108046405_128900881029137_5C781F47.csv.gpg, generating ./decrypt/cohort_1386462108046405_128900881029137membership_100_1386462108046405_128900881029137_5C781F47.csv\n",
      "Working on cohort_1386462108046405_128900881029137membership_100_1386462108046405_128900881029137_5C783905.csv.gpg, generating ./decrypt/cohort_1386462108046405_128900881029137membership_100_1386462108046405_128900881029137_5C783905.csv\n",
      "Working on cohort_1386462108046405_128900881029137membership_100_1386462108046405_128900881029137_5C784106.csv.gpg, generating ./decrypt/cohort_1386462108046405_128900881029137membership_100_1386462108046405_128900881029137_5C784106.csv\n",
      "Working on cohort_1386462108046405_128900881029137membership_100_1386462108046405_128900881029137_5C78616C.csv.gpg, generating ./decrypt/cohort_1386462108046405_128900881029137membership_100_1386462108046405_128900881029137_5C78616C.csv\n",
      "Working on cohort_1386462108046405_128900881029137membership_10_1386462108046405_128900881029137_5C773BE0.csv.gpg, generating ./decrypt/cohort_1386462108046405_128900881029137membership_10_1386462108046405_128900881029137_5C773BE0.csv\n",
      "Working on cohort_1386462108046405_128900881029137membership_10_1386462108046405_128900881029137_5C774988.csv.gpg, generating ./decrypt/cohort_1386462108046405_128900881029137membership_10_1386462108046405_128900881029137_5C774988.csv\n",
      "Working on cohort_1386462108046405_128900881029137membership_10_1386462108046405_128900881029137_5C7754C7.csv.gpg, generating ./decrypt/cohort_1386462108046405_128900881029137membership_10_1386462108046405_128900881029137_5C7754C7.csv\n",
      "Working on cohort_1386462108046405_128900881029137membership_10_1386462108046405_128900881029137_5C780E47.csv.gpg, generating ./decrypt/cohort_1386462108046405_128900881029137membership_10_1386462108046405_128900881029137_5C780E47.csv\n",
      "Working on cohort_1386462108046405_128900881029137membership_10_1386462108046405_128900881029137_5C7812F4.csv.gpg, generating ./decrypt/cohort_1386462108046405_128900881029137membership_10_1386462108046405_128900881029137_5C7812F4.csv\n",
      "Working on cohort_1386462108046405_128900881029137membership_1_1386462108046405_128900881029137_5C773FDB.csv.gpg, generating ./decrypt/cohort_1386462108046405_128900881029137membership_1_1386462108046405_128900881029137_5C773FDB.csv\n",
      "Working on cohort_1386462108046405_128900881029137membership_1_1386462108046405_128900881029137_5C774C29.csv.gpg, generating ./decrypt/cohort_1386462108046405_128900881029137membership_1_1386462108046405_128900881029137_5C774C29.csv\n",
      "Working on cohort_1386462108046405_128900881029137membership_1_1386462108046405_128900881029137_5C78003B.csv.gpg, generating ./decrypt/cohort_1386462108046405_128900881029137membership_1_1386462108046405_128900881029137_5C78003B.csv\n",
      "Working on cohort_1386462108046405_128900881029137membership_1_1386462108046405_128900881029137_5C781CF6.csv.gpg, generating ./decrypt/cohort_1386462108046405_128900881029137membership_1_1386462108046405_128900881029137_5C781CF6.csv\n",
      "Working on cohort_1386462108046405_128900881029137membership_1_1386462108046405_128900881029137_5C784357.csv.gpg, generating ./decrypt/cohort_1386462108046405_128900881029137membership_1_1386462108046405_128900881029137_5C784357.csv\n",
      "Working on cohort_1386462108046405_128900881029137metrics_1000_1386462108046405_128900881029137_5C7732AF.csv.gpg, generating ./decrypt/cohort_1386462108046405_128900881029137metrics_1000_1386462108046405_128900881029137_5C7732AF.csv\n",
      "Working on cohort_1386462108046405_128900881029137metrics_1000_1386462108046405_128900881029137_5C773DB5.csv.gpg, generating ./decrypt/cohort_1386462108046405_128900881029137metrics_1000_1386462108046405_128900881029137_5C773DB5.csv\n",
      "Working on cohort_1386462108046405_128900881029137metrics_1000_1386462108046405_128900881029137_5C7823B9.csv.gpg, generating ./decrypt/cohort_1386462108046405_128900881029137metrics_1000_1386462108046405_128900881029137_5C7823B9.csv\n",
      "Working on cohort_1386462108046405_128900881029137metrics_1000_1386462108046405_128900881029137_5C786557.csv.gpg, generating ./decrypt/cohort_1386462108046405_128900881029137metrics_1000_1386462108046405_128900881029137_5C786557.csv\n",
      "Working on cohort_1386462108046405_128900881029137metrics_1000_1386462108046405_128900881029137_5C786C1B.csv.gpg, generating ./decrypt/cohort_1386462108046405_128900881029137metrics_1000_1386462108046405_128900881029137_5C786C1B.csv\n",
      "Working on cohort_1386462108046405_128900881029137metrics_100_1386462108046405_128900881029137_5C77278C.csv.gpg, generating ./decrypt/cohort_1386462108046405_128900881029137metrics_100_1386462108046405_128900881029137_5C77278C.csv\n",
      "Working on cohort_1386462108046405_128900881029137metrics_100_1386462108046405_128900881029137_5C775451.csv.gpg, generating ./decrypt/cohort_1386462108046405_128900881029137metrics_100_1386462108046405_128900881029137_5C775451.csv\n",
      "Working on cohort_1386462108046405_128900881029137metrics_100_1386462108046405_128900881029137_5C78306A.csv.gpg, generating ./decrypt/cohort_1386462108046405_128900881029137metrics_100_1386462108046405_128900881029137_5C78306A.csv\n",
      "Working on cohort_1386462108046405_128900881029137metrics_100_1386462108046405_128900881029137_5C7842D8.csv.gpg, generating ./decrypt/cohort_1386462108046405_128900881029137metrics_100_1386462108046405_128900881029137_5C7842D8.csv\n",
      "Working on cohort_1386462108046405_128900881029137metrics_100_1386462108046405_128900881029137_5C784ED1.csv.gpg, generating ./decrypt/cohort_1386462108046405_128900881029137metrics_100_1386462108046405_128900881029137_5C784ED1.csv\n",
      "Working on cohort_1386462108046405_128900881029137metrics_10_1386462108046405_128900881029137_5C774BFC.csv.gpg, generating ./decrypt/cohort_1386462108046405_128900881029137metrics_10_1386462108046405_128900881029137_5C774BFC.csv\n",
      "Working on cohort_1386462108046405_128900881029137metrics_10_1386462108046405_128900881029137_5C780ECB.csv.gpg, generating ./decrypt/cohort_1386462108046405_128900881029137metrics_10_1386462108046405_128900881029137_5C780ECB.csv\n",
      "Working on cohort_1386462108046405_128900881029137metrics_10_1386462108046405_128900881029137_5C781E9A.csv.gpg, generating ./decrypt/cohort_1386462108046405_128900881029137metrics_10_1386462108046405_128900881029137_5C781E9A.csv\n",
      "Working on cohort_1386462108046405_128900881029137metrics_10_1386462108046405_128900881029137_5C784291.csv.gpg, generating ./decrypt/cohort_1386462108046405_128900881029137metrics_10_1386462108046405_128900881029137_5C784291.csv\n",
      "Working on cohort_1386462108046405_128900881029137metrics_10_1386462108046405_128900881029137_5C7870D7.csv.gpg, generating ./decrypt/cohort_1386462108046405_128900881029137metrics_10_1386462108046405_128900881029137_5C7870D7.csv\n",
      "Working on cohort_1386462108046405_128900881029137metrics_1_1386462108046405_128900881029137_5C7743E8.csv.gpg, generating ./decrypt/cohort_1386462108046405_128900881029137metrics_1_1386462108046405_128900881029137_5C7743E8.csv\n",
      "Working on cohort_1386462108046405_128900881029137metrics_1_1386462108046405_128900881029137_5C780645.csv.gpg, generating ./decrypt/cohort_1386462108046405_128900881029137metrics_1_1386462108046405_128900881029137_5C780645.csv\n",
      "Working on cohort_1386462108046405_128900881029137metrics_1_1386462108046405_128900881029137_5C781189.csv.gpg, generating ./decrypt/cohort_1386462108046405_128900881029137metrics_1_1386462108046405_128900881029137_5C781189.csv\n",
      "Working on cohort_1386462108046405_128900881029137metrics_1_1386462108046405_128900881029137_5C7860A5.csv.gpg, generating ./decrypt/cohort_1386462108046405_128900881029137metrics_1_1386462108046405_128900881029137_5C7860A5.csv\n",
      "Working on cohort_1386462108046405_128900881029137metrics_1_1386462108046405_128900881029137_5C786D94.csv.gpg, generating ./decrypt/cohort_1386462108046405_128900881029137metrics_1_1386462108046405_128900881029137_5C786D94.csv\n",
      "Working on cohort_1386462108046405_128900881029137summary_1000_1386462108046405_128900881029137_5C772B27.csv.gpg, generating ./decrypt/cohort_1386462108046405_128900881029137summary_1000_1386462108046405_128900881029137_5C772B27.csv\n",
      "Working on cohort_1386462108046405_128900881029137summary_1000_1386462108046405_128900881029137_5C78272C.csv.gpg, generating ./decrypt/cohort_1386462108046405_128900881029137summary_1000_1386462108046405_128900881029137_5C78272C.csv\n",
      "Working on cohort_1386462108046405_128900881029137summary_1000_1386462108046405_128900881029137_5C783556.csv.gpg, generating ./decrypt/cohort_1386462108046405_128900881029137summary_1000_1386462108046405_128900881029137_5C783556.csv\n",
      "Working on cohort_1386462108046405_128900881029137summary_1000_1386462108046405_128900881029137_5C78554D.csv.gpg, generating ./decrypt/cohort_1386462108046405_128900881029137summary_1000_1386462108046405_128900881029137_5C78554D.csv\n",
      "Working on cohort_1386462108046405_128900881029137summary_1000_1386462108046405_128900881029137_5C7860D6.csv.gpg, generating ./decrypt/cohort_1386462108046405_128900881029137summary_1000_1386462108046405_128900881029137_5C7860D6.csv\n",
      "Working on cohort_1386462108046405_128900881029137summary_100_1386462108046405_128900881029137_5C772FE1.csv.gpg, generating ./decrypt/cohort_1386462108046405_128900881029137summary_100_1386462108046405_128900881029137_5C772FE1.csv\n",
      "Working on cohort_1386462108046405_128900881029137summary_100_1386462108046405_128900881029137_5C7813B7.csv.gpg, generating ./decrypt/cohort_1386462108046405_128900881029137summary_100_1386462108046405_128900881029137_5C7813B7.csv\n",
      "Working on cohort_1386462108046405_128900881029137summary_100_1386462108046405_128900881029137_5C7821A5.csv.gpg, generating ./decrypt/cohort_1386462108046405_128900881029137summary_100_1386462108046405_128900881029137_5C7821A5.csv\n",
      "Working on cohort_1386462108046405_128900881029137summary_100_1386462108046405_128900881029137_5C785153.csv.gpg, generating ./decrypt/cohort_1386462108046405_128900881029137summary_100_1386462108046405_128900881029137_5C785153.csv\n",
      "Working on cohort_1386462108046405_128900881029137summary_100_1386462108046405_128900881029137_5C786043.csv.gpg, generating ./decrypt/cohort_1386462108046405_128900881029137summary_100_1386462108046405_128900881029137_5C786043.csv\n",
      "Working on cohort_1386462108046405_128900881029137summary_10_1386462108046405_128900881029137_5C7740FF.csv.gpg, generating ./decrypt/cohort_1386462108046405_128900881029137summary_10_1386462108046405_128900881029137_5C7740FF.csv\n",
      "Working on cohort_1386462108046405_128900881029137summary_10_1386462108046405_128900881029137_5C7753EC.csv.gpg, generating ./decrypt/cohort_1386462108046405_128900881029137summary_10_1386462108046405_128900881029137_5C7753EC.csv\n",
      "Working on cohort_1386462108046405_128900881029137summary_10_1386462108046405_128900881029137_5C781145.csv.gpg, generating ./decrypt/cohort_1386462108046405_128900881029137summary_10_1386462108046405_128900881029137_5C781145.csv\n",
      "Working on cohort_1386462108046405_128900881029137summary_10_1386462108046405_128900881029137_5C785B6F.csv.gpg, generating ./decrypt/cohort_1386462108046405_128900881029137summary_10_1386462108046405_128900881029137_5C785B6F.csv\n",
      "Working on cohort_1386462108046405_128900881029137summary_10_1386462108046405_128900881029137_5C786DF6.csv.gpg, generating ./decrypt/cohort_1386462108046405_128900881029137summary_10_1386462108046405_128900881029137_5C786DF6.csv\n",
      "Working on cohort_1386462108046405_128900881029137summary_1_1386462108046405_128900881029137_5C773577.csv.gpg, generating ./decrypt/cohort_1386462108046405_128900881029137summary_1_1386462108046405_128900881029137_5C773577.csv\n",
      "Working on cohort_1386462108046405_128900881029137summary_1_1386462108046405_128900881029137_5C773FEF.csv.gpg, generating ./decrypt/cohort_1386462108046405_128900881029137summary_1_1386462108046405_128900881029137_5C773FEF.csv\n",
      "Working on cohort_1386462108046405_128900881029137summary_1_1386462108046405_128900881029137_5C7827F2.csv.gpg, generating ./decrypt/cohort_1386462108046405_128900881029137summary_1_1386462108046405_128900881029137_5C7827F2.csv\n",
      "Working on cohort_1386462108046405_128900881029137summary_1_1386462108046405_128900881029137_5C783F4E.csv.gpg, generating ./decrypt/cohort_1386462108046405_128900881029137summary_1_1386462108046405_128900881029137_5C783F4E.csv\n",
      "Working on cohort_1386462108046405_128900881029137summary_1_1386462108046405_128900881029137_5C784C1A.csv.gpg, generating ./decrypt/cohort_1386462108046405_128900881029137summary_1_1386462108046405_128900881029137_5C784C1A.csv\n",
      "Working on cohort_1386462108046405_128900881029137taxonomy_1386462108046405_128900881029137_5C7802B7.csv.gpg, generating ./decrypt/cohort_1386462108046405_128900881029137taxonomy_1386462108046405_128900881029137_5C7802B7.csv\n",
      "Working on cohort_1386462108046405_128900881029137taxonomy_1386462108046405_128900881029137_5C780A55.csv.gpg, generating ./decrypt/cohort_1386462108046405_128900881029137taxonomy_1386462108046405_128900881029137_5C780A55.csv\n",
      "Working on cohort_1386462108046405_128900881029137taxonomy_1386462108046405_128900881029137_5C7811A4.csv.gpg, generating ./decrypt/cohort_1386462108046405_128900881029137taxonomy_1386462108046405_128900881029137_5C7811A4.csv\n",
      "Working on cohort_1386462108046405_128900881029137taxonomy_1386462108046405_128900881029137_5C7820E8.csv.gpg, generating ./decrypt/cohort_1386462108046405_128900881029137taxonomy_1386462108046405_128900881029137_5C7820E8.csv\n",
      "Working on cohort_1386462108046405_128900881029137taxonomy_1386462108046405_128900881029137_5C7826CF.csv.gpg, generating ./decrypt/cohort_1386462108046405_128900881029137taxonomy_1386462108046405_128900881029137_5C7826CF.csv\n",
      "~/repos/fb_mta/notebooks\n"
     ]
    },
    {
     "name": "stderr",
     "output_type": "stream",
     "text": [
      "gpg: encrypted with 4096-bit RSA key, ID 5990FE61F1F8C73C, created 2016-05-17\n",
      "      \"support-360D (Gpg key for 360D Support) <360D-support@neustar.biz>\"\n",
      "gpg: encrypted with 4096-bit RSA key, ID 5990FE61F1F8C73C, created 2016-05-17\n",
      "      \"support-360D (Gpg key for 360D Support) <360D-support@neustar.biz>\"\n",
      "gpg: encrypted with 4096-bit RSA key, ID 5990FE61F1F8C73C, created 2016-05-17\n",
      "      \"support-360D (Gpg key for 360D Support) <360D-support@neustar.biz>\"\n",
      "gpg: encrypted with 4096-bit RSA key, ID 5990FE61F1F8C73C, created 2016-05-17\n",
      "      \"support-360D (Gpg key for 360D Support) <360D-support@neustar.biz>\"\n",
      "gpg: encrypted with 4096-bit RSA key, ID 5990FE61F1F8C73C, created 2016-05-17\n",
      "      \"support-360D (Gpg key for 360D Support) <360D-support@neustar.biz>\"\n",
      "gpg: encrypted with 4096-bit RSA key, ID 5990FE61F1F8C73C, created 2016-05-17\n",
      "      \"support-360D (Gpg key for 360D Support) <360D-support@neustar.biz>\"\n",
      "gpg: encrypted with 4096-bit RSA key, ID 5990FE61F1F8C73C, created 2016-05-17\n",
      "      \"support-360D (Gpg key for 360D Support) <360D-support@neustar.biz>\"\n",
      "gpg: encrypted with 4096-bit RSA key, ID 5990FE61F1F8C73C, created 2016-05-17\n",
      "      \"support-360D (Gpg key for 360D Support) <360D-support@neustar.biz>\"\n",
      "gpg: encrypted with 4096-bit RSA key, ID 5990FE61F1F8C73C, created 2016-05-17\n",
      "      \"support-360D (Gpg key for 360D Support) <360D-support@neustar.biz>\"\n",
      "gpg: encrypted with 4096-bit RSA key, ID 5990FE61F1F8C73C, created 2016-05-17\n",
      "      \"support-360D (Gpg key for 360D Support) <360D-support@neustar.biz>\"\n",
      "gpg: encrypted with 4096-bit RSA key, ID 5990FE61F1F8C73C, created 2016-05-17\n",
      "      \"support-360D (Gpg key for 360D Support) <360D-support@neustar.biz>\"\n",
      "gpg: encrypted with 4096-bit RSA key, ID 5990FE61F1F8C73C, created 2016-05-17\n",
      "      \"support-360D (Gpg key for 360D Support) <360D-support@neustar.biz>\"\n",
      "gpg: encrypted with 4096-bit RSA key, ID 5990FE61F1F8C73C, created 2016-05-17\n",
      "      \"support-360D (Gpg key for 360D Support) <360D-support@neustar.biz>\"\n",
      "gpg: encrypted with 4096-bit RSA key, ID 5990FE61F1F8C73C, created 2016-05-17\n",
      "      \"support-360D (Gpg key for 360D Support) <360D-support@neustar.biz>\"\n",
      "gpg: encrypted with 4096-bit RSA key, ID 5990FE61F1F8C73C, created 2016-05-17\n",
      "      \"support-360D (Gpg key for 360D Support) <360D-support@neustar.biz>\"\n",
      "gpg: encrypted with 4096-bit RSA key, ID 5990FE61F1F8C73C, created 2016-05-17\n",
      "      \"support-360D (Gpg key for 360D Support) <360D-support@neustar.biz>\"\n",
      "gpg: encrypted with 4096-bit RSA key, ID 5990FE61F1F8C73C, created 2016-05-17\n",
      "      \"support-360D (Gpg key for 360D Support) <360D-support@neustar.biz>\"\n",
      "gpg: encrypted with 4096-bit RSA key, ID 5990FE61F1F8C73C, created 2016-05-17\n",
      "      \"support-360D (Gpg key for 360D Support) <360D-support@neustar.biz>\"\n",
      "gpg: encrypted with 4096-bit RSA key, ID 5990FE61F1F8C73C, created 2016-05-17\n",
      "      \"support-360D (Gpg key for 360D Support) <360D-support@neustar.biz>\"\n",
      "gpg: encrypted with 4096-bit RSA key, ID 5990FE61F1F8C73C, created 2016-05-17\n",
      "      \"support-360D (Gpg key for 360D Support) <360D-support@neustar.biz>\"\n",
      "gpg: encrypted with 4096-bit RSA key, ID 5990FE61F1F8C73C, created 2016-05-17\n",
      "      \"support-360D (Gpg key for 360D Support) <360D-support@neustar.biz>\"\n",
      "gpg: encrypted with 4096-bit RSA key, ID 5990FE61F1F8C73C, created 2016-05-17\n",
      "      \"support-360D (Gpg key for 360D Support) <360D-support@neustar.biz>\"\n",
      "gpg: encrypted with 4096-bit RSA key, ID 5990FE61F1F8C73C, created 2016-05-17\n",
      "      \"support-360D (Gpg key for 360D Support) <360D-support@neustar.biz>\"\n",
      "gpg: encrypted with 4096-bit RSA key, ID 5990FE61F1F8C73C, created 2016-05-17\n",
      "      \"support-360D (Gpg key for 360D Support) <360D-support@neustar.biz>\"\n",
      "gpg: encrypted with 4096-bit RSA key, ID 5990FE61F1F8C73C, created 2016-05-17\n",
      "      \"support-360D (Gpg key for 360D Support) <360D-support@neustar.biz>\"\n",
      "gpg: encrypted with 4096-bit RSA key, ID 5990FE61F1F8C73C, created 2016-05-17\n",
      "      \"support-360D (Gpg key for 360D Support) <360D-support@neustar.biz>\"\n",
      "gpg: encrypted with 4096-bit RSA key, ID 5990FE61F1F8C73C, created 2016-05-17\n",
      "      \"support-360D (Gpg key for 360D Support) <360D-support@neustar.biz>\"\n",
      "gpg: encrypted with 4096-bit RSA key, ID 5990FE61F1F8C73C, created 2016-05-17\n",
      "      \"support-360D (Gpg key for 360D Support) <360D-support@neustar.biz>\"\n",
      "gpg: encrypted with 4096-bit RSA key, ID 5990FE61F1F8C73C, created 2016-05-17\n",
      "      \"support-360D (Gpg key for 360D Support) <360D-support@neustar.biz>\"\n",
      "gpg: encrypted with 4096-bit RSA key, ID 5990FE61F1F8C73C, created 2016-05-17\n",
      "      \"support-360D (Gpg key for 360D Support) <360D-support@neustar.biz>\"\n",
      "gpg: encrypted with 4096-bit RSA key, ID 5990FE61F1F8C73C, created 2016-05-17\n",
      "      \"support-360D (Gpg key for 360D Support) <360D-support@neustar.biz>\"\n",
      "gpg: encrypted with 4096-bit RSA key, ID 5990FE61F1F8C73C, created 2016-05-17\n",
      "      \"support-360D (Gpg key for 360D Support) <360D-support@neustar.biz>\"\n",
      "gpg: encrypted with 4096-bit RSA key, ID 5990FE61F1F8C73C, created 2016-05-17\n",
      "      \"support-360D (Gpg key for 360D Support) <360D-support@neustar.biz>\"\n",
      "gpg: encrypted with 4096-bit RSA key, ID 5990FE61F1F8C73C, created 2016-05-17\n",
      "      \"support-360D (Gpg key for 360D Support) <360D-support@neustar.biz>\"\n",
      "gpg: encrypted with 4096-bit RSA key, ID 5990FE61F1F8C73C, created 2016-05-17\n",
      "      \"support-360D (Gpg key for 360D Support) <360D-support@neustar.biz>\"\n",
      "gpg: encrypted with 4096-bit RSA key, ID 5990FE61F1F8C73C, created 2016-05-17\n",
      "      \"support-360D (Gpg key for 360D Support) <360D-support@neustar.biz>\"\n",
      "gpg: encrypted with 4096-bit RSA key, ID 5990FE61F1F8C73C, created 2016-05-17\n",
      "      \"support-360D (Gpg key for 360D Support) <360D-support@neustar.biz>\"\n",
      "gpg: encrypted with 4096-bit RSA key, ID 5990FE61F1F8C73C, created 2016-05-17\n",
      "      \"support-360D (Gpg key for 360D Support) <360D-support@neustar.biz>\"\n",
      "gpg: encrypted with 4096-bit RSA key, ID 5990FE61F1F8C73C, created 2016-05-17\n",
      "      \"support-360D (Gpg key for 360D Support) <360D-support@neustar.biz>\"\n",
      "gpg: encrypted with 4096-bit RSA key, ID 5990FE61F1F8C73C, created 2016-05-17\n",
      "      \"support-360D (Gpg key for 360D Support) <360D-support@neustar.biz>\"\n",
      "gpg: encrypted with 4096-bit RSA key, ID 5990FE61F1F8C73C, created 2016-05-17\n",
      "      \"support-360D (Gpg key for 360D Support) <360D-support@neustar.biz>\"\n",
      "gpg: encrypted with 4096-bit RSA key, ID 5990FE61F1F8C73C, created 2016-05-17\n",
      "      \"support-360D (Gpg key for 360D Support) <360D-support@neustar.biz>\"\n",
      "gpg: encrypted with 4096-bit RSA key, ID 5990FE61F1F8C73C, created 2016-05-17\n",
      "      \"support-360D (Gpg key for 360D Support) <360D-support@neustar.biz>\"\n",
      "gpg: encrypted with 4096-bit RSA key, ID 5990FE61F1F8C73C, created 2016-05-17\n",
      "      \"support-360D (Gpg key for 360D Support) <360D-support@neustar.biz>\"\n",
      "gpg: encrypted with 4096-bit RSA key, ID 5990FE61F1F8C73C, created 2016-05-17\n",
      "      \"support-360D (Gpg key for 360D Support) <360D-support@neustar.biz>\"\n",
      "gpg: encrypted with 4096-bit RSA key, ID 5990FE61F1F8C73C, created 2016-05-17\n",
      "      \"support-360D (Gpg key for 360D Support) <360D-support@neustar.biz>\"\n",
      "gpg: encrypted with 4096-bit RSA key, ID 5990FE61F1F8C73C, created 2016-05-17\n",
      "      \"support-360D (Gpg key for 360D Support) <360D-support@neustar.biz>\"\n",
      "gpg: encrypted with 4096-bit RSA key, ID 5990FE61F1F8C73C, created 2016-05-17\n",
      "      \"support-360D (Gpg key for 360D Support) <360D-support@neustar.biz>\"\n",
      "gpg: encrypted with 4096-bit RSA key, ID 5990FE61F1F8C73C, created 2016-05-17\n",
      "      \"support-360D (Gpg key for 360D Support) <360D-support@neustar.biz>\"\n",
      "gpg: encrypted with 4096-bit RSA key, ID 5990FE61F1F8C73C, created 2016-05-17\n",
      "      \"support-360D (Gpg key for 360D Support) <360D-support@neustar.biz>\"\n",
      "gpg: encrypted with 4096-bit RSA key, ID 5990FE61F1F8C73C, created 2016-05-17\n",
      "      \"support-360D (Gpg key for 360D Support) <360D-support@neustar.biz>\"\n",
      "gpg: encrypted with 4096-bit RSA key, ID 5990FE61F1F8C73C, created 2016-05-17\n",
      "      \"support-360D (Gpg key for 360D Support) <360D-support@neustar.biz>\"\n",
      "gpg: encrypted with 4096-bit RSA key, ID 5990FE61F1F8C73C, created 2016-05-17\n",
      "      \"support-360D (Gpg key for 360D Support) <360D-support@neustar.biz>\"\n",
      "gpg: encrypted with 4096-bit RSA key, ID 5990FE61F1F8C73C, created 2016-05-17\n",
      "      \"support-360D (Gpg key for 360D Support) <360D-support@neustar.biz>\"\n",
      "gpg: encrypted with 4096-bit RSA key, ID 5990FE61F1F8C73C, created 2016-05-17\n",
      "      \"support-360D (Gpg key for 360D Support) <360D-support@neustar.biz>\"\n",
      "gpg: encrypted with 4096-bit RSA key, ID 5990FE61F1F8C73C, created 2016-05-17\n",
      "      \"support-360D (Gpg key for 360D Support) <360D-support@neustar.biz>\"\n",
      "gpg: encrypted with 4096-bit RSA key, ID 5990FE61F1F8C73C, created 2016-05-17\n",
      "      \"support-360D (Gpg key for 360D Support) <360D-support@neustar.biz>\"\n",
      "gpg: encrypted with 4096-bit RSA key, ID 5990FE61F1F8C73C, created 2016-05-17\n",
      "      \"support-360D (Gpg key for 360D Support) <360D-support@neustar.biz>\"\n",
      "gpg: encrypted with 4096-bit RSA key, ID 5990FE61F1F8C73C, created 2016-05-17\n",
      "      \"support-360D (Gpg key for 360D Support) <360D-support@neustar.biz>\"\n",
      "gpg: encrypted with 4096-bit RSA key, ID 5990FE61F1F8C73C, created 2016-05-17\n",
      "      \"support-360D (Gpg key for 360D Support) <360D-support@neustar.biz>\"\n",
      "gpg: encrypted with 4096-bit RSA key, ID 5990FE61F1F8C73C, created 2016-05-17\n",
      "      \"support-360D (Gpg key for 360D Support) <360D-support@neustar.biz>\"\n",
      "gpg: encrypted with 4096-bit RSA key, ID 5990FE61F1F8C73C, created 2016-05-17\n",
      "      \"support-360D (Gpg key for 360D Support) <360D-support@neustar.biz>\"\n",
      "gpg: encrypted with 4096-bit RSA key, ID 5990FE61F1F8C73C, created 2016-05-17\n",
      "      \"support-360D (Gpg key for 360D Support) <360D-support@neustar.biz>\"\n",
      "gpg: encrypted with 4096-bit RSA key, ID 5990FE61F1F8C73C, created 2016-05-17\n",
      "      \"support-360D (Gpg key for 360D Support) <360D-support@neustar.biz>\"\n",
      "gpg: encrypted with 4096-bit RSA key, ID 5990FE61F1F8C73C, created 2016-05-17\n",
      "      \"support-360D (Gpg key for 360D Support) <360D-support@neustar.biz>\"\n"
     ]
    }
   ],
   "source": [
    "%%bash\n",
    "pushd reports/\n",
    "rm -rf ./decrypt\n",
    "mkdir decrypt\n",
    "for filename in *.gpg; do\n",
    "    echo \"Working on $filename, generating ./decrypt/${filename%.gpg}\"\n",
    "    echo \"Firefly54Extreme80Seep\" | gpg --batch --yes --passphrase-fd 0 -o ./decrypt/${filename%.gpg} -d $filename\n",
    "done\n",
    "popd"
   ]
  },
  {
   "cell_type": "code",
   "execution_count": 202,
   "metadata": {
    "ExecuteTime": {
     "end_time": "2019-02-26T20:52:53.687759Z",
     "start_time": "2019-02-26T20:52:53.151431Z"
    }
   },
   "outputs": [
    {
     "name": "stdout",
     "output_type": "stream",
     "text": [
      "/Users/jnatali/repos/fb_mta/notebooks\r\n"
     ]
    }
   ],
   "source": [
    "!pwd"
   ]
  },
  {
   "cell_type": "code",
   "execution_count": 203,
   "metadata": {
    "ExecuteTime": {
     "end_time": "2019-02-26T20:52:53.892999Z",
     "start_time": "2019-02-26T20:52:53.695001Z"
    }
   },
   "outputs": [
    {
     "name": "stdout",
     "output_type": "stream",
     "text": [
      "      66\r\n"
     ]
    }
   ],
   "source": [
    "!ls ./reports/ | wc -l"
   ]
  },
  {
   "cell_type": "code",
   "execution_count": null,
   "metadata": {},
   "outputs": [],
   "source": []
  }
 ],
 "metadata": {
  "kernelspec": {
   "display_name": "Python 3",
   "language": "python",
   "name": "python3"
  },
  "language_info": {
   "codemirror_mode": {
    "name": "ipython",
    "version": 3
   },
   "file_extension": ".py",
   "mimetype": "text/x-python",
   "name": "python",
   "nbconvert_exporter": "python",
   "pygments_lexer": "ipython3",
   "version": "3.7.0"
  },
  "toc": {
   "base_numbering": 1,
   "nav_menu": {},
   "number_sections": true,
   "sideBar": true,
   "skip_h1_title": true,
   "title_cell": "Table of Contents",
   "title_sidebar": "Contents",
   "toc_cell": false,
   "toc_position": {},
   "toc_section_display": true,
   "toc_window_display": true
  }
 },
 "nbformat": 4,
 "nbformat_minor": 2
}
