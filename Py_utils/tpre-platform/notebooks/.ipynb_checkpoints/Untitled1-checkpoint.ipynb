{
 "cells": [
  {
   "cell_type": "code",
   "execution_count": 14,
   "metadata": {},
   "outputs": [
    {
     "name": "stdout",
     "output_type": "stream",
     "text": [
      "---->C:\\Users\\a568963\\code\\msaction_backend\\common\\BU3.0_core\\util\\Py_utils\\tpre-platform\\conv_api\n",
      "---->C:\\Users\\a568963\\code\\msaction_backend\\common\\BU3.0_core\\util\\Py_utils\\tpre-platform\\conv_api\\..\\..\\\n"
     ]
    }
   ],
   "source": [
    "import sys\n",
    "import os\n",
    "from pathlib import Path\n",
    "\n",
    "curr_dir =  os.path.abspath(\"C:\\\\Users\\\\a568963\\\\code\\\\msaction_backend\\\\common\\\\BU3.0_core\\\\util\\\\Py_utils\\\\tpre-platform\\\\conv_api\")\n",
    "print(\"---->\"+   curr_dir)\n",
    "path = os.path.join(curr_dir,\"..\\\\..\\\\\")\n",
    "print(\"---->\"+   path.re)"
   ]
  },
  {
   "cell_type": "code",
   "execution_count": 7,
   "metadata": {},
   "outputs": [
    {
     "data": {
      "text/plain": [
       "'..'"
      ]
     },
     "execution_count": 7,
     "metadata": {},
     "output_type": "execute_result"
    }
   ],
   "source": [
    "os.\n",
    "#print(os.pardir())\n",
    "#curr_dir = os.pardir()\n",
    "#curr_dir = os.pardir()\n",
    "#print(curr_dir)"
   ]
  },
  {
   "cell_type": "code",
   "execution_count": null,
   "metadata": {},
   "outputs": [],
   "source": []
  }
 ],
 "metadata": {
  "kernelspec": {
   "display_name": "Python 3",
   "language": "python",
   "name": "python3"
  },
  "language_info": {
   "codemirror_mode": {
    "name": "ipython",
    "version": 3
   },
   "file_extension": ".py",
   "mimetype": "text/x-python",
   "name": "python",
   "nbconvert_exporter": "python",
   "pygments_lexer": "ipython3",
   "version": "3.7.2"
  }
 },
 "nbformat": 4,
 "nbformat_minor": 2
}
