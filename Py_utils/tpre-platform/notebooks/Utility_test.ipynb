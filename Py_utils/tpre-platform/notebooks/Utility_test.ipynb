{
 "cells": [
  {
   "cell_type": "code",
   "execution_count": 1,
   "metadata": {},
   "outputs": [],
   "source": [
    "import subprocess\n",
    "import os, sys, logging\n",
    "from threading import current_thread\n",
    "from multiprocessing import current_process\n",
    "logging.basicConfig(\n",
    "    level=logging.DEBUG,\n",
    "    format=\"%(asctime)s [%(threadName)-12.12s] [%(levelname)-5.5s]  %(message)s\",\n",
    "    handlers=[\n",
    "        #logging.FileHandler(\"{0}/{1}.log\".format(logPath, fileName)),\n",
    "        logging.StreamHandler()\n",
    "    ])"
   ]
  },
  {
   "cell_type": "code",
   "execution_count": 29,
   "metadata": {},
   "outputs": [],
   "source": [
    "def decryption(src_dir_path, decrypt_dir):\n",
    "    decryption_pwd = 'Firefly54Extreme80Seep'\n",
    "    cmd = \"pushd {0} \\\n",
    "      \\n    rm -rf ./{1}\\\n",
    "      \\n    mkdir {1}\\\n",
    "      \\n    for filename in *.gpg; do \\\n",
    "      \\n        echo \\\"Working on $filename, generating ./{1}/${3}\\\"\\\n",
    "      \\n        echo \\\"{2}\\\" | gpg --batch --yes --passphrase-fd 0 -o ./{1}${3} -d $filename\\\n",
    "      \\n    done\\\n",
    "      \\npopd\\\n",
    "                \".format(src_dir_path, decrypt_dir, decryption_pwd, \"{filename%.gpg}\")\n",
    "    p = subprocess.Popen(\n",
    "        cmd,\n",
    "        shell=True,\n",
    "        executable='/bin/bash',\n",
    "        stdout=subprocess.PIPE,\n",
    "        stderr=subprocess.PIPE,\n",
    "        universal_newlines=True,\n",
    "        encoding='utf-8'\n",
    "    )\n",
    "    print(\"stdout:\\n\" + p.stdout.read())\n",
    "    print(\"stderr:\\n\" + p.stderr.read())"
   ]
  },
  {
   "cell_type": "code",
   "execution_count": 7,
   "metadata": {},
   "outputs": [
    {
     "name": "stdout",
     "output_type": "stream",
     "text": [
      "/home/vbhargava/fb_v8.1/msaction_backend/common/BU3.0_core/util/Py_utils/tpre-platform4/notebooks\r\n"
     ]
    }
   ],
   "source": [
    "#/home/vbhargava/fb_v8.1/reports/unzipped\n",
    "!pwd"
   ]
  },
  {
   "cell_type": "code",
   "execution_count": 30,
   "metadata": {},
   "outputs": [
    {
     "name": "stdout",
     "output_type": "stream",
     "text": [
      "stdout:\n",
      "~/fb_v8.1/reports/unzipped ~/fb_v8.1/msaction_backend/common/BU3.0_core/util/Py_utils/tpre-platform4/notebooks\n",
      "Working on 2019-03-30-848478348835361-128900881029137-cohort_membership_1000.csv.gpg, generating ./decrypt2/2019-03-30-848478348835361-128900881029137-cohort_membership_1000.csv\n",
      "Working on 2019-03-30-848478348835361-128900881029137-cohort_membership_100.csv.gpg, generating ./decrypt2/2019-03-30-848478348835361-128900881029137-cohort_membership_100.csv\n",
      "Working on 2019-03-30-848478348835361-128900881029137-cohort_membership_10.csv.gpg, generating ./decrypt2/2019-03-30-848478348835361-128900881029137-cohort_membership_10.csv\n",
      "Working on 2019-03-30-848478348835361-128900881029137-cohort_membership_1.csv.gpg, generating ./decrypt2/2019-03-30-848478348835361-128900881029137-cohort_membership_1.csv\n",
      "Working on 2019-03-30-848478348835361-128900881029137-cohort_metrics_1000.csv.gpg, generating ./decrypt2/2019-03-30-848478348835361-128900881029137-cohort_metrics_1000.csv\n",
      "Working on 2019-03-30-848478348835361-128900881029137-cohort_metrics_100.csv.gpg, generating ./decrypt2/2019-03-30-848478348835361-128900881029137-cohort_metrics_100.csv\n",
      "Working on 2019-03-30-848478348835361-128900881029137-cohort_metrics_10.csv.gpg, generating ./decrypt2/2019-03-30-848478348835361-128900881029137-cohort_metrics_10.csv\n",
      "Working on 2019-03-30-848478348835361-128900881029137-cohort_metrics_1.csv.gpg, generating ./decrypt2/2019-03-30-848478348835361-128900881029137-cohort_metrics_1.csv\n",
      "Working on 2019-03-30-848478348835361-128900881029137-cohort_summary_1000.csv.gpg, generating ./decrypt2/2019-03-30-848478348835361-128900881029137-cohort_summary_1000.csv\n",
      "Working on 2019-03-30-848478348835361-128900881029137-cohort_summary_100.csv.gpg, generating ./decrypt2/2019-03-30-848478348835361-128900881029137-cohort_summary_100.csv\n",
      "Working on 2019-03-30-848478348835361-128900881029137-cohort_summary_10.csv.gpg, generating ./decrypt2/2019-03-30-848478348835361-128900881029137-cohort_summary_10.csv\n",
      "Working on 2019-03-30-848478348835361-128900881029137-cohort_summary_1.csv.gpg, generating ./decrypt2/2019-03-30-848478348835361-128900881029137-cohort_summary_1.csv\n",
      "Working on 2019-03-30-848478348835361-128900881029137-cohort_taxonomy.csv.gpg, generating ./decrypt2/2019-03-30-848478348835361-128900881029137-cohort_taxonomy.csv\n",
      "~/fb_v8.1/msaction_backend/common/BU3.0_core/util/Py_utils/tpre-platform4/notebooks\n",
      "\n",
      "stderr:\n",
      "gpg: encrypted with 4096-bit RSA key, ID F1F8C73C, created 2016-05-17\n",
      "      \"support-360D (Gpg key for 360D Support) <360D-support@neustar.biz>\"\n",
      "gpg: encrypted with 4096-bit RSA key, ID F1F8C73C, created 2016-05-17\n",
      "      \"support-360D (Gpg key for 360D Support) <360D-support@neustar.biz>\"\n",
      "gpg: encrypted with 4096-bit RSA key, ID F1F8C73C, created 2016-05-17\n",
      "      \"support-360D (Gpg key for 360D Support) <360D-support@neustar.biz>\"\n",
      "gpg: encrypted with 4096-bit RSA key, ID F1F8C73C, created 2016-05-17\n",
      "      \"support-360D (Gpg key for 360D Support) <360D-support@neustar.biz>\"\n",
      "gpg: encrypted with 4096-bit RSA key, ID F1F8C73C, created 2016-05-17\n",
      "      \"support-360D (Gpg key for 360D Support) <360D-support@neustar.biz>\"\n",
      "gpg: encrypted with 4096-bit RSA key, ID F1F8C73C, created 2016-05-17\n",
      "      \"support-360D (Gpg key for 360D Support) <360D-support@neustar.biz>\"\n",
      "gpg: encrypted with 4096-bit RSA key, ID F1F8C73C, created 2016-05-17\n",
      "      \"support-360D (Gpg key for 360D Support) <360D-support@neustar.biz>\"\n",
      "gpg: encrypted with 4096-bit RSA key, ID F1F8C73C, created 2016-05-17\n",
      "      \"support-360D (Gpg key for 360D Support) <360D-support@neustar.biz>\"\n",
      "gpg: encrypted with 4096-bit RSA key, ID F1F8C73C, created 2016-05-17\n",
      "      \"support-360D (Gpg key for 360D Support) <360D-support@neustar.biz>\"\n",
      "gpg: encrypted with 4096-bit RSA key, ID F1F8C73C, created 2016-05-17\n",
      "      \"support-360D (Gpg key for 360D Support) <360D-support@neustar.biz>\"\n",
      "gpg: encrypted with 4096-bit RSA key, ID F1F8C73C, created 2016-05-17\n",
      "      \"support-360D (Gpg key for 360D Support) <360D-support@neustar.biz>\"\n",
      "gpg: encrypted with 4096-bit RSA key, ID F1F8C73C, created 2016-05-17\n",
      "      \"support-360D (Gpg key for 360D Support) <360D-support@neustar.biz>\"\n",
      "gpg: encrypted with 4096-bit RSA key, ID F1F8C73C, created 2016-05-17\n",
      "      \"support-360D (Gpg key for 360D Support) <360D-support@neustar.biz>\"\n",
      "\n"
     ]
    }
   ],
   "source": [
    "decryption(\"/home/vbhargava/fb_v8.1/reports/unzipped\", \"decrypt2\")"
   ]
  },
  {
   "cell_type": "code",
   "execution_count": 18,
   "metadata": {},
   "outputs": [
    {
     "ename": "CalledProcessError",
     "evalue": "Command '/home/vbhargava/fb_v8.1/msaction_backend/common/BU3.0_core/util/Py_utils/tpre-platform4/notebooks/decryption.sh /home/vbhargava/fb_v8.1/reports/unzipped decrypt2' returned non-zero exit status 127.",
     "output_type": "error",
     "traceback": [
      "\u001b[0;31m---------------------------------------------------------------------------\u001b[0m",
      "\u001b[0;31mCalledProcessError\u001b[0m                        Traceback (most recent call last)",
      "\u001b[0;32m<ipython-input-18-6d80fb95c867>\u001b[0m in \u001b[0;36m<module>\u001b[0;34m\u001b[0m\n\u001b[1;32m      1\u001b[0m \u001b[0marg1\u001b[0m \u001b[0;34m=\u001b[0m \u001b[0;34m\"/home/vbhargava/fb_v8.1/reports/unzipped\"\u001b[0m\u001b[0;34m\u001b[0m\u001b[0;34m\u001b[0m\u001b[0m\n\u001b[1;32m      2\u001b[0m \u001b[0marg2\u001b[0m \u001b[0;34m=\u001b[0m \u001b[0;34m\"decrypt2\"\u001b[0m\u001b[0;34m\u001b[0m\u001b[0;34m\u001b[0m\u001b[0m\n\u001b[0;32m----> 3\u001b[0;31m \u001b[0msubprocess\u001b[0m\u001b[0;34m.\u001b[0m\u001b[0mcheck_call\u001b[0m\u001b[0;34m(\u001b[0m\u001b[0;34m\"/home/vbhargava/fb_v8.1/msaction_backend/common/BU3.0_core/util/Py_utils/tpre-platform4/notebooks/decryption.sh %s %s\"\u001b[0m \u001b[0;34m%\u001b[0m \u001b[0;34m(\u001b[0m\u001b[0marg1\u001b[0m\u001b[0;34m,\u001b[0m \u001b[0marg2\u001b[0m\u001b[0;34m)\u001b[0m\u001b[0;34m,\u001b[0m   \u001b[0mshell\u001b[0m\u001b[0;34m=\u001b[0m\u001b[0;32mTrue\u001b[0m\u001b[0;34m)\u001b[0m\u001b[0;34m\u001b[0m\u001b[0;34m\u001b[0m\u001b[0m\n\u001b[0m",
      "\u001b[0;32m~/raj_fb/anaconda3/lib/python3.7/subprocess.py\u001b[0m in \u001b[0;36mcheck_call\u001b[0;34m(*popenargs, **kwargs)\u001b[0m\n\u001b[1;32m    339\u001b[0m         \u001b[0;32mif\u001b[0m \u001b[0mcmd\u001b[0m \u001b[0;32mis\u001b[0m \u001b[0;32mNone\u001b[0m\u001b[0;34m:\u001b[0m\u001b[0;34m\u001b[0m\u001b[0;34m\u001b[0m\u001b[0m\n\u001b[1;32m    340\u001b[0m             \u001b[0mcmd\u001b[0m \u001b[0;34m=\u001b[0m \u001b[0mpopenargs\u001b[0m\u001b[0;34m[\u001b[0m\u001b[0;36m0\u001b[0m\u001b[0;34m]\u001b[0m\u001b[0;34m\u001b[0m\u001b[0;34m\u001b[0m\u001b[0m\n\u001b[0;32m--> 341\u001b[0;31m         \u001b[0;32mraise\u001b[0m \u001b[0mCalledProcessError\u001b[0m\u001b[0;34m(\u001b[0m\u001b[0mretcode\u001b[0m\u001b[0;34m,\u001b[0m \u001b[0mcmd\u001b[0m\u001b[0;34m)\u001b[0m\u001b[0;34m\u001b[0m\u001b[0;34m\u001b[0m\u001b[0m\n\u001b[0m\u001b[1;32m    342\u001b[0m     \u001b[0;32mreturn\u001b[0m \u001b[0;36m0\u001b[0m\u001b[0;34m\u001b[0m\u001b[0;34m\u001b[0m\u001b[0m\n\u001b[1;32m    343\u001b[0m \u001b[0;34m\u001b[0m\u001b[0m\n",
      "\u001b[0;31mCalledProcessError\u001b[0m: Command '/home/vbhargava/fb_v8.1/msaction_backend/common/BU3.0_core/util/Py_utils/tpre-platform4/notebooks/decryption.sh /home/vbhargava/fb_v8.1/reports/unzipped decrypt2' returned non-zero exit status 127."
     ]
    }
   ],
   "source": [
    "arg1 = \"/home/vbhargava/fb_v8.1/reports/unzipped\"\n",
    "arg2 = \"decrypt2\"\n",
    "subprocess.check_call(\"/home/vbhargava/fb_v8.1/msaction_backend/common/BU3.0_core/util/Py_utils/tpre-platform4/notebooks/decryption.sh %s %s\" % (arg1, arg2),   shell=True)"
   ]
  },
  {
   "cell_type": "code",
   "execution_count": 15,
   "metadata": {},
   "outputs": [
    {
     "name": "stdout",
     "output_type": "stream",
     "text": [
      "-rwxrwxr-x 1 vbhargava vbhargava 344 May  7 08:29 /home/vbhargava/fb_v8.1/msaction_backend/common/BU3.0_core/util/Py_utils/tpre-platform4/notebooks/decryption.sh\r\n"
     ]
    }
   ],
   "source": [
    "!ls -l /home/vbhargava/fb_v8.1/msaction_backend/common/BU3.0_core/util/Py_utils/tpre-platform4/notebooks/decryption.sh\n"
   ]
  },
  {
   "cell_type": "code",
   "execution_count": 14,
   "metadata": {},
   "outputs": [],
   "source": [
    "!chmod +x /home/vbhargava/fb_v8.1/msaction_backend/common/BU3.0_core/util/Py_utils/tpre-platform4/notebooks/decryption.sh "
   ]
  },
  {
   "cell_type": "code",
   "execution_count": null,
   "metadata": {},
   "outputs": [],
   "source": [
    "pushd /home/vbhargava/fb_v8.1/reports/unzipped/\n",
    "rm -rf ./decrypt\n",
    "mkdir decrypt\n",
    "for filename in *.gpg; do\n",
    "    echo \"Working on $filename, generating ./decrypt/${filename%.gpg}\"\n",
    "    echo \"Firefly54Extreme80Seep\" | gpg --batch --yes --passphrase-fd 0 -o ./decrypt/${filename%.gpg} -d $filename\n",
    "done\n",
    "popd"
   ]
  },
  {
   "cell_type": "code",
   "execution_count": 28,
   "metadata": {},
   "outputs": [
    {
     "name": "stdout",
     "output_type": "stream",
     "text": [
      "pushd /home/vbhargava/fb_v8.1/reports/unzipped/       \n",
      "    rm -rf ./decrypt      \n",
      "    mkdir decrypt      \n",
      "    for filename in *.gpg; do       \n",
      "        echo \"Working on $filename, generating ./decrypt/${filename%.gpg}\"      \n",
      "        echo \"Firefly54Extreme80Seep\" | gpg --batch --yes --passphrase-fd 0 -o ./decrypt${filename%.gpg} -d $filename      \n",
      "    done      \n",
      "popd                \n"
     ]
    }
   ],
   "source": [
    "decryption_pwd = \"Firefly54Extreme80Seep\"\n",
    "src_dir_path =\"/home/vbhargava/fb_v8.1/reports/unzipped/\"\n",
    "decrypt_dir = \"decrypt\"\n",
    "cmd = \"pushd {0} \\\n",
    "      \\n    rm -rf ./{1}\\\n",
    "      \\n    mkdir {1}\\\n",
    "      \\n    for filename in *.gpg; do \\\n",
    "      \\n        echo \\\"Working on $filename, generating ./{1}/${3}\\\"\\\n",
    "      \\n        echo \\\"{2}\\\" | gpg --batch --yes --passphrase-fd 0 -o ./{1}${3} -d $filename\\\n",
    "      \\n    done\\\n",
    "      \\npopd\\\n",
    "                \".format(src_dir_path, decrypt_dir, decryption_pwd, \"{filename%.gpg}\")\n",
    "print(cmd)\n",
    "    "
   ]
  },
  {
   "cell_type": "code",
   "execution_count": 48,
   "metadata": {},
   "outputs": [
    {
     "data": {
      "text/plain": [
       "'abc_1557252026'"
      ]
     },
     "execution_count": 48,
     "metadata": {},
     "output_type": "execute_result"
    }
   ],
   "source": [
    "import time\n",
    "\n",
    "t = int(time.time())\n",
    "a = \"abc_\" + str(int(time.time()))\n",
    "a"
   ]
  },
  {
   "cell_type": "code",
   "execution_count": 38,
   "metadata": {},
   "outputs": [
    {
     "data": {
      "text/plain": [
       "1557251750.686997"
      ]
     },
     "execution_count": 38,
     "metadata": {},
     "output_type": "execute_result"
    }
   ],
   "source": [
    "1557251750.686997"
   ]
  },
  {
   "cell_type": "code",
   "execution_count": 57,
   "metadata": {},
   "outputs": [
    {
     "data": {
      "text/plain": [
       "'/tmp/fb_report/${client_name}/${project_name}/report/fb_reports_1557259926/'"
      ]
     },
     "execution_count": 57,
     "metadata": {},
     "output_type": "execute_result"
    }
   ],
   "source": [
    "report_destpath = \"/tmp/fb_report/${client_name}/${project_name}/report\"\n",
    "report_destpath = \"{}/fb_reports_{}/\".format(report_destpath, str(int(time.time())))\n",
    "report_destpath"
   ]
  },
  {
   "cell_type": "code",
   "execution_count": 54,
   "metadata": {},
   "outputs": [
    {
     "data": {
      "text/plain": [
       "'/tmp/fb_report/${client_name}/${project_name}/report/report_1557259876/'"
      ]
     },
     "execution_count": 54,
     "metadata": {},
     "output_type": "execute_result"
    }
   ],
   "source": []
  },
  {
   "cell_type": "code",
   "execution_count": 62,
   "metadata": {},
   "outputs": [],
   "source": [
    "config = '/home/vbhargava/fb_v8.1/msaction_backend/customers/ctam_v81_testing/common/config/input/platform_config.xml'\n",
    "#         /home/vbhargava/fb_v8.1/msaction_backend/customers/ctam_v81_testing/common/config/inputs"
   ]
  },
  {
   "cell_type": "code",
   "execution_count": 63,
   "metadata": {},
   "outputs": [
    {
     "name": "stdout",
     "output_type": "stream",
     "text": [
      "cat: /home/vbhargava/fb_v8.1/msaction_backend/customers/ctam_v81_testing/common/config/input/platform_config.xml: No such file or directory\r\n"
     ]
    }
   ],
   "source": [
    "!cat $config"
   ]
  },
  {
   "cell_type": "code",
   "execution_count": 2,
   "metadata": {},
   "outputs": [],
   "source": [
    "sys.path.append(\"/home/vbhargava/fb_v8.1/msaction_backend/common/BU3.0_core/util/Py_utils/utils/bash_utils\")\n"
   ]
  },
  {
   "cell_type": "code",
   "execution_count": 3,
   "metadata": {},
   "outputs": [
    {
     "data": {
      "text/plain": [
       "[('Path', pathlib.Path),\n",
       " ('__builtins__',\n",
       "  {'__name__': 'builtins',\n",
       "   '__doc__': \"Built-in functions, exceptions, and other objects.\\n\\nNoteworthy: None is the `nil' object; Ellipsis represents `...' in slices.\",\n",
       "   '__package__': '',\n",
       "   '__loader__': _frozen_importlib.BuiltinImporter,\n",
       "   '__spec__': ModuleSpec(name='builtins', loader=<class '_frozen_importlib.BuiltinImporter'>),\n",
       "   '__build_class__': <function __build_class__>,\n",
       "   '__import__': <function __import__>,\n",
       "   'abs': <function abs(x, /)>,\n",
       "   'all': <function all(iterable, /)>,\n",
       "   'any': <function any(iterable, /)>,\n",
       "   'ascii': <function ascii(obj, /)>,\n",
       "   'bin': <function bin(number, /)>,\n",
       "   'breakpoint': <function breakpoint>,\n",
       "   'callable': <function callable(obj, /)>,\n",
       "   'chr': <function chr(i, /)>,\n",
       "   'compile': <function compile(source, filename, mode, flags=0, dont_inherit=False, optimize=-1)>,\n",
       "   'delattr': <function delattr(obj, name, /)>,\n",
       "   'dir': <function dir>,\n",
       "   'divmod': <function divmod(x, y, /)>,\n",
       "   'eval': <function eval(source, globals=None, locals=None, /)>,\n",
       "   'exec': <function exec(source, globals=None, locals=None, /)>,\n",
       "   'format': <function format(value, format_spec='', /)>,\n",
       "   'getattr': <function getattr>,\n",
       "   'globals': <function globals()>,\n",
       "   'hasattr': <function hasattr(obj, name, /)>,\n",
       "   'hash': <function hash(obj, /)>,\n",
       "   'hex': <function hex(number, /)>,\n",
       "   'id': <function id(obj, /)>,\n",
       "   'input': <bound method Kernel.raw_input of <ipykernel.ipkernel.IPythonKernel object at 0x7effbdb09978>>,\n",
       "   'isinstance': <function isinstance(obj, class_or_tuple, /)>,\n",
       "   'issubclass': <function issubclass(cls, class_or_tuple, /)>,\n",
       "   'iter': <function iter>,\n",
       "   'len': <function len(obj, /)>,\n",
       "   'locals': <function locals()>,\n",
       "   'max': <function max>,\n",
       "   'min': <function min>,\n",
       "   'next': <function next>,\n",
       "   'oct': <function oct(number, /)>,\n",
       "   'ord': <function ord(c, /)>,\n",
       "   'pow': <function pow(x, y, z=None, /)>,\n",
       "   'print': <function print>,\n",
       "   'repr': <function repr(obj, /)>,\n",
       "   'round': <function round(number, ndigits=None)>,\n",
       "   'setattr': <function setattr(obj, name, value, /)>,\n",
       "   'sorted': <function sorted(iterable, /, *, key=None, reverse=False)>,\n",
       "   'sum': <function sum(iterable, start=0, /)>,\n",
       "   'vars': <function vars>,\n",
       "   'None': None,\n",
       "   'Ellipsis': Ellipsis,\n",
       "   'NotImplemented': NotImplemented,\n",
       "   'False': False,\n",
       "   'True': True,\n",
       "   'bool': bool,\n",
       "   'memoryview': memoryview,\n",
       "   'bytearray': bytearray,\n",
       "   'bytes': bytes,\n",
       "   'classmethod': classmethod,\n",
       "   'complex': complex,\n",
       "   'dict': dict,\n",
       "   'enumerate': enumerate,\n",
       "   'filter': filter,\n",
       "   'float': float,\n",
       "   'frozenset': frozenset,\n",
       "   'property': property,\n",
       "   'int': int,\n",
       "   'list': list,\n",
       "   'map': map,\n",
       "   'object': object,\n",
       "   'range': range,\n",
       "   'reversed': reversed,\n",
       "   'set': set,\n",
       "   'slice': slice,\n",
       "   'staticmethod': staticmethod,\n",
       "   'str': str,\n",
       "   'super': super,\n",
       "   'tuple': tuple,\n",
       "   'type': type,\n",
       "   'zip': zip,\n",
       "   '__debug__': True,\n",
       "   'BaseException': BaseException,\n",
       "   'Exception': Exception,\n",
       "   'TypeError': TypeError,\n",
       "   'StopAsyncIteration': StopAsyncIteration,\n",
       "   'StopIteration': StopIteration,\n",
       "   'GeneratorExit': GeneratorExit,\n",
       "   'SystemExit': SystemExit,\n",
       "   'KeyboardInterrupt': KeyboardInterrupt,\n",
       "   'ImportError': ImportError,\n",
       "   'ModuleNotFoundError': ModuleNotFoundError,\n",
       "   'OSError': OSError,\n",
       "   'EnvironmentError': OSError,\n",
       "   'IOError': OSError,\n",
       "   'EOFError': EOFError,\n",
       "   'RuntimeError': RuntimeError,\n",
       "   'RecursionError': RecursionError,\n",
       "   'NotImplementedError': NotImplementedError,\n",
       "   'NameError': NameError,\n",
       "   'UnboundLocalError': UnboundLocalError,\n",
       "   'AttributeError': AttributeError,\n",
       "   'SyntaxError': SyntaxError,\n",
       "   'IndentationError': IndentationError,\n",
       "   'TabError': TabError,\n",
       "   'LookupError': LookupError,\n",
       "   'IndexError': IndexError,\n",
       "   'KeyError': KeyError,\n",
       "   'ValueError': ValueError,\n",
       "   'UnicodeError': UnicodeError,\n",
       "   'UnicodeEncodeError': UnicodeEncodeError,\n",
       "   'UnicodeDecodeError': UnicodeDecodeError,\n",
       "   'UnicodeTranslateError': UnicodeTranslateError,\n",
       "   'AssertionError': AssertionError,\n",
       "   'ArithmeticError': ArithmeticError,\n",
       "   'FloatingPointError': FloatingPointError,\n",
       "   'OverflowError': OverflowError,\n",
       "   'ZeroDivisionError': ZeroDivisionError,\n",
       "   'SystemError': SystemError,\n",
       "   'ReferenceError': ReferenceError,\n",
       "   'MemoryError': MemoryError,\n",
       "   'BufferError': BufferError,\n",
       "   'Warning': Warning,\n",
       "   'UserWarning': UserWarning,\n",
       "   'DeprecationWarning': DeprecationWarning,\n",
       "   'PendingDeprecationWarning': PendingDeprecationWarning,\n",
       "   'SyntaxWarning': SyntaxWarning,\n",
       "   'RuntimeWarning': RuntimeWarning,\n",
       "   'FutureWarning': FutureWarning,\n",
       "   'ImportWarning': ImportWarning,\n",
       "   'UnicodeWarning': UnicodeWarning,\n",
       "   'BytesWarning': BytesWarning,\n",
       "   'ResourceWarning': ResourceWarning,\n",
       "   'ConnectionError': ConnectionError,\n",
       "   'BlockingIOError': BlockingIOError,\n",
       "   'BrokenPipeError': BrokenPipeError,\n",
       "   'ChildProcessError': ChildProcessError,\n",
       "   'ConnectionAbortedError': ConnectionAbortedError,\n",
       "   'ConnectionRefusedError': ConnectionRefusedError,\n",
       "   'ConnectionResetError': ConnectionResetError,\n",
       "   'FileExistsError': FileExistsError,\n",
       "   'FileNotFoundError': FileNotFoundError,\n",
       "   'IsADirectoryError': IsADirectoryError,\n",
       "   'NotADirectoryError': NotADirectoryError,\n",
       "   'InterruptedError': InterruptedError,\n",
       "   'PermissionError': PermissionError,\n",
       "   'ProcessLookupError': ProcessLookupError,\n",
       "   'TimeoutError': TimeoutError,\n",
       "   'open': <function io.open(file, mode='r', buffering=-1, encoding=None, errors=None, newline=None, closefd=True, opener=None)>,\n",
       "   'copyright': Copyright (c) 2001-2018 Python Software Foundation.\n",
       "   All Rights Reserved.\n",
       "   \n",
       "   Copyright (c) 2000 BeOpen.com.\n",
       "   All Rights Reserved.\n",
       "   \n",
       "   Copyright (c) 1995-2001 Corporation for National Research Initiatives.\n",
       "   All Rights Reserved.\n",
       "   \n",
       "   Copyright (c) 1991-1995 Stichting Mathematisch Centrum, Amsterdam.\n",
       "   All Rights Reserved.,\n",
       "   'credits':     Thanks to CWI, CNRI, BeOpen.com, Zope Corporation and a cast of thousands\n",
       "       for supporting Python development.  See www.python.org for more information.,\n",
       "   'license': Type license() to see the full license text,\n",
       "   'help': Type help() for interactive help, or help(object) for help about object.,\n",
       "   '__IPYTHON__': True,\n",
       "   'display': <function IPython.core.display.display(*objs, include=None, exclude=None, metadata=None, transient=None, display_id=None, **kwargs)>,\n",
       "   'get_ipython': <bound method InteractiveShell.get_ipython of <ipykernel.zmqshell.ZMQInteractiveShell object at 0x7effbfcfa320>>}),\n",
       " ('__cached__',\n",
       "  '/home/vbhargava/fb_v8.1/msaction_backend/common/BU3.0_core/util/Py_utils/utils/bash_utils/__pycache__/shell_cmd_util.cpython-37.pyc'),\n",
       " ('__doc__', None),\n",
       " ('__file__',\n",
       "  '/home/vbhargava/fb_v8.1/msaction_backend/common/BU3.0_core/util/Py_utils/utils/bash_utils/shell_cmd_util.py'),\n",
       " ('__loader__',\n",
       "  <_frozen_importlib_external.SourceFileLoader at 0x7effbc1ec048>),\n",
       " ('__name__', 'shell_cmd_util'),\n",
       " ('__package__', ''),\n",
       " ('__spec__',\n",
       "  ModuleSpec(name='shell_cmd_util', loader=<_frozen_importlib_external.SourceFileLoader object at 0x7effbc1ec048>, origin='/home/vbhargava/fb_v8.1/msaction_backend/common/BU3.0_core/util/Py_utils/utils/bash_utils/shell_cmd_util.py')),\n",
       " ('current_process', <function multiprocessing.process.current_process()>),\n",
       " ('current_thread', <function threading.current_thread()>),\n",
       " ('decryption',\n",
       "  <function shell_cmd_util.decryption(src_dir_path, decrypt_dir)>),\n",
       " ('gunzip', <function shell_cmd_util.gunzip(dir_path)>),\n",
       " ('import_gpg_key', <function shell_cmd_util.import_gpg_key(key_path=None)>),\n",
       " ('logging',\n",
       "  <module 'logging' from '/home/vbhargava/raj_fb/anaconda3/lib/python3.7/logging/__init__.py'>),\n",
       " ('os',\n",
       "  <module 'os' from '/home/vbhargava/raj_fb/anaconda3/lib/python3.7/os.py'>),\n",
       " ('subprocess',\n",
       "  <module 'subprocess' from '/home/vbhargava/raj_fb/anaconda3/lib/python3.7/subprocess.py'>)]"
      ]
     },
     "execution_count": 3,
     "metadata": {},
     "output_type": "execute_result"
    }
   ],
   "source": [
    "import shell_cmd_util as scu\n",
    "import inspect\n",
    "inspect.getmembers(scu)"
   ]
  },
  {
   "cell_type": "code",
   "execution_count": 4,
   "metadata": {},
   "outputs": [
    {
     "name": "stderr",
     "output_type": "stream",
     "text": [
      "2019-05-09 17:26:05,541 [MainThread  ] [INFO ]  ====== Importing gpg key ======\n",
      "2019-05-09 17:26:05,548 [MainThread  ] [INFO ]  Imported gpg key: /home/vbhargava/fb_v8.1/msaction_backend/common/BU3.0_core/util/Py_utils/utils/bash_utils/my-private-key.asc\n"
     ]
    },
    {
     "name": "stdout",
     "output_type": "stream",
     "text": [
      "stdout:\n",
      "\n",
      "stderr:\n",
      "gpg: key EA7B0054: already in secret keyring\n",
      "gpg: Total number processed: 1\n",
      "gpg:       secret keys read: 1\n",
      "gpg:  secret keys unchanged: 1\n",
      "\n"
     ]
    }
   ],
   "source": [
    "scu.import_gpg_key()"
   ]
  },
  {
   "cell_type": "code",
   "execution_count": 5,
   "metadata": {},
   "outputs": [
    {
     "name": "stdout",
     "output_type": "stream",
     "text": [
      "total 20\r\n",
      "-rwxrwxr-x 1 vbhargava vbhargava  344 May  7 08:29 decryption.sh\r\n",
      "-rw-rw-r-- 1 vbhargava vbhargava 4899 May  9 14:32 my-private-key.asc\r\n",
      "drwxrwsr-x 2 vbhargava vbhargava 4096 May  9 17:19 __pycache__\r\n",
      "-rw-rw-r-- 1 vbhargava vbhargava 2184 May  9 17:04 shell_cmd_util.py\r\n"
     ]
    }
   ],
   "source": [
    "!ls -l /home/vbhargava/fb_v8.1/msaction_backend/common/BU3.0_core/util/Py_utils/utils/bash_utils/ "
   ]
  },
  {
   "cell_type": "code",
   "execution_count": 11,
   "metadata": {},
   "outputs": [
    {
     "name": "stdout",
     "output_type": "stream",
     "text": [
      "total 4\r\n",
      "-rw-r--r-- 1 mspcricket users 102 May 10 14:51 request_id_mapping_7754_140489998927680_.csv.gz\r\n"
     ]
    }
   ],
   "source": [
    "!ls -l /tmp/fb_cricketv4_v81_p4/report/fb_reports_1557499897/request_run_result\n"
   ]
  },
  {
   "cell_type": "code",
   "execution_count": 7,
   "metadata": {},
   "outputs": [
    {
     "name": "stdout",
     "output_type": "stream",
     "text": [
      "20\n"
     ]
    }
   ],
   "source": [
    "import logging, sys\n",
    "numeric_level = getattr(logging, 'INFO', None)\n",
    "print(numeric_level)\n",
    "if not isinstance(numeric_level, int):\n",
    "    raise ValueError('Invalid log level: %s' % args.loglevel)\n",
    "\n",
    "stdout_handler = logging.StreamHandler(sys.stdout)\n",
    "\n",
    "logging.basicConfig(level=numeric_level,\n",
    "                    format='--%(asctime)s %(levelname)s %(thread)d: %(message)s',\n",
    "                    handlers=[stdout_handler])"
   ]
  },
  {
   "cell_type": "code",
   "execution_count": 2,
   "metadata": {},
   "outputs": [
    {
     "name": "stdout",
     "output_type": "stream",
     "text": [
      "--2019-05-10 16:28:31,796 INFO 139671692146496: hello\n"
     ]
    }
   ],
   "source": [
    "logging.info(\"hello\")"
   ]
  },
  {
   "cell_type": "code",
   "execution_count": 10,
   "metadata": {},
   "outputs": [],
   "source": [
    "import logging.config\n",
    "logging.config??"
   ]
  },
  {
   "cell_type": "code",
   "execution_count": 3,
   "metadata": {},
   "outputs": [
    {
     "ename": "NameError",
     "evalue": "name 'json' is not defined",
     "output_type": "error",
     "traceback": [
      "\u001b[0;31m---------------------------------------------------------------------------\u001b[0m",
      "\u001b[0;31mNameError\u001b[0m                                 Traceback (most recent call last)",
      "\u001b[0;32m<ipython-input-3-5a178eda71a4>\u001b[0m in \u001b[0;36m<module>\u001b[0;34m\u001b[0m\n\u001b[1;32m     31\u001b[0m }\"\"\"\n\u001b[1;32m     32\u001b[0m \u001b[0;34m\u001b[0m\u001b[0m\n\u001b[0;32m---> 33\u001b[0;31m \u001b[0mconf\u001b[0m \u001b[0;34m=\u001b[0m \u001b[0mjson\u001b[0m\u001b[0;34m.\u001b[0m\u001b[0mload\u001b[0m\u001b[0;34m(\u001b[0m\u001b[0mconf_dict\u001b[0m\u001b[0;34m)\u001b[0m\u001b[0;34m\u001b[0m\u001b[0;34m\u001b[0m\u001b[0m\n\u001b[0m",
      "\u001b[0;31mNameError\u001b[0m: name 'json' is not defined"
     ]
    }
   ],
   "source": []
  },
  {
   "cell_type": "code",
   "execution_count": 4,
   "metadata": {},
   "outputs": [],
   "source": [
    "import inspect, sys, json\n",
    "\n",
    "sys.path.append(\"/home/vbhargava/fb_v8.1/msaction_backend/common/BU3.0_core/util/Py_utils/tpre-platform4/fb\")\n",
    "import fbre as fbre\n",
    "#inspect.getmembers(fbre, inspect.isfunction)"
   ]
  },
  {
   "cell_type": "code",
   "execution_count": 19,
   "metadata": {},
   "outputs": [
    {
     "name": "stdout",
     "output_type": "stream",
     "text": [
      "/home/vbhargava/fb_v8.1/msaction_backend/common/BU3.0_core/util/Py_utils/tpre-platform4/fb/logging_conf.json\n",
      "<_io.TextIOWrapper name='/home/vbhargava/fb_v8.1/msaction_backend/common/BU3.0_core/util/Py_utils/tpre-platform4/fb/logging_conf.json' mode='r' encoding='UTF-8'>\n"
     ]
    },
    {
     "data": {
      "text/plain": [
       "{'version': 1,\n",
       " 'formatters': {'simple': {'format': '%(asctime)s - {%(filename)s:%(lineno)d} - %(levelname)s - %(message)s'}},\n",
       " 'handlers': {'file_handler': {'class': 'logging.FileHandler',\n",
       "   'level': 'DEBUG',\n",
       "   'formatter': 'simple',\n",
       "   'filename': 'fb_translator.log',\n",
       "   'encoding': 'utf8'},\n",
       "  'stream_handler': {'class': 'logging.StreamHandler',\n",
       "   'level': 'DEBUG',\n",
       "   'formatter': 'simple'}},\n",
       " 'root': {'_comment': 'To see logs in a file add file_handler in handlers.',\n",
       "  'level': 'INFO',\n",
       "  'handlers': ['stream_handler', 'file_handler']}}"
      ]
     },
     "execution_count": 19,
     "metadata": {},
     "output_type": "execute_result"
    }
   ],
   "source": [
    "test_dict = fbre.configure_log()\n",
    "test_dict"
   ]
  },
  {
   "cell_type": "code",
   "execution_count": 17,
   "metadata": {},
   "outputs": [
    {
     "name": "stdout",
     "output_type": "stream",
     "text": [
      "{\n",
      "    \"version\": 1,\n",
      "   \n",
      "    \"formatters\": {\n",
      "        \"simple\": {\n",
      "            \"format\": \"%(asctime)s - %(name)s - %(levelname)s - %(message)s\"\n",
      "        }\n",
      "    },\n",
      " \n",
      "    \"handlers\": {\n",
      "        \"file_handler\": {\n",
      "            \"class\": \"logging.FileHandler\",\n",
      "            \"level\": \"DEBUG\",\n",
      "            \"formatter\": \"simple\",\n",
      "            \"filename\": \"python_logging.log\",\n",
      "            \"encoding\": \"utf8\"\n",
      "        },\n",
      "        \"stream_handler\": {\n",
      "            \"class\": \"logging.StreamHandler\",\n",
      "            \"level\": \"DEBUG\",\n",
      "            \"formatter\": \"simple\"\n",
      "        }\n",
      "    },\n",
      " \n",
      "    \"root\": {\n",
      "        \"level\": \"INFO\",\n",
      "        \"handlers\": [\"stream_handler\",\"file_handler\"]\n",
      "    }\n",
      "}\n"
     ]
    }
   ],
   "source": [
    "conf_dict = \"\"\"{\n",
    "    \"version\": 1,\n",
    "   \n",
    "    \"formatters\": {\n",
    "        \"simple\": {\n",
    "            \"format\": \"%(asctime)s - %(name)s - %(levelname)s - %(message)s\"\n",
    "        }\n",
    "    },\n",
    " \n",
    "    \"handlers\": {\n",
    "        \"file_handler\": {\n",
    "            \"class\": \"logging.FileHandler\",\n",
    "            \"level\": \"DEBUG\",\n",
    "            \"formatter\": \"simple\",\n",
    "            \"filename\": \"python_logging.log\",\n",
    "            \"encoding\": \"utf8\"\n",
    "        },\n",
    "        \"stream_handler\": {\n",
    "            \"class\": \"logging.StreamHandler\",\n",
    "            \"level\": \"DEBUG\",\n",
    "            \"formatter\": \"simple\"\n",
    "        }\n",
    "    },\n",
    " \n",
    "    \"root\": {\n",
    "        \"level\": \"INFO\",\n",
    "        \"handlers\": [\"stream_handler\",\"file_handler\"]\n",
    "    }\n",
    "}\"\"\"\n",
    "\n",
    "print(conf_dict)\n",
    "conf = json.loads(conf_dict)"
   ]
  },
  {
   "cell_type": "code",
   "execution_count": 22,
   "metadata": {},
   "outputs": [
    {
     "data": {
      "text/plain": [
       "{'class': 'logging.FileHandler',\n",
       " 'level': 'DEBUG',\n",
       " 'formatter': 'simple',\n",
       " 'filename': 'python_logging.log',\n",
       " 'encoding': 'utf8'}"
      ]
     },
     "execution_count": 22,
     "metadata": {},
     "output_type": "execute_result"
    }
   ],
   "source": [
    "conf['handlers']['file_handler']"
   ]
  },
  {
   "cell_type": "code",
   "execution_count": 42,
   "metadata": {},
   "outputs": [
    {
     "ename": "NameError",
     "evalue": "name 'logger' is not defined",
     "output_type": "error",
     "traceback": [
      "\u001b[0;31m---------------------------------------------------------------------------\u001b[0m",
      "\u001b[0;31mNameError\u001b[0m                                 Traceback (most recent call last)",
      "\u001b[0;32m<ipython-input-42-70472827fd35>\u001b[0m in \u001b[0;36m<module>\u001b[0;34m\u001b[0m\n\u001b[1;32m     10\u001b[0m \u001b[0;34m\u001b[0m\u001b[0m\n\u001b[1;32m     11\u001b[0m \u001b[0mget_ipython\u001b[0m\u001b[0;34m(\u001b[0m\u001b[0;34m)\u001b[0m\u001b[0;34m.\u001b[0m\u001b[0mrun_line_magic\u001b[0m\u001b[0;34m(\u001b[0m\u001b[0;34m'pinfo2'\u001b[0m\u001b[0;34m,\u001b[0m \u001b[0;34m'logging'\u001b[0m\u001b[0;34m)\u001b[0m\u001b[0;34m\u001b[0m\u001b[0;34m\u001b[0m\u001b[0m\n\u001b[0;32m---> 12\u001b[0;31m \u001b[0mlogger\u001b[0m\u001b[0;34m.\u001b[0m\u001b[0maddHandler\u001b[0m\u001b[0;34m(\u001b[0m\u001b[0mfilehandler\u001b[0m\u001b[0;34m)\u001b[0m\u001b[0;34m\u001b[0m\u001b[0;34m\u001b[0m\u001b[0m\n\u001b[0m",
      "\u001b[0;31mNameError\u001b[0m: name 'logger' is not defined"
     ]
    }
   ],
   "source": [
    "import logging,sys\n",
    "streamhandler = logging.StreamHandler(sys.stdout)\n",
    "\n",
    "#filehandler.setLevel(logging.INFO)\n",
    "streamhandler.setLevel(logging.INFO)\n",
    "#formatter = logging.Formatter('%(asctime)s - {%(filename)s:%(lineno)d} - %(levelname)s - %(message)s','%m-%d %H:%M:%S')\n",
    "formatter = logging.Formatter('%(asctime)s - %(filename)s - %(levelname)s - %(message)s')\n",
    "#filehandler.setFormatter(formatter)\n",
    "streamhandler.setFormatter(formatter)\n",
    "\n",
    "logging??\n",
    "logger.addHandler(filehandler)"
   ]
  },
  {
   "cell_type": "code",
   "execution_count": 27,
   "metadata": {},
   "outputs": [
    {
     "name": "stdout",
     "output_type": "stream",
     "text": [
      "/tmp/tmpp4u8w_2l\n"
     ]
    }
   ],
   "source": [
    "import tempfile\n",
    "test = tempfile.TemporaryDirectory()\n",
    "print(test.name)"
   ]
  },
  {
   "cell_type": "code",
   "execution_count": 49,
   "metadata": {},
   "outputs": [
    {
     "name": "stdout",
     "output_type": "stream",
     "text": [
      "Retry..... Count Down: 2\n",
      "hello Raj- here  no\n",
      "Retry..... Count Down: 1\n",
      "hello Raj- here  no\n",
      "Retry..... Count Down: 0\n",
      "hello Raj- here  no\n",
      "Operation has been failed! \n"
     ]
    },
    {
     "data": {
      "text/plain": [
       "requests.exceptions.Timeout()"
      ]
     },
     "execution_count": 49,
     "metadata": {},
     "output_type": "execute_result"
    }
   ],
   "source": [
    "# def test():\n",
    "#     print(\"hello\")\n",
    "#     raise Exception()\n",
    "\n",
    "# def retry(fun, cnt):\n",
    "#     try:\n",
    "#         return fun()\n",
    "#     except Exception as e:   \n",
    "#         if cnt == 0:\n",
    "#             print(type(e).__name__ == Exception.__name__)\n",
    "#             print(isinstance(e, Exception))\n",
    "#             return e\n",
    "#         retry(test, cnt-1)\n",
    "    \n",
    "# retry(test, cnt=5)\n",
    "\n",
    "\n",
    "\n",
    "\n",
    "\n",
    "\n",
    "\n",
    "\n",
    "\n",
    "#====================================================================\n",
    "import requests\n",
    "def test(a, b, c=\" no\"):\n",
    "    print(\"hello \"+ a+\"-\"+b+\" \"+c)\n",
    "    raise requests.exceptions.Timeout()\n",
    "\n",
    "def retry(fun, cnt, retry_on_Exce = [], retry_always = False, *args, **kwargs):\n",
    "    try:\n",
    "        print(\"Retry..... Count Down: \"+str(cnt-1))\n",
    "        if len(args) ==0:\n",
    "            return fun()\n",
    "        else:\n",
    "            return fun(*args, **kwargs)\n",
    "    except Exception as e: \n",
    "        if cnt > 1:\n",
    "            if retry_always:\n",
    "                retry(fun, cnt-1, retry_on_Exce, retry_always, *args,  **kwargs)\n",
    "            else:\n",
    "                for i in retry_on_Exce:\n",
    "                    if type(e).__name__ == i.__name__:\n",
    "                        retry(fun, cnt-1, retry_on_Exce, retry_always, *args,  **kwargs)\n",
    "        else:\n",
    "            print(\"Operation has been failed! \")\n",
    "                    \n",
    "        return e\n",
    "    \n",
    "retry(test, 3, [requests.exceptions.HTTPError, requests.exceptions.Timeout], False, \"Raj\", \" here\")"
   ]
  },
  {
   "cell_type": "code",
   "execution_count": 51,
   "metadata": {},
   "outputs": [],
   "source": [
    "requests??"
   ]
  },
  {
   "cell_type": "code",
   "execution_count": 2,
   "metadata": {},
   "outputs": [
    {
     "name": "stdout",
     "output_type": "stream",
     "text": [
      "helo\n",
      "helo\n"
     ]
    }
   ],
   "source": [
    "evalution_success_status = False\n",
    "count = 1\n",
    "while  not evalution_success_status and count <= 5:\n",
    "    count = count + 1\n",
    "    print(\"helo\")\n",
    "    if count == 3:\n",
    "        evalution_success_status = True\n",
    "    "
   ]
  },
  {
   "cell_type": "code",
   "execution_count": null,
   "metadata": {},
   "outputs": [],
   "source": []
  }
 ],
 "metadata": {
  "kernelspec": {
   "display_name": "Python 3",
   "language": "python",
   "name": "python3"
  },
  "language_info": {
   "codemirror_mode": {
    "name": "ipython",
    "version": 3
   },
   "file_extension": ".py",
   "mimetype": "text/x-python",
   "name": "python",
   "nbconvert_exporter": "python",
   "pygments_lexer": "ipython3",
   "version": "3.7.1"
  }
 },
 "nbformat": 4,
 "nbformat_minor": 2
}
